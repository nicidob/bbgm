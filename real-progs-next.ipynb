{
 "cells": [
  {
   "cell_type": "code",
   "execution_count": null,
   "metadata": {},
   "outputs": [],
   "source": [
    "import json\n",
    "import pandas as pd\n",
    "import numpy as np\n",
    "import matplotlib.pyplot as plt\n",
    "import seaborn as sns\n",
    "from scipy.spatial.distance import pdist, cdist\n",
    "from collections import defaultdict"
   ]
  },
  {
   "cell_type": "markdown",
   "metadata": {},
   "source": [
    "## Load the historic player data"
   ]
  },
  {
   "cell_type": "code",
   "execution_count": null,
   "metadata": {},
   "outputs": [],
   "source": [
    "data = json.load(open('real-player.json','rb'))"
   ]
  },
  {
   "cell_type": "code",
   "execution_count": null,
   "metadata": {},
   "outputs": [],
   "source": [
    "df = pd.DataFrame(data['ratings'])"
   ]
  },
  {
   "cell_type": "code",
   "execution_count": null,
   "metadata": {},
   "outputs": [],
   "source": [
    "df = df.drop(['fuzz','abbrev_if_new_row'],1)#.set_index(['slug','season'])"
   ]
  },
  {
   "cell_type": "code",
   "execution_count": null,
   "metadata": {},
   "outputs": [],
   "source": [
    "df = df.set_index(['slug','season']).reset_index()"
   ]
  },
  {
   "cell_type": "code",
   "execution_count": null,
   "metadata": {},
   "outputs": [],
   "source": [
    "cols = list(df.columns[2:])\n",
    "ovr_weights =  {'diq': 0.093,\n",
    " 'dnk': 0.0424,\n",
    " 'drb': 0.0968,\n",
    " 'endu': 0.0075,\n",
    " 'fg': -0.0093,\n",
    " 'ft': 0.049,\n",
    " 'hgt': 0.225,\n",
    " 'ins': -0.0143,\n",
    " 'jmp': 0.0505,\n",
    " 'oiq': 0.0971,\n",
    " 'pss': 0.0657,\n",
    " 'reb': 0.0534,\n",
    " 'spd': 0.156,\n",
    " 'stre': 0.0962,\n",
    " 'tp': 0.105}\n",
    "ovr_v = np.array([ovr_weights[cols[i]] for i in range(len(cols))])"
   ]
  },
  {
   "cell_type": "code",
   "execution_count": null,
   "metadata": {},
   "outputs": [],
   "source": [
    "ratings  = defaultdict(lambda: dict())\n",
    "stats  = defaultdict(lambda: dict())\n",
    "\n",
    "for row in df.itertuples():\n",
    "    yr = data['bios'][row[1]]['draftYear']\n",
    "    born = data['bios'][row[1]]['bornYear']\n",
    "    name = row[1]\n",
    "    r_yr = row[2]\n",
    "    if yr is None or yr == 0:\n",
    "        continue\n",
    "    if born is None or born ==0:\n",
    "        continue\n",
    "    if yr == r_yr:\n",
    "        continue\n",
    "    if r_yr >= 2019:\n",
    "        continue\n",
    "    if r_yr <= 1983:\n",
    "        continue\n",
    "    if yr+1 == r_yr or name in ratings:\n",
    "        ratings[name][r_yr-born] = list(row[3:])"
   ]
  },
  {
   "cell_type": "code",
   "execution_count": null,
   "metadata": {},
   "outputs": [],
   "source": [
    "len(ratings.keys())"
   ]
  },
  {
   "cell_type": "code",
   "execution_count": null,
   "metadata": {},
   "outputs": [],
   "source": [
    "ratings['malonka01']"
   ]
  },
  {
   "cell_type": "code",
   "execution_count": null,
   "metadata": {},
   "outputs": [],
   "source": [
    "ages = np.unique(sum([list(v.keys()) for k,v in ratings.items()],[]))\n",
    "all_play = sum([[[yr] + v2 for yr, v2 in v.items()] for k,v in ratings.items()],[])\n",
    "all_play = np.array(all_play)\n"
   ]
  },
  {
   "cell_type": "code",
   "execution_count": null,
   "metadata": {},
   "outputs": [],
   "source": []
  },
  {
   "cell_type": "code",
   "execution_count": null,
   "metadata": {},
   "outputs": [],
   "source": [
    "youth = np.array([[min(v.keys())] + v[min(v.keys())] for k,v in ratings.items()])\n",
    "youth = youth[youth[:,0] < 24]\n",
    "rookie_progs = np.array([[min(v.keys())] + np.array(v[min(v.keys())+1]) - np.array(v[min(v.keys())]) for k,v in ratings.items() if min(v.keys())+1 in v])\n",
    "rookie_progs = rookie_progs[rookie_progs[:,0]<24]\n",
    "plt.hist((youth[:,1:] * ovr_v).sum(1)-6.4,12)"
   ]
  },
  {
   "cell_type": "code",
   "execution_count": null,
   "metadata": {},
   "outputs": [],
   "source": [
    "for a in ages:\n",
    "    if a > 38:\n",
    "        continue\n",
    "    plt.subplot(4,5,a-18)\n",
    "    r_age = np.array([v[a] for k,v in ratings.items() if a in v])\n",
    "    plt.imshow(np.cov(r_age,rowvar=False),cmap='RdBu',vmin=-150,vmax=150)\n",
    "    plt.axis('off')\n",
    "    #plt.title(str(a))\n",
    "plt.tight_layout(h_pad=0.1,w_pad=0)"
   ]
  },
  {
   "cell_type": "markdown",
   "metadata": {},
   "source": [
    "## model classes"
   ]
  },
  {
   "cell_type": "code",
   "execution_count": null,
   "metadata": {},
   "outputs": [],
   "source": [
    "from sklearn.mixture import GaussianMixture\n",
    "from sklearn.cluster import KMeans, MiniBatchKMeans"
   ]
  },
  {
   "cell_type": "code",
   "execution_count": null,
   "metadata": {},
   "outputs": [],
   "source": [
    "class_points = all_play[:,1:].astype(np.float32)\n",
    "class_points /= ((class_points * ovr_v).sum(1)-6.4)[:,None]\n",
    "\n",
    "clfk = MiniBatchKMeans(3,n_init=100)\n",
    "clfk.fit(class_points)"
   ]
  },
  {
   "cell_type": "code",
   "execution_count": null,
   "metadata": {},
   "outputs": [],
   "source": [
    "clfg = GaussianMixture(3,means_init=clfk.cluster_centers_,covariance_type='full')\n",
    "_ = clfg.fit(class_points)"
   ]
  },
  {
   "cell_type": "code",
   "execution_count": null,
   "metadata": {},
   "outputs": [],
   "source": [
    "class_scale = clfg.means_/class_points.mean(0)\n",
    "tmp = ['a' for _ in range(3)]\n",
    "des = ['guard','wing','big']\n",
    "fix_c = {}\n",
    "for i2,i in enumerate(np.argsort(class_scale[:,cols.index('hgt')])):\n",
    "    tmp[i] = des[i2]\n",
    "    fix_c[i] =i2\n",
    "c_df = pd.DataFrame(class_scale,columns=cols,index=tmp).round(2)\n",
    "print(fix_c)\n",
    "c_df"
   ]
  },
  {
   "cell_type": "code",
   "execution_count": null,
   "metadata": {},
   "outputs": [],
   "source": [
    "types_new = {_[0]:{c:v for c,v in zip(cols,_[1:]) if abs(v-1) > 0.001} for _ in c_df.itertuples()}\n",
    "types_og = {\n",
    "\"guard\": {\n",
    "\t\t\"jmp\": 1.65,\n",
    "\t\t\"spd\": 1.65,\n",
    "\t\t\"drb\": 1.5,\n",
    "\t\t\"pss\": 1.5,\n",
    "\t\t\"ft\": 1.4,\n",
    "\t\t\"fg\": 1.4,\n",
    "\t\t\"tp\": 1.4,\n",
    "\t\t\"oiq\": 1.2,\n",
    "\t\t\"endu\": 1.4,\n",
    "\t},\n",
    "\t\"wing\": {\n",
    "\t\t\"drb\": 1.2,\n",
    "\t\t\"dnk\": 1.5,\n",
    "\t\t\"jmp\": 1.4,\n",
    "\t\t\"spd\": 1.4,\n",
    "\t\t\"ft\": 1.2,\n",
    "\t\t\"fg\": 1.2,\n",
    "\t\t\"tp\": 1.2,\n",
    "\t},\n",
    "\t\"big\": {\n",
    "\t\t\"stre\": 1.2,\n",
    "\t\t\"ins\": 1.6,\n",
    "\t\t\"dnk\": 1.5,\n",
    "\t\t\"reb\": 1.4,\n",
    "\t\t\"ft\": 0.8,\n",
    "\t\t\"fg\": 0.8,\n",
    "\t\t\"tp\": 0.8,\n",
    "\t\t\"diq\": 1.2,\n",
    "\t},\n",
    "}\n"
   ]
  },
  {
   "cell_type": "code",
   "execution_count": null,
   "metadata": {},
   "outputs": [],
   "source": [
    "clabel = clfg.predict(class_points)\n",
    "clabel = np.array([fix_c[_] for _ in clabel])\n",
    "chistbin = np.linspace(0.25,1.75,18)\n",
    "cmean = all_play[:,1:].mean(0)[6]\n",
    "c_n = []\n",
    "chist = []\n",
    "for i in range(3):\n",
    "    c_n.append((clabel==i).sum())\n",
    "    chist.append(np.histogram(class_points[clabel==i,6],chistbin,density=True)[0]+1e-4)\n",
    "    plt.hist(class_points[clabel==i,6],chistbin,alpha=0.5,density=True,label=str(i))\n",
    "plt.legend()"
   ]
  },
  {
   "cell_type": "code",
   "execution_count": null,
   "metadata": {},
   "outputs": [],
   "source": [
    "x0_c = [  0.23, -11,  1.2]\n",
    "x = x0_c\n",
    "def eval_c(x):\n",
    "    pred_c = x[0]*all_play[:,7]+x[1]\n",
    "    np.random.seed(42)\n",
    "    pred_c = pred_c + x[2]*np.random.randn(all_play.shape[0])\n",
    "    rnd = np.clip(np.round(pred_c),0,2)\n",
    "    kl = 0\n",
    "    c_t = []\n",
    "    for i in range(3):\n",
    "        c_t.append((rnd==i).sum())\n",
    "        phist = np.histogram(all_play[rnd==i,7]/cmean,chistbin,density=True)[0]+1e-4\n",
    "        kl += (phist * np.log(phist/chist[i])).sum()\n",
    "        kl += (chist[i] * np.log(chist[i]/phist)).sum()\n",
    "    if np.isnan(kl):\n",
    "        return 1e9\n",
    "    return kl*((np.array(c_t)-np.array(c_n))**2).sum()\n",
    "print(eval_c(x0_c))\n",
    "\n",
    "#import cma\n",
    "#es = cma.CMAEvolutionStrategy(x0_c,0.1)\n",
    "#res = es.optimize(eval_c)"
   ]
  },
  {
   "cell_type": "code",
   "execution_count": null,
   "metadata": {},
   "outputs": [],
   "source": [
    "#es.mean"
   ]
  },
  {
   "cell_type": "code",
   "execution_count": null,
   "metadata": {},
   "outputs": [],
   "source": [
    "pred_c = x0_c[0]*all_play[:,7]+x0_c[1]\n",
    "pred_cf = pred_c + x0_c[2]*np.random.randn(all_play.shape[0])\n",
    "pred_c = np.clip(pred_cf,0,2)\n",
    "rnd = np.clip(np.round(pred_c),0,2)\n",
    "plt.scatter(all_play[:,7],pred_cf,c=rnd)"
   ]
  },
  {
   "cell_type": "code",
   "execution_count": null,
   "metadata": {},
   "outputs": [],
   "source": [
    "for i in range(3):\n",
    "    plt.hist(all_play[rnd==i,7],cmean*chistbin,alpha=0.5,density=True)"
   ]
  },
  {
   "cell_type": "markdown",
   "metadata": {},
   "source": [
    "## model features"
   ]
  },
  {
   "cell_type": "code",
   "execution_count": null,
   "metadata": {},
   "outputs": [],
   "source": [
    "types_opt={'guard': {'diq': 1.2,\n",
    "  'dnk': 1.8,\n",
    "  'drb': 1.5,\n",
    "  'endu': 1.5,\n",
    "  'fg': 1.5,\n",
    "  'ft': 1.3,\n",
    "  'ins': 1.2,\n",
    "  'jmp': 1.6,\n",
    "  'oiq': 1.3,\n",
    "  'pss': 1.6,\n",
    "  'spd': 1.3,\n",
    "  'tp': 1.3},\n",
    " 'wing': {'diq': 0.9,\n",
    "  'dnk': 2.1,\n",
    "  'drb': 1.2,\n",
    "  'endu': 1.1,\n",
    "  'fg': 1.3,\n",
    "  'ft': 1.2,\n",
    "  'ins': 1.2,\n",
    "  'jmp': 1.4,\n",
    "  'oiq': 1.2,\n",
    "  'pss': 0.8,\n",
    "  'reb': 1.2,\n",
    "  'spd': 1.1,\n",
    "  'tp': 1.2},\n",
    " 'big': {'dnk': 2.1,\n",
    "  'drb': 1.2,\n",
    "  'endu': 1.3,\n",
    "  'fg': 1.2,\n",
    "  'ins': 1.4,\n",
    "  'jmp': 1.3,\n",
    "  'oiq': 1.2,\n",
    "  'pss': 1.1,\n",
    "  'reb': 1.2,\n",
    "  'spd': 1.1,\n",
    "  'stre': 1.2}}"
   ]
  },
  {
   "cell_type": "code",
   "execution_count": null,
   "metadata": {},
   "outputs": [],
   "source": [
    "athleticismRatings = [\"stre\", \"spd\", \"jmp\", \"endu\", \"dnk\"]\n",
    "shootingRatings = [\"ft\", \"fg\", \"tp\"]\n",
    "skillRatings = [\"oiq\", \"diq\", \"drb\", \"pss\", \"reb\"]\n",
    "\n",
    "v1 = np.array([int(_ in athleticismRatings) for _ in cols])\n",
    "v2 = np.array([int(_ in shootingRatings) for _ in cols])\n",
    "v3 = np.array([int(_ in skillRatings) for _ in cols])\n",
    "v4 = np.array([int(_=='ins') for _ in cols])\n",
    "\n",
    "vmul = np.array([v1,v2,v3,v4])\n",
    "\n",
    "if False:\n",
    "    mean_v = np.array([22, 27, 37, 17, 32, 32, 0, 27, 40, 22, 37, 37, 40, 37, 32])\n",
    "    x0_c = [  0.23, -11,  1.2]\n",
    "    r_std = [3]\n",
    "    v_std = [0.2,0.2,0.2,0.2]\n",
    "    types = types_og\n",
    "elif False:\n",
    "    mean_v = np.array([43, 48, 50, 38, 46, 43, 0, 44, 57, 40, 47, 46, 52, 47, 46])\n",
    "    r_std = [2.9]\n",
    "    v_std = [0.12,0.17,0.12,0.22]\n",
    "    types = types_new\n",
    "elif False:\n",
    "    mean_v = np.array([42, 43, 38, 28, 36, 36, 0, 40, 36, 37, 37, 46, 36, 49, 38])\n",
    "    r_std = [3.3]\n",
    "    v_std = [0.104,0.115,0.104,0.13]\n",
    "    types = types_og\n",
    "else:\n",
    "    mean_v = np.array([42, 43, 38, 29, 36, 35, 0, 40, 36, 37, 37, 45, 36, 49, 38])\n",
    "    r_std = [3.9]\n",
    "    v_std = [0.10,0.14,0.11,0.20]\n",
    "    types = types_og\n",
    "\n",
    "c_mul = np.array([[types[t].get(c,1) for c in cols] for t in ['guard','wing','big']])\n"
   ]
  },
  {
   "cell_type": "code",
   "execution_count": null,
   "metadata": {},
   "outputs": [],
   "source": [
    "for c, r in zip(cols,mean_v):\n",
    "    if c != 'hgt':\n",
    "        print(c,':',r,',')"
   ]
  },
  {
   "cell_type": "code",
   "execution_count": null,
   "metadata": {},
   "outputs": [],
   "source": [
    "rand_hgt = np.random.randn(12500)*13.6 + 47.5\n",
    "f_hgt = np.array(list(youth[:,7]) + list(rand_hgt))\n",
    "\n",
    "simN = f_hgt.shape[0]\n",
    "pred_c = x0_c[0]*f_hgt+x0_c[1]\n",
    "pred_cf = pred_c + x0_c[2]*np.random.randn(simN)\n",
    "pred_c = np.clip(pred_cf,0,2)\n",
    "rnd = np.clip(np.round(pred_c),0,2).astype(int)\n",
    "\n",
    "v_m = (((np.random.randn(simN,4) * np.array(v_std) ) @ vmul) + 1)\n",
    "pred_vec = (mean_v  + r_std[0]*np.random.randn(simN,15))\n",
    "pred_vec[:,6] = f_hgt\n",
    "pred_vec = v_m * c_mul[rnd] * pred_vec\n",
    "pred_vec[:,6] = f_hgt\n"
   ]
  },
  {
   "cell_type": "code",
   "execution_count": null,
   "metadata": {},
   "outputs": [],
   "source": [
    "_ = plt.hist((youth[:,1:]*ovr_v).sum(1)-6.4,25,alpha=0.5,density=True,label='rpd')\n",
    "_ = plt.hist((pred_vec*ovr_v).sum(1)-6.4,25,alpha=0.5,density=True,label='gen')\n",
    "#_ = plt.hist((beta_p2*ovr_v).sum(1)-6.4,20,alpha=0.5,density=True,label='beta')\n",
    "\n",
    "plt.legend()\n",
    "print(youth[:,1:].mean(1).std(),pred_vec.mean(1).std())"
   ]
  },
  {
   "cell_type": "code",
   "execution_count": null,
   "metadata": {},
   "outputs": [],
   "source": [
    "plt.subplot(1,2,1)\n",
    "plt.imshow(np.cov(youth[:,1:],rowvar=False),vmin=-130,vmax=130,cmap='RdBu')\n",
    "plt.title('real players')\n",
    "plt.xticks(np.arange(15),cols,rotation=45)\n",
    "plt.yticks(np.arange(15),cols)\n",
    "plt.subplot(1,2,2)\n",
    "plt.imshow(np.cov(pred_vec,rowvar=False),vmin=-130,vmax=130,cmap='RdBu')\n",
    "plt.title('generated')\n",
    "plt.xticks(np.arange(15),cols,rotation=45)\n",
    "_ = plt.yticks(np.arange(15),cols)"
   ]
  },
  {
   "cell_type": "code",
   "execution_count": null,
   "metadata": {},
   "outputs": [],
   "source": [
    "PC = 50\n",
    "s1 = (youth[:,1:]*ovr_v).sum(1)\n",
    "s1 = s1 > np.percentile(s1,PC)\n",
    "s2 = (pred_vec*ovr_v).sum(1)\n",
    "s2 = s2 > np.percentile(s2,PC)\n",
    "plt.subplot(1,2,1)\n",
    "plt.imshow(np.cov(youth[s1,1:],rowvar=False),vmin=-130,vmax=130,cmap='RdBu')\n",
    "plt.title('real players')\n",
    "plt.xticks(np.arange(15),cols,rotation=45)\n",
    "plt.yticks(np.arange(15),cols)\n",
    "plt.subplot(1,2,2)\n",
    "plt.imshow(np.cov(pred_vec[s2],rowvar=False),vmin=-130,vmax=130,cmap='RdBu')\n",
    "plt.title('generated')\n",
    "plt.xticks(np.arange(15),cols,rotation=45)\n",
    "_ = plt.yticks(np.arange(15),cols)"
   ]
  },
  {
   "cell_type": "code",
   "execution_count": null,
   "metadata": {},
   "outputs": [],
   "source": [
    "def eval_f(params):\n",
    "    #np.random.seed(43)\n",
    "    mean_v = np.exp(params[:15])\n",
    "    r_std = np.exp(params[15:16])\n",
    "    v_std = np.exp(params[16:20])\n",
    "    cmul2 = c_mul#np.exp(params[20:]).reshape((3,15))\n",
    "    res = []\n",
    "    print(mean_v,r_std,v_std,cmul2)\n",
    "    for i in range(30):\n",
    "        np.random.seed(542+i)\n",
    "        \n",
    "        rand_hgt = np.random.randn(1500)*13.6 + 47.5\n",
    "        f_hgt = np.array(list(youth[:,7]) + list(rand_hgt))\n",
    "\n",
    "        simN = f_hgt.shape[0]\n",
    "        pred_c = x0_c[0]*f_hgt+x0_c[1]\n",
    "        pred_cf = pred_c + x0_c[2]*np.random.randn(simN)\n",
    "        pred_c = np.clip(pred_cf,0,2)\n",
    "        rnd = np.clip(np.round(pred_c),0,2).astype(int)\n",
    "\n",
    "        v_m = (((np.random.randn(simN,4) * np.array(v_std) ) @ vmul) + 1)\n",
    "        pred_vec = (mean_v  + r_std[0]*np.random.randn(simN,15))\n",
    "        pred_vec[:,6] = f_hgt\n",
    "        pred_vec = v_m * cmul2[rnd] * pred_vec\n",
    "        pred_vec[:,6] = f_hgt\n",
    "\n",
    "        # filter to only the top half with good stats\n",
    "        s1 = (youth[:,1:]*ovr_v).sum(1)\n",
    "        s1 = s1 > np.percentile(s1,50)\n",
    "        s2 = (pred_vec*ovr_v).sum(1)\n",
    "        s2 = s2 > np.percentile(s2,50)\n",
    "        \n",
    "        cov_err = ((np.cov(youth[s1,1:],rowvar=False)-np.cov(pred_vec[s2],rowvar=False))**2).mean()\n",
    "        cov_err2 = ((np.cov(youth[:,1:],rowvar=False)-np.cov(pred_vec,rowvar=False))**2).mean()\n",
    "\n",
    "        v1 = (ovr_v*youth[s1,1:]).sum(1)\n",
    "        v2 = (ovr_v*pred_vec[s2]).sum(1)\n",
    "        \n",
    "        tb = min(100,int(np.ceil(max(v1.max(),v2.max()))))\n",
    "        bb = max(1,int(np.floor(min(v1.min(),v2.min()))))\n",
    "        sN = tb-bb\n",
    "        hist_set = np.linspace(bb,tb,sN)\n",
    "        h1 = np.histogram(v1,hist_set,density=True)[0]+1e-4\n",
    "        h2 = np.histogram(v2,hist_set,density=True)[0]+1e-4\n",
    "        kl1 = (np.log(h1/h2)*h1).sum()\n",
    "        kl2 = (np.log(h2/h1)*h2).sum()\n",
    "        mean_err = kl1+kl2\n",
    "        \n",
    "  \n",
    "        mean_err2 = ((youth[s1,1:].mean(0)-pred_vec[s2].mean(0))**2).sum()\n",
    "        mean_err3 = ((youth[:,1:].mean(0)-pred_vec.mean(0))**2).sum()\n",
    "        std_err1 = ((youth[s1,1:].std(0)-pred_vec[s2].std(0))**2).sum()\n",
    "        std_err2 = ((youth[:,1:].std(0)-pred_vec.std(0))**2).sum()\n",
    "        \n",
    "        youth_pred_pos =  x0_c[0]*youth[:,7]+x0_c[1]+ x0_c[2]*np.random.randn(youth.shape[0])\n",
    "        youth_pred_pos = np.clip(np.round(youth_pred_pos),0,2).astype(int)\n",
    "        errs_pos = []\n",
    "        for i in range(3):\n",
    "            m1 = youth[s1 & (youth_pred_pos==i),1:]\n",
    "            m2 = pred_vec[s2 & (rnd==i)]\n",
    "            errs_pos.append(np.linalg.norm(m1.mean(0)-m2.mean(0)))\n",
    "            errs_pos.append(np.linalg.norm(m1.std(0)-m2.std(0)))\n",
    "            errs_pos.append(((np.cov(m1,rowvar=False)-np.cov(m2,rowvar=False))**2).mean())\n",
    "        \n",
    "        err_pos = np.prod(errs_pos)#**(1/len(errs_pos))\n",
    "        \n",
    "        res.append( err_pos* std_err1*(std_err2**0.1)*cov_err*mean_err*mean_err2*(mean_err3**0.1)*(cov_err2**0.1 ) )\n",
    "        if np.isnan(res[-1]):\n",
    "            return 1e20\n",
    "    params_err = np.sqrt((np.exp(params[20:])-1)**2).sum()\n",
    "    return ( np.mean(sorted(res)) ) ** (1/5.3) # 11.3 ?\n",
    "x0 = list(mean_v+1e-2) + r_std + v_std\n",
    "\n",
    "#x0 = np.hstack([x0,c_mul.ravel()])\n",
    "x0 = np.array([4.23519324e+01, 4.29759128e+01, 3.80452913e+01, 2.85411070e+01,\n",
    "       3.58534876e+01, 3.52766767e+01, 9.03919879e-04, 4.03432693e+01,\n",
    "       3.64751848e+01, 3.70790930e+01, 3.65710473e+01, 4.53851179e+01,\n",
    "       3.61714860e+01, 4.91546420e+01, 3.76236452e+01, 3.90696845e+00,\n",
    "       9.88179754e-02, 1.44887541e-01, 1.07581577e-01, 1.97162278e-01])\n",
    "eval_f(np.log(x0))"
   ]
  },
  {
   "cell_type": "code",
   "execution_count": null,
   "metadata": {},
   "outputs": [],
   "source": [
    "import cma\n",
    "es = cma.CMAEvolutionStrategy(np.log(x0),0.001)\n",
    "es.optimize(eval_f)"
   ]
  },
  {
   "cell_type": "code",
   "execution_count": null,
   "metadata": {},
   "outputs": [],
   "source": [
    "np.exp(es.mean)"
   ]
  },
  {
   "cell_type": "code",
   "execution_count": null,
   "metadata": {},
   "outputs": [],
   "source": [
    "#types_opt = {}\n",
    "#for c,vec in zip([\"guard\",\"wing\",\"big\"],np.exp(es.best.x)[20:].reshape((3,15))):\n",
    "#    types_opt[c] = {c2:round(r,1) for c2,r in zip(cols,vec) if round(r,1) != 1.0 and c2 != 'hgt'}\n",
    "#types_opt"
   ]
  },
  {
   "cell_type": "markdown",
   "metadata": {},
   "source": [
    "## Model development"
   ]
  },
  {
   "cell_type": "code",
   "execution_count": null,
   "metadata": {},
   "outputs": [],
   "source": [
    "import scipy\n",
    "ratings2  = {}\n",
    "for row in df.itertuples():\n",
    "    ratings2[(row[1],row[2])] = list(row[3:])\n",
    "    \n",
    "\n",
    "# only use recent-ish players\n",
    "from collections import defaultdict\n",
    "player_year_rate = defaultdict(dict)\n",
    "for i,r in ratings2.items():\n",
    "    if data['bios'][i[0]]['bornYear'] < 1956:\n",
    "        continue\n",
    "    if i[1] >= 2019:\n",
    "        continue\n",
    "    age=  i[1]-data['bios'][i[0]]['bornYear']\n",
    "    player_year_rate[i[0]][age] = np.array(r)\n",
    "SMOOTHING_STD = 1.0   \n",
    "play_year_rateSmooth = {}\n",
    "for key,play in player_year_rate.items():\n",
    "    minY = min(play.keys())\n",
    "    maxY = max(play.keys())\n",
    "    res = []\n",
    "    for i in range(minY,maxY+1):\n",
    "        #res.append(play.get(i,[np.nan for j in range(15)]))\n",
    "        res.append(play[i] if i in play else res[-1])\n",
    "    res = np.array(res).astype(float)\n",
    "    reS = scipy.ndimage.gaussian_filter1d(res,SMOOTHING_STD,mode='nearest',axis=0,truncate=10)\n",
    "    p2 = {}\n",
    "    for idx,age in enumerate(range(minY,maxY+1)):\n",
    "        if age in play:\n",
    "            p2[age] = reS[idx]\n",
    "    play_year_rateSmooth[key] = p2"
   ]
  },
  {
   "cell_type": "code",
   "execution_count": null,
   "metadata": {},
   "outputs": [],
   "source": [
    "TRANS_FUNC = lambda x: x**(1/2)#np.sqrt(x)\n",
    "INV_FUNC = lambda x: x**2#x**2\n",
    "r1 = []\n",
    "r2 = []\n",
    "for play in play_year_rateSmooth.values():\n",
    "    for age,r in play.items():\n",
    "        if age-1 in play:\n",
    "            age2 = age-1\n",
    "            if age2 > 36:\n",
    "                continue\n",
    "            r1.append(TRANS_FUNC(play[age]) -TRANS_FUNC(play[age-1]))\n",
    "            r2.append(age2)\n",
    "r1 = np.array(r1)\n",
    "r2 = np.array(r2)\n"
   ]
  },
  {
   "cell_type": "code",
   "execution_count": null,
   "metadata": {},
   "outputs": [],
   "source": [
    "age_res = []\n",
    "for age in sorted(np.unique(r2)):\n",
    "    age_res.append(r1[r2==age].mean(0))\n",
    "age_res = np.array(age_res)\n",
    "for i in range(15):\n",
    "    plt.plot(sorted(np.unique(r2)),age_res[:,i],label=cols[i],c=plt.cm.tab20(i))\n",
    "plt.xlim(right=35)\n",
    "plt.legend()\n",
    "#plt.ylim(-0.2,0.2)"
   ]
  },
  {
   "cell_type": "code",
   "execution_count": null,
   "metadata": {},
   "outputs": [],
   "source": [
    "import sklearn.linear_model as linear_model\n",
    "\n",
    "TIMES_TO_FIT = 1\n",
    "\n",
    "clf_models = []\n",
    "for i in range(TIMES_TO_FIT):\n",
    "    clf = linear_model.RidgeCV(np.logspace(-5,5,11),cv=5)#SGDRegressor('epsilon_insensitive',alpha=1e-5,epsilon=0,max_iter=10000,tol=1e-9,eta0=1e-5)\n",
    "    clf.fit(np.repeat(r2,15)[:,None],r1.ravel())\n",
    "    score = clf.score(np.repeat(r2,15)[:,None],r1.ravel())\n",
    "    clf_models.append((score,i,clf))\n",
    "best_model = sorted(clf_models)[-1]\n",
    "clf = best_model[2]\n",
    "print(best_model[0])\n",
    "main_model = (clf.coef_[0] , clf.intercept_) # 0.0855008819536307"
   ]
  },
  {
   "cell_type": "code",
   "execution_count": null,
   "metadata": {},
   "outputs": [],
   "source": [
    "plt.plot(np.unique(r2),np.unique(r2)*main_model[0] +main_model[1])\n",
    "plt.plot([19,35],[0,0],c='k',ls='--')\n",
    "plt.grid(True)"
   ]
  },
  {
   "cell_type": "code",
   "execution_count": null,
   "metadata": {},
   "outputs": [],
   "source": [
    "models = []\n",
    "for i in range(r1.shape[1]):\n",
    "    clf_models = []\n",
    "    for j in range(TIMES_TO_FIT):\n",
    "        clf = linear_model.RidgeCV(np.logspace(-5,5,11),cv=5)#SGDRegressor('epsilon_insensitive',alpha=1e-5,epsilon=0,max_iter=10000,tol=1e-9,eta0=1e-5)\n",
    "        clf.fit(np.array(r2)[:,None],r1[:,i]-(main_model[0]*r2+main_model[1]))\n",
    "        score = clf.score(np.array(r2)[:,None],r1[:,i]-(main_model[0]*r2+main_model[1]))\n",
    "        clf_models.append((score,j,clf))\n",
    "    best_model = sorted(clf_models)[-1]\n",
    "    clf = best_model[2]\n",
    "    print(cols[i],best_model[0])\n",
    "    models.append((clf.coef_[0],clf.intercept_))"
   ]
  },
  {
   "cell_type": "code",
   "execution_count": null,
   "metadata": {},
   "outputs": [],
   "source": [
    "plt.style.use('seaborn-white')\n",
    "for i in range(r1.shape[1]):\n",
    "    plt.plot(np.unique(r2),np.unique(r2)*models[i][0]+models[i][1],label=cols[i],c=plt.cm.tab20(i))\n",
    "plt.legend()\n",
    "#plt.xlim(19,34)\n",
    "#plt.ylim(-4,4)\n",
    "plt.grid(True)"
   ]
  },
  {
   "cell_type": "code",
   "execution_count": null,
   "metadata": {},
   "outputs": [],
   "source": [
    "means_expected = []\n",
    "for i in range(r1.shape[1]):\n",
    "    means_expected.append((models[i][0]*r2 + models[i][1]) * (main_model[0]*r2+main_model[1]) )"
   ]
  },
  {
   "cell_type": "code",
   "execution_count": null,
   "metadata": {},
   "outputs": [],
   "source": [
    "# rank1 approximations of this would be really cool\n",
    "# but sampling multivariate Gaussians seems... annoying?\n",
    "removed_means = r1 - np.array(means_expected).T"
   ]
  },
  {
   "cell_type": "code",
   "execution_count": null,
   "metadata": {},
   "outputs": [],
   "source": [
    "age_w = []\n",
    "ages = sorted(np.unique(r2))\n",
    "age_stds = []\n",
    "for age in ages:\n",
    "    age_w.append((r2==age).sum())\n",
    "    age_stds.append(removed_means[r2==age].std(axis=0))\n",
    "age_stds = np.array(age_stds)\n",
    "age_w = np.array(age_w)\n",
    "age_w = age_w/age_w.mean()"
   ]
  },
  {
   "cell_type": "code",
   "execution_count": null,
   "metadata": {},
   "outputs": [],
   "source": [
    "base_model = list(main_model) + [age_stds.mean()]"
   ]
  },
  {
   "cell_type": "code",
   "execution_count": null,
   "metadata": {},
   "outputs": [],
   "source": [
    "std_models = []\n",
    "for i in range(15):\n",
    "    std_models.append((age_stds[:,i]-base_model[2]).std())"
   ]
  },
  {
   "cell_type": "code",
   "execution_count": null,
   "metadata": {},
   "outputs": [],
   "source": [
    "plt.style.use('seaborn-white')\n",
    "for i in range(r1.shape[1]):\n",
    "    plt.plot(np.unique(r2),np.ones_like(np.unique(r2))*std_models[i],label=cols[i],c=plt.cm.tab20(i),lw=3)\n",
    "plt.legend()\n",
    "plt.xlim(19,34)\n",
    "plt.grid(True)"
   ]
  },
  {
   "cell_type": "code",
   "execution_count": null,
   "metadata": {},
   "outputs": [],
   "source": [
    "models"
   ]
  },
  {
   "cell_type": "code",
   "execution_count": null,
   "metadata": {},
   "outputs": [],
   "source": [
    "dat_print = {cols[i]:tuple(np.round(row,4)) for i,row in enumerate(np.hstack([models,np.array(std_models)[:,None]]))}"
   ]
  },
  {
   "cell_type": "code",
   "execution_count": null,
   "metadata": {
    "scrolled": true
   },
   "outputs": [],
   "source": [
    "print('{} {},'.format(\"base\",list(np.round(base_model,4))))\n",
    "for k,v in dat_print.items():\n",
    "    if k == 'hgt':continue\n",
    "    print('{}: {},'.format(k,list(v)))"
   ]
  },
  {
   "cell_type": "code",
   "execution_count": null,
   "metadata": {},
   "outputs": [],
   "source": [
    "np.quantile(means_expected,0.99,axis=0).mean(),np.quantile(means_expected,0.01,axis=0).mean()"
   ]
  },
  {
   "cell_type": "code",
   "execution_count": null,
   "metadata": {},
   "outputs": [],
   "source": [
    "np.quantile(r1,0.99,axis=0).mean(),np.quantile(r1,0.01,axis=0).mean()"
   ]
  }
 ],
 "metadata": {
  "kernelspec": {
   "display_name": "Python 3",
   "language": "python",
   "name": "python3"
  },
  "language_info": {
   "codemirror_mode": {
    "name": "ipython",
    "version": 3
   },
   "file_extension": ".py",
   "mimetype": "text/x-python",
   "name": "python",
   "nbconvert_exporter": "python",
   "pygments_lexer": "ipython3",
   "version": "3.7.3"
  }
 },
 "nbformat": 4,
 "nbformat_minor": 2
}
