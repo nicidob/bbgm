{
 "cells": [
  {
   "cell_type": "code",
   "execution_count": null,
   "metadata": {},
   "outputs": [],
   "source": [
    "import numpy as np\n",
    "from collections import defaultdict,OrderedDict\n",
    "import json\n",
    "def stable_softmax(x):\n",
    "    z = x - max(x)\n",
    "    numerator = np.exp(z)\n",
    "    denominator = np.sum(numerator)\n",
    "    softmax = numerator/denominator\n",
    "\n",
    "    return softmax"
   ]
  },
  {
   "cell_type": "code",
   "execution_count": null,
   "metadata": {},
   "outputs": [],
   "source": [
    "file = 'big_data.json'\n",
    "data = json.load(open(file,'rt',encoding='utf-8-sig'))\n",
    "\n",
    "rt = ['stre', 'spd', 'jmp', 'endu', 'ins', 'dnk', 'ft', 'fg', 'tp', 'oiq', 'diq', 'drb', 'pss', 'reb', 'hgt']"
   ]
  },
  {
   "cell_type": "code",
   "execution_count": null,
   "metadata": {},
   "outputs": [],
   "source": [
    "output = {'players':[],'teams':[]}"
   ]
  },
  {
   "cell_type": "code",
   "execution_count": null,
   "metadata": {},
   "outputs": [],
   "source": [
    "\n",
    "college_teams = defaultdict(list)\n",
    "\n",
    "for p in data['players']:\n",
    "    if p['ratings'][0]['season'] != p['draft']['year']:\n",
    "        continue\n",
    "    \n",
    "    pn = {}\n",
    "    for t in ['firstName','lastName','college','hgt','weight','born']:\n",
    "        pn[t] = p[t]\n",
    "    pn['born']['year'] = 2020-(p['ratings'][0]['season']-p['born']['year'])\n",
    "    pn['ratings'] = [p['ratings'][0]]\n",
    "    pn['ratings'][0]['season'] = 2020\n",
    "    \n",
    "    clg = p['college']\n",
    "\n",
    "    college_teams[clg].append(pn)\n",
    "         \n",
    "    "
   ]
  },
  {
   "cell_type": "code",
   "execution_count": null,
   "metadata": {},
   "outputs": [],
   "source": [
    "tmp = sorted([(len(v),k) for k,v in college_teams.items()])[::-1]\n",
    "tmp"
   ]
  },
  {
   "cell_type": "code",
   "execution_count": null,
   "metadata": {},
   "outputs": [],
   "source": [
    "tot_p = sum([_[0] for _ in tmp])\n",
    "frac = {v[1]:v[0]/tot_p for v in tmp}\n",
    "frac"
   ]
  },
  {
   "cell_type": "code",
   "execution_count": null,
   "metadata": {},
   "outputs": [],
   "source": [
    "sorted([(np.mean(sorted([_['ratings'][0]['ovr'] for _ in v])[-10:]),k) for k,v in college_teams.items() if len(v) >= 10])[::-1]"
   ]
  },
  {
   "cell_type": "code",
   "execution_count": null,
   "metadata": {},
   "outputs": [],
   "source": [
    "teams = [k for k,v in college_teams.items() if len(v) >=10]"
   ]
  },
  {
   "cell_type": "code",
   "execution_count": null,
   "metadata": {},
   "outputs": [],
   "source": [
    "def write_roman(num):\n",
    "\n",
    "    roman = OrderedDict()\n",
    "    roman[1000] = \"M\"\n",
    "    roman[900] = \"CM\"\n",
    "    roman[500] = \"D\"\n",
    "    roman[400] = \"CD\"\n",
    "    roman[100] = \"C\"\n",
    "    roman[90] = \"XC\"\n",
    "    roman[50] = \"L\"\n",
    "    roman[40] = \"XL\"\n",
    "    roman[10] = \"X\"\n",
    "    roman[9] = \"IX\"\n",
    "    roman[5] = \"V\"\n",
    "    roman[4] = \"IV\"\n",
    "    roman[1] = \"I\"\n",
    "\n",
    "    def roman_num(num):\n",
    "        for r in roman.keys():\n",
    "            x, y = divmod(num, r)\n",
    "            yield roman[r] * x\n",
    "            num -= (r * x)\n",
    "            if num <= 0:\n",
    "                break\n",
    "\n",
    "    return \"\".join([a for a in roman_num(num)])"
   ]
  },
  {
   "cell_type": "code",
   "execution_count": null,
   "metadata": {},
   "outputs": [],
   "source": [
    "tm_lookup = {}\n",
    "for i,t in enumerate(teams):\n",
    "    if t == '':\n",
    "        t = 'Undrafted'\n",
    "    tm = {'tid':i,'cid':0,'did':0,'name':t,'abbrev':write_roman(i+1),'region':t}\n",
    "    tm_lookup[t] = i\n",
    "    output['teams'].append(tm)"
   ]
  },
  {
   "cell_type": "code",
   "execution_count": null,
   "metadata": {},
   "outputs": [],
   "source": [
    "import random\n",
    "i=0\n",
    "ply_lookup = {}\n",
    "ply_ratings = []\n",
    "\n",
    "extra_players = []\n",
    "\n",
    "for k,v in college_teams.items():\n",
    "    if len(v) < 10:\n",
    "        continue\n",
    "    ply = sorted([(p['ratings'][0]['ovr'],random.random(),p) for p in v])\n",
    "    pi = [j for j,_ in enumerate(ply)]\n",
    "    p = stable_softmax(3e-2*np.array([_[0] for _ in ply]))\n",
    "    \n",
    "    idx = np.random.choice(pi,10,False)\n",
    "    \n",
    "    for j in idx:\n",
    "        p = ply[j][2]\n",
    "        p['tid'] = tm_lookup[k if k!= '' else 'Undrafted']\n",
    "        p['pid'] = i\n",
    "        ply_lookup[i] = p\n",
    "        ply_ratings.append([p['ratings'][0][k] for k in rt])\n",
    "        i+=1\n",
    "        output['players'].append(p)\n",
    "    for j in pi:\n",
    "        if j in idx:\n",
    "            continue\n",
    "        extra_players.append(p)"
   ]
  },
  {
   "cell_type": "code",
   "execution_count": null,
   "metadata": {},
   "outputs": [],
   "source": [
    "len(extra_players)"
   ]
  },
  {
   "cell_type": "code",
   "execution_count": null,
   "metadata": {},
   "outputs": [],
   "source": [
    "with open('test_roster.json','wt') as fp:\n",
    "    json.dump(output,fp)"
   ]
  },
  {
   "cell_type": "code",
   "execution_count": null,
   "metadata": {},
   "outputs": [],
   "source": [
    "players = sum([[_['ratings'][0] for _ in v] for k,v in college_teams.items()],[])"
   ]
  },
  {
   "cell_type": "code",
   "execution_count": null,
   "metadata": {},
   "outputs": [],
   "source": [
    "A = np.array([[_[k] for k in rt] for _ in players])"
   ]
  },
  {
   "cell_type": "code",
   "execution_count": null,
   "metadata": {},
   "outputs": [],
   "source": []
  },
  {
   "cell_type": "code",
   "execution_count": null,
   "metadata": {},
   "outputs": [],
   "source": [
    "N = 3\n",
    "u,s,v = np.linalg.svd(A,full_matrices=False)\n",
    "v[N:] = 0\n",
    "#s[N:] = 1e-9\n",
    "abs(A-(u@np.diag(s)@v)).mean()"
   ]
  },
  {
   "cell_type": "code",
   "execution_count": null,
   "metadata": {},
   "outputs": [],
   "source": [
    "score = (A @ (v.T)@np.diag(1/s))"
   ]
  },
  {
   "cell_type": "code",
   "execution_count": null,
   "metadata": {},
   "outputs": [],
   "source": [
    "data2 = json.load(open('realbad.json','rt',encoding='utf-8-sig'))"
   ]
  },
  {
   "cell_type": "code",
   "execution_count": null,
   "metadata": {},
   "outputs": [],
   "source": [
    "printd = {}\n",
    "tmp = ((v.T)@np.diag(1/s))[:,:3]\n",
    "for name,row in zip(rt,tmp):\n",
    "    printd[name] = list(row)\n",
    "#print(json.dumps(printd,indent=True))"
   ]
  },
  {
   "cell_type": "code",
   "execution_count": null,
   "metadata": {},
   "outputs": [],
   "source": [
    "stats_to_pred = ['pts','orb','drb','ast','stl','blk','min']\n",
    "extra = ['per']\n",
    "\n",
    "X = []\n",
    "y = []\n",
    "for p in data2['players']:\n",
    "    try:\n",
    "        f = frac[p['college']]\n",
    "        age = 2020-p['born']['year']\n",
    "        r = np.array([p['ratings'][0][k] for k in rt])\n",
    "        pca = ((r @ v.T) @ (np.diag(1/s)))[:N]\n",
    "        stats = p['stats'][0]\n",
    "        if stats['min'] < 850:\n",
    "            continue\n",
    "        if stats['gs'] < 40:\n",
    "            continue\n",
    "        stats_v = [36*(stats[s]/stats['gp'])/(stats['min']/stats['gp']) for s in stats_to_pred] + [stats['per']]\n",
    "        \n",
    "        y.append(stats_v)\n",
    "\n",
    "        X.append(list(pca))\n",
    "\n",
    "    except:\n",
    "        pass\n",
    "X = np.array(X)\n",
    "y = np.array(y)\n",
    "X.shape,y.shape"
   ]
  },
  {
   "cell_type": "code",
   "execution_count": null,
   "metadata": {},
   "outputs": [],
   "source": [
    "from sklearn import linear_model\n",
    "from sklearn import preprocessing\n",
    "from sklearn import feature_selection, model_selection\n",
    "from sklearn import  multioutput\n",
    "\n",
    "import matplotlib.pyplot as plt"
   ]
  },
  {
   "cell_type": "code",
   "execution_count": null,
   "metadata": {},
   "outputs": [],
   "source": [
    "fexp = preprocessing.PolynomialFeatures(degree=1,interaction_only=False)\n",
    "scalerX = preprocessing.StandardScaler()\n",
    "scalery = preprocessing.StandardScaler()\n",
    "\n",
    "prescale_X = fexp.fit_transform(X)\n",
    "prescale_X = scalerX.fit_transform(prescale_X)\n",
    "\n",
    "prescale_y = scalery.fit_transform(y)"
   ]
  },
  {
   "cell_type": "code",
   "execution_count": null,
   "metadata": {},
   "outputs": [],
   "source": [
    "clf = multioutput.MultiOutputRegressor(linear_model.LinearRegression())"
   ]
  },
  {
   "cell_type": "code",
   "execution_count": null,
   "metadata": {},
   "outputs": [],
   "source": [
    "clf.fit(X,y)\n",
    "res = clf.predict(X)\n",
    "np.linalg.norm(res-np.array(y))"
   ]
  },
  {
   "cell_type": "code",
   "execution_count": null,
   "metadata": {},
   "outputs": [],
   "source": [
    "clf.predict(np.array(  [ -0.005647817868185792, 0.005709440253439957, -0.0017545444845067665 ])[None,:])"
   ]
  },
  {
   "cell_type": "code",
   "execution_count": null,
   "metadata": {},
   "outputs": [],
   "source": [
    "for s,cl in zip(stats_to_pred,clf.estimators_):\n",
    "    print(s,':',list(np.round(list(cl.coef_)+[cl.intercept_],3)),',')"
   ]
  },
  {
   "cell_type": "code",
   "execution_count": null,
   "metadata": {},
   "outputs": [],
   "source": [
    "plt.style.use('seaborn-white')\n",
    "plt.figure(figsize=(8,8))\n",
    "for i,s in enumerate(stats_to_pred + extra):\n",
    "    plt.subplot(3,3,i+1)\n",
    "    plt.title(s)\n",
    "    plt.grid(True)\n",
    "    plt.scatter(y[X[:,0] <= 1,i],res[X[:,0] <= 1,i],s=5,alpha=0.7)\n",
    "    plt.scatter(y[X[:,0] > 1,i],res[X[:,0] > 1,i],s=15,alpha=0.7)\n",
    "\n",
    "plt.suptitle('predicting college stats\\n kinda',y=1.05,size=14)\n",
    "plt.tight_layout()\n"
   ]
  },
  {
   "cell_type": "code",
   "execution_count": null,
   "metadata": {},
   "outputs": [],
   "source": [
    "clf.estimators_[4].coef_.shape"
   ]
  },
  {
   "cell_type": "code",
   "execution_count": null,
   "metadata": {},
   "outputs": [],
   "source": [
    "X.shape"
   ]
  },
  {
   "cell_type": "code",
   "execution_count": null,
   "metadata": {},
   "outputs": [],
   "source": []
  }
 ],
 "metadata": {
  "kernelspec": {
   "display_name": "Python 3",
   "language": "python",
   "name": "python3"
  },
  "language_info": {
   "codemirror_mode": {
    "name": "ipython",
    "version": 3
   },
   "file_extension": ".py",
   "mimetype": "text/x-python",
   "name": "python",
   "nbconvert_exporter": "python",
   "pygments_lexer": "ipython3",
   "version": "3.7.3"
  }
 },
 "nbformat": 4,
 "nbformat_minor": 2
}
