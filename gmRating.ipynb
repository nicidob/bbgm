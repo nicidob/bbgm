{
 "cells": [
  {
   "cell_type": "code",
   "execution_count": null,
   "metadata": {},
   "outputs": [],
   "source": [
    "import json"
   ]
  },
  {
   "cell_type": "code",
   "execution_count": null,
   "metadata": {},
   "outputs": [],
   "source": [
    "with open('hundreds2.json','rb') as fp:\n",
    "    data = json.load(fp)"
   ]
  },
  {
   "cell_type": "code",
   "execution_count": null,
   "metadata": {},
   "outputs": [],
   "source": [
    "data.keys()"
   ]
  },
  {
   "cell_type": "code",
   "execution_count": null,
   "metadata": {},
   "outputs": [],
   "source": [
    "X = []\n",
    "teamV = []\n",
    "for team in data['teams']:\n",
    "    for season in team['seasons']:\n",
    "\n",
    "        cap = season['stadiumCapacity']\n",
    "        pop = season['pop']\n",
    "        winp = season['won']/(season['won'] + season['lost'] + season['tied'])\n",
    "        cost = season['expenses']['salary']['amount']/90000 # payrollEndOfSeason?\n",
    "        profit = (sum([_['amount'] for _ in season['revenues'].values()])-sum([_['amount'] for _ in season['expenses'].values()]))/90000\n",
    "        playw = season['playoffRoundsWon']\n",
    "        X.append([team['abbrev'],season['season'],cap,pop,winp,cost,profit,playw])\n",
    "        teamV.append([team['abbrev'],season['season'],season['won']])\n"
   ]
  },
  {
   "cell_type": "code",
   "execution_count": null,
   "metadata": {},
   "outputs": [],
   "source": [
    "import pandas as pd\n",
    "df =pd.DataFrame(X,columns=['team','season','cap','pop','win','cost','profit','playw'])"
   ]
  },
  {
   "cell_type": "code",
   "execution_count": null,
   "metadata": {},
   "outputs": [],
   "source": [
    "import numpy as np\n",
    "import statsmodels.api as sm\n",
    "import matplotlib.pyplot as plt"
   ]
  },
  {
   "cell_type": "code",
   "execution_count": null,
   "metadata": {},
   "outputs": [],
   "source": [
    "pop_clf = sm.RLM(df.profit,sm.add_constant(df['pop'])).fit()\n",
    "pop_clf.summary()"
   ]
  },
  {
   "cell_type": "code",
   "execution_count": null,
   "metadata": {},
   "outputs": [],
   "source": [
    "plt.scatter(df['pop'],df.profit,s=5,alpha=0.5)\n",
    "xn = np.linspace(df['pop'].min(),df['pop'].max(),3)\n",
    "yn = pop_clf.params[0]  + xn * pop_clf.params[1]\n",
    "plt.plot(xn,yn,c='k',lw=5)\n",
    "pop_clf.params"
   ]
  },
  {
   "cell_type": "code",
   "execution_count": null,
   "metadata": {},
   "outputs": [],
   "source": [
    "def expected_profit(pop,stadium):\n",
    "    return (stadium/25000) * (pop*0.031792 + 0.084825)"
   ]
  },
  {
   "cell_type": "code",
   "execution_count": null,
   "metadata": {},
   "outputs": [],
   "source": [
    "ev = expected_profit(df['pop'],df['cap'])\n",
    "ev_idx = ev.idxmax()\n",
    "teamV[ev_idx],ev[ev_idx]"
   ]
  },
  {
   "cell_type": "code",
   "execution_count": null,
   "metadata": {},
   "outputs": [],
   "source": [
    "cost_clf = sm.OLS(df.win,sm.add_constant(df['cost'])).fit()\n",
    "cost_clf.summary()"
   ]
  },
  {
   "cell_type": "code",
   "execution_count": null,
   "metadata": {},
   "outputs": [],
   "source": [
    "plt.scatter(df['cost'],df.win,s=5,alpha=0.5)\n",
    "xn = np.linspace(df['cost'].min(),df['cost'].max(),3)\n",
    "yn = cost_clf.params[0]  + xn * cost_clf.params[1]\n",
    "plt.plot(xn,yn,c='k',lw=5)\n",
    "cost_clf.params[0],1/cost_clf.params[1]"
   ]
  },
  {
   "cell_type": "code",
   "execution_count": null,
   "metadata": {},
   "outputs": [],
   "source": [
    "def expected_cost(winp):\n",
    "    return (winp+0.01474769)*2.010595424083435\n",
    "ev = expected_cost(df.win)\n",
    "ev_idx = ev.idxmax()\n",
    "teamV[ev_idx],ev[ev_idx]"
   ]
  },
  {
   "cell_type": "code",
   "execution_count": null,
   "metadata": {},
   "outputs": [],
   "source": [
    "play_clf = sm.OLS(df.playw,sm.add_constant(df['cost'])).fit()\n",
    "play_clf.summary()"
   ]
  },
  {
   "cell_type": "code",
   "execution_count": null,
   "metadata": {},
   "outputs": [],
   "source": [
    "plt.scatter(df['cost'],df.playw,s=5,alpha=0.5)\n",
    "xn = np.linspace(df['cost'].min(),df['cost'].max(),3)\n",
    "yn = play_clf.params[0]  + xn * play_clf.params[1]\n",
    "plt.plot(xn,yn,c='k',lw=5)\n",
    "play_clf.params[0],1/play_clf.params[1]"
   ]
  },
  {
   "cell_type": "code",
   "execution_count": null,
   "metadata": {},
   "outputs": [],
   "source": [
    "def expected_costP(playw):\n",
    "    return (playw+4.5)*0.2310155\n",
    "ev = expected_costP(df.win)\n",
    "ev_idx = ev.idxmax()\n",
    "teamV[ev_idx],ev[ev_idx]"
   ]
  },
  {
   "cell_type": "code",
   "execution_count": null,
   "metadata": {},
   "outputs": [],
   "source": [
    "ev = df['profit']- expected_profit(df['pop'],df['cap']) + (expected_cost(df['win'])-1) + (expected_costP(df['playw'])-1)"
   ]
  },
  {
   "cell_type": "code",
   "execution_count": null,
   "metadata": {},
   "outputs": [],
   "source": [
    "ev_idx = ev.idxmax()\n",
    "teamV[ev_idx],ev[ev_idx],ev_idx"
   ]
  },
  {
   "cell_type": "code",
   "execution_count": null,
   "metadata": {},
   "outputs": [],
   "source": [
    "ev_idx = ev.idxmin()\n",
    "teamV[ev_idx],ev[ev_idx],ev_idx"
   ]
  },
  {
   "cell_type": "code",
   "execution_count": null,
   "metadata": {},
   "outputs": [],
   "source": [
    "df.iloc[946]"
   ]
  },
  {
   "cell_type": "code",
   "execution_count": null,
   "metadata": {},
   "outputs": [],
   "source": [
    "plt.style.use('seaborn-white')\n",
    "_ = plt.hist(ev,50,density=True)\n",
    "plt.yticks([],[])"
   ]
  },
  {
   "cell_type": "code",
   "execution_count": null,
   "metadata": {},
   "outputs": [],
   "source": [
    "ev.mean(),ev.median()"
   ]
  },
  {
   "cell_type": "code",
   "execution_count": null,
   "metadata": {},
   "outputs": [],
   "source": [
    "filt = np.array(teamV)[:,1] == '2361'\n",
    "val = np.array(ev[filt])\n",
    "team = np.array(teamV)[filt]\n",
    "for i in np.argsort(val):\n",
    "    print(val[i],team[i])"
   ]
  },
  {
   "cell_type": "code",
   "execution_count": null,
   "metadata": {},
   "outputs": [],
   "source": [
    "plt.hist(expected_profit(df['pop'],df['cap']).unique())"
   ]
  },
  {
   "cell_type": "code",
   "execution_count": null,
   "metadata": {},
   "outputs": [],
   "source": [
    "df['score'] = ev"
   ]
  },
  {
   "cell_type": "code",
   "execution_count": null,
   "metadata": {},
   "outputs": [],
   "source": [
    "df.groupby('team').mean().sort_values('score')"
   ]
  },
  {
   "cell_type": "code",
   "execution_count": null,
   "metadata": {},
   "outputs": [],
   "source": []
  }
 ],
 "metadata": {
  "kernelspec": {
   "display_name": "Python 3",
   "language": "python",
   "name": "python3"
  },
  "language_info": {
   "codemirror_mode": {
    "name": "ipython",
    "version": 3
   },
   "file_extension": ".py",
   "mimetype": "text/x-python",
   "name": "python",
   "nbconvert_exporter": "python",
   "pygments_lexer": "ipython3",
   "version": "3.7.3"
  }
 },
 "nbformat": 4,
 "nbformat_minor": 2
}
