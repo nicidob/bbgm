{
 "cells": [
  {
   "cell_type": "code",
   "execution_count": null,
   "metadata": {},
   "outputs": [],
   "source": [
    "import pandas as pd  \n",
    "import numpy as np  \n",
    "import matplotlib.pyplot as plt  \n",
    "from sklearn.linear_model import *\n",
    "from collections import defaultdict\n",
    "import json\n",
    "\n",
    "import os, sys\n",
    "import scipy.optimize as opt\n",
    "\n",
    "\n",
    "import fnmatch\n",
    "plt.style.use('seaborn-white')"
   ]
  },
  {
   "cell_type": "code",
   "execution_count": null,
   "metadata": {},
   "outputs": [],
   "source": [
    "file = 'mid2021.json' #'equal_bud.json' # eq_fa_fix\n",
    "data = json.load(open(file,'rt',encoding='utf-8-sig'))"
   ]
  },
  {
   "cell_type": "markdown",
   "metadata": {},
   "source": [
    "# Step 1: Get a bunch of stats about contracts, players, etc."
   ]
  },
  {
   "cell_type": "code",
   "execution_count": null,
   "metadata": {},
   "outputs": [],
   "source": [
    "player_ratings = {}\n",
    "player_picks = {}\n",
    "replacement_ovrs = []\n",
    "player_born = {}\n",
    "player_seasons = defaultdict(int)\n",
    "contracts = {}\n",
    "full_contracts =  {}\n",
    "player_teams = {}\n",
    "draft_picks = defaultdict(list)\n",
    "draft_picks_avg_ovr = defaultdict(list)\n",
    "draft_picks_avg_age = defaultdict(list)\n",
    "player_draft_ageovr = {}\n",
    "draft_salaries = {}\n",
    "\n",
    "draft_pos_avg = {}\n",
    "made_all_nba = []\n",
    "\n",
    "team_players = defaultdict(set)\n",
    "for p in data['players']:\n",
    "    player_born[p['pid']] = p['born']['year']\n",
    "    dp = p['draft']['pick']+ (p['draft']['round']-1)*30\n",
    "    if dp < 0:\n",
    "        dp = 0\n",
    "    player_picks[p['pid']] = (dp,p['draft']['year'])\n",
    "    dtid = p['draft']['originalTid']\n",
    "    if dtid >= 0:\n",
    "        draft_picks[(dtid,p['draft']['year'])].append(dp)\n",
    "        draft_pos_avg[p['pid']] = dp\n",
    "    if p['ratings'][0]['season'] ==  p['draft']['year']:\n",
    "        player_draft_ageovr[p['pid']] = (p['draft']['ovr'],p['draft']['pot'],p['draft']['year']-p['born']['year'])\n",
    "        draft_picks_avg_ovr[dp].append(p['draft']['ovr'])\n",
    "        draft_picks_avg_age[dp].append(p['draft']['year']-p['born']['year'])\n",
    "\n",
    "    for r in p['ratings']:\n",
    "        player_seasons[p['pid']] += 1\n",
    "        player_ratings[(p['pid'],r['season'])] ={k:v for k,v in r.items() if type(v) == int and k != 'season'}\n",
    "    \n",
    "    for r in p['stats']:\n",
    "        if r['playoffs']:\n",
    "            continue\n",
    "        team_players[(r['tid'],r['season'])].add(p['pid'])\n",
    "        player_teams[(p['pid'],r['season'])] = r['tid']\n",
    "        \n",
    "    td = {s['season']: s['amount'] for s in p['salaries']}\n",
    "    for k,a in td.items():\n",
    "        full_contracts[(p['pid'],k)] = a\n",
    "    new_c = {s:td[s+1] for s in td if s+1 in td and td[s+1]!=td[s]}\n",
    "\n",
    "    for s,c in new_c.items():\n",
    "        if c == 750:\n",
    "            replacement_ovrs.append(player_ratings[(p['pid'],s)]['ovr'])\n",
    "            \n",
    "    for k,a in td.items():\n",
    "        yl = 0\n",
    "        ko = k + 0\n",
    "\n",
    "        while k+1 in td:\n",
    "            if td[k+1] == a:\n",
    "                yl += 1\n",
    "            else:\n",
    "                break\n",
    "            k+=1\n",
    "        contracts[(p['pid'],ko)] = (a,yl)\n",
    "\n",
    "    for k,a in td.items():\n",
    "        if p['draft']['year']+1 == k:\n",
    "            draft_salaries[dp] = a\n",
    "            break\n",
    "    all_nba_years = set([_['season'] for _ in p['awards'] if _['type'] == 'First Team All-League'])\n",
    "    all_nba = [[r['ovr'],int(r['season'] in all_nba_years)] for r in p['ratings']] \n",
    "    made_all_nba += all_nba"
   ]
  },
  {
   "cell_type": "code",
   "execution_count": null,
   "metadata": {},
   "outputs": [],
   "source": [
    "# replacement level is based on minimum contract\n",
    "plt.hist(replacement_ovrs)\n",
    "RL = np.mean(replacement_ovrs)\n",
    "RL"
   ]
  },
  {
   "cell_type": "markdown",
   "metadata": {},
   "source": [
    "# Step 2: Get a player value curve\n",
    "Here it's just a sigmoid from ovr to a blend of VORP/EWA/WS. Ensure that 0 is always replacement level"
   ]
  },
  {
   "cell_type": "code",
   "execution_count": null,
   "metadata": {},
   "outputs": [],
   "source": [
    "res = []\n",
    "for p in data['players']:\n",
    "    ss = {_['season']:_ for _ in p['stats']}\n",
    "    rs ={_['season']:_ for _ in p['ratings']}\n",
    "    for k in ss:\n",
    "        # average of EWA/VORP/WS\n",
    "        # 2 * VORP and 1.5 * WS is to get on same scale as EWA\n",
    "        res.append([rs[k]['ovr'],0.333*(ss[k]['ewa'] + 2*ss[k]['vorp'] + 1.5*(ss[k]['ows'] + ss[k]['dws'])),ss[k]['min']])\n",
    "res = np.array(res)"
   ]
  },
  {
   "cell_type": "code",
   "execution_count": null,
   "metadata": {},
   "outputs": [],
   "source": [
    "res2 = res[res[:,2] > 800]\n",
    "plt.scatter(res2[:,0],res2[:,1],s=np.sqrt(res2[:,2])*0.3,alpha=0.05)\n",
    "xp = np.linspace(30,90)\n",
    "xpm = np.array([6.411, -61.762, 0.094, 6.89])\n",
    "yp = xpm[3]*np.tanh(xpm[2]*(xp+xpm[1]))+xpm[0]\n",
    "plt.plot(xp,yp,c='r')"
   ]
  },
  {
   "cell_type": "code",
   "execution_count": null,
   "metadata": {},
   "outputs": [],
   "source": [
    "def err_fit(xpm):\n",
    "    # going to force intercept so replacement level is 0\n",
    "    INT = (np.arctanh(- xpm[0]/ xpm[3])/ xpm[2]-RL)\n",
    "    INT = 60 if np.isnan(INT) else INT\n",
    "    curv = xpm[3]*np.tanh(xpm[2]*(res[:,0]+INT))+xpm[0]\n",
    "    return ((res[:,2]) * abs(curv-res[:,1])**2).mean()\n",
    "err_fit(xpm)\n",
    "opt_res = opt.minimize(err_fit,xpm)"
   ]
  },
  {
   "cell_type": "code",
   "execution_count": null,
   "metadata": {},
   "outputs": [],
   "source": [
    "yp = xpm[3]*np.tanh(xpm[2]*(xp+xpm[1]))+xpm[0]\n",
    "plt.plot(xp,yp,label='init')\n",
    "INT = (np.arctanh(- opt_res.x[0]/ opt_res.x[3])/ opt_res.x[2]-RL)\n",
    "yp = opt_res.x[3]*np.tanh(opt_res.x[2]*(xp+INT))+opt_res.x[0]\n",
    "plt.plot(xp,yp,label='opt')\n",
    "plt.legend()\n",
    "plt.xlabel('ovr')\n",
    "plt.ylabel('war')\n",
    "plt.grid(True)\n",
    "def value_predict(overall):\n",
    "    xpm = np.array([6.411, -61.762, 0.094, 6.89])\n",
    "    return xpm[3]*np.tanh(xpm[2]*(overall+xpm[1]))+xpm[0]"
   ]
  },
  {
   "cell_type": "code",
   "execution_count": null,
   "metadata": {},
   "outputs": [],
   "source": [
    "res_params = list(np.round(opt_res.x,3))\n",
    "res_params[1] = round(INT,3)\n",
    "print(res_params)"
   ]
  },
  {
   "cell_type": "markdown",
   "metadata": {},
   "source": [
    "# Time for some formulas\n",
    "Ovr to All-NBA, Draft pick to OVR, etc."
   ]
  },
  {
   "cell_type": "code",
   "execution_count": null,
   "metadata": {},
   "outputs": [],
   "source": [
    "made_all_nba = np.array(made_all_nba)\n",
    "\n",
    "clf = LogisticRegression(C=1)\n",
    "clf.fit(made_all_nba[:,:1],made_all_nba[:,1])\n",
    "clf.score(made_all_nba[:,:1],made_all_nba[:,1])"
   ]
  },
  {
   "cell_type": "code",
   "execution_count": null,
   "metadata": {},
   "outputs": [],
   "source": [
    "fTA,fTB = clf.coef_.ravel()[0], clf.intercept_[0]\n",
    "xp = np.linspace(0,100)\n",
    "make_all_nba = 1.0/(1+np.exp(-xp*fTA -fTB))\n",
    "plt.plot(xp,make_all_nba,c='r')\n",
    "plt.scatter(made_all_nba[:,0],made_all_nba[:,1],s=5,alpha=0.5)\n",
    "fTA,fTB"
   ]
  },
  {
   "cell_type": "code",
   "execution_count": null,
   "metadata": {},
   "outputs": [],
   "source": [
    "plt.style.use('seaborn-white')\n",
    "dp_ovr = np.array(sorted([(k,np.mean(v)) for k,v in draft_picks_avg_ovr.items()]))[1:,1]\n",
    "\n",
    "WEG = np.ones(60)\n",
    "WEG[:15] = 4\n",
    "FACTOR = 0.5\n",
    "def best_fit_func_exp(x):\n",
    "    return np.linalg.norm(( WEG*(np.exp(x[0]*np.arange(60)**FACTOR) *x[1]+x[2] - dp_ovr)))\n",
    "res2 = opt.minimize(best_fit_func_exp,[-0.05,22,16],method='Nelder-Mead')\n",
    "dp_ovr_x = res2.x\n",
    "\n",
    "plt.plot(dp_ovr)\n",
    "plt.plot(np.exp(dp_ovr_x[0]*np.arange(60)**FACTOR) *dp_ovr_x[1]+dp_ovr_x[2])\n",
    "\n",
    "dp_ovr_x"
   ]
  },
  {
   "cell_type": "code",
   "execution_count": null,
   "metadata": {},
   "outputs": [],
   "source": [
    "team_movs = {}\n",
    "\n",
    "for t in data['teams']:\n",
    "    tid = t['tid']\n",
    "    for ts in t['stats']:\n",
    "        if not ts['playoffs'] and ts['gp'] > 0:\n",
    "            season = ts['season']\n",
    "            mov = (ts['pts'] - ts['oppPts']) / ts['gp'];\n",
    "            team_movs[(tid,season)] = mov\n"
   ]
  },
  {
   "cell_type": "code",
   "execution_count": null,
   "metadata": {},
   "outputs": [],
   "source": [
    "won_cup = {}\n",
    "season_ratings = defaultdict(list)\n",
    "draft_pos_win = defaultdict(list)\n",
    "draft_age_ovr_winX = []\n",
    "draft_age_ovr_winy = []\n",
    "draft_age_ovr_winp = []\n",
    "\n",
    "for team in data['teams']:\n",
    "    tid = team['tid']\n",
    "    for season in team['seasons']:\n",
    "        s = season['season']\n",
    "        if season['gp'] >= 82:\n",
    "            they_won = float(season['playoffRoundsWon'] >= 2) # not really finals -- 4\n",
    "            #they_won = float(season['won'] >= 52)\n",
    "            won_cup[(tid,s)] = they_won\n",
    "            season_ratings[s].append((season['won'],team_movs[(tid,s)]))\n",
    "            for i,v in enumerate(sorted([(player_ratings[(_,s)]['ovr'],draft_pos_avg[_]) for _ in team_players[(tid,s)] if _ in draft_pos_avg],reverse=True)):\n",
    "                r,p = v\n",
    "                if they_won:\n",
    "                    draft_pos_win[p].append(i == 0)\n",
    "            for i,v in enumerate(sorted([(player_ratings[(_,s)]['ovr'],player_draft_ageovr[_],draft_pos_avg[_]) for _ in team_players[(tid,s)] if _ in player_draft_ageovr and _ in draft_pos_avg],reverse=True)):\n",
    "                if they_won:\n",
    "                    draft_age_ovr_winX.append(v[1])\n",
    "                    draft_age_ovr_winy.append(i == 0)\n",
    "                    draft_age_ovr_winp.append(v[2]-1)\n"
   ]
  },
  {
   "cell_type": "code",
   "execution_count": null,
   "metadata": {},
   "outputs": [],
   "source": [
    "winX = np.array(draft_age_ovr_winX).astype(float)\n",
    "winY = np.array(draft_age_ovr_winy)\n",
    "dp_ovrW = LogisticRegression(C=0.1)\n",
    "dp_ovrW.fit(winX,winY)\n",
    "\n",
    "plt.hist(dp_ovrW.predict_proba(winX)[:,1])\n",
    "print([dp_ovrW.intercept_[0]] + list(dp_ovrW.coef_[0]) )"
   ]
  },
  {
   "cell_type": "code",
   "execution_count": null,
   "metadata": {},
   "outputs": [],
   "source": [
    "winX[np.argmax(dp_ovrW.predict_proba(winX)[:,1])],100*max(dp_ovrW.predict_proba(winX)[:,1])"
   ]
  },
  {
   "cell_type": "code",
   "execution_count": null,
   "metadata": {},
   "outputs": [],
   "source": [
    "won_cup2 = np.array([[team_movs[k],won_cup[k]] for k in won_cup])\n",
    "plt.scatter(won_cup2[:,0],won_cup2[:,1],s=5,alpha=0.5)\n",
    "clf_win = LogisticRegression()\n",
    "clf_win.fit(won_cup2[:,:1],won_cup2[:,1])\n",
    "cB,cA = clf_win.intercept_[0],clf_win.coef_[0,0]\n",
    "\n",
    "xp = np.linspace(-20,20)\n",
    "win_p = 1.0/(1+np.exp(-xp*cA -cB))\n",
    "plt.plot(xp,win_p,c='r')\n",
    "cA,cB"
   ]
  },
  {
   "cell_type": "code",
   "execution_count": null,
   "metadata": {},
   "outputs": [],
   "source": [
    "plt.style.use('fivethirtyeight')\n",
    "tv = np.array(sorted([(k,np.mean(v)) for k,v in draft_pos_win.items()]))\n",
    "\n",
    "def testX(x):\n",
    "    return np.linalg.norm(x[1]*np.exp(-x[0]*np.arange(60)**x[2]) - tv[:,1])\n",
    "draftP = opt.fmin(testX,[.2,.2,.65])\n",
    "    \n",
    "plt.plot(tv[:,1],label='pos raw')\n",
    "plt.plot(draftP[1]*np.exp(-draftP[0]*np.arange(60)**draftP[2]),label='pos exp fit')\n",
    "plt.plot(pd.DataFrame([draft_age_ovr_winp,dp_ovrW.predict_proba(winX)[:,1]]).T.groupby(0).mean(),label='ovr/pot/age logit')\n",
    "plt.plot([0,60],[1/15,1/15],c='k',ls='--')\n",
    "plt.legend()\n",
    "plt.xlabel('draft pick')\n",
    "plt.ylabel('chance of being the best player\\non a finals roster')\n",
    "draftP"
   ]
  },
  {
   "cell_type": "code",
   "execution_count": null,
   "metadata": {},
   "outputs": [],
   "source": [
    "mov_to_pos = []\n",
    "for k in season_ratings:\n",
    "    mov_to_pos += [(i,_[1]) for i,_ in enumerate(sorted(season_ratings[k]))]\n",
    "arr = np.array(mov_to_pos)\n",
    "clf3 = LinearRegression().fit(arr[:,:1],arr[:,1])\n",
    "plt.scatter(arr[:,0],arr[:,1])"
   ]
  },
  {
   "cell_type": "code",
   "execution_count": null,
   "metadata": {},
   "outputs": [],
   "source": [
    "import statsmodels.api as sm\n",
    "clf_pos = sm.Logit(arr[:,0]/29,sm.add_constant(arr[:,1])).fit()\n",
    "\n",
    "xp = np.linspace(-15,15)\n",
    "yp = 1/(1+np.exp( 0.0009 - 0.3430*(xp)))\n",
    "plt.plot(xp,yp)\n",
    "plt.scatter(arr[:,1],clf_pos.predict(),c='r',alpha=0.1)\n",
    "\n",
    "clf_pos.summary()\n"
   ]
  },
  {
   "cell_type": "code",
   "execution_count": null,
   "metadata": {},
   "outputs": [],
   "source": [
    "YEARS_TO_MODEL = 10\n",
    "YEARS_TO_USE = 10"
   ]
  },
  {
   "cell_type": "code",
   "execution_count": null,
   "metadata": {},
   "outputs": [],
   "source": [
    "offset_years = defaultdict(list)\n",
    "for k,v in team_movs.items():\n",
    "    tid,s = k\n",
    "    for i in range(1,YEARS_TO_USE):\n",
    "        if (tid,s+i) in team_movs:\n",
    "            offset_years[i].append([v,team_movs[(tid,s+i)]])"
   ]
  },
  {
   "cell_type": "code",
   "execution_count": null,
   "metadata": {},
   "outputs": [],
   "source": [
    "tmov_mul = {0:1}\n",
    "for k,v in offset_years.items():\n",
    "    arr = np.array(offset_years[k])\n",
    "    plt.figure()\n",
    "    plt.scatter(arr[:,0],arr[:,1],alpha=0.1,s=5)\n",
    "    plt.title(k)\n",
    "    clf3 = sm.RLM(arr[:,0],arr[:,1]).fit()\n",
    "    xp = np.linspace(-15,15)\n",
    "    plt.plot(xp,xp*clf3.params[0],c='r')\n",
    "    tmov_mul[k] = clf3.params[0]\n",
    "    print(k,clf3.params,)"
   ]
  },
  {
   "cell_type": "code",
   "execution_count": null,
   "metadata": {},
   "outputs": [],
   "source": [
    "clf3.summary()"
   ]
  },
  {
   "cell_type": "code",
   "execution_count": null,
   "metadata": {},
   "outputs": [],
   "source": [
    "team_ovrs = {k: sorted([player_ratings[(p,k[1])]['ovr'] for p in team_players[k]],reverse=True)[:10] for k in team_players}"
   ]
  },
  {
   "cell_type": "code",
   "execution_count": null,
   "metadata": {},
   "outputs": [],
   "source": [
    "sorted(team_ovrs[(23,2023)],reverse=True)[:10]"
   ]
  },
  {
   "cell_type": "code",
   "execution_count": null,
   "metadata": {},
   "outputs": [],
   "source": [
    "Xs1 = []\n",
    "ys1 = []\n",
    "for t, s in team_movs:\n",
    "    Xs1.append(team_ovrs[(t,s)])\n",
    "    ys1.append(team_movs[(t,s)])"
   ]
  },
  {
   "cell_type": "code",
   "execution_count": null,
   "metadata": {},
   "outputs": [],
   "source": [
    "Xs1"
   ]
  },
  {
   "cell_type": "code",
   "execution_count": null,
   "metadata": {},
   "outputs": [],
   "source": [
    "res_ltr = sm.OLS(ys1,sm.add_constant(Xs1)).fit()"
   ]
  },
  {
   "cell_type": "code",
   "execution_count": null,
   "metadata": {},
   "outputs": [],
   "source": [
    "def best_fit_func_exp(x):\n",
    "    return np.linalg.norm(( Xs1 @ np.exp(x[0]*np.arange(10))*x[1]+x[2] - ys1))\n",
    "a,b = np.polyfit(np.arange(10),np.log(np.array(res_ltr.params[1:])),1)\n",
    "res_tr = opt.minimize(best_fit_func_exp,[a,np.exp(b),-101],method='Nelder-Mead')\n",
    "print(list(res_tr.x))"
   ]
  },
  {
   "cell_type": "code",
   "execution_count": null,
   "metadata": {},
   "outputs": [],
   "source": [
    "plt.plot(res_ltr.params[1:])\n",
    "plt.plot( np.exp(res_tr.x[0]*np.arange(10))*res_tr.x[1])\n",
    "plt.xlabel('value of Nth best player')\n",
    "plt.grid(True)\n",
    "_ = plt.xticks(np.arange(10),np.arange(10)+1)"
   ]
  },
  {
   "cell_type": "code",
   "execution_count": null,
   "metadata": {},
   "outputs": [],
   "source": [
    "plt.figure(figsize=(5,5))\n",
    "plt.scatter(ys1,res_ltr.predict(),alpha=0.1,s=10)\n",
    "plt.xlabel('true MOV')\n",
    "plt.ylabel('predicted MOV')\n",
    "plt.xlim(-15,15)\n",
    "plt.ylim(-15,15)\n",
    "plt.grid(True)"
   ]
  },
  {
   "cell_type": "code",
   "execution_count": null,
   "metadata": {},
   "outputs": [],
   "source": [
    "players_years = defaultdict(list)\n",
    "for k,v in player_ratings.items():\n",
    "    pid,s = k\n",
    "    players_years[pid].append(s)"
   ]
  },
  {
   "cell_type": "code",
   "execution_count": null,
   "metadata": {},
   "outputs": [],
   "source": [
    "age_loop = defaultdict(list)\n",
    "for pid,s in player_ratings:\n",
    "    if player_seasons[pid] <7:\n",
    "        continue\n",
    "    k = (pid,s)\n",
    "    nk =(pid,s+1)\n",
    "    age = s-player_born[pid]\n",
    "    if nk in player_ratings:\n",
    "        age_loop[age].append(player_ratings[nk]['ovr']-player_ratings[k]['ovr'])\n",
    "    #player_ratings[k]['ovr']"
   ]
  },
  {
   "cell_type": "code",
   "execution_count": null,
   "metadata": {},
   "outputs": [],
   "source": [
    "from scipy.stats import trim_mean\n",
    "age_shift = {k:trim_mean(age_loop[k],.1) for k in sorted(age_loop.keys()) if k < 40}"
   ]
  },
  {
   "cell_type": "code",
   "execution_count": null,
   "metadata": {},
   "outputs": [],
   "source": [
    "big_age = sum([[[age,_] for _ in age_loop[age]] for age in age_loop],[])\n",
    "big_age = np.array(big_age)"
   ]
  },
  {
   "cell_type": "code",
   "execution_count": null,
   "metadata": {},
   "outputs": [],
   "source": [
    "{k:round(v,1) for k,v in age_shift.items()}"
   ]
  },
  {
   "cell_type": "code",
   "execution_count": null,
   "metadata": {},
   "outputs": [],
   "source": [
    "age_curve = np.array([[k,v] for k,v in age_shift.items()])\n",
    "plt.plot(age_curve[:,0],age_curve[:,1])\n",
    "progs_vec = [4,-21,-0.112,9]\n",
    "xp = np.linspace(15,45)\n",
    "\n",
    "def best_fit_func_exp2(x):\n",
    "    return np.linalg.norm(( x[3]*np.tanh(x[2]*(big_age[:,0]+x[1])))+x[0] - big_age[:,1])\n",
    "res_progs = opt.minimize(best_fit_func_exp2,progs_vec,method='Nelder-Mead')\n",
    "progs_vec = res_progs.x\n",
    "def get_shift(age):\n",
    "    return progs_vec[3]*np.tanh(progs_vec[2]*(age+progs_vec[1]))+progs_vec[0]\n",
    "plt.plot(xp,get_shift(xp))\n",
    "res_progs"
   ]
  },
  {
   "cell_type": "code",
   "execution_count": null,
   "metadata": {},
   "outputs": [],
   "source": [
    "valid_seasons = sorted(set([s for tid,s in team_movs]))\n",
    "valid_seasons = valid_seasons[:-YEARS_TO_USE]"
   ]
  },
  {
   "cell_type": "code",
   "execution_count": null,
   "metadata": {},
   "outputs": [],
   "source": [
    "ovr_salaries = defaultdict(list)\n",
    "sal_ovrd = defaultdict(list)\n",
    "for p,s in player_ratings:\n",
    "    v = player_ratings[(p,s)]\n",
    "    if (p,s) in contracts:\n",
    "        c = contracts[(p,s)][0]\n",
    "        ovr_salaries[v['ovr']].append(c)\n",
    "        sal_ovrd[c].append(v['ovr'])\n",
    "sal_ovr = np.array([[s,value_predict(np.array(c)).mean()] for s,c in sal_ovrd.items()])\n",
    "sal_ovr[:,0]/=30000\n",
    "\n",
    "sO = sm.RLM(sal_ovr[:,1],sal_ovr[:,0]).fit()\n",
    "plt.scatter(sal_ovr[:,0],sal_ovr[:,1],alpha=0.5)\n",
    "plt.scatter(sal_ovr[:,0],sO.predict())\n",
    "plt.xlabel('% of max salary')\n",
    "plt.ylabel('wins above replacement')\n",
    "sA = sO.params[0]\n",
    "sA"
   ]
  },
  {
   "cell_type": "code",
   "execution_count": null,
   "metadata": {
    "scrolled": false
   },
   "outputs": [],
   "source": [
    "Xs = defaultdict(list)\n",
    "ys = defaultdict(list)\n",
    "\n",
    "PV = defaultdict(list)\n",
    "WC = defaultdict(list)\n",
    "\n",
    "for tid, s in team_movs:\n",
    "    if s in valid_seasons:\n",
    "        itmov = team_movs[(tid,s)]\n",
    "        \n",
    "        pars = defaultdict(list)\n",
    "        tss = defaultdict(int)\n",
    "\n",
    "        dpars = []\n",
    "        for pid in team_players[(tid,s)]:\n",
    "            age = s-player_born[pid]\n",
    "            ovr = player_ratings[(pid,s)]['ovr']\n",
    "            pars[0].append(ovr)\n",
    "            tss[0] += full_contracts.get((pid,s),750)\n",
    "            for j in range(1,YEARS_TO_MODEL):\n",
    "                ovr+=get_shift(age+j)#,max_shift)\n",
    "                if (pid,s+j) in player_teams and player_teams[(pid,s+j)] == tid:\n",
    "                    pars[j].append(ovr)\n",
    "                    tss[j]+=full_contracts.get((pid,s+j),750)\n",
    "            \n",
    "        for i in range(YEARS_TO_MODEL):\n",
    "            tmov = team_movs[(tid,s+i)]\n",
    "            play = [p for p in pars[i] if p >= RL]\n",
    "            lp = len(play)\n",
    "            if lp < 10:\n",
    "                play= play + (10-lp)*[RL]\n",
    "            play = sorted(play,reverse=True)[:10]\n",
    "            play_s = sum([np.exp(i*res_tr.x[0])*p for i,p in enumerate(play)])*res_tr.x[1] -res_tr.x[2]\n",
    "            #play_d = sum([_ for _ in dpars[i]])\n",
    "            \n",
    "            cap_hit = tss[i] + (10-lp)*750 #+ dtss[i]\n",
    "            \n",
    "            diff = (90000-cap_hit)/90000\n",
    "            cap_space = np.maximum(diff,0.1*diff)\n",
    "            \n",
    "            Xs[i].append([cap_space])\n",
    "            PV[i].append(play_s)\n",
    "            ys[i].append(tmov-play_s)\n",
    "            WC[i].append(won_cup[(tid,s+i)])\n"
   ]
  },
  {
   "cell_type": "code",
   "execution_count": null,
   "metadata": {},
   "outputs": [],
   "source": [
    "{k:len(v) for k,v in pars.items()}"
   ]
  },
  {
   "cell_type": "code",
   "execution_count": null,
   "metadata": {},
   "outputs": [],
   "source": [
    "tid,s,j"
   ]
  },
  {
   "cell_type": "code",
   "execution_count": null,
   "metadata": {},
   "outputs": [],
   "source": [
    "from sklearn.metrics import r2_score\n",
    "import copy \n",
    "np.set_printoptions(suppress=True)\n",
    "scales=[]\n",
    "means = []\n",
    "rsq = []\n",
    "llf = []\n",
    "plt.figure(figsize=(9,3))\n",
    "for i in range(YEARS_TO_MODEL):\n",
    "\n",
    "    pred = sm.OLS(ys[i],sm.add_constant(Xs[i])).fit()\n",
    "\n",
    "    play_v = np.array(PV[i])\n",
    "    pred_y = pred.predict()+play_v\n",
    "    true_y = np.array(ys[i])+play_v\n",
    "    \n",
    "\n",
    "    rsq.append(r2_score(true_y,pred_y))\n",
    "    \n",
    "    plt.subplot(1,YEARS_TO_MODEL,i+1)\n",
    "    \n",
    "    ALT = np.hstack([np.array(Xs[i]),np.array(PV[i])[:,None]])\n",
    "    if i == 0:\n",
    "        print(ALT.shape)\n",
    "        ALT[:,0] *= 0\n",
    "    predWC = sm.Logit(WC[i],sm.add_constant(ALT)).fit(disp=0,method='minimize')\n",
    "    llf.append(predWC.llf)\n",
    "    #xp = np.linspace(-15,15)\n",
    "    #tmp = predWC.params[0]  + predWC.params[1]*xp\n",
    "    #yp = 1/(1+np.exp(-tmp))\n",
    "    plt.ylim(-0.1,1)\n",
    "    #plt.xlabel('pred MOV')\n",
    "    #plt.plot(xp,yp)\n",
    "    plt.scatter(true_y,predWC.predict(),s=5,alpha=0.5)\n",
    "    predWC.summary()\n",
    "    #print(i,\": (\",list(np.round(pred.params,3)) + list(np.round(predWC.params,3)),'),')\n",
    "    print(i,\": (\",list(np.round(predWC.params,3)),'),')\n",
    "\n",
    "    plt.title('{}'.format(i))\n",
    "\n",
    "rsq,llf"
   ]
  },
  {
   "cell_type": "code",
   "execution_count": null,
   "metadata": {},
   "outputs": [],
   "source": [
    "draftP,sA"
   ]
  },
  {
   "cell_type": "code",
   "execution_count": null,
   "metadata": {},
   "outputs": [],
   "source": [
    "predWC.summary()"
   ]
  },
  {
   "cell_type": "code",
   "execution_count": null,
   "metadata": {},
   "outputs": [],
   "source": [
    "xp = sorted([k for k in ovr_salaries.keys() if k > 40])\n",
    "yp = [np.mean(ovr_salaries[k]) for k in xp]\n",
    "yp2 = [1000*value_predict(k) for k in xp]\n",
    "\n",
    "plt.plot(xp,yp)\n"
   ]
  },
  {
   "cell_type": "code",
   "execution_count": null,
   "metadata": {},
   "outputs": [],
   "source": [
    "vvec = np.array(yp2)/np.array(yp)\n",
    "plt.plot(xp,vvec)\n",
    "#plt.plot(xp,0.11*np.log(np.array(xp)-43))\n",
    "plt.xlabel('ovr')\n",
    "plt.ylabel('value over replacement per $1M')\n",
    "#def log_fit(x):\n",
    "#    return np.linalg.norm(x[0]*np.log(np.array(xp)-43)-vvec)\n",
    "#opt.optimize.fmin(log_fit,[1])"
   ]
  },
  {
   "cell_type": "code",
   "execution_count": null,
   "metadata": {},
   "outputs": [],
   "source": [
    "np.std(np.array(Xs[1]),axis=0),np.mean(np.array(Xs[1]),axis=0)"
   ]
  },
  {
   "cell_type": "code",
   "execution_count": null,
   "metadata": {},
   "outputs": [],
   "source": []
  }
 ],
 "metadata": {
  "kernelspec": {
   "display_name": "Python 3",
   "language": "python",
   "name": "python3"
  },
  "language_info": {
   "codemirror_mode": {
    "name": "ipython",
    "version": 3
   },
   "file_extension": ".py",
   "mimetype": "text/x-python",
   "name": "python",
   "nbconvert_exporter": "python",
   "pygments_lexer": "ipython3",
   "version": "3.7.3"
  }
 },
 "nbformat": 4,
 "nbformat_minor": 2
}
