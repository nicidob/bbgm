{
 "cells": [
  {
   "cell_type": "code",
   "execution_count": null,
   "metadata": {},
   "outputs": [],
   "source": [
    "import pandas as pd  \n",
    "import numpy as np  \n",
    "import matplotlib.pyplot as plt  \n",
    "from sklearn.linear_model import LinearRegression,Ridge,ElasticNet,ElasticNetCV,LassoCV,SGDRegressor,RidgeCV\n",
    "from collections import defaultdict\n",
    "import json\n",
    "import statsmodels.api as sm\n",
    "\n",
    "from sklearn.preprocessing import StandardScaler, PolynomialFeatures\n",
    "import lightgbm as lgb\n",
    "import os, sys\n",
    "\n",
    "import fnmatch\n",
    "plt.style.use('seaborn-white')"
   ]
  },
  {
   "cell_type": "code",
   "execution_count": null,
   "metadata": {},
   "outputs": [],
   "source": [
    "file = 'no_inj.json'\n",
    "data = json.load(open(file,'rt',encoding='utf-8-sig'))\n",
    "player_ratings = {}\n",
    "player_picks = {}\n",
    "replacement_ovrs = []\n",
    "player_born = {}\n",
    "player_seasons = defaultdict(int)\n",
    "team_rosters = defaultdict(list)\n",
    "contracts = {}\n",
    "draft_picks = defaultdict(list)\n",
    "draft_salaries = {}\n",
    "\n",
    "team_players = defaultdict(set)\n",
    "for p in data['players']:\n",
    "    player_born[p['pid']] = p['born']['year']\n",
    "    dp = p['draft']['pick']+ (p['draft']['round']-1)*30\n",
    "    if dp < 0:\n",
    "        dp = 0\n",
    "    player_picks[p['pid']] = (dp,p['draft']['year'])\n",
    "    dtid = p['draft']['originalTid']\n",
    "    if dtid >= 0:\n",
    "        draft_picks[(dtid,p['draft']['year'])].append(dp)\n",
    "    \n",
    "    for r in p['ratings']:\n",
    "        player_seasons[p['pid']] += 1\n",
    "        player_ratings[(p['pid'],r['season'])] ={k:v for k,v in r.items() if type(v) == int and k != 'season'}\n",
    "    for r in p['stats']:\n",
    "        team_players[(r['tid'],r['season'])].add(p['pid'])\n",
    "        \n",
    "    td = {s['season']: s['amount'] for s in p['salaries']}\n",
    "    new_c = {s:td[s+1] for s in td if s+1 in td and td[s+1]!=td[s]}\n",
    "\n",
    "    for s,c in new_c.items():\n",
    "        if c == 750:\n",
    "            replacement_ovrs.append(player_ratings[(p['pid'],s)]['ovr'])\n",
    "            \n",
    "    for k,a in td.items():\n",
    "        yl = 0\n",
    "        ko = k + 0\n",
    "\n",
    "        while k+1 in td:\n",
    "            if td[k+1] == a:\n",
    "                yl += 1\n",
    "            else:\n",
    "                break\n",
    "            k+=1\n",
    "        contracts[(p['pid'],ko)] = (a,yl)\n",
    "\n",
    "    for k,a in td.items():\n",
    "        if p['draft']['year']+1 == k:\n",
    "            draft_salaries[dp] = a\n",
    "            break\n",
    "\n",
    "#for p in data['players']:\n",
    "#    for r in p['stats']:\n",
    "#        if r['min'] > 0:\n",
    "#            pass"
   ]
  },
  {
   "cell_type": "code",
   "execution_count": null,
   "metadata": {},
   "outputs": [],
   "source": [
    "{i:draft_salaries[i+1] for i in range(60)}"
   ]
  },
  {
   "cell_type": "code",
   "execution_count": null,
   "metadata": {},
   "outputs": [],
   "source": [
    "plt.hist(replacement_ovrs)\n",
    "RL = np.mean(replacement_ovrs)\n",
    "RL"
   ]
  },
  {
   "cell_type": "code",
   "execution_count": null,
   "metadata": {},
   "outputs": [],
   "source": [
    "team_movs = {}\n",
    "\n",
    "for t in data['teams']:\n",
    "    tid = t['tid']\n",
    "    for ts in t['stats']:\n",
    "        if not ts['playoffs'] and ts['gp'] > 0:\n",
    "            season = ts['season']\n",
    "            mov = (ts['pts'] - ts['oppPts']) / ts['gp'];\n",
    "            team_movs[(tid,season)] = mov\n"
   ]
  },
  {
   "cell_type": "code",
   "execution_count": null,
   "metadata": {},
   "outputs": [],
   "source": [
    "won_cup = {}\n",
    "season_ratings = defaultdict(list)\n",
    "\n",
    "for team in data['teams']:\n",
    "    tid = team['tid']\n",
    "    for season in team['seasons']:\n",
    "        s = season['season']\n",
    "        if season['gp'] >= 82:\n",
    "            won_cup[(tid,s)] = float(season['playoffRoundsWon'] >= 3) # not really finals -- 4\n",
    "            season_ratings[s].append((season['won'],team_movs[(tid,s)]))\n"
   ]
  },
  {
   "cell_type": "code",
   "execution_count": null,
   "metadata": {},
   "outputs": [],
   "source": [
    "won_cup2 = np.array([[team_movs[k],won_cup[k]] for k in won_cup])\n",
    "plt.scatter(won_cup2[:,0],won_cup2[:,1],s=5,alpha=0.5)\n",
    "cB,cA = sm.Logit(won_cup2[:,1],sm.add_constant(won_cup2[:,0])).fit().params\n",
    "\n",
    "xp = np.linspace(-20,20)\n",
    "win_p = 1.0/(1+np.exp(-xp*cA -cB))\n",
    "plt.plot(xp,win_p,c='r')\n",
    "cA,cB"
   ]
  },
  {
   "cell_type": "code",
   "execution_count": null,
   "metadata": {},
   "outputs": [],
   "source": []
  },
  {
   "cell_type": "code",
   "execution_count": null,
   "metadata": {},
   "outputs": [],
   "source": [
    "mov_to_pos = []\n",
    "for k in season_ratings:\n",
    "    mov_to_pos += [(i,_[1]) for i,_ in enumerate(sorted(season_ratings[k]))]\n",
    "arr = np.array(mov_to_pos)\n",
    "clf3 = sm.OLS(arr[:,0],sm.add_constant(arr[:,1])).fit()\n",
    "plt.scatter(arr[:,0],arr[:,1])\n",
    "clf3.summary()"
   ]
  },
  {
   "cell_type": "code",
   "execution_count": null,
   "metadata": {},
   "outputs": [],
   "source": [
    "clf_pos = sm.Logit(arr[:,0]/29,sm.add_constant(arr[:,1])).fit()\n",
    "\n",
    "xp = np.linspace(-15,15)\n",
    "yp = 1/(1+np.exp(8.416 - 0.9239*(xp)))\n",
    "plt.plot(xp,yp)\n",
    "plt.scatter(arr[:,1],clf_pos.predict(),c='r',alpha=0.1)\n",
    "\n",
    "clf_pos.summary()\n"
   ]
  },
  {
   "cell_type": "code",
   "execution_count": null,
   "metadata": {},
   "outputs": [],
   "source": [
    "YEARS_TO_MODEL = 12\n",
    "YEARS_TO_USE = 20"
   ]
  },
  {
   "cell_type": "code",
   "execution_count": null,
   "metadata": {},
   "outputs": [],
   "source": [
    "offset_years = defaultdict(list)\n",
    "for k,v in team_movs.items():\n",
    "    tid,s = k\n",
    "    for i in range(1,YEARS_TO_USE):\n",
    "        if (tid,s+i) in team_movs:\n",
    "            offset_years[i].append([v,team_movs[(tid,s+i)]])"
   ]
  },
  {
   "cell_type": "code",
   "execution_count": null,
   "metadata": {},
   "outputs": [],
   "source": [
    "tmov_mul = {0:1}\n",
    "for k,v in offset_years.items():\n",
    "    arr = np.array(offset_years[k])\n",
    "    plt.figure()\n",
    "    plt.scatter(arr[:,0],arr[:,1])\n",
    "    plt.title(k)\n",
    "    clf3 = sm.RLM(arr[:,0],arr[:,1]).fit()\n",
    "    xp = np.linspace(-15,15)\n",
    "    plt.plot(xp,xp*clf3.params[0],c='r')\n",
    "    tmov_mul[k] = clf3.params[0]\n",
    "    print(k,clf3.params,)"
   ]
  },
  {
   "cell_type": "code",
   "execution_count": null,
   "metadata": {},
   "outputs": [],
   "source": [
    "clf3.summary()"
   ]
  },
  {
   "cell_type": "code",
   "execution_count": null,
   "metadata": {},
   "outputs": [],
   "source": [
    "team_ovrs = {k: sorted([player_ratings[(p,k[1])]['ovr'] for p in team_players[k]],reverse=True)[:10] for k in team_players}"
   ]
  },
  {
   "cell_type": "code",
   "execution_count": null,
   "metadata": {},
   "outputs": [],
   "source": [
    "sorted(team_ovrs[(23,2023)],reverse=True)[:10]"
   ]
  },
  {
   "cell_type": "code",
   "execution_count": null,
   "metadata": {},
   "outputs": [],
   "source": [
    "Xs1 = []\n",
    "ys1 = []\n",
    "for t, s in team_movs:\n",
    "    Xs1.append(team_ovrs[(t,s)])\n",
    "    ys1.append(team_movs[(t,s)])"
   ]
  },
  {
   "cell_type": "code",
   "execution_count": null,
   "metadata": {},
   "outputs": [],
   "source": [
    "import statsmodels.api as sm"
   ]
  },
  {
   "cell_type": "code",
   "execution_count": null,
   "metadata": {},
   "outputs": [],
   "source": [
    "res = sm.OLS(ys1,sm.add_constant(Xs1)).fit()"
   ]
  },
  {
   "cell_type": "code",
   "execution_count": null,
   "metadata": {},
   "outputs": [],
   "source": [
    "import scipy.optimize as opt\n",
    "def best_fit_func_exp(x):\n",
    "    return np.linalg.norm(( Xs1 @ np.exp(x[0]*np.arange(10))*x[1]-x[2] - ys1))\n",
    "a,b = np.polyfit(np.arange(10),np.log(np.array(res.params[1:])),1)\n",
    "res2 = opt.minimize(best_fit_func_exp,[a,np.exp(b),-125],method='Nelder-Mead')\n",
    "print(res2.x)"
   ]
  },
  {
   "cell_type": "code",
   "execution_count": null,
   "metadata": {},
   "outputs": [],
   "source": [
    "plt.plot(res.params[1:])\n",
    "plt.plot( np.exp(res2.x[0]*np.arange(10))*res2.x[1])\n",
    "plt.xlabel('value of Nth best player')\n",
    "plt.grid(True)\n",
    "_ = plt.xticks(np.arange(10),np.arange(10)+1)"
   ]
  },
  {
   "cell_type": "code",
   "execution_count": null,
   "metadata": {},
   "outputs": [],
   "source": [
    "plt.figure(figsize=(5,5))\n",
    "plt.scatter(ys1,res.predict(),alpha=0.1,s=10)\n",
    "plt.xlabel('true MOV')\n",
    "plt.ylabel('predicted MOV')\n",
    "plt.xlim(-15,15)\n",
    "plt.ylim(-15,15)\n",
    "plt.grid(True)"
   ]
  },
  {
   "cell_type": "code",
   "execution_count": null,
   "metadata": {},
   "outputs": [],
   "source": [
    "res.summary()"
   ]
  },
  {
   "cell_type": "code",
   "execution_count": null,
   "metadata": {},
   "outputs": [],
   "source": [
    "((res.predict()-np.array(ys1))**2).mean(), (np.array(ys1)**2).mean()"
   ]
  },
  {
   "cell_type": "code",
   "execution_count": null,
   "metadata": {},
   "outputs": [],
   "source": [
    "def get_rating(x):\n",
    "    vec = []\n",
    "    offset = len(x)//3\n",
    "    x = np.round(x,2)\n",
    "    x[:offset] *= 10\n",
    "    x[-offset:] *= 10\n",
    "    #x[:3] = np.array([72.8,61.5,39.5])\n",
    "    #x[3:] = np.array([4.1,1.1,0.79, 13.2,9.5,8.8])\n",
    "    for row in Xs1:\n",
    "        tot = 0\n",
    "        for i in range(offset):\n",
    "            tot += (x[offset+i])*sum([np.tanh((_-x[i])/x[2*offset+i])+1.0 for _ in row])\n",
    "            #print(x[i],row)\n",
    "            #tot += 5*sum([float(_ > x[i]) for _ in row])\n",
    "\n",
    "        vec.append(tot)\n",
    "    vec = np.array(vec)\n",
    "    vec -= vec.mean()\n",
    "    return ((vec-ys1)**2).mean()#,vec\n",
    "#es.best.x\n",
    "\n",
    "iv = [78.2,62.3,40.4, 4.73,1.63,0.85, 13.9,8.8,9.5]\n",
    "iv = [72.67,61.14,39.29, 4.27,1.03,0.80, 13.26,9.45,8.9]\n",
    "iv = [73.4, 59.3, 53.9, 36.7,  3.9,  2. , -0.8,  1.3, 11.7, 10.7, 13.7,\n",
    "        10.5]\n",
    "iv = [ 7.59,  6.1 ,  5.59,  4.18,  4.26,  2.09, -0.89,  1.03,  1.27,\n",
    "         0.95,  1.47,  0.94]\n",
    "iv = [ 7.61,  6.03,  5.56,  4.31,  4.29,  2.19, -0.9 ,  0.88,  1.05,\n",
    "         0.83,  1.48,  0.96]\n",
    "iv = [7.13, 6.65, 1.74]\n",
    "r2 = get_rating(iv)\n",
    "#plt.scatter(ys,r2[1],alpha=0.1,s=10)\n",
    "r2"
   ]
  },
  {
   "cell_type": "code",
   "execution_count": null,
   "metadata": {},
   "outputs": [],
   "source": [
    "import scipy.optimize as opt\n",
    "import cma\n",
    "\n",
    "es = cma.CMAEvolutionStrategy(iv,0.5, {'tolx':1e-6,'tolfun':1e-6,'maxfevals':1000})\n",
    "es.optimize(get_rating)"
   ]
  },
  {
   "cell_type": "code",
   "execution_count": null,
   "metadata": {},
   "outputs": [],
   "source": [
    "get_rating(es.best.x)"
   ]
  },
  {
   "cell_type": "code",
   "execution_count": null,
   "metadata": {},
   "outputs": [],
   "source": [
    "tv = np.round(es.best.x,2)\n",
    "tv,get_rating(tv)"
   ]
  },
  {
   "cell_type": "code",
   "execution_count": null,
   "metadata": {},
   "outputs": [],
   "source": [
    "iv = np.array(iv)\n",
    "iv[:len(iv)//3] *=10\n",
    "iv[-len(iv)//3:] *=10"
   ]
  },
  {
   "cell_type": "code",
   "execution_count": null,
   "metadata": {},
   "outputs": [],
   "source": [
    "iv"
   ]
  },
  {
   "cell_type": "code",
   "execution_count": null,
   "metadata": {},
   "outputs": [],
   "source": [
    "def get_rating_vec(x):\n",
    "    vec = []\n",
    "    offset = len(x)//3\n",
    "    for row in Xs1:\n",
    "        tot = 0\n",
    "        for i in range(offset):\n",
    "            tot += (x[offset+i])*sum([np.tanh((_-x[i])/x[2*offset+i])+1.0 for _ in row] ) \n",
    "            #print(x[i],row)\n",
    "            #tot += 5*sum([float(_ > x[i]) for _ in row])\n",
    "\n",
    "        vec.append(tot)\n",
    "    vec = np.array(vec)\n",
    "    #vec -= vec.mean()\n",
    "    return vec\n",
    "plt.figure(figsize=(5,5))\n",
    "vt = get_rating_vec(iv)\n",
    "vtm = vt.mean()/10\n",
    "plt.scatter(ys1,vt-vtm*10,alpha=0.1,s=10)\n",
    "#plt.scatter(ys,res.predict(),alpha=0.1,s=10)\n",
    "\n",
    "plt.xlabel('true MOV')\n",
    "plt.ylabel('predicted MOV')\n",
    "plt.xlim(-15,15)\n",
    "plt.ylim(-15,15)\n",
    "plt.grid(True)\n",
    "print(-vtm)"
   ]
  },
  {
   "cell_type": "code",
   "execution_count": null,
   "metadata": {},
   "outputs": [],
   "source": [
    "def get_mov(x):\n",
    "    offset = len(iv)//3\n",
    "    tot = -vtm\n",
    "    for i in range(offset):\n",
    "        tot += (iv[offset+i])*(np.tanh((x-iv[i])/iv[2*offset+i])+1.0)\n",
    "    return tot\n",
    "xp = np.linspace(0,101)\n",
    "yp = [get_mov(_) for _ in xp]\n",
    "plt.plot(xp,yp)\n",
    "plt.grid(True)\n",
    "print(vtm)"
   ]
  },
  {
   "cell_type": "code",
   "execution_count": null,
   "metadata": {},
   "outputs": [],
   "source": [
    "r_lvl = get_mov(int(round(RL)))\n",
    "r_lvl"
   ]
  },
  {
   "cell_type": "code",
   "execution_count": null,
   "metadata": {},
   "outputs": [],
   "source": [
    "mov = {i:get_mov(i) for i in range(101)}"
   ]
  },
  {
   "cell_type": "code",
   "execution_count": null,
   "metadata": {},
   "outputs": [],
   "source": [
    "players_years = defaultdict(list)\n",
    "for k,v in player_ratings.items():\n",
    "    pid,s = k\n",
    "    players_years[pid].append(s)"
   ]
  },
  {
   "cell_type": "code",
   "execution_count": null,
   "metadata": {},
   "outputs": [],
   "source": [
    "pick_res = defaultdict(list)\n",
    "for k,v in player_ratings.items():\n",
    "    pid,s = k\n",
    "    if len(players_years[pid]) < 8: # skip the forgettable ones\n",
    "        continue\n",
    "    pr,ps = player_picks[pid]\n",
    "    year = s-ps\n",
    "    #if year < 6:\n",
    "    #pick_res[(pr,year)].append(np.argmin((v['ovr']-ovrs)**2))\n",
    "    pick_res[(pr,year)].append(v['ovr'])"
   ]
  },
  {
   "cell_type": "code",
   "execution_count": null,
   "metadata": {},
   "outputs": [],
   "source": [
    "draft_value = np.array([[np.quantile(pick_res[(p,yr)],0.75) for p in range(61)] for yr in range(YEARS_TO_MODEL)]).T\n",
    "draft_value = np.array([[np.mean([v for v in pick_res[(p,yr)] if v > RL] + [RL] ) for p in range(61)] for yr in range(YEARS_TO_MODEL)]).T\n"
   ]
  },
  {
   "cell_type": "code",
   "execution_count": null,
   "metadata": {},
   "outputs": [],
   "source": [
    "plt.style.use('fivethirtyeight')\n",
    "plt.imshow(np.array(draft_value), aspect='auto',cmap='Greys_r')\n",
    "plt.xlabel('years since drafted')\n",
    "plt.ylabel('draft pick')\n",
    "plt.title('draft value')\n",
    "plt.colorbar()\n",
    "plt.grid(False)\n",
    "#plt.ylim(30,0)"
   ]
  },
  {
   "cell_type": "code",
   "execution_count": null,
   "metadata": {},
   "outputs": [],
   "source": [
    "a = (np.array(draft_value)-r_lvl).sum(1)[1:]\n",
    "a[:30].mean(),a[30:].mean()"
   ]
  },
  {
   "cell_type": "code",
   "execution_count": null,
   "metadata": {},
   "outputs": [],
   "source": [
    "plt.plot((np.array(draft_value)).sum(1)[1:])\n",
    "plt.xlabel('pick')\n",
    "plt.ylabel('draft pick MOVaR')\n",
    "plt.title('5year value')"
   ]
  },
  {
   "cell_type": "code",
   "execution_count": null,
   "metadata": {},
   "outputs": [],
   "source": [
    "tA = np.array(draft_value)#-weights[-1]\n",
    "tA = tA[1:]#np.roll(tA,-1,0)"
   ]
  },
  {
   "cell_type": "code",
   "execution_count": null,
   "metadata": {},
   "outputs": [],
   "source": [
    "for i in range(YEARS_TO_MODEL):\n",
    "    plt.figure()\n",
    "    plt.xlabel('pick')\n",
    "    plt.ylabel('MOV')\n",
    "    plt.title('year {}'.format(i+1))\n",
    "    plt.plot(tA[:,i])"
   ]
  },
  {
   "cell_type": "code",
   "execution_count": null,
   "metadata": {},
   "outputs": [],
   "source": [
    "coeffs = []\n",
    "for i in range(YEARS_TO_MODEL):\n",
    "    x = [0.10,10,0.7]\n",
    "    def testX(x):\n",
    "        return np.linalg.norm(x[1]*np.exp(-x[0]*np.arange(60)**x[2]) - tA[:,i]+RL)\n",
    "    coeffs.append(opt.fmin(testX,x))"
   ]
  },
  {
   "cell_type": "code",
   "execution_count": null,
   "metadata": {},
   "outputs": [],
   "source": [
    "[list(_) for _ in coeffs]"
   ]
  },
  {
   "cell_type": "code",
   "execution_count": null,
   "metadata": {},
   "outputs": [],
   "source": [
    "for i,x in enumerate(coeffs[::-1]):\n",
    "    #plt.figure()\n",
    "    plt.plot( x[1]*np.exp(-x[0]*np.arange(61)**x[2]) + RL,label='year {}'.format(YEARS_TO_MODEL-i))\n",
    "plt.legend()\n",
    "#plt.plot([0,60],[0,0],c='k',lw=1.5,ls='--')\n",
    "plt.xlabel('draft pick')\n",
    "plt.ylabel('MOV above replacement')"
   ]
  },
  {
   "cell_type": "code",
   "execution_count": null,
   "metadata": {},
   "outputs": [],
   "source": [
    "for i,x in enumerate(coeffs[::-1]):\n",
    "    plt.figure()\n",
    "    plt.plot(tA[:,YEARS_TO_MODEL-1-i])\n",
    "    plt.plot(x[1]*np.exp(-x[0]*np.arange(61)**x[2])+RL)\n",
    "    plt.title('year {}'.format(YEARS_TO_MODEL-i))\n",
    "    plt.xlabel('draft pick')\n",
    "    plt.ylabel('MOV above replacement')"
   ]
  },
  {
   "cell_type": "code",
   "execution_count": null,
   "metadata": {},
   "outputs": [],
   "source": [
    "age_loop = defaultdict(list)\n",
    "for pid,s in player_ratings:\n",
    "    if player_seasons[pid] < 14:\n",
    "        continue\n",
    "    k = (pid,s)\n",
    "    nk =(pid,s+1)\n",
    "    age = s-player_born[pid]\n",
    "    if nk in player_ratings:\n",
    "        age_loop[age].append(player_ratings[nk]['ovr']-player_ratings[k]['ovr'])\n",
    "    #player_ratings[k]['ovr']"
   ]
  },
  {
   "cell_type": "code",
   "execution_count": null,
   "metadata": {},
   "outputs": [],
   "source": [
    "from scipy.stats import trim_mean\n",
    "age_shift = {k:trim_mean(age_loop[k],.01) for k in sorted(age_loop.keys()) if k < 36}"
   ]
  },
  {
   "cell_type": "code",
   "execution_count": null,
   "metadata": {},
   "outputs": [],
   "source": [
    "{k:round(v,1) for k,v in age_shift.items()}"
   ]
  },
  {
   "cell_type": "code",
   "execution_count": null,
   "metadata": {},
   "outputs": [],
   "source": [
    "valid_seasons = sorted(set([s for tid,s in team_movs]))\n",
    "valid_seasons = valid_seasons[:-YEARS_TO_USE]\n",
    "max_shift = min(age_shift.values())"
   ]
  },
  {
   "cell_type": "code",
   "execution_count": null,
   "metadata": {},
   "outputs": [],
   "source": [
    "ovr_salaries = defaultdict(list)\n",
    "sal_ovrd = defaultdict(list)\n",
    "for p,s in player_ratings:\n",
    "    v = player_ratings[(p,s)]\n",
    "    if (p,s) in contracts:\n",
    "        c = contracts[(p,s)][0]\n",
    "        ovr_salaries[v['ovr']].append(c)\n",
    "        sal_ovrd[c].append(v['ovr'])\n",
    "sal_ovr = np.array([[s,mov[round(np.mean(c))]-r_lvl] for s,c in sal_ovrd.items()])\n",
    "sal_ovr[:,0]/=30000\n",
    "\n",
    "sO = sm.RLM(sal_ovr[:,1],sal_ovr[:,0]).fit()\n",
    "plt.scatter(sal_ovr[:,0],sal_ovr[:,1])\n",
    "plt.scatter(sal_ovr[:,0],sO.predict())\n",
    "plt.xlabel('% of max salary')\n",
    "plt.ylabel('+/- above replacement')\n",
    "sA = sO.params[0]\n",
    "sA"
   ]
  },
  {
   "cell_type": "code",
   "execution_count": null,
   "metadata": {
    "scrolled": false
   },
   "outputs": [],
   "source": [
    "Xs = defaultdict(list)\n",
    "ys = defaultdict(list)\n",
    "\n",
    "term_data_x = []\n",
    "term_data_y = []\n",
    "\n",
    "for tid, s in team_movs:\n",
    "    if s in valid_seasons:\n",
    "        itmov = team_movs[(tid,s)]\n",
    "        \n",
    "        pars = defaultdict(list)\n",
    "        tss = defaultdict(int)\n",
    "\n",
    "        dpars = defaultdict(list)\n",
    "        dtss = defaultdict(int)\n",
    "        for i in range(YEARS_TO_MODEL):\n",
    "            for pid in team_players[(tid,s)]:\n",
    "                if (pid,s) in contracts and contracts[(pid,s)][1] >= i:\n",
    "                    tss[i] += contracts[(pid,s)][0]\n",
    "                    age = s-player_born[pid]\n",
    "                    ovr = player_ratings[(pid,s)]['ovr']\n",
    "                    for j in range(i):\n",
    "                        ovr+=age_shift.get(age+j,max_shift)\n",
    "                    pars[i].append(mov[round(np.clip(ovr,0,100))])\n",
    "                    #print(i,pid,age,ovr)\n",
    "                elif False and (pid,s) in contracts:\n",
    "                    age = s-player_born[pid]\n",
    "                    ovr = player_ratings[(pid,s)]['ovr']\n",
    "                    for j in range(i):\n",
    "                        ovr+=age_shift.get(age+j,max_shift)\n",
    "                    mov_p = mov[round(np.clip(ovr,0,100))]\n",
    "                    if mov_p > 0:\n",
    "                        RESIGN_CHANCE = 0.5\n",
    "                        est_con = min(1,(mov_p-r_lvl)/sA) * 30000 \n",
    "                        tss[i] += est_con*RESIGN_CHANCE\n",
    "                        pars[i].append(RESIGN_CHANCE*mov_p)  \n",
    "        for i in range(1,YEARS_TO_MODEL):\n",
    "            ppos = int(round(29*clf_pos.predict([1,tmov_mul[i]*itmov])[0]))\n",
    "            dpicks = [ppos,ppos+30]\n",
    "            #dpicks = draft_picks[(tid,s+i)]\n",
    "            #print(i,dpicks)\n",
    "            for p in dpicks:\n",
    "                dsal = draft_salaries[p]\n",
    "                for k,j in enumerate(range(i,YEARS_TO_MODEL)):\n",
    "                    dtss[j] += dsal\n",
    "                    x = coeffs[k]\n",
    "                    dpars[j].append(x[1]*np.exp(-x[0]*(p**x[2])))\n",
    "        \n",
    "            #print(contracts[(pid,s)],(player_ratings[(pid,s)]['ovr']),)\n",
    "        for i in range(YEARS_TO_MODEL):\n",
    "            tmov = team_movs[(tid,s+i)]\n",
    "            play = [p for p in pars[i] if p >= r_lvl]\n",
    "            lp = len(play)\n",
    "            if lp < 10:\n",
    "                play= play + (10-lp)*[r_lvl]\n",
    "            play = sorted(play,reverse=True)[:10]\n",
    "            play_s = sum(play)\n",
    "            play_d = sum([_ for _ in dpars[i]])\n",
    "            \n",
    "            cap_hit = tss[i] + (10-lp)*750 #+ dtss[i]\n",
    "            \n",
    "            diff = (90000-cap_hit)/30000\n",
    "            cap_space = np.maximum(diff,0.1*diff)\n",
    "            draft_pick_max_slots = dtss[i]/30000\n",
    "            \n",
    "            Xs[i].append([sA*cap_space,play_s,itmov*int(i!=0),play_d])\n",
    "            ys[i].append(tmov)\n",
    "        term_data_x.append([draft_pick_max_slots,play_d,itmov ])\n",
    "        total_reward = []\n",
    "        for i in range(YEARS_TO_MODEL,YEARS_TO_USE):\n",
    "            tmov = 1.0/(1+np.exp(-team_movs[(tid,s+i)]*cA -cB)) \n",
    "            \n",
    "            total_reward.append(tmov * (0.9 ** (i-YEARS_TO_MODEL)))\n",
    "        term_data_y.append(sum(total_reward))\n"
   ]
  },
  {
   "cell_type": "code",
   "execution_count": null,
   "metadata": {},
   "outputs": [],
   "source": [
    "np.array(term_data_x).shape\n"
   ]
  },
  {
   "cell_type": "code",
   "execution_count": null,
   "metadata": {},
   "outputs": [],
   "source": [
    "predT = sm.OLS(term_data_y,sm.add_constant(term_data_x)).fit()\n",
    "predT.summary()"
   ]
  },
  {
   "cell_type": "code",
   "execution_count": null,
   "metadata": {},
   "outputs": [],
   "source": [
    "plt.hist(np.array(Xs[1])[:,3])"
   ]
  },
  {
   "cell_type": "code",
   "execution_count": null,
   "metadata": {},
   "outputs": [],
   "source": [
    "plt.scatter(term_data_y,predT.predict())"
   ]
  },
  {
   "cell_type": "code",
   "execution_count": null,
   "metadata": {
    "scrolled": true
   },
   "outputs": [],
   "source": [
    "np.std(np.array(Xs[1]),axis=0),np.mean(np.array(Xs[1]),axis=0)"
   ]
  },
  {
   "cell_type": "code",
   "execution_count": null,
   "metadata": {},
   "outputs": [],
   "source": [
    " np.set_printoptions(suppress=True)\n",
    "for i in range(YEARS_TO_MODEL):\n",
    "    pred = sm.RLM(ys[i],(Xs[i])).fit()\n",
    "    print(i,\":\",list(np.round(pred.params,3)),',')#,',',pred.rsquared)"
   ]
  },
  {
   "cell_type": "code",
   "execution_count": null,
   "metadata": {},
   "outputs": [],
   "source": [
    "0 : [-0.173, 0.986, 0.0, 0.0] , 0.6569516133476782\n",
    "1 : [0.617, 0.571, 0.362, 0.097] , 0.3644063232746716\n",
    "2 : [0.765, 0.631, 0.18, 0.029] , 0.14830963454692692\n",
    "3 : [0.897, 0.745, 0.05, 0.06] , 0.047642853317683254\n",
    "4 : [0.779, 0.731, 0.045, 0.057] , 0.018632355348438878\n",
    "5 : [0.113, 0.401, 0.041, 0.081] , 0.0027072676702022402"
   ]
  },
  {
   "cell_type": "code",
   "execution_count": null,
   "metadata": {},
   "outputs": [],
   "source": [
    "pred.summary()"
   ]
  },
  {
   "cell_type": "code",
   "execution_count": null,
   "metadata": {},
   "outputs": [],
   "source": [
    "xp = sorted([k for k in ovr_salaries.keys() if k > 45])\n",
    "yp = [np.mean(ovr_salaries[k]) for k in xp]\n",
    "yp2 = [1000*(mov[k]-r_lvl) for k in xp]\n",
    "\n",
    "plt.plot(xp,yp)\n"
   ]
  },
  {
   "cell_type": "code",
   "execution_count": null,
   "metadata": {},
   "outputs": [],
   "source": [
    "vvec = np.array(yp2)/np.array(yp)\n",
    "plt.plot(xp,vvec)\n",
    "#plt.plot(xp,0.11*np.log(np.array(xp)-43))\n",
    "plt.xlabel('ovr')\n",
    "plt.ylabel('value over replacement per $1M')\n",
    "#def log_fit(x):\n",
    "#    return np.linalg.norm(x[0]*np.log(np.array(xp)-43)-vvec)\n",
    "#opt.optimize.fmin(log_fit,[1])"
   ]
  },
  {
   "cell_type": "code",
   "execution_count": null,
   "metadata": {},
   "outputs": [],
   "source": [
    "yp = {}\n",
    "for i in range(YEARS_TO_MODEL):\n",
    "    v = np.array(Xs[i])\n",
    "    diff = (1.0-v[:,0])/3\n",
    "    cap_space = np.maximum(diff,0.3*diff)\n",
    "    mov_from_cap = cap_space*sA\n",
    "    #pred_mov = v[:,1] + mov_from_cap\n",
    "    RV = np.array([v[:,1], v[:,2],v[:,3],mov_from_cap]).T\n",
    "    #if i==0:\n",
    "    #    RV[:,1] *= 0\n",
    "    #if i== 4:\n",
    "    #    RV[:,0] *= 0\n",
    "    pred = sm.OLS(ys[i],RV).fit()\n",
    "    print(i,\":\",[0] + list(np.round(pred.params,2)),\",\",pred.rsquared)\n",
    "    yp[i] = pred.predict()\n",
    "    #print(i,mov_from_cap.mean(),v[:,1].mean())"
   ]
  },
  {
   "cell_type": "code",
   "execution_count": null,
   "metadata": {},
   "outputs": [],
   "source": [
    "np.std(np.array(Xs[1]),axis=0),np.mean(np.array(Xs[1]),axis=0)"
   ]
  },
  {
   "cell_type": "code",
   "execution_count": null,
   "metadata": {},
   "outputs": [],
   "source": [
    "plt.hist(yp[0])"
   ]
  },
  {
   "cell_type": "code",
   "execution_count": null,
   "metadata": {},
   "outputs": [],
   "source": [
    "plt.hist(np.array(Xs[0])[:,1])"
   ]
  },
  {
   "cell_type": "code",
   "execution_count": null,
   "metadata": {},
   "outputs": [],
   "source": [
    "for i in range(YEARS_TO_MODEL):\n",
    "    plt.figure()\n",
    "    plt.scatter(ys[i],yp[i])\n"
   ]
  },
  {
   "cell_type": "code",
   "execution_count": null,
   "metadata": {},
   "outputs": [],
   "source": []
  },
  {
   "cell_type": "code",
   "execution_count": null,
   "metadata": {},
   "outputs": [],
   "source": []
  },
  {
   "cell_type": "code",
   "execution_count": null,
   "metadata": {},
   "outputs": [],
   "source": []
  },
  {
   "cell_type": "code",
   "execution_count": null,
   "metadata": {},
   "outputs": [],
   "source": []
  },
  {
   "cell_type": "code",
   "execution_count": null,
   "metadata": {},
   "outputs": [],
   "source": []
  },
  {
   "cell_type": "code",
   "execution_count": null,
   "metadata": {},
   "outputs": [],
   "source": []
  },
  {
   "cell_type": "code",
   "execution_count": null,
   "metadata": {},
   "outputs": [],
   "source": []
  }
 ],
 "metadata": {
  "kernelspec": {
   "display_name": "Python 3",
   "language": "python",
   "name": "python3"
  },
  "language_info": {
   "codemirror_mode": {
    "name": "ipython",
    "version": 3
   },
   "file_extension": ".py",
   "mimetype": "text/x-python",
   "name": "python",
   "nbconvert_exporter": "python",
   "pygments_lexer": "ipython3",
   "version": "3.7.3"
  }
 },
 "nbformat": 4,
 "nbformat_minor": 2
}
