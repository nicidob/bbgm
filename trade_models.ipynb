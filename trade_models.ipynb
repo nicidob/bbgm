{
 "cells": [
  {
   "cell_type": "code",
   "execution_count": null,
   "metadata": {},
   "outputs": [],
   "source": [
    "import pandas as pd  \n",
    "import numpy as np  \n",
    "import matplotlib.pyplot as plt  \n",
    "from sklearn.linear_model import LinearRegression,Ridge,ElasticNet,ElasticNetCV,LassoCV,SGDRegressor,RidgeCV\n",
    "from collections import defaultdict\n",
    "import json\n",
    "import statsmodels.api as sm\n",
    "\n",
    "from sklearn.preprocessing import StandardScaler, PolynomialFeatures\n",
    "import lightgbm as lgb\n",
    "import os, sys\n",
    "\n",
    "import fnmatch\n",
    "plt.style.use('seaborn-white')"
   ]
  },
  {
   "cell_type": "code",
   "execution_count": null,
   "metadata": {},
   "outputs": [],
   "source": [
    "file = 'big_data.json'\n",
    "data = json.load(open(file,'rt',encoding='utf-8-sig'))\n",
    "player_ratings = {}\n",
    "player_picks = {}\n",
    "replacement_ovrs = []\n",
    "player_born = {}\n",
    "player_seasons = defaultdict(int)\n",
    "team_rosters = defaultdict(list)\n",
    "contracts = {}\n",
    "draft_picks = defaultdict(list)\n",
    "draft_salaries = {}\n",
    "\n",
    "team_players = defaultdict(set)\n",
    "for p in data['players']:\n",
    "    player_born[p['pid']] = p['born']['year']\n",
    "    dp = p['draft']['pick']+ (p['draft']['round']-1)*30\n",
    "    if dp < 0:\n",
    "        dp = 0\n",
    "    player_picks[p['pid']] = (dp,p['draft']['year'])\n",
    "    dtid = p['draft']['originalTid']\n",
    "    if dtid >= 0:\n",
    "        draft_picks[(dtid,p['draft']['year'])].append(dp)\n",
    "    \n",
    "    for r in p['ratings']:\n",
    "        player_seasons[p['pid']] += 1\n",
    "        player_ratings[(p['pid'],r['season'])] ={k:v for k,v in r.items() if type(v) == int and k != 'season'}\n",
    "    for r in p['stats']:\n",
    "        team_players[(r['tid'],r['season'])].add(p['pid'])\n",
    "        \n",
    "    td = {s['season']: s['amount'] for s in p['salaries']}\n",
    "    new_c = {s:td[s+1] for s in td if s+1 in td and td[s+1]!=td[s]}\n",
    "\n",
    "    for s,c in new_c.items():\n",
    "        if c == 750:\n",
    "            replacement_ovrs.append(player_ratings[(p['pid'],s)]['ovr'])\n",
    "            \n",
    "    for k,a in td.items():\n",
    "        yl = 0\n",
    "        ko = k + 0\n",
    "\n",
    "        while k+1 in td:\n",
    "            if td[k+1] == a:\n",
    "                yl += 1\n",
    "            else:\n",
    "                break\n",
    "            k+=1\n",
    "        contracts[(p['pid'],ko)] = (a,yl)\n",
    "\n",
    "    for k,a in td.items():\n",
    "        if p['draft']['year']+1 == k:\n",
    "            draft_salaries[dp] = a\n",
    "            break\n",
    "\n",
    "#for p in data['players']:\n",
    "#    for r in p['stats']:\n",
    "#        if r['min'] > 0:\n",
    "#            pass"
   ]
  },
  {
   "cell_type": "code",
   "execution_count": null,
   "metadata": {},
   "outputs": [],
   "source": [
    "{i:draft_salaries[i+1] for i in range(60)}"
   ]
  },
  {
   "cell_type": "code",
   "execution_count": null,
   "metadata": {},
   "outputs": [],
   "source": [
    "plt.hist(replacement_ovrs)\n",
    "RL = np.mean(replacement_ovrs)\n",
    "RL"
   ]
  },
  {
   "cell_type": "code",
   "execution_count": null,
   "metadata": {},
   "outputs": [],
   "source": [
    "team_movs = {}\n",
    "\n",
    "for t in data['teams']:\n",
    "    tid = t['tid']\n",
    "    for ts in t['stats']:\n",
    "        if not ts['playoffs'] and ts['gp'] > 0:\n",
    "            season = ts['season']\n",
    "            mov = (ts['pts'] - ts['oppPts']) / ts['gp'];\n",
    "            team_movs[(tid,season)] = mov\n"
   ]
  },
  {
   "cell_type": "code",
   "execution_count": null,
   "metadata": {},
   "outputs": [],
   "source": [
    "won_cup = {}\n",
    "season_ratings = defaultdict(list)\n",
    "\n",
    "for team in data['teams']:\n",
    "    tid = team['tid']\n",
    "    for season in team['seasons']:\n",
    "        s = season['season']\n",
    "        if season['gp'] >= 82:\n",
    "            won_cup[(tid,s)] = float(season['playoffRoundsWon'] == 4)\n",
    "            season_ratings[s].append((season['won'],team_movs[(tid,s)]))\n"
   ]
  },
  {
   "cell_type": "code",
   "execution_count": null,
   "metadata": {},
   "outputs": [],
   "source": [
    "won_cup2 = np.array([[team_movs[k],won_cup[k]] for k in won_cup])\n",
    "plt.scatter(won_cup2[:,0],won_cup2[:,1])\n",
    "cB,cA = sm.Logit(won_cup2[:,1],sm.add_constant(won_cup2[:,0])).fit().params\n",
    "\n",
    "xp = np.linspace(-10,20)\n",
    "win_p = 1.0/(1+np.exp(-xp*cA -cB))\n",
    "plt.plot(xp,win_p,c='r')\n",
    "cA,cB"
   ]
  },
  {
   "cell_type": "code",
   "execution_count": null,
   "metadata": {},
   "outputs": [],
   "source": [
    "mov_to_pos = []\n",
    "for k in season_ratings:\n",
    "    mov_to_pos += [(i,_[1]) for i,_ in enumerate(sorted(season_ratings[k]))]\n",
    "arr = np.array(mov_to_pos)\n",
    "clf3 = sm.OLS(arr[:,0],sm.add_constant(arr[:,1])).fit()\n",
    "plt.scatter(arr[:,0],arr[:,1])\n",
    "clf3.summary()"
   ]
  },
  {
   "cell_type": "code",
   "execution_count": null,
   "metadata": {},
   "outputs": [],
   "source": [
    "clf3 = sm.Logit(arr[:,0]/29,sm.add_constant(arr[:,1])).fit()\n",
    "\n",
    "xp = np.linspace(-15,15)\n",
    "yp = 1/(1+np.exp(0.0036 - 0.368*(xp)))\n",
    "plt.plot(xp,29*yp)\n",
    "\n",
    "clf3.summary()\n"
   ]
  },
  {
   "cell_type": "code",
   "execution_count": null,
   "metadata": {},
   "outputs": [],
   "source": [
    "offset_years = defaultdict(list)\n",
    "for k,v in team_movs.items():\n",
    "    tid,s = k\n",
    "    for i in range(1,5):\n",
    "        if (tid,s+i) in team_movs:\n",
    "            offset_years[i].append([v,team_movs[(tid,s+i)]])"
   ]
  },
  {
   "cell_type": "code",
   "execution_count": null,
   "metadata": {},
   "outputs": [],
   "source": [
    "for k,v in offset_years.items():\n",
    "    arr = np.array(offset_years[k])\n",
    "    plt.figure()\n",
    "    plt.scatter(arr[:,0],arr[:,1])\n",
    "    plt.title(k)\n",
    "    clf3 = sm.OLS(arr[:,0],sm.add_constant(arr[:,1])).fit()\n",
    "    xp = np.linspace(-15,15)\n",
    "    plt.plot(xp,clf3.params[0]+xp*clf3.params[1],c='r')\n",
    "    print(k,clf3.rsquared,clf3.params,)"
   ]
  },
  {
   "cell_type": "code",
   "execution_count": null,
   "metadata": {},
   "outputs": [],
   "source": [
    "clf3.summary()"
   ]
  },
  {
   "cell_type": "code",
   "execution_count": null,
   "metadata": {},
   "outputs": [],
   "source": [
    "team_ovrs = {k: sorted([player_ratings[(p,k[1])]['ovr'] for p in team_players[k]],reverse=True)[:10] for k in team_players}"
   ]
  },
  {
   "cell_type": "code",
   "execution_count": null,
   "metadata": {},
   "outputs": [],
   "source": [
    "sorted(team_ovrs[(23,2023)],reverse=True)[:10]"
   ]
  },
  {
   "cell_type": "code",
   "execution_count": null,
   "metadata": {},
   "outputs": [],
   "source": [
    "Xs = []\n",
    "ys = []\n",
    "for t, s in team_movs:\n",
    "    Xs.append(team_ovrs[(t,s)])\n",
    "    ys.append(team_movs[(t,s)])"
   ]
  },
  {
   "cell_type": "code",
   "execution_count": null,
   "metadata": {},
   "outputs": [],
   "source": [
    "import statsmodels.api as sm"
   ]
  },
  {
   "cell_type": "code",
   "execution_count": null,
   "metadata": {},
   "outputs": [],
   "source": [
    "res = sm.OLS(ys,sm.add_constant(Xs)).fit()"
   ]
  },
  {
   "cell_type": "code",
   "execution_count": null,
   "metadata": {},
   "outputs": [],
   "source": [
    "import scipy.optimize as opt\n",
    "def best_fit_func_exp(x):\n",
    "    return np.linalg.norm(( Xs @ np.exp(x[0]*np.arange(10))*x[1]-x[2] - ys))\n",
    "a,b = np.polyfit(np.arange(10),np.log(np.array(res.params[1:])),1)\n",
    "res2 = opt.minimize(best_fit_func_exp,[a,np.exp(b),-125],method='Nelder-Mead')\n",
    "print(res2.x)"
   ]
  },
  {
   "cell_type": "code",
   "execution_count": null,
   "metadata": {},
   "outputs": [],
   "source": [
    "plt.plot(res.params[1:])\n",
    "plt.plot( np.exp(res2.x[0]*np.arange(10))*res2.x[1])\n",
    "plt.xlabel('value of Nth best player')\n",
    "plt.grid(True)\n",
    "_ = plt.xticks(np.arange(10),np.arange(10)+1)"
   ]
  },
  {
   "cell_type": "code",
   "execution_count": null,
   "metadata": {},
   "outputs": [],
   "source": [
    "plt.figure(figsize=(5,5))\n",
    "plt.scatter(ys,res.predict(),alpha=0.1,s=10)\n",
    "plt.xlabel('true MOV')\n",
    "plt.ylabel('predicted MOV')\n",
    "plt.xlim(-15,15)\n",
    "plt.ylim(-15,15)\n",
    "plt.grid(True)"
   ]
  },
  {
   "cell_type": "code",
   "execution_count": null,
   "metadata": {},
   "outputs": [],
   "source": [
    "res.summary()"
   ]
  },
  {
   "cell_type": "code",
   "execution_count": null,
   "metadata": {},
   "outputs": [],
   "source": [
    "((res.predict()-np.array(ys))**2).mean(), (np.array(ys)**2).mean()"
   ]
  },
  {
   "cell_type": "code",
   "execution_count": null,
   "metadata": {},
   "outputs": [],
   "source": [
    "def get_rating(x):\n",
    "    vec = []\n",
    "    offset = len(x)//3\n",
    "    x = np.round(x,2)\n",
    "    x[:4] *= 10\n",
    "    x[-4:] *= 10\n",
    "    #x[:3] = np.array([72.8,61.5,39.5])\n",
    "    #x[3:] = np.array([4.1,1.1,0.79, 13.2,9.5,8.8])\n",
    "    for row in Xs:\n",
    "        tot = 0\n",
    "        for i in range(offset):\n",
    "            tot += (x[offset+i])*sum([np.tanh((_-x[i])/x[2*offset+i])+1.0 for _ in row])\n",
    "            #print(x[i],row)\n",
    "            #tot += 5*sum([float(_ > x[i]) for _ in row])\n",
    "\n",
    "        vec.append(tot)\n",
    "    vec = np.array(vec)\n",
    "    vec -= vec.mean()\n",
    "    return ((vec-ys)**2).mean()#,vec\n",
    "#es.best.x\n",
    "\n",
    "iv = [78.2,62.3,40.4, 4.73,1.63,0.85, 13.9,8.8,9.5]\n",
    "iv = [72.67,61.14,39.29, 4.27,1.03,0.80, 13.26,9.45,8.9]\n",
    "iv = [73.4, 59.3, 53.9, 36.7,  3.9,  2. , -0.8,  1.3, 11.7, 10.7, 13.7,\n",
    "        10.5]\n",
    "iv = [ 7.59,  6.1 ,  5.59,  4.18,  4.26,  2.09, -0.89,  1.03,  1.27,\n",
    "         0.95,  1.47,  0.94]\n",
    "r2 = get_rating(iv)\n",
    "#plt.scatter(ys,r2[1],alpha=0.1,s=10)\n",
    "r2"
   ]
  },
  {
   "cell_type": "code",
   "execution_count": null,
   "metadata": {},
   "outputs": [],
   "source": [
    "import scipy.optimize as opt\n",
    "import cma\n",
    "\n",
    "es = cma.CMAEvolutionStrategy(iv, 0.02, {'tolx':1e-6,'tolfun':1e-6,'maxfevals':1})\n",
    "es.optimize(get_rating)"
   ]
  },
  {
   "cell_type": "code",
   "execution_count": null,
   "metadata": {},
   "outputs": [],
   "source": [
    "get_rating(es.best.x)"
   ]
  },
  {
   "cell_type": "code",
   "execution_count": null,
   "metadata": {},
   "outputs": [],
   "source": [
    "tv = np.round(es.best.x,2)\n",
    "tv,get_rating(tv)"
   ]
  },
  {
   "cell_type": "code",
   "execution_count": null,
   "metadata": {},
   "outputs": [],
   "source": [
    "iv = np.array(iv)\n",
    "iv[:4] *=10\n",
    "iv[-4:] *=10"
   ]
  },
  {
   "cell_type": "code",
   "execution_count": null,
   "metadata": {},
   "outputs": [],
   "source": [
    "def get_rating_vec(x):\n",
    "    vec = []\n",
    "    offset = len(x)//3\n",
    "    for row in Xs:\n",
    "        tot = 0\n",
    "        for i in range(offset):\n",
    "            tot += (x[offset+i])*sum([np.tanh((_-x[i])/x[2*offset+i])+1.0 for _ in row] ) \n",
    "            #print(x[i],row)\n",
    "            #tot += 5*sum([float(_ > x[i]) for _ in row])\n",
    "\n",
    "        vec.append(tot)\n",
    "    vec = np.array(vec)\n",
    "    #vec -= vec.mean()\n",
    "    return vec\n",
    "plt.figure(figsize=(5,5))\n",
    "vt = get_rating_vec(iv)\n",
    "vtm = vt.mean()/10\n",
    "plt.scatter(ys,vt-vtm*10,alpha=0.1,s=10)\n",
    "#plt.scatter(ys,res.predict(),alpha=0.1,s=10)\n",
    "\n",
    "plt.xlabel('true MOV')\n",
    "plt.ylabel('predicted MOV')\n",
    "plt.xlim(-15,15)\n",
    "plt.ylim(-15,15)\n",
    "plt.grid(True)\n",
    "print(-vtm*10)"
   ]
  },
  {
   "cell_type": "code",
   "execution_count": null,
   "metadata": {},
   "outputs": [],
   "source": [
    "def get_mov(x):\n",
    "    offset = len(iv)//3\n",
    "    tot = -vtm\n",
    "    for i in range(offset):\n",
    "        tot += (iv[offset+i])*(np.tanh((x-iv[i])/iv[2*offset+i])+1.0)\n",
    "    return tot\n",
    "xp = np.linspace(20,90)\n",
    "yp = [get_mov(_) for _ in xp]\n",
    "plt.plot(xp,yp)\n",
    "plt.grid(True)\n",
    "print(vtm)"
   ]
  },
  {
   "cell_type": "code",
   "execution_count": null,
   "metadata": {},
   "outputs": [],
   "source": []
  },
  {
   "cell_type": "code",
   "execution_count": null,
   "metadata": {},
   "outputs": [],
   "source": [
    "iv"
   ]
  },
  {
   "cell_type": "code",
   "execution_count": null,
   "metadata": {},
   "outputs": [],
   "source": [
    "NR = 6\n",
    "iv2 = [67.6,62.8,54.8,43.8,  6.3,3.9,2.5,1.5]\n",
    "iv2 = [ 7.09,  6.39,  5.79,  5.29,  4.26,  3.64,  5.08,  2.51,  1.1 ,\n",
    "         0.2 , -0.59, -1.24]\n",
    "def get_rating2(x):\n",
    "    x = np.array(x).astype(float)\n",
    "    #x = np.round(x,2)\n",
    "    x[:NR]*=10\n",
    "    #x[:NR] = iv[:NR]\n",
    "    #x[NR:] = iv[NR:]\n",
    "    vec = []\n",
    "    for row in Xs:\n",
    "        Vs = (row - x[:NR].reshape((NR,1)))\n",
    "        vec.append(x[NR+np.argmin(Vs**2,axis=0)].sum())\n",
    "    vec = np.array(vec)\n",
    "    vec -= vec.mean()\n",
    "    return ((vec-ys)**2).mean()#,vec\n",
    "def get_rating2vec(x):\n",
    "    x = np.array(x).astype(float)\n",
    "    #x[:NR] = iv[:NR]\n",
    "    #x[NR:] = iv[NR:]\n",
    "    vec = []\n",
    "    for row in Xs:\n",
    "        Vs = (row - x[:NR].reshape((NR,1)))\n",
    "        vec.append(x[NR+np.argmin(Vs**2,axis=0)].sum())\n",
    "    vec = np.array(vec)\n",
    "    vec -= vec.mean()\n",
    "    return vec\n",
    "#es.best.x\n",
    "\n",
    "r2 = get_rating2(iv2)\n",
    "r2v = get_rating2vec(iv2)\n",
    "#plt.scatter(ys,r2[1],alpha=0.1,s=10)\n",
    "r2"
   ]
  },
  {
   "cell_type": "code",
   "execution_count": null,
   "metadata": {},
   "outputs": [],
   "source": [
    "r2v.mean()"
   ]
  },
  {
   "cell_type": "code",
   "execution_count": null,
   "metadata": {},
   "outputs": [],
   "source": [
    "import scipy.optimize as opt\n",
    "import cma\n",
    "\n",
    "es = cma.CMAEvolutionStrategy(iv2, 0.05, {'tolx':1e-6,'tolfun':1e-6,'maxfevals':1})\n",
    "es.optimize(get_rating2)"
   ]
  },
  {
   "cell_type": "code",
   "execution_count": null,
   "metadata": {},
   "outputs": [],
   "source": [
    "np.round(es.best.x,3),get_rating2(es.best.x)"
   ]
  },
  {
   "cell_type": "code",
   "execution_count": null,
   "metadata": {},
   "outputs": [],
   "source": [
    "iv2 = np.array(iv2)\n",
    "ovrs = iv2[:NR]*10\n",
    "weights = iv2[NR:]\n",
    "[(round(a),b) for a,b in zip(ovrs,weights)]"
   ]
  },
  {
   "cell_type": "code",
   "execution_count": null,
   "metadata": {},
   "outputs": [],
   "source": [
    "pick_res = defaultdict(list)\n",
    "for k,v in player_ratings.items():\n",
    "    pid,s = k\n",
    "    pr,ps = player_picks[pid]\n",
    "    year = s-ps\n",
    "    #if year < 6:\n",
    "    pick_res[(pr,year)].append(np.argmin((v['ovr']-ovrs)**2))"
   ]
  },
  {
   "cell_type": "code",
   "execution_count": null,
   "metadata": {},
   "outputs": [],
   "source": [
    "probs = np.zeros((61,5,NR))\n",
    "for p in range(61):\n",
    "    #plt.plot([np.mean(pick_res[(p,y)]) for y in range(6)])\n",
    "    for y in range(5):\n",
    "        lenpy = len(pick_res[(p,y)])\n",
    "        if lenpy > 0:\n",
    "            for i in range(NR):\n",
    "                probs[p,y,i] = sum([1 for _ in pick_res[(p,y)] if _ == i])/lenpy\n",
    "        else:\n",
    "            pass#print(p,y)"
   ]
  },
  {
   "cell_type": "code",
   "execution_count": null,
   "metadata": {},
   "outputs": [],
   "source": [
    "if True:\n",
    "    draft_value = [(probs[p] * weights).sum(1) for p in range(61)]\n",
    "else:\n",
    "    # don't resign bad players!\n",
    "    draft_valuea = np.array([(probs[p] * weights) for p in range(61)])\n",
    "#plt.imshow(draft_valuea.sum(2), aspect='auto',cmap='Greys_r')\n",
    "\n",
    "    draft_valuea[1:31,3:,:] = np.maximum(draft_valuea[1:31,3:,:],0)\n",
    "    draft_valuea[31:,2:,:] = np.maximum(draft_valuea[31:,2:,:],0)\n",
    "    #draft_valuea = np.maximum(draft_valuea,0)\n",
    "    draft_value = draft_valuea.sum(2)\n",
    "    pick = 20\n",
    "    plt.imshow(draft_valuea[pick],aspect='auto',cmap='Greys_r',vmin=-1,vmax=1)\n",
    "    plt.colorbar()\n",
    "    np.round(draft_valuea[pick],2),np.round(probs[pick],2),weights"
   ]
  },
  {
   "cell_type": "code",
   "execution_count": null,
   "metadata": {},
   "outputs": [],
   "source": [
    "draft_value"
   ]
  },
  {
   "cell_type": "code",
   "execution_count": null,
   "metadata": {},
   "outputs": [],
   "source": [
    "r_lvl = -1.23#iv2[NR+np.argmin(abs(iv2[:NR]*10 - RL))]\n",
    "r_lvliv2 = iv2[-1] - r_lvl\n",
    "r_lvliv2,r_lvl,iv2[-1]"
   ]
  },
  {
   "cell_type": "code",
   "execution_count": null,
   "metadata": {},
   "outputs": [],
   "source": [
    "plt.style.use('fivethirtyeight')\n",
    "plt.imshow(np.array(draft_value)-iv2[-1], aspect='auto',cmap='Greys_r')\n",
    "plt.xlabel('years since drafted')\n",
    "plt.ylabel('draft pick')\n",
    "plt.title('draft value')\n",
    "plt.colorbar()\n",
    "plt.grid(False)\n",
    "#plt.ylim(30,0)"
   ]
  },
  {
   "cell_type": "code",
   "execution_count": null,
   "metadata": {},
   "outputs": [],
   "source": [
    "a = (np.array(draft_value)-r_lvl).sum(1)[1:]\n",
    "a[:30].mean(),a[30:].mean()"
   ]
  },
  {
   "cell_type": "code",
   "execution_count": null,
   "metadata": {},
   "outputs": [],
   "source": [
    "plt.plot((np.array(draft_value)-iv2[-1]).sum(1)[1:])\n",
    "plt.xlabel('pick')\n",
    "plt.ylabel('draft pick MOVaR')\n",
    "plt.title('5year value')"
   ]
  },
  {
   "cell_type": "code",
   "execution_count": null,
   "metadata": {},
   "outputs": [],
   "source": [
    "tA = np.array(draft_value)#-weights[-1]\n",
    "tA = tA[1:]#np.roll(tA,-1,0)"
   ]
  },
  {
   "cell_type": "code",
   "execution_count": null,
   "metadata": {},
   "outputs": [],
   "source": [
    "for i in range(4):\n",
    "    plt.figure()\n",
    "    plt.xlabel('pick')\n",
    "    plt.ylabel('MOV')\n",
    "    plt.title('year {}'.format(i+1))\n",
    "    plt.plot(tA[:,i]-iv2[-1])"
   ]
  },
  {
   "cell_type": "code",
   "execution_count": null,
   "metadata": {},
   "outputs": [],
   "source": [
    "coeffs = []\n",
    "for i in range(5):\n",
    "    x = [1,1,1]\n",
    "    def testX(x):\n",
    "        return np.linalg.norm(x[1]*np.exp(-x[0]*np.arange(60)**x[2]) - tA[:,i]+iv2[-1])\n",
    "    coeffs.append(opt.fmin(testX,x))"
   ]
  },
  {
   "cell_type": "code",
   "execution_count": null,
   "metadata": {},
   "outputs": [],
   "source": [
    "[list(_) for _ in coeffs]"
   ]
  },
  {
   "cell_type": "code",
   "execution_count": null,
   "metadata": {},
   "outputs": [],
   "source": [
    "r_lvliv2"
   ]
  },
  {
   "cell_type": "code",
   "execution_count": null,
   "metadata": {},
   "outputs": [],
   "source": [
    "for i,x in enumerate(coeffs[::-1]):\n",
    "    #plt.figure()\n",
    "    plt.plot( x[1]*np.exp(-x[0]*np.arange(61)**x[2]) + r_lvliv2,label='year {}'.format(5-i))\n",
    "plt.legend()\n",
    "plt.plot([0,60],[0,0],c='k',lw=1.5,ls='--')\n",
    "plt.xlabel('draft pick')\n",
    "plt.ylabel('MOV above replacement')"
   ]
  },
  {
   "cell_type": "code",
   "execution_count": null,
   "metadata": {},
   "outputs": [],
   "source": [
    "for i,x in enumerate(coeffs[::-1]):\n",
    "    plt.figure()\n",
    "    plt.plot(tA[:,4-i])\n",
    "    plt.plot(x[1]*np.exp(-x[0]*np.arange(61)**x[2])+iv2[-1])\n",
    "    plt.title('year {}'.format(5-i))\n",
    "    plt.xlabel('draft pick')\n",
    "    plt.ylabel('MOV above replacement')"
   ]
  },
  {
   "cell_type": "code",
   "execution_count": null,
   "metadata": {},
   "outputs": [],
   "source": [
    "plt.plot((tA-r_lvl).sum(1))\n",
    "plt.xlabel('draft pick')\n",
    "plt.ylabel('5 year pick value\\nabove replacement')\n",
    "plt.title('keeping all players')"
   ]
  },
  {
   "cell_type": "code",
   "execution_count": null,
   "metadata": {},
   "outputs": [],
   "source": [
    "xp = np.linspace(30,80)\n",
    "yp = [get_mov(_) for _ in xp]\n",
    "plt.plot(xp,yp,label='smooth')\n",
    "plt.plot(xp,weights[np.argmin(abs(xp-ovrs[:,None]),0)],label='discrete')\n",
    "plt.xlabel('ovr')\n",
    "plt.ylabel('MOV')\n",
    "plt.legend()"
   ]
  },
  {
   "cell_type": "code",
   "execution_count": null,
   "metadata": {},
   "outputs": [],
   "source": [
    "mov = {}\n",
    "for i in np.arange(101):\n",
    "    mov[i] = get_mov(i)\n",
    "np.round(mov[int(round(RL))],2)"
   ]
  },
  {
   "cell_type": "code",
   "execution_count": null,
   "metadata": {},
   "outputs": [],
   "source": []
  },
  {
   "cell_type": "code",
   "execution_count": null,
   "metadata": {},
   "outputs": [],
   "source": [
    "age_loop = defaultdict(list)\n",
    "for pid,s in player_ratings:\n",
    "    if player_seasons[pid] < 14:\n",
    "        continue\n",
    "    k = (pid,s)\n",
    "    nk =(pid,s+1)\n",
    "    age = s-player_born[pid]\n",
    "    if nk in player_ratings:\n",
    "        age_loop[age].append(player_ratings[nk]['ovr']-player_ratings[k]['ovr'])\n",
    "    #player_ratings[k]['ovr']"
   ]
  },
  {
   "cell_type": "code",
   "execution_count": null,
   "metadata": {},
   "outputs": [],
   "source": [
    "from scipy.stats import trim_mean\n",
    "age_shift = {k:trim_mean(age_loop[k],.01) for k in sorted(age_loop.keys()) if k < 36}"
   ]
  },
  {
   "cell_type": "code",
   "execution_count": null,
   "metadata": {},
   "outputs": [],
   "source": [
    "{k:round(v,1) for k,v in age_shift.items()}"
   ]
  },
  {
   "cell_type": "code",
   "execution_count": null,
   "metadata": {},
   "outputs": [],
   "source": [
    "valid_seasons = sorted(set([s for tid,s in team_movs]))\n",
    "valid_seasons = valid_seasons[:-5]\n",
    "max_shift = max(age_shift.values())"
   ]
  },
  {
   "cell_type": "code",
   "execution_count": null,
   "metadata": {},
   "outputs": [],
   "source": [
    "ovr_salaries = defaultdict(list)\n",
    "sal_ovrd = defaultdict(list)\n",
    "for p,s in player_ratings:\n",
    "    v = player_ratings[(p,s)]\n",
    "    if (p,s) in contracts:\n",
    "        c = contracts[(p,s)][0]\n",
    "        ovr_salaries[v['ovr']].append(c)\n",
    "        sal_ovrd[c].append(v['ovr'])\n",
    "sal_ovr = np.array([[s,mov[round(np.mean(c))]-r_lvl] for s,c in sal_ovrd.items()])\n",
    "sal_ovr[:,0]/=30000\n",
    "\n",
    "sO = sm.OLS(sal_ovr[:,1],sal_ovr[:,0]).fit()\n",
    "plt.scatter(sal_ovr[:,0],sal_ovr[:,1])\n",
    "plt.scatter(sal_ovr[:,0],sO.predict())\n",
    "sA = sO.params[0]\n",
    "sA"
   ]
  },
  {
   "cell_type": "code",
   "execution_count": null,
   "metadata": {
    "scrolled": false
   },
   "outputs": [],
   "source": [
    "Xs = defaultdict(list)\n",
    "ys = defaultdict(list)\n",
    "for tid, s in team_movs:\n",
    "    if s in valid_seasons:\n",
    "        pars = defaultdict(list)\n",
    "        tss = defaultdict(int)\n",
    "\n",
    "        for i in range(5):\n",
    "            for pid in team_players[(tid,s)]:\n",
    "                if (pid,s) in contracts and contracts[(pid,s)][1] >= i:\n",
    "                    tss[i] += contracts[(pid,s)][0]\n",
    "                    age = s-player_born[pid]\n",
    "                    ovr = player_ratings[(pid,s)]['ovr']\n",
    "                    for j in range(i):\n",
    "                        ovr+=age_shift.get(age+j,max_shift)\n",
    "                    pars[i].append(mov[round(np.clip(ovr,0,100))])\n",
    "                    #print(i,pid,age,ovr)\n",
    "                elif (pid,s) in contracts:\n",
    "                    age = s-player_born[pid]\n",
    "                    ovr = player_ratings[(pid,s)]['ovr']\n",
    "                    for j in range(i):\n",
    "                        ovr+=age_shift.get(age+j,max_shift)\n",
    "                    mov_p = mov[round(np.clip(ovr,0,100))]\n",
    "                    if mov_p > 0:\n",
    "                        RESIGN_CHANCE = 0.85\n",
    "                        est_con = min(1,mov_p/sA) * 90000 \n",
    "                        tss[i] += est_con*RESIGN_CHANCE\n",
    "                        pars[i].append(RESIGN_CHANCE*mov_p)  \n",
    "        for i in range(1,5):\n",
    "            dpicks = draft_picks[(tid,s+i)]\n",
    "            for p in dpicks:\n",
    "                dsal = draft_salaries[p]\n",
    "                for k,j in enumerate(range(i,5)):\n",
    "                    tss[j] += dsal\n",
    "                    x = coeffs[k]\n",
    "                    pars[j].append(iv2[-1]+x[1]*np.exp(-x[0]*(p**x[2])))\n",
    "\n",
    "            #print(contracts[(pid,s)],(player_ratings[(pid,s)]['ovr']),)\n",
    "        for i in range(5):\n",
    "            tmov = team_movs[(tid,s+i)]\n",
    "            play = [p for p in pars[i] if p >= r_lvl]\n",
    "            lp = len(play)\n",
    "            if lp < 10:\n",
    "                play= play + (10-lp)*[r_lvl]\n",
    "            play = sorted(play,reverse=True)[:10]\n",
    "            play_s = sum(play)\n",
    "            Xs[i].append([tss[i] + (10-lp)*750,play_s])\n",
    "            ys[i].append(tmov)\n"
   ]
  },
  {
   "cell_type": "code",
   "execution_count": null,
   "metadata": {},
   "outputs": [],
   "source": [
    "plt.hist(np.array(Xs[0])[:,1])"
   ]
  },
  {
   "cell_type": "code",
   "execution_count": null,
   "metadata": {},
   "outputs": [],
   "source": [
    "for i in range(5):\n",
    "    pred = sm.OLS(ys[i],sm.add_constant(Xs[i])).fit()\n",
    "    print(i,pred.rsquared,np.round(pred.params,2))"
   ]
  },
  {
   "cell_type": "code",
   "execution_count": null,
   "metadata": {},
   "outputs": [],
   "source": [
    "SAa = np.array([[k,np.mean(v)] for k,v in ovr_salaries.items()])\n",
    "plt.scatter(SAa[:,0],SAa[:,1])"
   ]
  },
  {
   "cell_type": "code",
   "execution_count": null,
   "metadata": {},
   "outputs": [],
   "source": [
    "xp = sorted([k for k in ovr_salaries.keys() if k > 45])\n",
    "yp = [np.mean(ovr_salaries[k]) for k in xp]\n",
    "yp2 = [1000*(mov[k]-r_lvl) for k in xp]\n",
    "\n",
    "plt.plot(xp,yp)\n",
    "plt.plot(xp,yp2)\n"
   ]
  },
  {
   "cell_type": "code",
   "execution_count": null,
   "metadata": {},
   "outputs": [],
   "source": [
    "vvec = np.array(yp2)/np.array(yp)\n",
    "plt.plot(xp,vvec)\n",
    "plt.plot(xp,0.11*np.log(np.array(xp)-43))\n",
    "plt.xlabel('ovr')\n",
    "plt.ylabel('value over replacement per $1M')\n",
    "def log_fit(x):\n",
    "    return np.linalg.norm(x[0]*np.log(np.array(xp)-43)-vvec)\n",
    "opt.optimize.fmin(log_fit,[1])"
   ]
  },
  {
   "cell_type": "code",
   "execution_count": null,
   "metadata": {},
   "outputs": [],
   "source": [
    "0.4//0.2"
   ]
  },
  {
   "cell_type": "code",
   "execution_count": null,
   "metadata": {},
   "outputs": [],
   "source": [
    "yp = {}\n",
    "for i in range(5):\n",
    "    v = np.array(Xs[i])\n",
    "    cap_space = np.maximum(90000-v[:,0],0)/90000\n",
    "    ot = 1.0/3.0\n",
    "    mov_from_cap = cap_space*sA\n",
    "    #pred_mov = v[:,1] + mov_from_cap\n",
    "    RV = np.array([v[:,1], mov_from_cap]).T\n",
    "    #if i==0:\n",
    "    #    RV[:,1] *= 0\n",
    "    #if i== 4:\n",
    "    #    RV[:,0] *= 0\n",
    "    pred = sm.RLM(ys[i],RV).fit()\n",
    "    print(i,\":\",np.round(pred.params,2),\",\")#,pred.rsquared)\n",
    "    yp[i] = pred.predict()\n",
    "    #print(i,mov_from_cap.mean(),v[:,1].mean())"
   ]
  },
  {
   "cell_type": "code",
   "execution_count": null,
   "metadata": {},
   "outputs": [],
   "source": [
    "plt.hist(yp[0])"
   ]
  },
  {
   "cell_type": "code",
   "execution_count": null,
   "metadata": {},
   "outputs": [],
   "source": [
    "plt.hist(np.array(Xs[0])[:,1])"
   ]
  },
  {
   "cell_type": "code",
   "execution_count": null,
   "metadata": {},
   "outputs": [],
   "source": [
    "for i in range(5):\n",
    "    plt.figure()\n",
    "    plt.scatter(ys[i],yp[i])\n"
   ]
  },
  {
   "cell_type": "code",
   "execution_count": null,
   "metadata": {},
   "outputs": [],
   "source": []
  },
  {
   "cell_type": "code",
   "execution_count": null,
   "metadata": {},
   "outputs": [],
   "source": []
  },
  {
   "cell_type": "code",
   "execution_count": null,
   "metadata": {},
   "outputs": [],
   "source": []
  },
  {
   "cell_type": "code",
   "execution_count": null,
   "metadata": {},
   "outputs": [],
   "source": []
  }
 ],
 "metadata": {
  "kernelspec": {
   "display_name": "Python 3",
   "language": "python",
   "name": "python3"
  },
  "language_info": {
   "codemirror_mode": {
    "name": "ipython",
    "version": 3
   },
   "file_extension": ".py",
   "mimetype": "text/x-python",
   "name": "python",
   "nbconvert_exporter": "python",
   "pygments_lexer": "ipython3",
   "version": "3.7.3"
  }
 },
 "nbformat": 4,
 "nbformat_minor": 2
}
