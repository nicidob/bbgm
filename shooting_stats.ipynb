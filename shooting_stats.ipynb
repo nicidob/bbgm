{
 "cells": [
  {
   "cell_type": "code",
   "execution_count": null,
   "metadata": {},
   "outputs": [],
   "source": [
    "import pickle\n",
    "import json\n",
    "\n",
    "import numpy as np\n",
    "import matplotlib.pyplot as plt\n",
    "import pandas as pd"
   ]
  },
  {
   "cell_type": "code",
   "execution_count": null,
   "metadata": {},
   "outputs": [],
   "source": [
    "shot_data = []\n",
    "seasons = list(range(2018,2021))\n",
    "for year in seasons:\n",
    "    with open('tables_{}.pkl'.format(year),'rb') as fp:\n",
    "        tables= pickle.load(fp)\n",
    "    with open('names_{}.pkl'.format(year),'rb') as fp:\n",
    "        names= pickle.load(fp)\n",
    "    stables = []\n",
    "    for team in tables:\n",
    "        shoot= tables[team]['shooting']\n",
    "        shoot_s = shoot[shoot.MP > 850].iloc[:,7:12]\n",
    "        stables.append(shoot_s)\n",
    "    shot_dist = pd.concat(stables)\n",
    "    shot_dist['season'] = year\n",
    "    shot_data.append(shot_dist)\n",
    "shot_data = pd.concat(shot_data)"
   ]
  },
  {
   "cell_type": "code",
   "execution_count": null,
   "metadata": {},
   "outputs": [],
   "source": [
    "data = json.load(open('real-player.json','rb'))\n",
    "df = pd.DataFrame(data['ratings'])\n",
    "df = df.drop(['fuzz','abbrev_if_new_row'],1)#.set_index(['slug','season'])\n",
    "df = df.set_index(['slug','season']).reset_index()\n",
    "df"
   ]
  },
  {
   "cell_type": "code",
   "execution_count": null,
   "metadata": {},
   "outputs": [],
   "source": [
    "const = {\n",
    "  \"shootingAtRim\":{\"ratings\":[\"hgt\",\"stre\",\"dnk\",\"oiq\"],\"weights\":[2,0.3,0.3,0.2]},\n",
    "  \"shootingLowPost\":{ \n",
    "    \"ratings\":[\"hgt\",\"stre\",\"spd\",\"ins\",\"oiq\"],\n",
    "    \"weights\":[1,0.6,0.2,1,0.4],\n",
    "    \"skill\":{\"label\":\"Po\",\"cutoff\":0.61}\n",
    "  },\n",
    "  \"shootingMidRange\":{\"ratings\":[\"oiq\",\"fg\",\"stre\"],\"weights\":[-0.5,1,0.2]},\n",
    "  \"shootingThreePointer\":{\n",
    "    \"ratings\":[\"oiq\",\"tp\"],\n",
    "    \"weights\":[0.1,1],\n",
    "    \"skill\":{\"label\":\"3\",\"cutoff\":0.59}\n",
    "  }\n",
    "}"
   ]
  },
  {
   "cell_type": "code",
   "execution_count": null,
   "metadata": {},
   "outputs": [],
   "source": [
    "df = df[df.season.isin(seasons)].copy()"
   ]
  },
  {
   "cell_type": "code",
   "execution_count": null,
   "metadata": {},
   "outputs": [],
   "source": [
    "shots = {k:[] for k in const.keys()}"
   ]
  },
  {
   "cell_type": "code",
   "execution_count": null,
   "metadata": {},
   "outputs": [],
   "source": [
    "dfc = list(df.columns)\n",
    "for row in df.itertuples():\n",
    "    for k,v in const.items():\n",
    "        value = 0\n",
    "        weights = 0\n",
    "        for r,w in zip(v['ratings'],v['weights']):\n",
    "            value += row[dfc.index(r)+1]*w\n",
    "            weights +=w\n",
    "        shots[k].append(np.clip((value/weights)/100,0,1))"
   ]
  },
  {
   "cell_type": "code",
   "execution_count": null,
   "metadata": {},
   "outputs": [],
   "source": [
    "for k,v in shots.items():\n",
    "    df[k] = v"
   ]
  },
  {
   "cell_type": "code",
   "execution_count": null,
   "metadata": {},
   "outputs": [],
   "source": [
    "df"
   ]
  },
  {
   "cell_type": "code",
   "execution_count": null,
   "metadata": {},
   "outputs": [],
   "source": [
    "dataset = df.copy()\n",
    "dcol = list(dataset.columns)\n",
    "dcol[0] = 'Name'\n",
    "dataset.columns = dcol\n",
    "dataset = dataset.set_index(['Name','season'])\n",
    "shot_datas = shot_data.reset_index().set_index(['Name','season'])\n",
    "dataset = dataset.join(shot_datas,how='outer').dropna().reset_index()"
   ]
  },
  {
   "cell_type": "code",
   "execution_count": null,
   "metadata": {},
   "outputs": [],
   "source": [
    "X = []\n",
    "Y = []\n",
    "groups = [(['shootingAtRim'],['0-3']),\n",
    " (['shootingLowPost'],['3-10']),\n",
    " (['shootingMidRange'],['10-16','16-3P']),\n",
    " (['shootingThreePointer'],['3P'])]\n",
    "\n",
    "rate = list(df.columns[2:17])\n",
    "\n",
    "groups2= [(rate,['0-3']),\n",
    " (rate,['3-10']),\n",
    " (rate,['10-16','16-3P']),\n",
    " (rate,['3P'])]\n",
    "\n",
    "\n",
    "for g in groups:\n",
    "    X.append(np.array(dataset[g[0]]))\n",
    "    Y.append(np.array(dataset[g[1]].sum(1)))\n",
    "X = np.hstack(X).astype(np.float32)\n",
    "Y = np.array(Y).astype(np.float32).T\n",
    "\n",
    "# remove the dups\n",
    "if X.shape[1] > 20:\n",
    "    X = X[:,:15]/100"
   ]
  },
  {
   "cell_type": "code",
   "execution_count": null,
   "metadata": {},
   "outputs": [],
   "source": [
    "X.shape,Y.shape"
   ]
  },
  {
   "cell_type": "code",
   "execution_count": null,
   "metadata": {},
   "outputs": [],
   "source": [
    "import torch\n"
   ]
  },
  {
   "cell_type": "code",
   "execution_count": null,
   "metadata": {},
   "outputs": [],
   "source": [
    "def softXEnt (input, target):\n",
    "    logprobs = torch.nn.functional.log_softmax (input, dim = 1)\n",
    "    return  -(target * logprobs).sum() / input.shape[0]\n",
    "\n",
    "def LogLoss(input,target):\n",
    "    return -(target*torch.log(input)).sum()\n",
    "\n",
    "D_in,D_out = X.shape[1],Y.shape[1]\n",
    "\n",
    "Xt = torch.tensor(X)\n",
    "Yt = torch.tensor(Y)\n",
    "\n",
    "w1 = torch.randn(D_in, D_out,requires_grad=True)\n",
    "\n",
    "b0 = torch.ones((D_in),requires_grad=True)\n",
    "\n",
    "b1 = torch.randn((D_out),requires_grad=True)\n",
    "b2 = torch.randn((D_in),requires_grad=True)\n",
    "b3 = torch.randn((D_in),requires_grad=True)\n",
    "b4 = torch.zeros((D_out),requires_grad=True)\n",
    "\n",
    "m = torch.nn.Softmax(1)\n",
    "m3 = torch.nn.Tanh()\n",
    "m4 = torch.nn.ReLU()\n",
    "\n",
    "H = 4\n",
    "model = torch.nn.Sequential(\n",
    "    torch.nn.Linear(D_in, H),\n",
    "    torch.nn.Tanh(),\n",
    "    torch.nn.Linear(H, D_out),\n",
    "    #torch.nn.Tanh(),\n",
    "    #torch.nn.Linear(H, D_out),\n",
    ")\n",
    "\n",
    "criterion = LogLoss# torch.nn.MSELoss() # LogLoss#\n",
    "optimizer = torch.optim.Adam([w1,b1,b0,b2,b3,b4]+list(model.parameters()), lr=1e-3)\n",
    "scheduler = torch.optim.lr_scheduler.ReduceLROnPlateau(optimizer, mode='min',factor=0.1, patience=200, threshold_mode='rel')\n",
    "#Xt[:,2]  = 0 #mid-ranger missing\n",
    "\n",
    "for t in range(20000):\n",
    "    vec  =model(Xt)\n",
    "    #vec = (b0*(Xt))+b1 + m3(b2*Xt+b3)#  torch.matmul(Xt+b1,w1)\n",
    "    #vec =m4(torch.matmul(Xt,w1)+b4) #  m4(b0*Xt+b1) + m3(b2*Xt+b3) + \n",
    "    #vec[:,2] = 0 # mid-range is leftovers\n",
    "    y_pred = m(vec)\n",
    "\n",
    "    # Compute and print loss.\n",
    "    loss = criterion(y_pred, Yt) \n",
    "    p1 = torch.cat([x.view(-1) for x in model.parameters()])\n",
    "\n",
    "    if (t % 1000) == 0:\n",
    "        print(t, loss.item(),1e-3*torch.norm(p1, 1).item())\n",
    "    loss += 1e-3*torch.norm(p1, 1)\n",
    "    optimizer.zero_grad()\n",
    "    loss.backward()\n",
    "    optimizer.step()\n",
    "    scheduler.step(loss)"
   ]
  },
  {
   "cell_type": "code",
   "execution_count": null,
   "metadata": {},
   "outputs": [],
   "source": [
    "m2 = torch.nn.MSELoss()\n",
    "m2(y_pred,Yt)"
   ]
  },
  {
   "cell_type": "code",
   "execution_count": null,
   "metadata": {},
   "outputs": [],
   "source": [
    "vec"
   ]
  },
  {
   "cell_type": "code",
   "execution_count": null,
   "metadata": {},
   "outputs": [],
   "source": [
    "y_pred"
   ]
  },
  {
   "cell_type": "code",
   "execution_count": null,
   "metadata": {},
   "outputs": [],
   "source": [
    "Yt"
   ]
  },
  {
   "cell_type": "code",
   "execution_count": null,
   "metadata": {},
   "outputs": [],
   "source": [
    "torch.set_printoptions(precision=3,sci_mode=False)"
   ]
  },
  {
   "cell_type": "code",
   "execution_count": null,
   "metadata": {},
   "outputs": [],
   "source": [
    "print(b1)"
   ]
  },
  {
   "cell_type": "code",
   "execution_count": null,
   "metadata": {},
   "outputs": [],
   "source": [
    "print(w1)"
   ]
  },
  {
   "cell_type": "code",
   "execution_count": null,
   "metadata": {},
   "outputs": [],
   "source": [
    "y_pred"
   ]
  },
  {
   "cell_type": "code",
   "execution_count": null,
   "metadata": {},
   "outputs": [],
   "source": [
    "w1[:,3]"
   ]
  },
  {
   "cell_type": "code",
   "execution_count": null,
   "metadata": {},
   "outputs": [],
   "source": [
    "for i,row in enumerate(dataset.itertuples()):\n",
    "    if row[1] in ['curryst01','hardeja01']: \n",
    "        print(i,Y[i],y_pred[i])"
   ]
  },
  {
   "cell_type": "code",
   "execution_count": null,
   "metadata": {},
   "outputs": [],
   "source": [
    "for i,row in enumerate(dataset.itertuples()):\n",
    "    if row[1] in ['goberru01','jordade01']:\n",
    "        print(i,Y[i],y_pred[i])"
   ]
  },
  {
   "cell_type": "code",
   "execution_count": null,
   "metadata": {},
   "outputs": [],
   "source": [
    "for i,row in enumerate(dataset.itertuples()):\n",
    "    if row[1] in ['derozde01','bookede01','paulch01']:\n",
    "        print(i,Y[i],y_pred[i])"
   ]
  },
  {
   "cell_type": "code",
   "execution_count": null,
   "metadata": {},
   "outputs": [],
   "source": [
    "plt.hist(dataset.shootingThreePointer)"
   ]
  },
  {
   "cell_type": "code",
   "execution_count": null,
   "metadata": {},
   "outputs": [],
   "source": [
    "list(model.parameters())"
   ]
  },
  {
   "cell_type": "code",
   "execution_count": null,
   "metadata": {},
   "outputs": [],
   "source": [
    "for m in model.parameters():\n",
    "    #print(m.shape)\n",
    "    print(list(m.detach().numpy().T.ravel()),';')"
   ]
  },
  {
   "cell_type": "code",
   "execution_count": null,
   "metadata": {},
   "outputs": [],
   "source": [
    "m.detach().numpy()"
   ]
  },
  {
   "cell_type": "code",
   "execution_count": null,
   "metadata": {},
   "outputs": [],
   "source": [
    "Xt[0]"
   ]
  },
  {
   "cell_type": "code",
   "execution_count": null,
   "metadata": {},
   "outputs": [],
   "source": [
    "vec[0]"
   ]
  },
  {
   "cell_type": "code",
   "execution_count": null,
   "metadata": {},
   "outputs": [],
   "source": [
    "y_pred[0]"
   ]
  },
  {
   "cell_type": "code",
   "execution_count": null,
   "metadata": {},
   "outputs": [],
   "source": [
    "a = [0]\n",
    "a = np.array(a)\n",
    "np.array(a).mean(),np.array(a).std()"
   ]
  },
  {
   "cell_type": "code",
   "execution_count": null,
   "metadata": {},
   "outputs": [],
   "source": [
    "plt.hist(a)"
   ]
  },
  {
   "cell_type": "code",
   "execution_count": null,
   "metadata": {},
   "outputs": [],
   "source": [
    "a2 = 17.6*0.25*(a-0.87)\n",
    "plt.hist(a2)\n",
    "plt.title(a2.mean())\n",
    "a2.std()"
   ]
  },
  {
   "cell_type": "code",
   "execution_count": null,
   "metadata": {},
   "outputs": [],
   "source": [
    "a3 = 0.5+1/(1+np.exp(-a2))\n",
    "plt.hist(a3)\n",
    "a3.mean(),a3.std()"
   ]
  },
  {
   "cell_type": "code",
   "execution_count": null,
   "metadata": {},
   "outputs": [],
   "source": []
  },
  {
   "cell_type": "code",
   "execution_count": null,
   "metadata": {},
   "outputs": [],
   "source": []
  }
 ],
 "metadata": {
  "kernelspec": {
   "display_name": "Python 3",
   "language": "python",
   "name": "python3"
  },
  "language_info": {
   "codemirror_mode": {
    "name": "ipython",
    "version": 3
   },
   "file_extension": ".py",
   "mimetype": "text/x-python",
   "name": "python",
   "nbconvert_exporter": "python",
   "pygments_lexer": "ipython3",
   "version": "3.7.3"
  }
 },
 "nbformat": 4,
 "nbformat_minor": 2
}
