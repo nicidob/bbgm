{
 "cells": [
  {
   "cell_type": "code",
   "execution_count": null,
   "metadata": {},
   "outputs": [],
   "source": [
    "import json\n",
    "import pandas as pd\n",
    "import numpy as np\n",
    "import matplotlib.pyplot as plt\n",
    "import seaborn as sns"
   ]
  },
  {
   "cell_type": "code",
   "execution_count": null,
   "metadata": {},
   "outputs": [],
   "source": [
    "data = json.load(open('real-player.json','rb'))"
   ]
  },
  {
   "cell_type": "code",
   "execution_count": null,
   "metadata": {},
   "outputs": [],
   "source": [
    "df = pd.DataFrame(data['ratings'])"
   ]
  },
  {
   "cell_type": "code",
   "execution_count": null,
   "metadata": {},
   "outputs": [],
   "source": [
    "df = df.drop(['fuzz','abbrev_if_new_row'],1)#.set_index(['slug','season'])"
   ]
  },
  {
   "cell_type": "code",
   "execution_count": null,
   "metadata": {},
   "outputs": [],
   "source": [
    "df = df.set_index(['slug','season']).reset_index()\n",
    "df"
   ]
  },
  {
   "cell_type": "code",
   "execution_count": null,
   "metadata": {},
   "outputs": [],
   "source": [
    "cols = list(df.columns[2:])"
   ]
  },
  {
   "cell_type": "code",
   "execution_count": null,
   "metadata": {},
   "outputs": [],
   "source": [
    "from collections import defaultdict\n",
    "ratings  = defaultdict(list)\n",
    "for row in df.itertuples():\n",
    "    ratings[row[1]].append(row[3:])"
   ]
  },
  {
   "cell_type": "code",
   "execution_count": null,
   "metadata": {},
   "outputs": [],
   "source": [
    "X = []\n",
    "names = []\n",
    "pos_idx = {'PG':0,'SG':1,'SF':2,'PF':3,'C':4,'G':0.5,'F':2.5,'FC':3.5,'GF':1.5}\n",
    "\n",
    "# okay but aren't GFs closer to PGs than SGs? Hair better results but obv different predictions\n",
    "#pos_idx = {'PG':1,'SG':0,'SF':2,'PF':3,'C':4,'G':0.5,'F':2.5,'FC':3.5,'GF':1.5}\n",
    "\n",
    "for k,p in data['bios'].items():\n",
    "    pos = pos_idx[p['pos']]\n",
    "    for y in ratings[k]:\n",
    "        names.append(p['name'])\n",
    "        X.append([pos] + list(y))"
   ]
  },
  {
   "cell_type": "code",
   "execution_count": null,
   "metadata": {},
   "outputs": [],
   "source": [
    "X=np.array(X)\n",
    "y = X[:,0]\n",
    "#X = X/np.mean(X[:,[False] + [_ != 'hgt2' for _ in cols]],axis=1,keepdims=1)\n",
    "X = pd.DataFrame(X[:,1:],columns=cols)"
   ]
  },
  {
   "cell_type": "code",
   "execution_count": null,
   "metadata": {},
   "outputs": [],
   "source": [
    "import statsmodels.api as sm\n"
   ]
  },
  {
   "cell_type": "code",
   "execution_count": null,
   "metadata": {},
   "outputs": [],
   "source": [
    "clf = sm.OLS(y,sm.add_constant(X)).fit()#_regularized(alpha=1e-9, L1_wt=0.0001)\n",
    "#clf = svm.LinearSVR()\n",
    "#clf.fit(X,y)\n",
    "#clf = sm.Logit(y/4,sm.add_constant(X)).fit()\n",
    "clf.summary()"
   ]
  },
  {
   "cell_type": "code",
   "execution_count": null,
   "metadata": {},
   "outputs": [],
   "source": [
    "print(np.linalg.norm(y-clf.predict(sm.add_constant(X))))\n",
    "clf.params"
   ]
  },
  {
   "cell_type": "code",
   "execution_count": null,
   "metadata": {},
   "outputs": [],
   "source": [
    "pred = clf.predict(sm.add_constant(X))\n",
    "plt.figure(dpi=200)\n",
    "plt.scatter(y,pred,s=2,alpha=0.01)\n",
    "plt.ylim(0,4)\n",
    "yp = list(pos_idx.keys())\n",
    "plt.yticks([pos_idx[k] for k in yp],yp)\n",
    "plt.xticks([pos_idx[k] for k in yp],yp)\n",
    "\n",
    "1"
   ]
  },
  {
   "cell_type": "code",
   "execution_count": null,
   "metadata": {},
   "outputs": [],
   "source": [
    "from collections import Counter\n",
    "def get_pos(x):\n",
    "    inv_pos_idx = [(abs(v-x),k) for k,v in pos_idx.items()]\n",
    "    return sorted(inv_pos_idx)[0]\n",
    "\n",
    "for n in ['LeBron James','Michael Jordan','Kobe Bryant','Chris Paul','James Harden','Stephen Curry','Kawhi Leonard','Tim Duncan','Kevin Garnett','Karl Malone','John Stockton']:\n",
    "    idx = names.index(n)\n",
    "    for i in range(idx,len(names)):\n",
    "        if names[i] != n:\n",
    "            break\n",
    "    \n",
    "    p = [get_pos(pred[j]) for j in range(idx,i)]\n",
    "    print(n,dict(Counter([_[1] for _ in p])))\n",
    "\n"
   ]
  },
  {
   "cell_type": "code",
   "execution_count": null,
   "metadata": {},
   "outputs": [],
   "source": []
  },
  {
   "cell_type": "code",
   "execution_count": null,
   "metadata": {},
   "outputs": [],
   "source": []
  }
 ],
 "metadata": {
  "kernelspec": {
   "display_name": "Python 3",
   "language": "python",
   "name": "python3"
  },
  "language_info": {
   "codemirror_mode": {
    "name": "ipython",
    "version": 3
   },
   "file_extension": ".py",
   "mimetype": "text/x-python",
   "name": "python",
   "nbconvert_exporter": "python",
   "pygments_lexer": "ipython3",
   "version": "3.7.3"
  }
 },
 "nbformat": 4,
 "nbformat_minor": 2
}
