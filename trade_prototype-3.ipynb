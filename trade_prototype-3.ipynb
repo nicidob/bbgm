{
 "cells": [
  {
   "cell_type": "code",
   "execution_count": null,
   "metadata": {},
   "outputs": [],
   "source": [
    "import numpy as np\n",
    "from collections import defaultdict\n",
    "import json"
   ]
  },
  {
   "cell_type": "code",
   "execution_count": null,
   "metadata": {},
   "outputs": [],
   "source": [
    "# all this +/- stuff is only really used for the 'current year MOV' prediction\n",
    "iv = np.array([71.3 ,  6.65, 17.4 ])\n",
    "\n",
    "def get_mov(x):\n",
    "    offset = len(iv)//3\n",
    "    tot = -1.977479789\n",
    "    for i in range(offset):\n",
    "        tot += (iv[offset+i])*(np.tanh((x-iv[i])/iv[2*offset+i])+1.0)\n",
    "    return tot\n",
    "\n",
    "# estimated mov per ovr\n",
    "o2m = {}\n",
    "for i in np.arange(101):\n",
    "    o2m[i] = get_mov(i)\n",
    "\n",
    "# replacement level\n",
    "r_lvl = -1.425\n",
    "\n",
    "\n",
    "age_shift ={19: 6.4,\n",
    " 20: 6.7,\n",
    " 21: 5.0,\n",
    " 22: 4.4,\n",
    " 23: 2.2,\n",
    " 24: 2.0,\n",
    " 25: 0.1,\n",
    " 26: -0.1,\n",
    " 27: -1.2,\n",
    " 28: -1.4,\n",
    " 29: -2.0,\n",
    " 30: -2.7,\n",
    " 31: -3.6,\n",
    " 32: -3.7,\n",
    " 33: -3.7,\n",
    " 34: -4.7,\n",
    " 35: -5.1}\n",
    "\n",
    "max_shift = min(age_shift.values())\n",
    "\n",
    "# replacement level\n",
    "RL = 45.3\n",
    "\n",
    "# expected mov, weight for players, weight for salary cap space\n",
    "weights = {\n",
    "0 : ( [1.312, 1.025] , 1.26 ),\n",
    "1 : ( [11.141, 0.725] , 1.79 ),\n",
    "2 : ( [9.143, 0.462] , 2.76 ),\n",
    "}\n",
    "\n",
    "# draft value\n",
    "draftP = np.array([0.33331122, 0.30847174, 0.58789643])\n",
    "\n",
    "# team value\n",
    "team_mov = [-0.17330874,  0.33627302, 99.72968488]\n"
   ]
  },
  {
   "cell_type": "code",
   "execution_count": null,
   "metadata": {},
   "outputs": [],
   "source": [
    "team = { 'mov': -4, \n",
    "        'p' : [(22,66,22000,2),(22,66,22000,2),(22,66,22000,2),(22,66,22000,2)], #(age,ovr,salary,years_left)\n",
    "         'd' : [(1, 0, 8.6),(1, 0, -5.35),(2,0,3),(1,1,3),(2,1,3),(1,2,3),(2,2,3),(1,3,3),(2,3,3),(1,4,3),(2,4,3)] #(round,years_left,team_MOV)\n",
    "       }\n",
    "def get_team_value(team,sCap=90000,minS=750):\n",
    "    YEARS_TO_MODEL = 3\n",
    "    teamNum = 30\n",
    "    CON_BUMP = 0.25\n",
    "    \n",
    "    # turn mov into draft pick and future mov\n",
    "    m2pos = lambda x: int(round(np.clip( (teamNum-1)/(1+np.exp(0.0036 - 0.368*(x))),0,teamNum-1)))\n",
    "    m2next = lambda year,mov: [1,0.5,0.25,0.08,0.03,0.01,0.01,0.01,0.01,0.01][year]*mov \n",
    "\n",
    "    # turn draft picks into specific predictions\n",
    "    draft_picks = [ (yr,m2pos(m2next(yr,mov))+teamNum*(rnd-1)) for rnd,yr,mov in team['d']]\n",
    "    \n",
    "    pars = defaultdict(list)\n",
    "    tss = defaultdict(int)\n",
    "    dpars = []\n",
    "\n",
    "    dpars = []\n",
    "    for i in range(YEARS_TO_MODEL):\n",
    "        for age,ovr,con,yrl in team['p']:\n",
    "            tss[i] += con\n",
    "            ovr2 = ovr\n",
    "            for j in range(i):\n",
    "                ovr2+=age_shift.get(age+j,max_shift)\n",
    "            pars[i].append(ovr2)\n",
    "    for age,ovr,con,yrl in team['p']:\n",
    "        if yrl > YEARS_TO_MODEL:\n",
    "            extra_years = yrl - YEARS_TO_MODEL\n",
    "            amount_to_add = CON_BUMP*(con * extra_years)/YEARS_TO_MODEL\n",
    "            for i  in range(YEARS_TO_MODEL):\n",
    "                tss[i] += amount_to_add\n",
    "\n",
    "    for yr,p in draft_picks:\n",
    "        dpars.append((0.99**yr)*draftP[1]*np.exp(-draftP[0]*p**draftP[2]))\n",
    "    \n",
    "    pred_movs = []\n",
    "    for i in range(YEARS_TO_MODEL):\n",
    "        play = [p for p in pars[i] if p >= RL]\n",
    "        lp = len(play)\n",
    "        if lp < 10:\n",
    "            play= play + (10-lp)*[RL]\n",
    "        play = sorted(play,reverse=True)[:10]\n",
    "        play_s = sum([np.exp(i*team_mov[0])*p for i,p in enumerate(play)])*team_mov[1] -team_mov[2]\n",
    "\n",
    "        cap_hit = tss[i] + (10-lp)*minS \n",
    "\n",
    "        diff = (sCap-cap_hit)/sCap\n",
    "        cap_space = np.maximum(diff,0.1*diff)\n",
    "        x = weights.get(i,weights[2])\n",
    "\n",
    "        p_mov = x[1] * (x[0][0] * cap_space + x[0][1] * play_s)\n",
    "        \n",
    "        pred_movs.append(p_mov)\n",
    "        \n",
    "    cA,cB = (0.42422076396359476, -3.94406073999211)\n",
    "\n",
    "    win_p = [1.0/(1+np.exp(-mov*cA -cB)) for mov in pred_movs]\n",
    "\n",
    "    # discount factor for the future, more uncertainty, less sure reward\n",
    "    value = [wp*(0.95**(i)) for i,wp in enumerate(win_p)]\n",
    "    #print(sum(value),sum(dpars))\n",
    "    return sum(value) + sum(dpars)\n",
    "get_team_value(team,90000,750)"
   ]
  },
  {
   "cell_type": "code",
   "execution_count": null,
   "metadata": {},
   "outputs": [],
   "source": [
    "data = json.load(open('real_2020.json','rt',encoding='utf-8-sig'))\n",
    "gA = {_['key']:_['value'] for _ in data['gameAttributes']}"
   ]
  },
  {
   "cell_type": "code",
   "execution_count": null,
   "metadata": {},
   "outputs": [],
   "source": [
    "team_players = defaultdict(list)\n",
    "team_names = {}\n",
    "season = gA['season']\n",
    "sCap = gA['salaryCap']\n",
    "minS = gA['minContract']\n",
    "maxS = gA['maxContract']\n",
    "\n",
    "team_injuries = defaultdict(list)\n",
    "for p in data['players']:\n",
    "    if p['tid'] >= 0:\n",
    "        ovr = p['ratings'][-1]['ovr']\n",
    "        age = season - p['born']['year']\n",
    "        salary = p['contract']['amount']\n",
    "        years_left = p['contract']['exp']-season\n",
    "        team_players[p['tid']].append((age,ovr,salary,years_left))\n",
    "        team_injuries[p['tid']].append(p['injury']['gamesRemaining'])\n"
   ]
  },
  {
   "cell_type": "code",
   "execution_count": null,
   "metadata": {},
   "outputs": [],
   "source": [
    "team_movs = defaultdict(float)\n",
    "\n",
    "for t in data['teams']:\n",
    "    tid = t['tid']\n",
    "    team_names[t['tid']] = t['abbrev']\n",
    "    for ts in t['stats']:\n",
    "        if ts['playoffs']:\n",
    "            continue\n",
    "        current_mov = 0\n",
    "        gp = ts['gp']+1e-9\n",
    "        gl = 82-gp+1e-9\n",
    "        if season == ts['season'] and not ts['playoffs'] and ts['gp']>0:\n",
    "            mov = (ts['pts'] - ts['oppPts']) / ts['gp'];\n",
    "            current_mov = mov\n",
    "        estimated_mov = sum(sorted([o2m[_[1]]*(max(gl-i,0)/gl) for _,i in zip(team_players[tid],team_injuries[tid])])[-10:])\n",
    "        team_movs[tid] = (gp/82)*current_mov + (gl/82)*estimated_mov    "
   ]
  },
  {
   "cell_type": "code",
   "execution_count": null,
   "metadata": {},
   "outputs": [],
   "source": [
    "team_picks = defaultdict(list)\n",
    "for d in data['draftPicks']:\n",
    "    mov = team_movs[d['originalTid']]\n",
    "    tid = d['tid']\n",
    "    rnd = d['round']\n",
    "    yl = d['season']-season\n",
    "    team_picks[tid].append((rnd,yl,mov))"
   ]
  },
  {
   "cell_type": "code",
   "execution_count": null,
   "metadata": {},
   "outputs": [],
   "source": [
    "teams_vals = []\n",
    "for i in range(len(data['teams'])):\n",
    "    #print(team_names[i])\n",
    "    val = get_team_value({'mov':team_movs[i],'p':team_players[i],'d':team_picks[i]},sCap,minS)\n",
    "    teams_vals.append((val,team_names[i]))"
   ]
  },
  {
   "cell_type": "code",
   "execution_count": null,
   "metadata": {},
   "outputs": [],
   "source": [
    "for v,t in sorted(teams_vals)[::-1]:\n",
    "    print(round(100*v,2),t)"
   ]
  },
  {
   "cell_type": "code",
   "execution_count": null,
   "metadata": {},
   "outputs": [],
   "source": [
    "import random\n",
    "deals = []\n",
    "for i in range(1000):\n",
    "    t1 = np.random.randint(30)\n",
    "    t2 = np.random.randint(30)\n",
    "    if t1 == t2:\n",
    "        continue\n",
    "    \n",
    "    t1vo = get_team_value({'mov':team_movs[t1], 'p':team_players[t1],'d':team_picks[t1]},sCap,minS)\n",
    "    t2vo = get_team_value({'mov':team_movs[t2], 'p':team_players[t2],'d':team_picks[t2]},sCap,minS)\n",
    "    pn = np.random.randint(len(team_picks[t1]))\n",
    "    picks = [_ for _ in team_picks[t1]]\n",
    "    pick = picks[pn]        \n",
    "    del picks[pn]\n",
    "\n",
    "    for pi in range(len(team_players[t2])):\n",
    "        local_p = [_ for _ in team_players[t2]]\n",
    "        player = local_p[pi]\n",
    "        del local_p[pi]\n",
    "        t1v = get_team_value({'mov':team_movs[t1],'p':team_players[t1] + [player],'d':picks},sCap,minS)\n",
    "        t2v = get_team_value({'mov':team_movs[t2],'p':local_p,'d':team_picks[t2] + [pick]},sCap,minS)\n",
    "        if t1v > t1vo and t2v > t2vo:\n",
    "            val = min((t1v-t1vo),(t2v-t2vo))\n",
    "            deals.append((val,team_names[t1],pick,team_names[t2],player))"
   ]
  },
  {
   "cell_type": "code",
   "execution_count": null,
   "metadata": {},
   "outputs": [],
   "source": [
    "sorted(deals,reverse=True)"
   ]
  },
  {
   "cell_type": "code",
   "execution_count": null,
   "metadata": {},
   "outputs": [],
   "source": [
    "import random\n",
    "deals = []\n",
    "for i in range(1000):\n",
    "    t1 = np.random.randint(30)\n",
    "    t2 = np.random.randint(30)\n",
    "    if t1 == t2:\n",
    "        continue\n",
    "    \n",
    "    t1vo = get_team_value({'mov':team_movs[t1],'p':team_players[t1],'d':team_picks[t1]},sCap,minS)\n",
    "    t2vo = get_team_value({'mov':team_movs[t2],'p':team_players[t2],'d':team_picks[t2]},sCap,minS)\n",
    "    \n",
    "    pn = np.random.randint(len(team_players[t1]))\n",
    "    players1 = [_ for _ in team_players[t1]]\n",
    "    pick = players1[pn]        \n",
    "    del players1[pn]\n",
    "\n",
    "    for pi in range(len(team_players[t2])):\n",
    "        local_p = [_ for _ in team_players[t2]]\n",
    "        player = local_p[pi]\n",
    "        del local_p[pi]\n",
    "        t1v = get_team_value({'mov':team_movs[t1],'p':players1 + [player],'d':team_picks[t1]},sCap,minS)\n",
    "        t2v = get_team_value({'mov':team_movs[t2],'p':local_p + [pick],'d':team_picks[t2]},sCap,minS)\n",
    "        if t1v > t1vo and t2v > t2vo:\n",
    "            val = (t1v-t1vo) + (t2v-t2vo)\n",
    "            deals.append((val,team_names[t1],pick,team_names[t2],player))"
   ]
  },
  {
   "cell_type": "code",
   "execution_count": null,
   "metadata": {
    "scrolled": true
   },
   "outputs": [],
   "source": [
    "for d in sorted(deals,reverse=True):\n",
    "    if d[4][2]/d[2][2] < 1.25 and d[4][2]/d[2][2] > 1/1.25:\n",
    "        print(d)"
   ]
  },
  {
   "cell_type": "code",
   "execution_count": null,
   "metadata": {},
   "outputs": [],
   "source": [
    "import random\n",
    "deals = set()\n",
    "for i in range(1000):\n",
    "    t1 = np.random.randint(30)\n",
    "    t2 = np.random.randint(30)\n",
    "    if t1 == t2:\n",
    "        continue\n",
    "    \n",
    "    t1vo = get_team_value({'mov':team_movs[t1],'p':team_players[t1],'d':team_picks[t1]},sCap,minS)\n",
    "    t2vo = get_team_value({'mov':team_movs[t2],'p':team_players[t2],'d':team_picks[t2]},sCap,minS)\n",
    "    \n",
    "    pn = np.random.randint(len(team_players[t1]))\n",
    "    players1 = [_ for _ in team_players[t1]]\n",
    "    pick = players1[pn]        \n",
    "    del players1[pn]\n",
    "\n",
    "    for pi in range(len(team_players[t2])):\n",
    "        local_p = [_ for _ in team_players[t2]]\n",
    "        player = local_p[pi]\n",
    "        del local_p[pi]\n",
    "        if not (pick[2]/player[2] < 1.25 and pick[2]/player[2] > 1/1.25):\n",
    "            continue\n",
    "        for p2 in range(len(team_picks[t2])):\n",
    "            local_picks = [_ for _ in team_picks[t2]]\n",
    "            pick2 = local_picks[p2]       \n",
    "            del local_picks[p2]\n",
    "            t1v1 = get_team_value({'mov':team_movs[t1],'p':players1 + [player],'d':team_picks[t1]},sCap,minS)\n",
    "\n",
    "            t1v = get_team_value({'mov':team_movs[t1],'p':players1 + [player],'d':team_picks[t1] + [pick2]},sCap,minS)\n",
    "            t2v = get_team_value({'mov':team_movs[t2],'p':local_p + [pick],'d':local_picks },sCap,minS)\n",
    "            if t1v1 < t1vo and t1v > t1vo and t2v > t2vo:\n",
    "                v1 = (t1v-t1vo)\n",
    "                v2 = (t2v-t2vo)\n",
    "                val = min( v1 , v2)\n",
    "                deals.add((val,v1,v2,team_names[t1],pick,team_names[t2],player,pick2))\n",
    "                "
   ]
  },
  {
   "cell_type": "code",
   "execution_count": null,
   "metadata": {},
   "outputs": [],
   "source": [
    "sorted(list(deals),reverse=True)"
   ]
  },
  {
   "cell_type": "code",
   "execution_count": null,
   "metadata": {},
   "outputs": [],
   "source": [
    "team_names"
   ]
  },
  {
   "cell_type": "code",
   "execution_count": null,
   "metadata": {},
   "outputs": [],
   "source": [
    "team_test"
   ]
  },
  {
   "cell_type": "code",
   "execution_count": null,
   "metadata": {},
   "outputs": [],
   "source": [
    "team_test = {'mov':team_movs[7],'d':team_picks[7],'p':team_players[7]}"
   ]
  },
  {
   "cell_type": "code",
   "execution_count": null,
   "metadata": {},
   "outputs": [],
   "source": [
    "get_team_value(team_test,sCap,minS)"
   ]
  },
  {
   "cell_type": "code",
   "execution_count": null,
   "metadata": {
    "scrolled": true
   },
   "outputs": [],
   "source": [
    "team_test2 = {'mov': -5.372719925920409,\n",
    " 'd': [(1, 0, -5.372719925920409),\n",
    "  (2, 0, -5.372719925920409),\n",
    "  (2, 0, 9.030763602443432),\n",
    "  (1, 1, -5.372719925920409),\n",
    "  (2, 1, -4.958921830230271),\n",
    "  (2, 1, 4.178927470632469),\n",
    "  (1, 2, -5.372719925920409),\n",
    "  (2, 2, -5.372719925920409),\n",
    "  (2, 2, -4.958921830230271),\n",
    "  (1, 3, -5.372719925920409),\n",
    "  (2, 3, -5.372719925920409),\n",
    "  (2, 3, -7.548780876962224),\n",
    "  (1, 4, -5.372719925920409),\n",
    "  (2, 4, -5.372719925920409),\n",
    "  (1, 5, -5.372719925920409),\n",
    "  (2, 5, -5.372719925920409),\n",
    "  (2, 5, -0.5734780821022222),\n",
    "  (1, 6, -5.372719925920409),\n",
    "  (2, 6, -5.372719925920409),\n",
    "  (2, 6, -4.91664629842538)],\n",
    " 'p': [(31, 50, 13350, 1),\n",
    "  (26, 58, 17500, 2),\n",
    "  (25, 27, 1700, 0),\n",
    "  (22, 31, 1550, 1),\n",
    "  (23, 25, 950, 0),\n",
    "  (21, 51, 4850, 2),\n",
    "  (22, 56, 4250, 1),\n",
    "  (22, 58, 6650, 1),\n",
    "  (23, 52, 8050, 2),\n",
    "  (23, 59, 4150, 0),]}\n",
    "get_team_value(team_test2,sCap,minS)"
   ]
  },
  {
   "cell_type": "code",
   "execution_count": null,
   "metadata": {},
   "outputs": [],
   "source": [
    "team_test2 = {'mov': -5.372719925920409,\n",
    " 'd': [\n",
    "  (2, 0, -5.372719925920409),\n",
    "  (2, 0, 9.030763602443432),\n",
    "  (1, 1, -5.372719925920409),\n",
    "  (2, 1, -4.958921830230271),\n",
    "  (2, 1, 4.178927470632469),\n",
    "  (1, 2, -5.372719925920409),\n",
    "  (2, 2, -5.372719925920409),\n",
    "  (2, 2, -4.958921830230271),\n",
    "  (1, 3, -5.372719925920409),\n",
    "  (2, 3, -5.372719925920409),\n",
    "  (2, 3, -7.548780876962224),\n",
    "  (1, 4, -5.372719925920409),\n",
    "  (2, 4, -5.372719925920409),\n",
    "  (1, 5, -5.372719925920409),\n",
    "  (2, 5, -5.372719925920409),\n",
    "  (2, 5, -0.5734780821022222),\n",
    "  (1, 6, -5.372719925920409),\n",
    "  (2, 6, -5.372719925920409),\n",
    "  (2, 6, -4.91664629842538)],\n",
    " 'p': [(20,50,7500,3),\n",
    "    (31, 50, 13350, 1),\n",
    "  (26, 58, 17500, 2),\n",
    "  (25, 27, 1700, 0),\n",
    "  (22, 31, 1550, 1),\n",
    "  (23, 25, 950, 0),\n",
    "  (21, 51, 4850, 2),\n",
    "  (22, 56, 4250, 1),\n",
    "  (22, 58, 6650, 1),\n",
    "  (23, 52, 8050, 2),\n",
    "  (23, 59, 4150, 0),]}\n",
    "get_team_value(team_test2,sCap,minS)"
   ]
  },
  {
   "cell_type": "code",
   "execution_count": null,
   "metadata": {},
   "outputs": [],
   "source": [
    "team_test = {'mov':team_movs[2],'d':team_picks[2],'p':team_players[2]}\n",
    "get_team_value(team_test,sCap,minS)"
   ]
  },
  {
   "cell_type": "code",
   "execution_count": null,
   "metadata": {},
   "outputs": [],
   "source": [
    "team_test2 = {\n",
    "    'mov':team_movs[2],\n",
    "    'd': [(2, 0, 1.652969631948502),\n",
    " (2, 0, 0.05698951843920175),\n",
    " (2, 1, 4.407755127986256),\n",
    " (1, 1, -4.91664629842538),\n",
    " (1, 1, -3.306876503590236),\n",
    " (2, 1, -3.306876503590236),\n",
    " (1, 2, -4.91664629842538),\n",
    " (2, 2, -4.91664629842538),\n",
    " (2, 2, 6.825253437957853),\n",
    " (1, 3, -4.91664629842538),\n",
    " (1, 5, -4.91664629842538),\n",
    " (2, 5, -4.91664629842538),\n",
    " (1, 6, -4.91664629842538)],\n",
    " 'p': [(24, 51, 4800, 2),\n",
    " (24, 55, 1650, 2),\n",
    " (25, 59, 29550, 3),\n",
    " (27, 22, 1650, 2),\n",
    " (21, 25, 3900, 3),\n",
    " (30, 59, 20200, 4),\n",
    " (30, 64, 38000, 4),\n",
    " (32, 68, 40250, 2),\n",
    " (26, 26, 1650, 2),\n",
    " (23, 46, 1800, 1),\n",
    " (27, 26, 100, 0),\n",
    " (20, 33, 1750, 3),\n",
    " (23, 38, 200, 0),\n",
    " (28, 38, 1850, 2),\n",
    " (23, 29, 1650, 2)]}\n",
    "get_team_value(team_test2,sCap,minS)"
   ]
  },
  {
   "cell_type": "code",
   "execution_count": null,
   "metadata": {},
   "outputs": [],
   "source": [
    "team_players[2]"
   ]
  },
  {
   "cell_type": "code",
   "execution_count": null,
   "metadata": {},
   "outputs": [],
   "source": []
  },
  {
   "cell_type": "code",
   "execution_count": null,
   "metadata": {},
   "outputs": [],
   "source": []
  },
  {
   "cell_type": "code",
   "execution_count": null,
   "metadata": {},
   "outputs": [],
   "source": []
  },
  {
   "cell_type": "code",
   "execution_count": null,
   "metadata": {},
   "outputs": [],
   "source": []
  },
  {
   "cell_type": "code",
   "execution_count": null,
   "metadata": {},
   "outputs": [],
   "source": []
  },
  {
   "cell_type": "code",
   "execution_count": null,
   "metadata": {},
   "outputs": [],
   "source": []
  },
  {
   "cell_type": "code",
   "execution_count": null,
   "metadata": {},
   "outputs": [],
   "source": []
  },
  {
   "cell_type": "code",
   "execution_count": null,
   "metadata": {},
   "outputs": [],
   "source": []
  },
  {
   "cell_type": "code",
   "execution_count": null,
   "metadata": {},
   "outputs": [],
   "source": []
  },
  {
   "cell_type": "code",
   "execution_count": null,
   "metadata": {},
   "outputs": [],
   "source": []
  }
 ],
 "metadata": {
  "kernelspec": {
   "display_name": "Python 3",
   "language": "python",
   "name": "python3"
  },
  "language_info": {
   "codemirror_mode": {
    "name": "ipython",
    "version": 3
   },
   "file_extension": ".py",
   "mimetype": "text/x-python",
   "name": "python",
   "nbconvert_exporter": "python",
   "pygments_lexer": "ipython3",
   "version": "3.7.3"
  }
 },
 "nbformat": 4,
 "nbformat_minor": 2
}
