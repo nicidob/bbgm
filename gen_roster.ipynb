{
 "cells": [
  {
   "cell_type": "code",
   "execution_count": null,
   "metadata": {},
   "outputs": [],
   "source": [
    "import os\n",
    "import sys\n",
    "import json"
   ]
  },
  {
   "cell_type": "code",
   "execution_count": null,
   "metadata": {},
   "outputs": [],
   "source": [
    "with open('eu4.json','rt') as fp:\n",
    "    data = json.load(fp)\n",
    "flags = data['f']\n",
    "pos = data['pos']\n",
    "prov = data['prov']\n",
    "state = data['c']"
   ]
  },
  {
   "cell_type": "code",
   "execution_count": null,
   "metadata": {},
   "outputs": [],
   "source": [
    "tmp = sorted(sum([[k for k,v in _.items() if k.count('.')==2] for k,_ in prov.items()],[]))\n",
    "fy,ly = tmp[0],tmp[-1]\n",
    "fy,ly\n",
    "ny = '1444.11.11'"
   ]
  },
  {
   "cell_type": "code",
   "execution_count": null,
   "metadata": {},
   "outputs": [],
   "source": [
    "owners = {}\n",
    "for p in prov:\n",
    "    if 'controller' in prov[p]:\n",
    "        owners[p] = prov[p]['controller']"
   ]
  },
  {
   "cell_type": "code",
   "execution_count": null,
   "metadata": {},
   "outputs": [],
   "source": [
    "e_owner = set()\n",
    "f_owner = set(owners.values())\n",
    "for c in f_owner:\n",
    "    for item in state[c]:\n",
    "        if item.count('.') == 2:\n",
    "            e_owner.add(c)\n",
    "            break"
   ]
  },
  {
   "cell_type": "code",
   "execution_count": null,
   "metadata": {},
   "outputs": [],
   "source": [
    "len(e_owner),len(f_owner)"
   ]
  },
  {
   "cell_type": "code",
   "execution_count": null,
   "metadata": {},
   "outputs": [],
   "source": [
    "events = set()\n",
    "for sidx,s in state.items():\n",
    "    for et,e in s.items():\n",
    "        if et.count('.') == 2:\n",
    "            if type(e) == list:\n",
    "                for tmp in e:\n",
    "                    if type(e) == dict:\n",
    "                        events.add(list(tmp.keys())[0])\n",
    "            elif type(e) == dict:\n",
    "                events.add(list(e.keys())[0])"
   ]
  },
  {
   "cell_type": "code",
   "execution_count": null,
   "metadata": {},
   "outputs": [],
   "source": [
    "# maybe only capital matters in state events\n",
    "\n",
    "# otherwise go by provinces\n",
    "# keep track of owners properties\n",
    "# go by provices "
   ]
  },
  {
   "cell_type": "code",
   "execution_count": null,
   "metadata": {},
   "outputs": [],
   "source": [
    "event_list = []\n",
    "for idx,p in prov.items():\n",
    "    for k,res in p.items():\n",
    "        if k.count('.') == 2:\n",
    "            if type(res) == list:\n",
    "                for tmp in res:\n",
    "                    if type(tmp) == dict:\n",
    "                        for typ,evt in tmp.items():\n",
    "                            if typ in ['owner']:\n",
    "                                event_list.append((k,idx,typ,evt))\n",
    "                            elif typ == 'capital':\n",
    "                                event_list.append((k,idx,'cap2',evt))\n",
    "                #raise\n",
    "            elif type(res) == dict:\n",
    "                for typ,evt in res.items():\n",
    "                    if typ in ['owner']:\n",
    "                        event_list.append((k,idx,typ,evt))\n",
    "                    elif typ == 'capital':\n",
    "                        event_list.append((k,idx,'cap2',evt))\n"
   ]
  },
  {
   "cell_type": "code",
   "execution_count": null,
   "metadata": {},
   "outputs": [],
   "source": [
    "for idx,p in state.items():\n",
    "    for k,res in p.items():\n",
    "        if k.count('.') == 2:\n",
    "            #print(res)\n",
    "            if type(res) == list:\n",
    "                for tmp in res:\n",
    "                    if type(tmp) == dict:\n",
    "                        for typ,evt in tmp.items():\n",
    "                            if typ in ['capital']:\n",
    "                                event_list.append((k,idx,typ,evt))\n",
    "                #raise\n",
    "            elif type(res) == dict:\n",
    "                for typ,evt in res.items():\n",
    "                    if typ in ['capital']:\n",
    "                        event_list.append((k,idx,typ,evt))"
   ]
  },
  {
   "cell_type": "code",
   "execution_count": null,
   "metadata": {},
   "outputs": [],
   "source": [
    "from sklearn.cluster import KMeans\n",
    "from scipy.spatial import distance\n",
    "import numpy as np\n",
    "from collections import defaultdict\n",
    "\n",
    "year_events = defaultdict(list)\n",
    "for event in event_list:\n",
    "    yr,m,d = event[0].split('.')\n",
    "    year_events[yr].append(event)\n",
    "    \n",
    "def gen_divs(locations):\n",
    "    keys = sorted(locations.keys())\n",
    "    values = [locations[k] for k in keys]\n",
    "    clf = KMeans(6,n_init=1000)\n",
    "    div_clust = clf.fit_predict(values)\n",
    "\n",
    "\n",
    "    conf_divs = (clf.cluster_centers_[:,0].argsort().argsort() < 3).astype(int)\n",
    "    print(conf_divs)\n",
    "    print(clf.cluster_centers_)\n",
    "    divs_divs = np.zeros_like(conf_divs)\n",
    "    for c in range(2):\n",
    "        cf = np.where(conf_divs == c)\n",
    "        divs_divs[cf] = (clf.cluster_centers_[cf,1].argsort().argsort()[::-1] + 3*c)[0]\n",
    "    #divs_divs = sum(divs_divs,[])\n",
    "\n",
    "    div_lookup = {}\n",
    "    print(len(keys),len(div_clust))\n",
    "    for k,di in zip(keys,div_clust):\n",
    "        div_lookup[k] = (int(conf_divs[di]),int(divs_divs[di]))\n",
    "    return div_lookup,clf.cluster_centers_,conf_divs,divs_divs\n",
    "#tmp = gen_divs({k:pos[v]['position'][:2] for k,v in current_loc.items() if k in valid_teams})\n"
   ]
  },
  {
   "cell_type": "code",
   "execution_count": null,
   "metadata": {},
   "outputs": [],
   "source": [
    "tmp[-1],tmp[-2]"
   ]
  },
  {
   "cell_type": "code",
   "execution_count": null,
   "metadata": {},
   "outputs": [],
   "source": [
    "teams = defaultdict(set)\n",
    "current_loc = {}\n",
    "prov_owners = {}\n",
    "for idx, p in prov.items():\n",
    "    if 'owner' in p:\n",
    "        owner = p['owner']\n",
    "        teams[owner].add(idx)\n",
    "        prov_owners[idx] = owner\n",
    "        current_loc[owner] = pos[str(state[owner]['capital'])]['position'][:2]\n",
    "        \n",
    "from copy import deepcopy\n",
    "\n",
    "VALID_TEAMS = set()\n",
    "\n",
    "for year in sorted(year_events.keys()):\n",
    "    old_teams = [t for t,i in teams.items() if len(i) >= 10]\n",
    "    for team in old_teams:\n",
    "        VALID_TEAMS.add(team)\n",
    "    for event in sorted(year_events[year]):\n",
    "        tm, i, t, j = event\n",
    "        if t =='owner':\n",
    "            if i in prov_owners:\n",
    "                teams[prov_owners[i]].remove(i)\n",
    "            prov_owners[i] = j\n",
    "            teams[j].add(i)\n",
    "            if j not in current_loc:\n",
    "                current_loc[j] = pos[str(i)]['position'][:2]\n",
    "\n",
    "        elif t == 'capital':\n",
    "            current_loc[i] = pos[str(j)]['position'][:2]\n",
    "\n",
    "    new_teams = [t for t,i in teams.items() if len(i) >= 10]\n",
    "\n",
    "    for team in new_teams:\n",
    "        VALID_TEAMS.add(team)"
   ]
  },
  {
   "cell_type": "code",
   "execution_count": null,
   "metadata": {},
   "outputs": [],
   "source": [
    "teams = defaultdict(set)\n",
    "current_loc = {}\n",
    "current_city = {}\n",
    "prov_owners = {}\n",
    "TIDS = {}\n",
    "for idx, p in prov.items():\n",
    "    if 'owner' in p:\n",
    "        owner = p['owner']\n",
    "        teams[owner].add(idx)\n",
    "        prov_owners[idx] = owner\n",
    "        current_loc[owner] = pos[str(state[owner]['capital'])]['position'][:2]\n",
    "    if 'capital' in p:\n",
    "        current_city[idx] = p['capital']"
   ]
  },
  {
   "cell_type": "code",
   "execution_count": null,
   "metadata": {},
   "outputs": [],
   "source": [
    "team_hax = {}\n",
    "\n",
    "valid_teams = {k:v for k,v in teams.items() if k in VALID_TEAMS}\n",
    "test_label,test_pos,conf_div,div_div = gen_divs({k:v for k,v in current_loc.items() if k in valid_teams})\n",
    "for team, ps in valid_teams.items():\n",
    "    if team == '---':\n",
    "        continue\n",
    "    d = {}\n",
    "    d['abbrev'] = team\n",
    "    if team in flags:\n",
    "        d['imgURL'] = 'http://eu4.paradoxwikis.com' + flags[team]\n",
    "    d['name'] = state[team]['name']\n",
    "    total = 0\n",
    "    for p in ps:\n",
    "        total += prov[p]['base_tax'] + prov[p]['base_manpower'] + prov[p]['base_production']\n",
    "    d['pop'] = round(total/10,2) + 0.1\n",
    "    d['region'] = current_city[str(state[team]['capital'])]#['name']\n",
    "    d['stadiumCapacity'] = 20000\n",
    "    d['cid'] = test_label[team][0]\n",
    "    d['did'] = test_label[team][1]\n",
    "    TIDS[team] = len(TIDS)\n",
    "    d['tid'] = TIDS[team]\n",
    "    #d['colors'] = color_u2[name]\n",
    "    team_hax[team] = d\n"
   ]
  },
  {
   "cell_type": "code",
   "execution_count": null,
   "metadata": {},
   "outputs": [],
   "source": [
    "data = {}\n",
    "data['teams'] = list(team_hax.values())\n",
    "import json\n",
    "data['version'] = 36\n",
    "data['gameAttributes'] = [    { \"key\": \"startingSeason\",\"value\": 1364},{ \"key\": \"season\",\"value\": 1364} ]\n",
    "with open('history_initial.json','wt') as fp:\n",
    "    json.dump(data,fp, sort_keys=True)"
   ]
  },
  {
   "cell_type": "code",
   "execution_count": null,
   "metadata": {},
   "outputs": [],
   "source": []
  },
  {
   "cell_type": "code",
   "execution_count": null,
   "metadata": {},
   "outputs": [],
   "source": [
    "A = np.array([_['position'][:2] for _ in pos.values()])\n",
    "import matplotlib.pyplot as plt\n",
    "plt.scatter(A[:,0],A[:,1],s=1)\n",
    "plt.scatter(test_pos[:,0],test_pos[:,1],s=400,c=np.array(div_div)%3,cmap='RdYlBu')\n",
    "conf_div\n",
    "plt.figure()\n",
    "plt.hist(A[:,0])"
   ]
  },
  {
   "cell_type": "code",
   "execution_count": null,
   "metadata": {},
   "outputs": [],
   "source": [
    "from copy import deepcopy\n",
    "\n",
    "roster_events = defaultdict(list)\n",
    "teamedit = []\n",
    "\n",
    "for year in sorted(year_events.keys()):\n",
    "    edraft = []\n",
    "\n",
    "    old_teams = {t:len(i) for t,i in teams.items() if len(i) >= 0}\n",
    "    for event in sorted(year_events[year]):\n",
    "        tm, i, t, j = event\n",
    "        if t =='owner':\n",
    "            if i in prov_owners:\n",
    "                teams[prov_owners[i]].remove(i)\n",
    "            prov_owners[i] = j\n",
    "            teams[j].add(i)\n",
    "            if j not in current_loc:\n",
    "                current_loc[j] = pos[str(i)]['position'][:2]\n",
    "        elif t == 'capital' and i in VALID_TEAMS:\n",
    "            current_loc[i] = pos[str(j)]['position'][:2]\n",
    "            roster_events[year].append(('cap',i,j))\n",
    "            d2 = {'type':'teamInfo','season':int(year),'phase':0,'id':len(teamedit)}\n",
    "            if i not in TIDS:\n",
    "                TIDS[i] = len(TIDS)\n",
    "            if j not in current_city:\n",
    "                current_city[j] = prov[str(j)]['capital'] \n",
    "            d2i = {'tid':TIDS[i],'region':current_city[j]}\n",
    "            d2['info'] = d2i\n",
    "            teamedit.append(d2)\n",
    "\n",
    "        elif t == 'cap2':\n",
    "            current_city[i] = j\n",
    "            roster_events[year].append(('cap2',i,j))\n",
    "        else:\n",
    "            #print(event)\n",
    "            pass\n",
    "    new_teams = {t:len(i) for t,i in teams.items() if len(i) >= 0}\n",
    "    # who disappeared\n",
    "    for team in old_teams:\n",
    "        if team not in new_teams and team in VALID_TEAMS:\n",
    "            roster_events[year].append(('remove',team))\n",
    "            d2 = {'type':'contraction','season':int(year),'phase':4,'id':len(teamedit), 'info':{'tid':TIDS[team]}}\n",
    "            teamedit.append(d2)\n",
    "            print(\"CONTRACTION\")\n",
    "\n",
    "    # who appeared\n",
    "    for team in new_teams:\n",
    "        if team not in old_teams and team in VALID_TEAMS:\n",
    "            roster_events[year].append(('add',team))\n",
    "            TIDS[team] = len(TIDS)\n",
    "    for team in new_teams:\n",
    "        if team in old_teams and team in VALID_TEAMS:\n",
    "            if new_teams[team] != old_teams[team]:\n",
    "                total = 0\n",
    "                for p in teams[team]:\n",
    "                    total += prov[p]['base_tax'] + prov[p]['base_manpower'] + prov[p]['base_production']\n",
    "                roster_events[year].append(('size',team,total))\n",
    "                d2 = {'type':'teamInfo','season':int(year),'phase':0,'id':len(teamedit)}\n",
    "                d2i = {'tid':TIDS[team],'pop': round(total/10+ 0.1,2) }\n",
    "                d2['info'] = d2i\n",
    "                teamedit.append(d2)\n",
    "    # add events\n",
    "    for event in roster_events[year]:\n",
    "        if event[0] == 'add' and event[1] != '---':\n",
    "            edraft.append(event[1])\n",
    "    if len(edraft) > 0:\n",
    "        d2 = {'type':'expansionDraft','season':int(year),'phase':4,'id':len(teamedit), 'info':{'teams':[]}}\n",
    "        for team in edraft:\n",
    "            d = {}\n",
    "            d['abbrev'] = team\n",
    "            TIDS[team] = len(TIDS)\n",
    "            if team in flags:\n",
    "                d['imgURL'] = 'http://eu4.paradoxwikis.com' + flags[team]\n",
    "            d['name'] = state[team]['name']\n",
    "            total = 0\n",
    "            for p in ps:\n",
    "                total += prov[p]['base_tax'] + prov[p]['base_manpower'] + prov[p]['base_production']\n",
    "            d['pop'] = round(total/30+ 0.1,2) \n",
    "            d['region'] = current_city[str(state[team]['capital'])]#['name']\n",
    "            #d['stadiumCapacity'] = 20000\n",
    "            div = np.linalg.norm(test_pos - current_loc[team],axis=1).argmin()\n",
    "            d['cid'] = int(conf_div[div])\n",
    "            d['did'] = int(div_div[div])\n",
    "\n",
    "            d['tid'] = TIDS[team]\n",
    "            #d['colors'] = color_u2[name]\n",
    "            d2['info']['teams'].append(d)\n",
    "        teamedit.append(d2)"
   ]
  },
  {
   "cell_type": "code",
   "execution_count": null,
   "metadata": {},
   "outputs": [],
   "source": [
    "year_events[year],current_loc['USA']"
   ]
  },
  {
   "cell_type": "code",
   "execution_count": null,
   "metadata": {},
   "outputs": [],
   "source": [
    "[(k,v) for k,v in current_city.items() if v == event[1]]"
   ]
  },
  {
   "cell_type": "code",
   "execution_count": null,
   "metadata": {},
   "outputs": [],
   "source": [
    "year_events['1823']"
   ]
  },
  {
   "cell_type": "code",
   "execution_count": null,
   "metadata": {},
   "outputs": [],
   "source": [
    "teamedit"
   ]
  },
  {
   "cell_type": "code",
   "execution_count": null,
   "metadata": {},
   "outputs": [],
   "source": [
    "data = {}\n",
    "data['teams'] = list(team_hax.values())\n",
    "import json\n",
    "data['version'] = 37\n",
    "data['gameAttributes'] = [    { \"key\": \"startingSeason\",\"value\": 1364},{ \"key\": \"season\",\"value\": 1364} ]\n",
    "data['scheduledEvents'] = teamedit\n",
    "with open('history_final.json','wt') as fp:\n",
    "    json.dump(data,fp, sort_keys=True)"
   ]
  },
  {
   "cell_type": "code",
   "execution_count": null,
   "metadata": {},
   "outputs": [],
   "source": []
  },
  {
   "cell_type": "code",
   "execution_count": null,
   "metadata": {},
   "outputs": [],
   "source": []
  }
 ],
 "metadata": {
  "kernelspec": {
   "display_name": "Python 3",
   "language": "python",
   "name": "python3"
  },
  "language_info": {
   "codemirror_mode": {
    "name": "ipython",
    "version": 3
   },
   "file_extension": ".py",
   "mimetype": "text/x-python",
   "name": "python",
   "nbconvert_exporter": "python",
   "pygments_lexer": "ipython3",
   "version": "3.7.3"
  }
 },
 "nbformat": 4,
 "nbformat_minor": 2
}
