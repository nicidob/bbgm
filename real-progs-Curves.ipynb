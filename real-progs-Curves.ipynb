{
 "cells": [
  {
   "cell_type": "code",
   "execution_count": null,
   "metadata": {},
   "outputs": [],
   "source": [
    "import json\n",
    "import pandas as pd\n",
    "import numpy as np\n",
    "import matplotlib.pyplot as plt\n",
    "import seaborn as sns\n",
    "from scipy.spatial.distance import pdist, cdist\n",
    "from collections import defaultdict\n",
    "from scipy import stats\n",
    "import scipy"
   ]
  },
  {
   "cell_type": "markdown",
   "metadata": {},
   "source": [
    "## Load the historic player data"
   ]
  },
  {
   "cell_type": "code",
   "execution_count": null,
   "metadata": {},
   "outputs": [],
   "source": [
    "data = json.load(open('real-player.json','rb'))"
   ]
  },
  {
   "cell_type": "code",
   "execution_count": null,
   "metadata": {},
   "outputs": [],
   "source": [
    "df = pd.DataFrame(data['ratings'])"
   ]
  },
  {
   "cell_type": "code",
   "execution_count": null,
   "metadata": {},
   "outputs": [],
   "source": [
    "df = df.drop(['fuzz','abbrev_if_new_row'],1)#.set_index(['slug','season'])"
   ]
  },
  {
   "cell_type": "code",
   "execution_count": null,
   "metadata": {},
   "outputs": [],
   "source": [
    "df = df.set_index(['slug','season']).reset_index()"
   ]
  },
  {
   "cell_type": "code",
   "execution_count": null,
   "metadata": {},
   "outputs": [],
   "source": [
    "cols = list(df.columns[2:])\n",
    "ovr_weights =  {'diq': 0.093,\n",
    " 'dnk': 0.0424,\n",
    " 'drb': 0.0968,\n",
    " 'endu': 0.0075,\n",
    " 'fg': -0.0093,\n",
    " 'ft': 0.049,\n",
    " 'hgt': 0.225,\n",
    " 'ins': -0.0143,\n",
    " 'jmp': 0.0505,\n",
    " 'oiq': 0.0971,\n",
    " 'pss': 0.0657,\n",
    " 'reb': 0.0534,\n",
    " 'spd': 0.156,\n",
    " 'stre': 0.0962,\n",
    " 'tp': 0.105}\n",
    "ovr_v = np.array([ovr_weights[cols[i]] for i in range(len(cols))])"
   ]
  },
  {
   "cell_type": "code",
   "execution_count": null,
   "metadata": {},
   "outputs": [],
   "source": [
    "ratings  = defaultdict(lambda: dict())\n",
    "draft_year = defaultdict(lambda:9999999)\n",
    "final_year = defaultdict(int)\n",
    "for row in df.itertuples():\n",
    "    yr = data['bios'][row[1]]['draftYear']\n",
    "    born = data['bios'][row[1]]['bornYear']\n",
    "    name = row[1]\n",
    "    r_yr = row[2]\n",
    "    if yr is None or yr == 0:\n",
    "        continue\n",
    "    if born is None or born ==0:\n",
    "        continue\n",
    "    if yr == r_yr:\n",
    "        continue\n",
    "    if r_yr >= 2019:\n",
    "        continue\n",
    "    if r_yr <= 1983:\n",
    "        continue\n",
    "    if yr+1 == r_yr or name in ratings:\n",
    "        ratings[name][r_yr-born] = list(row[3:])\n",
    "        draft_year[name] = min(draft_year[name],r_yr)\n",
    "        final_year[name] = max(final_year[name],r_yr)"
   ]
  },
  {
   "cell_type": "code",
   "execution_count": null,
   "metadata": {},
   "outputs": [],
   "source": [
    "mean_r = []\n",
    "for a in range(20,40):\n",
    "    vals = []\n",
    "    for k,v in ratings.items():\n",
    "        if a in v and a+1 in v:\n",
    "            r1 = (np.array(v[a])*ovr_v).sum()\n",
    "            r2 = (np.array(v[a+1])*ovr_v).sum()\n",
    "            vals.append([r1,r2])\n",
    "    vals = np.array(vals)\n",
    "    mean_r.append(scipy.stats.pearsonr(vals[:,0],vals[:,1])[0])\n",
    "np.mean(mean_r)"
   ]
  },
  {
   "cell_type": "code",
   "execution_count": null,
   "metadata": {},
   "outputs": [],
   "source": [
    "finish_career = {}\n",
    "for row in df.groupby('slug').max().itertuples():\n",
    "    born = data['bios'][row[0]]['bornYear']\n",
    "    finish_career[row[0]] = row[1]-born in ratings.get(row[0],{})"
   ]
  },
  {
   "cell_type": "code",
   "execution_count": null,
   "metadata": {},
   "outputs": [],
   "source": [
    "ages = np.unique(sum([list(v.keys()) for k,v in ratings.items()],[]))\n",
    "all_play = sum([[[yr] + v2 for yr, v2 in v.items()] for k,v in ratings.items()],[])\n",
    "all_play = np.array(all_play)\n"
   ]
  },
  {
   "cell_type": "code",
   "execution_count": null,
   "metadata": {},
   "outputs": [],
   "source": [
    "youth = np.array([[min(v.keys())] + v[min(v.keys())] for k,v in ratings.items()])\n",
    "youth = youth[youth[:,0] < 24]\n",
    "rookie_progs = np.array([[min(v.keys())] + np.array(v[min(v.keys())+1]) - np.array(v[min(v.keys())]) for k,v in ratings.items() if min(v.keys())+1 in v])\n",
    "rookie_progs = rookie_progs[rookie_progs[:,0]<24]\n",
    "plt.hist((youth[:,1:] * ovr_v).sum(1),12)"
   ]
  },
  {
   "cell_type": "code",
   "execution_count": null,
   "metadata": {},
   "outputs": [],
   "source": [
    "for a in ages:\n",
    "    if a > 38:\n",
    "        continue\n",
    "    plt.subplot(4,5,a-18)\n",
    "    r_age = np.array([v[a] for k,v in ratings.items() if a in v])\n",
    "    plt.imshow(np.cov(r_age,rowvar=False),cmap='RdBu',vmin=-150,vmax=150)\n",
    "    plt.axis('off')\n",
    "    #plt.title(str(a))\n",
    "plt.tight_layout(h_pad=0.1,w_pad=0)"
   ]
  },
  {
   "cell_type": "markdown",
   "metadata": {},
   "source": [
    "## model classes"
   ]
  },
  {
   "cell_type": "code",
   "execution_count": null,
   "metadata": {},
   "outputs": [],
   "source": [
    "from sklearn.mixture import GaussianMixture\n",
    "from sklearn.cluster import KMeans, MiniBatchKMeans"
   ]
  },
  {
   "cell_type": "code",
   "execution_count": null,
   "metadata": {},
   "outputs": [],
   "source": [
    "class_points = all_play[:,1:].astype(np.float32)\n",
    "class_points /= ((class_points * ovr_v).sum(1)-6.4)[:,None]\n",
    "\n",
    "clfk = MiniBatchKMeans(3,n_init=100)\n",
    "clfk.fit(class_points)"
   ]
  },
  {
   "cell_type": "code",
   "execution_count": null,
   "metadata": {},
   "outputs": [],
   "source": [
    "clfg = GaussianMixture(3,means_init=clfk.cluster_centers_,covariance_type='full')\n",
    "_ = clfg.fit(class_points)"
   ]
  },
  {
   "cell_type": "code",
   "execution_count": null,
   "metadata": {},
   "outputs": [],
   "source": [
    "class_scale = clfg.means_/class_points.mean(0)\n",
    "tmp = ['a' for _ in range(3)]\n",
    "des = ['guard','wing','big']\n",
    "fix_c = {}\n",
    "for i2,i in enumerate(np.argsort(class_scale[:,cols.index('hgt')])):\n",
    "    tmp[i] = des[i2]\n",
    "    fix_c[i] =i2\n",
    "c_df = pd.DataFrame(class_scale,columns=cols,index=tmp).round(2)\n",
    "print(fix_c)\n",
    "c_df"
   ]
  },
  {
   "cell_type": "code",
   "execution_count": null,
   "metadata": {},
   "outputs": [],
   "source": [
    "types_new = {_[0]:{c:v for c,v in zip(cols,_[1:]) if abs(v-1) > 0.001} for _ in c_df.itertuples()}\n",
    "types_og = {\n",
    "\"guard\": {\n",
    "\t\t\"jmp\": 1.65,\n",
    "\t\t\"spd\": 1.65,\n",
    "\t\t\"drb\": 1.5,\n",
    "\t\t\"pss\": 1.5,\n",
    "\t\t\"ft\": 1.4,\n",
    "\t\t\"fg\": 1.4,\n",
    "\t\t\"tp\": 1.4,\n",
    "\t\t\"oiq\": 1.2,\n",
    "\t\t\"endu\": 1.4,\n",
    "\t},\n",
    "\t\"wing\": {\n",
    "\t\t\"drb\": 1.2,\n",
    "\t\t\"dnk\": 1.5,\n",
    "\t\t\"jmp\": 1.4,\n",
    "\t\t\"spd\": 1.4,\n",
    "\t\t\"ft\": 1.2,\n",
    "\t\t\"fg\": 1.2,\n",
    "\t\t\"tp\": 1.2,\n",
    "\t},\n",
    "\t\"big\": {\n",
    "\t\t\"stre\": 1.2,\n",
    "\t\t\"ins\": 1.6,\n",
    "\t\t\"dnk\": 1.5,\n",
    "\t\t\"reb\": 1.4,\n",
    "\t\t\"ft\": 0.8,\n",
    "\t\t\"fg\": 0.8,\n",
    "\t\t\"tp\": 0.8,\n",
    "\t\t\"diq\": 1.2,\n",
    "\t},\n",
    "}\n"
   ]
  },
  {
   "cell_type": "code",
   "execution_count": null,
   "metadata": {},
   "outputs": [],
   "source": [
    "clabel = clfg.predict(class_points)\n",
    "clabel = np.array([fix_c[_] for _ in clabel])\n",
    "chistbin = np.linspace(0.25,1.75,18)\n",
    "cmean = all_play[:,1:].mean(0)[6]\n",
    "c_n = []\n",
    "chist = []\n",
    "for i in range(3):\n",
    "    c_n.append((clabel==i).sum())\n",
    "    chist.append(np.histogram(class_points[clabel==i,6],chistbin,density=True)[0]+1e-4)\n",
    "    plt.hist(class_points[clabel==i,6],chistbin,alpha=0.5,density=True,label=str(i))\n",
    "plt.legend()"
   ]
  },
  {
   "cell_type": "code",
   "execution_count": null,
   "metadata": {},
   "outputs": [],
   "source": [
    "x0_c = [  0.23, -11,  1.2]\n",
    "x = x0_c\n",
    "def eval_c(x):\n",
    "    pred_c = x[0]*all_play[:,7]+x[1]\n",
    "    np.random.seed(42)\n",
    "    pred_c = pred_c + x[2]*np.random.randn(all_play.shape[0])\n",
    "    rnd = np.clip(np.round(pred_c),0,2)\n",
    "    kl = 0\n",
    "    c_t = []\n",
    "    for i in range(3):\n",
    "        c_t.append((rnd==i).sum())\n",
    "        phist = np.histogram(all_play[rnd==i,7]/cmean,chistbin,density=True)[0]+1e-4\n",
    "        kl += (phist * np.log(phist/chist[i])).sum()\n",
    "        kl += (chist[i] * np.log(chist[i]/phist)).sum()\n",
    "    if np.isnan(kl):\n",
    "        return 1e9\n",
    "    return kl*((np.array(c_t)-np.array(c_n))**2).sum()\n",
    "print(eval_c(x0_c))\n",
    "\n",
    "#import cma\n",
    "#es = cma.CMAEvolutionStrategy(x0_c,0.1)\n",
    "#res = es.optimize(eval_c)"
   ]
  },
  {
   "cell_type": "code",
   "execution_count": null,
   "metadata": {},
   "outputs": [],
   "source": [
    "#es.mean"
   ]
  },
  {
   "cell_type": "code",
   "execution_count": null,
   "metadata": {},
   "outputs": [],
   "source": [
    "pred_c = x0_c[0]*all_play[:,7]+x0_c[1]\n",
    "pred_cf = pred_c + x0_c[2]*np.random.randn(all_play.shape[0])\n",
    "pred_c = np.clip(pred_cf,0,2)\n",
    "rnd = np.clip(np.round(pred_c),0,2)\n",
    "plt.scatter(all_play[:,7],pred_cf,c=rnd)"
   ]
  },
  {
   "cell_type": "code",
   "execution_count": null,
   "metadata": {},
   "outputs": [],
   "source": [
    "for i in range(3):\n",
    "    plt.hist(all_play[rnd==i,7],cmean*chistbin,alpha=0.5,density=True)"
   ]
  },
  {
   "cell_type": "markdown",
   "metadata": {},
   "source": [
    "## model features"
   ]
  },
  {
   "cell_type": "code",
   "execution_count": null,
   "metadata": {},
   "outputs": [],
   "source": [
    "types_opt={'guard': {'diq': 1.2,\n",
    "  'dnk': 1.8,\n",
    "  'drb': 1.5,\n",
    "  'endu': 1.5,\n",
    "  'fg': 1.5,\n",
    "  'ft': 1.3,\n",
    "  'ins': 1.2,\n",
    "  'jmp': 1.6,\n",
    "  'oiq': 1.3,\n",
    "  'pss': 1.6,\n",
    "  'spd': 1.3,\n",
    "  'tp': 1.3},\n",
    " 'wing': {'diq': 0.9,\n",
    "  'dnk': 2.1,\n",
    "  'drb': 1.2,\n",
    "  'endu': 1.1,\n",
    "  'fg': 1.3,\n",
    "  'ft': 1.2,\n",
    "  'ins': 1.2,\n",
    "  'jmp': 1.4,\n",
    "  'oiq': 1.2,\n",
    "  'pss': 0.8,\n",
    "  'reb': 1.2,\n",
    "  'spd': 1.1,\n",
    "  'tp': 1.2},\n",
    " 'big': {'dnk': 2.1,\n",
    "  'drb': 1.2,\n",
    "  'endu': 1.3,\n",
    "  'fg': 1.2,\n",
    "  'ins': 1.4,\n",
    "  'jmp': 1.3,\n",
    "  'oiq': 1.2,\n",
    "  'pss': 1.1,\n",
    "  'reb': 1.2,\n",
    "  'spd': 1.1,\n",
    "  'stre': 1.2}}"
   ]
  },
  {
   "cell_type": "code",
   "execution_count": null,
   "metadata": {},
   "outputs": [],
   "source": [
    "athleticismRatings = [\"stre\", \"spd\", \"jmp\", \"endu\", \"dnk\"]\n",
    "shootingRatings = [\"ft\", \"fg\", \"tp\"]\n",
    "skillRatings = [\"oiq\", \"diq\", \"drb\", \"pss\", \"reb\"]\n",
    "\n",
    "v1 = np.array([int(_ in athleticismRatings) for _ in cols])\n",
    "v2 = np.array([int(_ in shootingRatings) for _ in cols])\n",
    "v3 = np.array([int(_ in skillRatings) for _ in cols])\n",
    "v4 = np.array([int(_=='ins') for _ in cols])\n",
    "\n",
    "vmul = np.array([v1,v2,v3,v4])\n",
    "\n",
    "if False:\n",
    "    mean_v = np.array([22, 27, 37, 17, 32, 32, 0, 27, 40, 22, 37, 37, 40, 37, 32])\n",
    "    x0_c = [  0.23, -11,  1.2]\n",
    "    r_std = [3]\n",
    "    v_std = [0.2,0.2,0.2,0.2]\n",
    "    types = types_og\n",
    "elif False:\n",
    "    mean_v = np.array([43, 48, 50, 38, 46, 43, 0, 44, 57, 40, 47, 46, 52, 47, 46])\n",
    "    r_std = [2.9]\n",
    "    v_std = [0.12,0.17,0.12,0.22]\n",
    "    types = types_new\n",
    "elif False:\n",
    "    mean_v = np.array([42, 43, 38, 28, 36, 36, 0, 40, 36, 37, 37, 46, 36, 49, 38])\n",
    "    r_std = [3.3]\n",
    "    v_std = [0.104,0.115,0.104,0.13]\n",
    "    types = types_og\n",
    "else:\n",
    "    mean_v = np.array([42, 43, 38, 29, 36, 35, 0, 40, 36, 37, 37, 45, 36, 49, 38])\n",
    "    r_std = [3.9]\n",
    "    v_std = [0.10,0.14,0.11,0.20]\n",
    "    types = types_og\n",
    "\n",
    "c_mul = np.array([[types[t].get(c,1) for c in cols] for t in ['guard','wing','big']])\n"
   ]
  },
  {
   "cell_type": "code",
   "execution_count": null,
   "metadata": {},
   "outputs": [],
   "source": [
    "for c, r in zip(cols,mean_v):\n",
    "    if c != 'hgt':\n",
    "        print(c,':',r,',')"
   ]
  },
  {
   "cell_type": "code",
   "execution_count": null,
   "metadata": {},
   "outputs": [],
   "source": [
    "rand_hgt = np.random.randn(12500)*13.6 + 47.5\n",
    "f_hgt = np.array(list(youth[:,7]) + list(rand_hgt))\n",
    "\n",
    "simN = f_hgt.shape[0]\n",
    "pred_c = x0_c[0]*f_hgt+x0_c[1]\n",
    "pred_cf = pred_c + x0_c[2]*np.random.randn(simN)\n",
    "pred_c = np.clip(pred_cf,0,2)\n",
    "rnd = np.clip(np.round(pred_c),0,2).astype(int)\n",
    "\n",
    "v_m = (((np.random.randn(simN,4) * np.array(v_std) ) @ vmul) + 1)\n",
    "pred_vec = (mean_v  + r_std[0]*np.random.randn(simN,15))\n",
    "pred_vec[:,6] = f_hgt\n",
    "pred_vec = v_m * c_mul[rnd] * pred_vec\n",
    "pred_vec[:,6] = f_hgt\n"
   ]
  },
  {
   "cell_type": "code",
   "execution_count": null,
   "metadata": {},
   "outputs": [],
   "source": [
    "_ = plt.hist((youth[:,1:]*ovr_v).sum(1)-6.4,25,alpha=0.5,density=True,label='rpd')\n",
    "_ = plt.hist((pred_vec*ovr_v).sum(1)-6.4,25,alpha=0.5,density=True,label='gen')\n",
    "#_ = plt.hist((beta_p2*ovr_v).sum(1)-6.4,20,alpha=0.5,density=True,label='beta')\n",
    "\n",
    "plt.legend()\n",
    "print(youth[:,1:].mean(1).std(),pred_vec.mean(1).std())"
   ]
  },
  {
   "cell_type": "code",
   "execution_count": null,
   "metadata": {},
   "outputs": [],
   "source": [
    "plt.subplot(1,2,1)\n",
    "plt.imshow(np.cov(youth[:,1:],rowvar=False),vmin=-130,vmax=130,cmap='RdBu')\n",
    "plt.title('real players')\n",
    "plt.xticks(np.arange(15),cols,rotation=45)\n",
    "plt.yticks(np.arange(15),cols)\n",
    "plt.subplot(1,2,2)\n",
    "plt.imshow(np.cov(pred_vec,rowvar=False),vmin=-130,vmax=130,cmap='RdBu')\n",
    "plt.title('generated')\n",
    "plt.xticks(np.arange(15),cols,rotation=45)\n",
    "_ = plt.yticks(np.arange(15),cols)"
   ]
  },
  {
   "cell_type": "code",
   "execution_count": null,
   "metadata": {},
   "outputs": [],
   "source": [
    "PC = 50\n",
    "s1 = (youth[:,1:]*ovr_v).sum(1)\n",
    "s1 = s1 > np.percentile(s1,PC)\n",
    "s2 = (pred_vec*ovr_v).sum(1)\n",
    "s2 = s2 > np.percentile(s2,PC)\n",
    "plt.subplot(1,2,1)\n",
    "plt.imshow(np.cov(youth[s1,1:],rowvar=False),vmin=-130,vmax=130,cmap='RdBu')\n",
    "plt.title('real players')\n",
    "plt.xticks(np.arange(15),cols,rotation=45)\n",
    "plt.yticks(np.arange(15),cols)\n",
    "plt.subplot(1,2,2)\n",
    "plt.imshow(np.cov(pred_vec[s2],rowvar=False),vmin=-130,vmax=130,cmap='RdBu')\n",
    "plt.title('generated')\n",
    "plt.xticks(np.arange(15),cols,rotation=45)\n",
    "_ = plt.yticks(np.arange(15),cols)"
   ]
  },
  {
   "cell_type": "code",
   "execution_count": null,
   "metadata": {},
   "outputs": [],
   "source": [
    "og_mean_v = mean_v \n",
    "og_r_std = r_std\n",
    "og_v_std = v_std"
   ]
  },
  {
   "cell_type": "code",
   "execution_count": null,
   "metadata": {},
   "outputs": [],
   "source": [
    "def eval_f(params):\n",
    "    #np.random.seed(43)\n",
    "    mean_v = np.exp(params[:15])\n",
    "    r_std = np.exp(params[15:16])\n",
    "    v_std = np.exp(params[16:20])\n",
    "    cmul2 = c_mul#np.exp(params[20:]).reshape((3,15))\n",
    "    res = []\n",
    "    print(mean_v,r_std,v_std,cmul2)\n",
    "    for i in range(30):\n",
    "        np.random.seed(542+i)\n",
    "        \n",
    "        rand_hgt = np.random.randn(1500)*13.6 + 47.5\n",
    "        f_hgt = np.array(list(youth[:,7]) + list(rand_hgt))\n",
    "\n",
    "        simN = f_hgt.shape[0]\n",
    "        pred_c = x0_c[0]*f_hgt+x0_c[1]\n",
    "        pred_cf = pred_c + x0_c[2]*np.random.randn(simN)\n",
    "        pred_c = np.clip(pred_cf,0,2)\n",
    "        rnd = np.clip(np.round(pred_c),0,2).astype(int)\n",
    "\n",
    "        v_m = (((np.random.randn(simN,4) * np.array(v_std) ) @ vmul) + 1)\n",
    "        pred_vec = (mean_v  + r_std[0]*np.random.randn(simN,15))\n",
    "        pred_vec[:,6] = f_hgt\n",
    "        pred_vec = v_m * cmul2[rnd] * pred_vec\n",
    "        pred_vec[:,6] = f_hgt\n",
    "\n",
    "        # filter to only the top half with good stats\n",
    "        s1 = (youth[:,1:]*ovr_v).sum(1)\n",
    "        s1 = s1 > np.percentile(s1,50)\n",
    "        s2 = (pred_vec*ovr_v).sum(1)\n",
    "        s2 = s2 > np.percentile(s2,50)\n",
    "        \n",
    "        cov_err = ((np.cov(youth[s1,1:],rowvar=False)-np.cov(pred_vec[s2],rowvar=False))**2).mean()\n",
    "        cov_err2 = ((np.cov(youth[:,1:],rowvar=False)-np.cov(pred_vec,rowvar=False))**2).mean()\n",
    "\n",
    "        v1 = (ovr_v*youth[s1,1:]).sum(1)\n",
    "        v2 = (ovr_v*pred_vec[s2]).sum(1)\n",
    "        \n",
    "        tb = min(100,int(np.ceil(max(v1.max(),v2.max()))))\n",
    "        bb = max(1,int(np.floor(min(v1.min(),v2.min()))))\n",
    "        sN = tb-bb\n",
    "        hist_set = np.linspace(bb,tb,sN)\n",
    "        h1 = np.histogram(v1,hist_set,density=True)[0]+1e-4\n",
    "        h2 = np.histogram(v2,hist_set,density=True)[0]+1e-4\n",
    "        kl1 = (np.log(h1/h2)*h1).sum()\n",
    "        kl2 = (np.log(h2/h1)*h2).sum()\n",
    "        mean_err = kl1+kl2\n",
    "        \n",
    "  \n",
    "        mean_err2 = ((youth[s1,1:].mean(0)-pred_vec[s2].mean(0))**2).sum()\n",
    "        mean_err3 = ((youth[:,1:].mean(0)-pred_vec.mean(0))**2).sum()\n",
    "        std_err1 = ((youth[s1,1:].std(0)-pred_vec[s2].std(0))**2).sum()\n",
    "        std_err2 = ((youth[:,1:].std(0)-pred_vec.std(0))**2).sum()\n",
    "        \n",
    "        youth_pred_pos =  x0_c[0]*youth[:,7]+x0_c[1]+ x0_c[2]*np.random.randn(youth.shape[0])\n",
    "        youth_pred_pos = np.clip(np.round(youth_pred_pos),0,2).astype(int)\n",
    "        errs_pos = []\n",
    "        for i in range(3):\n",
    "            m1 = youth[s1 & (youth_pred_pos==i),1:]\n",
    "            m2 = pred_vec[s2 & (rnd==i)]\n",
    "            errs_pos.append(np.linalg.norm(m1.mean(0)-m2.mean(0)))\n",
    "            errs_pos.append(np.linalg.norm(m1.std(0)-m2.std(0)))\n",
    "            errs_pos.append(((np.cov(m1,rowvar=False)-np.cov(m2,rowvar=False))**2).mean())\n",
    "        \n",
    "        err_pos = np.prod(errs_pos)#**(1/len(errs_pos))\n",
    "        \n",
    "        res.append( err_pos* std_err1*(std_err2**0.1)*cov_err*mean_err*mean_err2*(mean_err3**0.1)*(cov_err2**0.1 ) )\n",
    "        if np.isnan(res[-1]):\n",
    "            return 1e20\n",
    "    #params_err = np.sqrt((np.exp(params[20:])-1)**2).sum()\n",
    "    return ( np.mean(sorted(res)) ) ** (1/5.3) # 11.3 ?\n",
    "x0 = list(mean_v+1e-2) + r_std + v_std\n",
    "\n",
    "#x0 = np.hstack([x0,c_mul.ravel()])\n",
    "\n",
    "eval_f(np.log(x0))"
   ]
  },
  {
   "cell_type": "code",
   "execution_count": null,
   "metadata": {},
   "outputs": [],
   "source": [
    "import cma\n",
    "es = cma.CMAEvolutionStrategy(np.log(x0),0.001)\n",
    "#es.optimize(eval_f)"
   ]
  },
  {
   "cell_type": "code",
   "execution_count": null,
   "metadata": {},
   "outputs": [],
   "source": [
    "#np.exp(es.mean)"
   ]
  },
  {
   "cell_type": "code",
   "execution_count": null,
   "metadata": {},
   "outputs": [],
   "source": [
    "#types_opt = {}\n",
    "#for c,vec in zip([\"guard\",\"wing\",\"big\"],np.exp(es.best.x)[20:].reshape((3,15))):\n",
    "#    types_opt[c] = {c2:round(r,1) for c2,r in zip(cols,vec) if round(r,1) != 1.0 and c2 != 'hgt'}\n",
    "#types_opt"
   ]
  },
  {
   "cell_type": "markdown",
   "metadata": {},
   "source": [
    "## Model development"
   ]
  },
  {
   "cell_type": "code",
   "execution_count": null,
   "metadata": {},
   "outputs": [],
   "source": [
    "import scipy\n",
    "ratings2  = {}\n",
    "for row in df.itertuples():\n",
    "    ratings2[(row[1],row[2])] = list(row[3:])\n",
    "    \n",
    "\n",
    "# only use recent-ish players\n",
    "from collections import defaultdict\n",
    "player_year_rate = defaultdict(dict)\n",
    "for i,r in ratings2.items():\n",
    "    if data['bios'][i[0]]['bornYear'] < 1956:\n",
    "        continue\n",
    "    if i[1] >= 2019:\n",
    "        continue\n",
    "    age=  i[1]-data['bios'][i[0]]['bornYear']\n",
    "    player_year_rate[i[0]][age] = np.array(r)\n",
    "SMOOTHING_STD = 0.9\n",
    "play_year_rateSmooth = {}\n",
    "for key,play in player_year_rate.items():\n",
    "    minY = min(play.keys())\n",
    "    maxY = max(play.keys())\n",
    "    res = []\n",
    "    for i in range(minY,maxY+1):\n",
    "        #res.append(play.get(i,[np.nan for j in range(15)]))\n",
    "        res.append(play[i] if i in play else res[-1])\n",
    "    res = np.array(res).astype(float)\n",
    "    reS = scipy.ndimage.gaussian_filter1d(res,SMOOTHING_STD,mode='nearest',axis=0,truncate=10)\n",
    "    p2 = {}\n",
    "    for idx,age in enumerate(range(minY,maxY+1)):\n",
    "        if age in play:\n",
    "            p2[age] = reS[idx]\n",
    "    play_year_rateSmooth[key] = p2"
   ]
  },
  {
   "cell_type": "code",
   "execution_count": null,
   "metadata": {},
   "outputs": [],
   "source": [
    "TRANS_FUNC = lambda x: x#np.sqrt(x)#np.log(x+1e-6)#x**(1/2)#np.sqrt(x)\n",
    "INV_FUNC = lambda x: x#x**2#np.exp(x)#x**2#x**2\n",
    "r1 = []\n",
    "r2 = []\n",
    "for play in play_year_rateSmooth.values():\n",
    "    for age,r in play.items():\n",
    "        if age-1 in play:\n",
    "            age2 = age-1\n",
    "            if age2 > 36:\n",
    "                continue\n",
    "            r1.append(TRANS_FUNC(play[age]) -TRANS_FUNC(play[age-1]))\n",
    "            r2.append(age2)\n",
    "r1 = np.array(r1)\n",
    "r2 = np.array(r2)\n"
   ]
  },
  {
   "cell_type": "code",
   "execution_count": null,
   "metadata": {},
   "outputs": [],
   "source": [
    "age_res = []\n",
    "for age in sorted(np.unique(r2)):\n",
    "    age_res.append(r1[r2==age].mean(0))\n",
    "age_res = np.array(age_res)\n",
    "for i in range(15):\n",
    "    plt.plot(sorted(np.unique(r2)),age_res[:,i],label=cols[i],c=plt.cm.tab20(i))\n",
    "plt.xlim(right=35)\n",
    "plt.legend()\n",
    "#plt.ylim(-0.2,0.2)"
   ]
  },
  {
   "cell_type": "code",
   "execution_count": null,
   "metadata": {},
   "outputs": [],
   "source": [
    "import sklearn.linear_model as linear_model\n",
    "\n",
    "TIMES_TO_FIT = 1\n",
    "\n",
    "clf_models = []\n",
    "for i in range(TIMES_TO_FIT):\n",
    "    clf = linear_model.RidgeCV(np.logspace(-5,5,11),cv=5)#SGDRegressor('epsilon_insensitive',alpha=1e-5,epsilon=0,max_iter=10000,tol=1e-9,eta0=1e-5)\n",
    "    clf.fit(np.repeat(r2,15)[:,None],r1.ravel())\n",
    "    score = clf.score(np.repeat(r2,15)[:,None],r1.ravel())\n",
    "    clf_models.append((score,i,clf))\n",
    "best_model = sorted(clf_models)[-1]\n",
    "clf = best_model[2]\n",
    "print(best_model[0])\n",
    "main_model = (clf.coef_[0] , clf.intercept_) # 0.0855008819536307"
   ]
  },
  {
   "cell_type": "code",
   "execution_count": null,
   "metadata": {},
   "outputs": [],
   "source": [
    "plt.plot(np.unique(r2),np.unique(r2)*main_model[0] +main_model[1])\n",
    "plt.plot([19,35],[0,0],c='k',ls='--')\n",
    "plt.grid(True)"
   ]
  },
  {
   "cell_type": "code",
   "execution_count": null,
   "metadata": {},
   "outputs": [],
   "source": [
    "models = []\n",
    "for i in range(r1.shape[1]):\n",
    "    clf_models = []\n",
    "    for j in range(TIMES_TO_FIT):\n",
    "        clf = linear_model.RidgeCV(np.logspace(-5,5,11),cv=5)#SGDRegressor('epsilon_insensitive',alpha=1e-5,epsilon=0,max_iter=10000,tol=1e-9,eta0=1e-5)\n",
    "        clf.fit(np.array(r2)[:,None],r1[:,i]-(main_model[0]*r2+main_model[1]))\n",
    "        score = clf.score(np.array(r2)[:,None],r1[:,i]-(main_model[0]*r2+main_model[1]))\n",
    "        clf_models.append((score,j,clf))\n",
    "    best_model = sorted(clf_models)[-1]\n",
    "    clf = best_model[2]\n",
    "    print(cols[i],best_model[0])\n",
    "    models.append((clf.coef_[0],clf.intercept_))"
   ]
  },
  {
   "cell_type": "code",
   "execution_count": null,
   "metadata": {},
   "outputs": [],
   "source": [
    "plt.style.use('seaborn-white')\n",
    "for i in range(r1.shape[1]):\n",
    "    plt.plot(np.unique(r2),np.unique(r2)*models[i][0]+models[i][1],label=cols[i],c=plt.cm.tab20(i))\n",
    "plt.legend()\n",
    "#plt.xlim(19,34)\n",
    "#plt.ylim(-4,4)\n",
    "plt.grid(True)"
   ]
  },
  {
   "cell_type": "code",
   "execution_count": null,
   "metadata": {},
   "outputs": [],
   "source": [
    "means_expected = []\n",
    "for i in range(r1.shape[1]):\n",
    "    means_expected.append((models[i][0]*r2 + models[i][1]) * (main_model[0]*r2+main_model[1]) )"
   ]
  },
  {
   "cell_type": "code",
   "execution_count": null,
   "metadata": {},
   "outputs": [],
   "source": [
    "# rank1 approximations of this would be really cool\n",
    "# but sampling multivariate Gaussians seems... annoying?\n",
    "removed_means = r1 - np.array(means_expected).T"
   ]
  },
  {
   "cell_type": "code",
   "execution_count": null,
   "metadata": {},
   "outputs": [],
   "source": [
    "age_w = []\n",
    "ages = sorted(np.unique(r2))\n",
    "age_stds = []\n",
    "for age in ages:\n",
    "    age_w.append((r2==age).sum())\n",
    "    age_stds.append(removed_means[r2==age].std(axis=0))\n",
    "age_stds = np.array(age_stds)\n",
    "age_w = np.array(age_w)\n",
    "age_w = age_w/age_w.mean()"
   ]
  },
  {
   "cell_type": "code",
   "execution_count": null,
   "metadata": {},
   "outputs": [],
   "source": [
    "base_model = list(main_model) + [age_stds.mean()]"
   ]
  },
  {
   "cell_type": "code",
   "execution_count": null,
   "metadata": {},
   "outputs": [],
   "source": [
    "std_models = []\n",
    "for i in range(15):\n",
    "    std_models.append((age_stds[:,i]-base_model[2]).std())"
   ]
  },
  {
   "cell_type": "code",
   "execution_count": null,
   "metadata": {},
   "outputs": [],
   "source": [
    "plt.style.use('seaborn-white')\n",
    "for i in range(r1.shape[1]):\n",
    "    plt.plot(np.unique(r2),np.ones_like(np.unique(r2))*std_models[i],label=cols[i],c=plt.cm.tab20(i),lw=3)\n",
    "plt.legend()\n",
    "plt.xlim(19,34)\n",
    "plt.grid(True)"
   ]
  },
  {
   "cell_type": "code",
   "execution_count": null,
   "metadata": {},
   "outputs": [],
   "source": [
    "models"
   ]
  },
  {
   "cell_type": "code",
   "execution_count": null,
   "metadata": {},
   "outputs": [],
   "source": [
    "dat_print = {cols[i]:tuple(np.round(row,4)) for i,row in enumerate(np.hstack([models,np.array(std_models)[:,None]]))}"
   ]
  },
  {
   "cell_type": "code",
   "execution_count": null,
   "metadata": {
    "scrolled": true
   },
   "outputs": [],
   "source": [
    "print('{} {},'.format(\"base\",list(np.round(base_model,4))))\n",
    "for k,v in dat_print.items():\n",
    "    if k == 'hgt':continue\n",
    "    print('{}: {},'.format(k,list(v)))"
   ]
  },
  {
   "cell_type": "code",
   "execution_count": null,
   "metadata": {},
   "outputs": [],
   "source": [
    "np.quantile(means_expected,0.99,axis=0).mean(),np.quantile(means_expected,0.01,axis=0).mean()"
   ]
  },
  {
   "cell_type": "code",
   "execution_count": null,
   "metadata": {},
   "outputs": [],
   "source": [
    "np.quantile(r1,0.99,axis=0).mean(),np.quantile(r1,0.01,axis=0).mean()"
   ]
  },
  {
   "cell_type": "markdown",
   "metadata": {},
   "source": [
    "## Jointly do it"
   ]
  },
  {
   "cell_type": "code",
   "execution_count": null,
   "metadata": {},
   "outputs": [],
   "source": [
    "retire_year = defaultdict(list)\n",
    "for k,v in ratings.items():\n",
    "    #if not finish_career[k]:\n",
    "    #    continue\n",
    "    for idx,i in enumerate(sorted(v)):\n",
    "        retire_year[idx].append(i+1 in v)\n",
    "retire_year = {k:np.mean(v) for k,v in retire_year.items()}\n",
    "plt.plot(list(retire_year.keys()),list(retire_year.values()))"
   ]
  },
  {
   "cell_type": "code",
   "execution_count": null,
   "metadata": {},
   "outputs": [],
   "source": [
    "draft_year['jamesle01']"
   ]
  },
  {
   "cell_type": "code",
   "execution_count": null,
   "metadata": {},
   "outputs": [],
   "source": [
    "sages_real = []\n",
    "res_real = []\n",
    "year_league = []\n",
    "vec_real = []\n",
    "\n",
    "sages_real_out = []\n",
    "vec_real_out = []\n",
    "\n",
    "for i in range(20):\n",
    "    \n",
    "    tmp = [v[min(v)+i] for k,v in ratings.items() if len(v) > 0 and min(v)+i in v and draft_year[k] < 2003]\n",
    "    tmps = [min(v)+i for k,v in ratings.items() if len(v) > 0 and min(v)+i in v and draft_year[k] < 2003]\n",
    "\n",
    "    res_real.append(np.array(tmp*ovr_v).sum(1))\n",
    "    vec_real.append(tmp)\n",
    "\n",
    "    sages_real.append(tmps)\n",
    "    year_league.append(np.ones_like(res_real[-1])*i)\n",
    "    \n",
    "    tmp_out = [v[min(v)+i] for k,v in ratings.items() if len(v) > 0 and min(v)+i in v and min(v)+i+1 not in v and draft_year[k] < 2003]\n",
    "    tmps_out = [min(v)+i for k,v in ratings.items() if len(v) > 0 and min(v)+i in v and min(v)+i+1 not in v and draft_year[k] < 2003]\n",
    "\n",
    "    vec_real_out.append(tmp_out)\n",
    "\n",
    "    sages_real_out.append(tmps_out)\n",
    "    \n",
    "sages_real = np.array(sum(sages_real,[]))\n",
    "res_real = np.array(sum([list(_) for _ in res_real],[]))\n",
    "vec_real = np.array(sum([list(_) for _ in vec_real],[]))\n",
    "\n",
    "sages_real_out = np.array(sum(sages_real_out,[]))\n",
    "vec_real_out = np.array(sum([list(_) for _ in vec_real_out],[]))\n",
    "\n",
    "year_league = np.array(sum([list(_) for _ in year_league],[]))\n",
    "\n",
    "print(sages_real.shape[0],sages_real_out.shape,vec_real_out.shape)"
   ]
  },
  {
   "cell_type": "code",
   "execution_count": null,
   "metadata": {},
   "outputs": [],
   "source": [
    "progs_vec = np.vstack([base_model,np.hstack([models,np.array(std_models)[:,None]])])"
   ]
  },
  {
   "cell_type": "code",
   "execution_count": null,
   "metadata": {},
   "outputs": [],
   "source": [
    "class1 = np.vstack([(sages_real),(vec_real*ovr_v).sum(1)]).T\n",
    "class2 = np.vstack([(sages_real_out),(vec_real_out*ovr_v).sum(1)]).T\n",
    "rX = np.vstack([class1,class2])\n",
    "rY = np.hstack([np.ones(class1.shape[0]),np.zeros(class2.shape[0])])\n",
    "import sklearn.linear_model as linear\n",
    "\n",
    "r_clf = linear.LogisticRegressionCV(cv=3,Cs=100,scoring='neg_log_loss',class_weight='balanced')\n",
    "r_clf.fit(rX,rY)\n",
    "r_clf.coef_,r_clf.intercept_,r_clf.score(rX,rY)"
   ]
  },
  {
   "cell_type": "code",
   "execution_count": null,
   "metadata": {},
   "outputs": [],
   "source": [
    "plt.hist((vec_real*ovr_v).sum(1),density=True,alpha=0.5,label='stay')\n",
    "plt.hist((vec_real_out*ovr_v).sum(1),density=True,alpha=0.5,label='retire')\n",
    "plt.legend()\n",
    "(vec_real*ovr_v).sum(1).mean(),(vec_real_out*ovr_v).sum(1).mean()"
   ]
  },
  {
   "cell_type": "code",
   "execution_count": null,
   "metadata": {},
   "outputs": [],
   "source": [
    "pos_team_coach = np.array(list(0.75+0.25*np.arange(0,15)/15) + list(1+0.25*np.arange(1,16)/15))\n",
    "neg_team_coach = pos_team_coach[::-1]\n",
    "limits = [-1,4,-3,5]\n",
    "\n",
    "x0_f = list(np.log(list(og_mean_v+1e-2) + list(og_r_std)+ list(og_v_std))) + list(progs_vec.ravel()) + list(limits)\n",
    "x0_f = np.array(x0_f)\n",
    "x0_og = x0_f\n",
    "params = x0_f\n",
    "progs_vec.shape"
   ]
  },
  {
   "cell_type": "code",
   "execution_count": null,
   "metadata": {},
   "outputs": [],
   "source": [
    "youth.shape"
   ]
  },
  {
   "cell_type": "code",
   "execution_count": null,
   "metadata": {},
   "outputs": [],
   "source": [
    "def generate_players(mean_v,r_std,v_std,simN=1500):\n",
    "    f_hgt = np.random.randn(simN)*13.6 + 47.5\n",
    "    # kind of sloppy but want the distribution of youth too?\n",
    "    #_hgt = np.array(list(youth[:,7]) + list(rand_hgt))\n",
    "\n",
    "    pred_c = x0_c[0]*f_hgt+x0_c[1]\n",
    "    pred_cf = pred_c + x0_c[2]*np.random.randn(simN)\n",
    "    pred_c = np.clip(pred_cf,0,2)\n",
    "    rnd = np.clip(np.round(pred_c),0,2).astype(int)\n",
    "\n",
    "    v_m = (((np.random.randn(simN,4) * np.array(v_std) ) @ vmul) + 1)\n",
    "    pred_vec = (mean_v  + r_std[0]*np.random.randn(simN,15))\n",
    "    pred_vec[:,6] = f_hgt\n",
    "    pred_vec = v_m * c_mul[rnd] * pred_vec\n",
    "    pred_vec[:,6] = f_hgt\n",
    "    \n",
    "    return pred_vec, rnd\n",
    "\n",
    "def eval_draft(set1,set2,set2_class):\n",
    "    s1 = (set1*ovr_v).sum(1)\n",
    "    s1 = s1 > np.percentile(s1,50)\n",
    "    s2 = (set2*ovr_v).sum(1)\n",
    "    s2 = s2 > np.percentile(s2,50)\n",
    "\n",
    "    cov_err = ((np.cov(set1[s1],rowvar=False)-np.cov(set2[s2],rowvar=False))**2).mean()\n",
    "    cov_err2 = ((np.cov(set1,rowvar=False)-np.cov(set2,rowvar=False))**2).mean()\n",
    "\n",
    "    v1 = (ovr_v*set1[s1]).sum(1)\n",
    "    v2 = (ovr_v*set2[s2]).sum(1)\n",
    "\n",
    "    tb = min(100,int(np.ceil(max(v1.max(),v2.max()))))\n",
    "    bb = max(1,int(np.floor(min(v1.min(),v2.min()))))\n",
    "    sN = tb-bb+1\n",
    "    hist_set = np.linspace(bb,tb,sN)\n",
    "\n",
    "    h1 = np.histogram(v1,hist_set,density=True)[0]+1e-4\n",
    "    h2 = np.histogram(v2,hist_set,density=True)[0]+1e-4\n",
    "    kl1 = (np.log(h1/h2)*h1).sum()\n",
    "    kl2 = (np.log(h2/h1)*h2).sum()\n",
    "    mean_err = kl1+kl2\n",
    "\n",
    "\n",
    "    mean_err2 = ((set1[s1].mean(0)-set2[s2].mean(0))**2).sum()\n",
    "    mean_err3 = ((set1.mean(0)-set2.mean(0))**2).sum()\n",
    "    std_err1 = ((set1[s1].std(0)-set2[s2].std(0))**2).sum()\n",
    "    std_err2 = ((set1.std(0)-set2.std(0))**2).sum()\n",
    "\n",
    "    youth_pred_pos =  x0_c[0]*set1[:,6]+x0_c[1]+ x0_c[2]*np.random.randn(set1.shape[0])\n",
    "    youth_pred_pos = np.clip(np.round(youth_pred_pos),0,2).astype(int)\n",
    "    errs_pos = []\n",
    "    for i in range(3):\n",
    "        m1 = set1[s1 & (youth_pred_pos==i)]\n",
    "        m2 = set2[s2 & (set2_class==i)]\n",
    "        errs_pos.append(np.linalg.norm(m1.mean(0)-m2.mean(0)))\n",
    "        errs_pos.append(np.linalg.norm(m1.std(0)-m2.std(0)))\n",
    "        errs_pos.append(((np.cov(m1,rowvar=False)-np.cov(m2,rowvar=False))**2).mean())\n",
    "\n",
    "    err_pos = np.prod(errs_pos)#**(1/len(errs_pos))\n",
    "\n",
    "    err_pos = err_pos* std_err1*(std_err2**0.1)*cov_err*mean_err*mean_err2*(mean_err3**0.1)*(cov_err2**0.1 )\n",
    "    gen_err = ( err_pos) ** (1/5.3)\n",
    "    return gen_err\n",
    "gen_p, rnd_p = generate_players(mean_v,r_std,v_std)\n",
    "eval_draft(youth[:,1:],gen_p,rnd_p)"
   ]
  },
  {
   "cell_type": "code",
   "execution_count": null,
   "metadata": {},
   "outputs": [],
   "source": [
    "def progress_players(prog_model, prog_limits, initial_vec):\n",
    "    simN = initial_vec.shape[0]\n",
    "    sages = []\n",
    "    res_vec = []\n",
    "    y2y_corr = []\n",
    "    y2y_weight = []\n",
    "    work_rate = np.round(np.clip(initial_vec,1,100))\n",
    "    sim_age = np.random.choice(range(19,23),size=simN,p=[0.5,0.25,0.125,0.125])\n",
    "    valid_players = np.ones(simN).astype(bool)\n",
    "    sages_out = []\n",
    "    res_vec_out = [] \n",
    "    coach_sel = np.random.randint(0,30,simN)\n",
    "\n",
    "    for i in range(25):\n",
    "        progs_mean = sim_age[:,None]*prog_model[:,0]+prog_model[:,1]\n",
    "        progs_noise = np.random.randn(simN,16)*prog_model[:,2]\n",
    "        bc_prog = progs_mean[:,0] + np.clip(progs_noise[:,0],prog_limits[0],prog_limits[1])\n",
    "        bc_prog = bc_prog*np.where(bc_prog >0,pos_team_coach[coach_sel],neg_team_coach[coach_sel])\n",
    "        base_change = TRANS_FUNC(work_rate)+ bc_prog[:,None]\n",
    "        final_change = INV_FUNC(base_change + progs_mean[:,1:] + np.clip(progs_noise[:,1:],prog_limits[2],prog_limits[3]))\n",
    "        work_rate_new = np.round(np.clip(final_change,1,100))\n",
    "        #print(work_rate.shape,work_rate_new.shape,valid_players.sum())\n",
    "        r_corr = scipy.stats.pearsonr((work_rate[valid_players]*ovr_v).sum(1),(work_rate_new[valid_players]*ovr_v).sum(1))[0]\n",
    "        y2y_corr.append(r_corr)\n",
    "        y2y_weight.append(valid_players.sum())\n",
    "        work_rate_old = work_rate.copy()\n",
    "        work_rate = work_rate_new\n",
    "        #p_ovrs = (work_rate[valid_players]*ovr_v).sum(1)\n",
    "        p_ovrs_full =  (work_rate_old*ovr_v).sum(1)#+ 3*np.random.randn(simN)\n",
    "\n",
    "        \n",
    "        rXp = np.vstack([sim_age,p_ovrs_full]).T\n",
    "        valid_vec =  r_clf.predict_proba(rXp)[:,1] > np.random.rand(simN)\n",
    "        #print(i,(valid_vec &valid_players).sum()/valid_players.sum())\n",
    "        #print(scipy.stats.pearsonr(valid_vec,p_ovrs_full)[0])\n",
    "        #retire_ovr = np.percentile(p_ovrs,100-retire_year[i]*100)\n",
    "        #valid_vec =  p_ovrs_full >= retire_ovr\n",
    "\n",
    "        sages.append(sim_age[valid_players]+1)\n",
    "        res_vec.append(work_rate[valid_players])\n",
    "        sages_out.append(sim_age[valid_players & (~valid_vec)])\n",
    "        res_vec_out.append(work_rate[valid_players & (~valid_vec)])\n",
    "        \n",
    "        # move on\n",
    "        sim_age += 1\n",
    "        valid_players = valid_players & valid_vec\n",
    "        \n",
    "        if valid_players.sum() < 2:\n",
    "            break\n",
    "    sages = np.array(sum([list(_) for _ in sages],[]))\n",
    "    res_vec = np.array(sum([list(_) for _ in res_vec],[]))\n",
    "    sages_out = np.array(sum([list(_) for _ in sages_out],[]))\n",
    "    res_vec_out = np.array(sum([list(_) for _ in res_vec_out],[]))\n",
    "    \n",
    "    y2y_corr = np.array(y2y_corr)\n",
    "    y2y_weight = np.array(y2y_weight)\n",
    "    \n",
    "    return sages,res_vec,sages_out,res_vec_out, y2y_corr, y2y_weight\n",
    "sim_age, sim_rating, sim_out_age, sim_out_rating, y2y_c, y2y_w = progress_players(progs_vec,limits,gen_p)\n",
    "print(sim_age.shape,sim_out_age.shape)"
   ]
  },
  {
   "cell_type": "code",
   "execution_count": null,
   "metadata": {},
   "outputs": [],
   "source": [
    "plt.hist((vec_real*ovr_v).sum(1),25,alpha=0.5,density=True)\n",
    "plt.hist((sim_rating*ovr_v).sum(1),25,alpha=0.5,density=True)"
   ]
  },
  {
   "cell_type": "code",
   "execution_count": null,
   "metadata": {},
   "outputs": [],
   "source": [
    "def eval_traj_err(s_ages,s_ratings,p_ages,p_ratings):\n",
    "    weights = []\n",
    "    bin_edges = np.array([-100] + list(np.linspace(53,75,23)) + [200])\n",
    "    traj_errs = []\n",
    "    for a in range(20,40):\n",
    "        real_filt = s_ages==a\n",
    "        sim_filt = p_ages==a\n",
    "        wt = real_filt.sum()\n",
    "        if real_filt.sum() < 2 or sim_filt.sum() < 2:\n",
    "            continue\n",
    "\n",
    "        #print(real_filt.sum(),sim_filt.sum(),s_ratings.shape,p_ratings.shape,real_filt.shape,sim_filt.shape)\n",
    "        realV = s_ratings[real_filt]\n",
    "        simV = p_ratings[sim_filt]\n",
    "        weights.append(wt)\n",
    "\n",
    "        real_covar = np.cov(realV,rowvar=False)\n",
    "        sim_covar = np.cov(simV,rowvar=False)\n",
    "        covar_err = np.linalg.norm(real_covar.ravel() - sim_covar.ravel())\n",
    "\n",
    "        real_ovr = (realV*ovr_v).sum(1)\n",
    "        sim_ovr = (simV*ovr_v).sum(1)\n",
    "        real_hist = np.histogram(real_ovr,bin_edges,density=True)[0]+1e-9\n",
    "        sim_hist = np.histogram(sim_ovr,bin_edges,density=True)[0]+1e-9\n",
    "        kl1 = (real_hist * np.log(real_hist/sim_hist)).sum()\n",
    "        kl2 = (sim_hist * np.log(sim_hist/real_hist)).sum()\n",
    "        ovr_err = kl1+kl2\n",
    "\n",
    "        mean_err = np.linalg.norm(realV.mean(0)-simV.mean(0))\n",
    "        std_err = np.linalg.norm(realV.std(0)-simV.std(0))\n",
    "\n",
    "        traj_errs.append([covar_err,ovr_err,mean_err,std_err])\n",
    "    weights = np.array(weights)\n",
    "    weights = weights/weights.sum()\n",
    "    traj_err = np.prod((np.array(traj_errs) *weights[:,None]).sum(0))\n",
    "    return traj_err\n",
    "t_err1 = eval_traj_err(sages_real,vec_real,sim_age,sim_rating)\n",
    "t_err2 = eval_traj_err(sages_real_out,vec_real_out,sim_out_age,sim_out_rating)\n",
    "t_err1,t_err2\n"
   ]
  },
  {
   "cell_type": "code",
   "execution_count": null,
   "metadata": {},
   "outputs": [],
   "source": [
    "def eval_system(params):\n",
    "    mean_v = np.exp(params[:15])\n",
    "    r_std = np.exp(params[15:16])\n",
    "    v_std = np.exp(params[16:20])\n",
    "    p_model = np.array(params[20:68]).reshape((16,3))\n",
    "    n_limits = params[68:72]\n",
    "    p_model[7,:] *= 0 # no hgt model\n",
    "    \n",
    "    total_errors = []\n",
    "    for i in range(10):\n",
    "        np.random.seed(9411+i)\n",
    "        \n",
    "        gen_p, rnd_p = generate_players(mean_v,r_std,v_std)\n",
    "        gen_err = eval_draft(youth[:,1:],gen_p,rnd_p)\n",
    "        \n",
    "        sim_age, sim_rating, sim_out_age, sim_out_rating, y2y_c, y2y_w = progress_players(p_model,n_limits,gen_p)\n",
    "\n",
    "        y2y_w = np.array(y2y_w)\n",
    "        y2y_w = y2y_w/y2y_w.sum()\n",
    "        r2r_err = (abs(np.array(y2y_c)-0.826)*y2y_w).sum()\n",
    "\n",
    "        t_err1 = eval_traj_err(sages_real,vec_real,sim_age,sim_rating)\n",
    "        t_err2 = eval_traj_err(sages_real_out,vec_real_out,sim_out_age,sim_out_rating)\n",
    "        \n",
    "        total_errors.append(  (t_err1*(t_err2**0.4)*(r2r_err**0.1)*(gen_err**0.2))**(1/1.7) )\n",
    "    final_error = np.mean(total_errors)\n",
    "    if np.isnan(final_error):\n",
    "        return 1e7\n",
    "    return final_error\n",
    "\n",
    "x0_1 = np.array([ 3.67373654e+00,  3.66905625e+00,  3.68390410e+00,  3.13469021e+00,\n",
    "        3.52026399e+00,  3.57726975e+00,  1.72220416e+01,  3.62462646e+00,\n",
    "        3.54796892e+00,  3.62621522e+00,  3.65832143e+00,  3.81477982e+00,\n",
    "        3.61031017e+00,  3.83607014e+00,  3.69402878e+00, -1.88580283e-01,\n",
    "       -1.05560750e+01, -2.17844662e+00, -2.53289570e+00, -3.44600098e+00,\n",
    "       -3.26663088e-01,  6.24595471e+00,  4.20215185e+00, -9.98221236e-02,\n",
    "        2.84101693e+00, -9.49736583e-01, -5.20868701e-02,  1.78076764e+00,\n",
    "        1.20502905e+00,  9.65965624e-02, -3.05958759e+00, -1.44558919e-02,\n",
    "       -5.20189668e-01,  1.38421204e+01,  2.30124850e+00,  1.45674125e-02,\n",
    "        6.95388511e-02,  5.44261072e-01,  1.54549623e-01, -3.89062486e+00,\n",
    "       -7.06830317e-02, -2.26848916e-01, -1.53908669e+01, -4.51786142e-01,\n",
    "       -3.20204505e-02,  9.24024797e-01,  7.56065408e-01, -2.46864504e-01,\n",
    "        5.44631006e+00,  1.48628803e+00,  7.64093838e-02, -2.03944229e+00,\n",
    "        4.05732637e-01,  1.57065309e-01, -4.60172584e+00,  2.87683167e-01,\n",
    "        4.24367515e-02, -9.64028846e-01, -9.81072076e-02, -5.73373608e-02,\n",
    "        4.40467853e-01,  3.23263336e-01, -9.89722896e-02,  2.67530918e+00,\n",
    "        2.30973584e-01,  1.37678614e-01, -3.90892064e+00,  6.79816488e-01,\n",
    "       -1.01514319e+00,  4.08077471e+00, -3.00145527e+00,  4.90089870e+00])\n",
    "\n",
    "x0_12 = np.array([ 3.72257455,  3.72976193,  3.71423065,  3.27672969,  3.4913225 ,\n",
    "        3.48569829, -3.32094681,  3.60413194,  3.56845201,  3.57529994,\n",
    "        3.64165549,  3.80845703,  3.67881184,  3.89516036,  3.7648139 ,\n",
    "        1.26562861, -4.15848959, -2.09103794, -3.30725258, -1.97664841,\n",
    "       -0.30662487,  6.13758246,  3.00124879,  0.1250035 , -2.64406875,\n",
    "        0.23382601,  0.08818039, -2.03138477,  0.18569866,  0.10443687,\n",
    "       -3.40891316,  0.11259687, -0.34268688,  9.12871378,  0.64275184,\n",
    "        0.01154811,  0.01841008,  0.14835288,  0.05987082, -1.20433936,\n",
    "        0.15866409,  0.16905976, -3.57995197,  0.34529105,  0.04619042,\n",
    "       -1.0178527 ,  0.36117147, -0.16308519,  2.88359828,  0.87373374,\n",
    "       -0.05358755,  1.49363197,  0.19903506,  0.08685232, -2.5975197 ,\n",
    "        0.10171959,  0.09052306, -2.0781758 ,  0.22330404, -0.14960772,\n",
    "        2.08126933,  0.36392916, -0.03694724,  0.85825729,  0.20325397,\n",
    "        0.07512503, -3.19677288,  0.41691565, -1.08579965,  5.55665434,\n",
    "       -3.65860969,  5.80256083])\n",
    "x0_f = x0_og\n",
    "eval_system(x0_f) # 21.8 linear\n"
   ]
  },
  {
   "cell_type": "code",
   "execution_count": null,
   "metadata": {},
   "outputs": [],
   "source": [
    "es_final = cma.CMAEvolutionStrategy(x0_f,1,{'CMA_stds':[abs(_)/10 for _ in x0_f],'popsize':45}) # \n",
    "es_final.optimize(eval_system)"
   ]
  },
  {
   "cell_type": "code",
   "execution_count": null,
   "metadata": {},
   "outputs": [],
   "source": [
    "\n",
    "if False:\n",
    "    from cmaes import CMA\n",
    "\n",
    "    optimizer = CMA(mean=x0_f, sigma=0.01,population_size=16)\n",
    "\n",
    "    for generation in range(5000):\n",
    "        solutions = []\n",
    "        for _ in range(optimizer.population_size):\n",
    "            x = optimizer.ask()\n",
    "            value = eval_system(x)\n",
    "            solutions.append((x, value))\n",
    "            #print(f\"#{generation} {value}\")\n",
    "        v = np.array([_[1] for _ in solutions])\n",
    "        print('f#{} {:.2f} {:.2f} {:.2f}'.format(generation,v.mean(),v.min(),v.std()))\n",
    "        optimizer.tell(solutions)"
   ]
  },
  {
   "cell_type": "code",
   "execution_count": null,
   "metadata": {},
   "outputs": [],
   "source": [
    "#configs = [optimizer.ask() for _ in range(100)]\n",
    "#sorted([(eval_system(_),_) for _ in configs])[0][1]"
   ]
  },
  {
   "cell_type": "code",
   "execution_count": null,
   "metadata": {},
   "outputs": [],
   "source": [
    "es_final.best.x"
   ]
  },
  {
   "cell_type": "code",
   "execution_count": null,
   "metadata": {},
   "outputs": [],
   "source": [
    "params = x0_f\n",
    "mean_v2 = np.exp(params[:15])\n",
    "r_std2 = np.exp(params[15:16])\n",
    "v_std2 = np.exp(params[16:20])\n",
    "p_model2 = np.array(params[20:68]).reshape((16,3))\n",
    "n_limits2 = params[68:72]\n",
    "p_model2[7,:] *= 0\n",
    "\n",
    "gen_p, rnd_p = generate_players(mean_v2,r_std2,v_std2)\n",
    "gen_err = eval_draft(youth[:,1:],gen_p,rnd_p)\n",
    "\n",
    "sim_age, sim_rating, sim_out_age, sim_out_rating, y2y_c, y2y_w = progress_players(p_model2,n_limits2,gen_p)\n",
    "\n",
    "y2y_w = np.array(y2y_w)\n",
    "y2y_w = y2y_w/y2y_w.sum()\n",
    "r2r_err = (abs(np.array(y2y_c)-0.826)*y2y_w).sum()\n",
    "\n",
    "t_err1 = eval_traj_err(sages_real,vec_real,sim_age,sim_rating)\n",
    "t_err2 = eval_traj_err(sages_real_out,vec_real_out,sim_out_age,sim_out_rating)\n",
    "\n",
    "t_err_t = (t_err1*t_err2*r2r_err*(gen_err**0.1))**(1/3.1) \n",
    "t_err_t"
   ]
  },
  {
   "cell_type": "code",
   "execution_count": null,
   "metadata": {},
   "outputs": [],
   "source": [
    "#retire_year"
   ]
  },
  {
   "cell_type": "code",
   "execution_count": null,
   "metadata": {},
   "outputs": [],
   "source": [
    "t_err1,t_err2"
   ]
  },
  {
   "cell_type": "code",
   "execution_count": null,
   "metadata": {},
   "outputs": [],
   "source": [
    "t_err1,t_err2,r2r_err,gen_err\n",
    "# (6166.472371806296, 0.10848798097683329, 6552.872338463377), 580, 0.3, 6.3, 6.9\n",
    "# (36739.73623341423, 0.1038815935569617, 6155.047251477428), 560, 0.6, 19.4, 6.6\n",
    "#(6093.079138098562, 56403.49254850698, 0.04840360363522021, 33063.55880033413)"
   ]
  },
  {
   "cell_type": "code",
   "execution_count": null,
   "metadata": {},
   "outputs": [],
   "source": [
    "\n",
    "xp = sorted(np.unique(sages_real))\n",
    "yp = []\n",
    "yp_s = []\n",
    "for a in xp:\n",
    "    r = (vec_real[sages_real==a]*ovr_v).sum(1)\n",
    "    yp.append(r.mean())\n",
    "    yp_s.append(r.std())\n",
    "yp = np.array(yp)\n",
    "yp_s = np.array(yp_s)\n",
    "\n",
    "xp2 = sorted(np.unique(sages_real_out))\n",
    "yp2 = []\n",
    "yp_s2 = []\n",
    "for a in xp2:\n",
    "    r = (vec_real_out[sages_real_out==a]*ovr_v).sum(1)\n",
    "    yp2.append(r.mean())\n",
    "    yp_s2.append(r.std())\n",
    "yp2 = np.array(yp2)\n",
    "yp_s2 = np.array(yp_s2)\n",
    "\n",
    "plt.style.use('fivethirtyeight')\n",
    "plt.plot(xp,yp,label='remain')\n",
    "plt.fill_between(xp,yp+yp_s,yp-yp_s,alpha=0.5)\n",
    "plt.plot(xp2,yp2,label='retire')\n",
    "plt.fill_between(xp2,yp2+yp_s2,yp2-yp_s2,alpha=0.5)\n",
    "\n",
    "plt.xlabel('age')\n",
    "plt.ylabel('ovr')\n",
    "plt.grid(True)\n",
    "plt.xlim(20,37)\n",
    "plt.ylim(45,65)\n",
    "plt.legend(frameon=True)"
   ]
  },
  {
   "cell_type": "code",
   "execution_count": null,
   "metadata": {},
   "outputs": [],
   "source": [
    "\n",
    "xp = sorted(np.unique(sim_age))\n",
    "yp = []\n",
    "yp_s = []\n",
    "for a in xp:\n",
    "    r = (sim_rating[sim_age==a]*ovr_v).sum(1)\n",
    "    yp.append(r.mean())\n",
    "    yp_s.append(r.std())\n",
    "yp = np.array(yp)\n",
    "yp_s = np.array(yp_s)\n",
    "\n",
    "xp2 = sorted(np.unique(sim_out_age))\n",
    "yp2 = []\n",
    "yp_s2 = []\n",
    "for a in xp2:\n",
    "    r = (sim_out_rating[sim_out_age==a]*ovr_v).sum(1)\n",
    "    yp2.append(r.mean())\n",
    "    yp_s2.append(r.std())\n",
    "yp2 = np.array(yp2)\n",
    "yp_s2 = np.array(yp_s2)\n",
    "\n",
    "plt.style.use('fivethirtyeight')\n",
    "plt.plot(xp,yp,label='remain')\n",
    "plt.fill_between(xp,yp+yp_s,yp-yp_s,alpha=0.5)\n",
    "plt.plot(xp2,yp2,label='retire')\n",
    "plt.fill_between(xp2,yp2+yp_s2,yp2-yp_s2,alpha=0.5)\n",
    "\n",
    "plt.xlabel('age')\n",
    "plt.ylabel('ovr')\n",
    "plt.grid(True)\n",
    "plt.xlim(20,37)\n",
    "plt.ylim(45,75)\n",
    "plt.legend(frameon=True)"
   ]
  },
  {
   "cell_type": "code",
   "execution_count": null,
   "metadata": {},
   "outputs": [],
   "source": [
    "yp"
   ]
  },
  {
   "cell_type": "code",
   "execution_count": null,
   "metadata": {},
   "outputs": [],
   "source": [
    "yp2"
   ]
  },
  {
   "cell_type": "code",
   "execution_count": null,
   "metadata": {},
   "outputs": [],
   "source": [
    "\n",
    "xp = sorted(np.unique(sim_age))\n",
    "yp = []\n",
    "yp_s = []\n",
    "for a in xp:\n",
    "    r = (sim_rating[sim_age==a]*ovr_v).sum(1)\n",
    "    yp.append(r.mean())\n",
    "    yp_s.append(r.std())\n",
    "yp = np.array(yp)\n",
    "yp_s = np.array(yp_s)\n",
    "\n",
    "xp2 = sorted(np.unique(sages_real))\n",
    "yp2 = []\n",
    "yp_s2 = []\n",
    "for a in xp2:\n",
    "    if (sages_real==a).sum() > 0:\n",
    "        yp2.append(res_real[sages_real==a].mean())\n",
    "        yp_s2.append(res_real[sages_real==a].std())\n",
    "yp2 = np.array(yp2)\n",
    "yp_s2 = np.array(yp_s2)\n",
    "\n",
    "plt.style.use('fivethirtyeight')\n",
    "plt.plot(xp2,yp2,label='rpd')\n",
    "plt.fill_between(xp2,yp2+yp_s2,yp2-yp_s2,alpha=0.5)\n",
    "plt.plot(xp,yp,label='sim')\n",
    "plt.fill_between(xp,yp+yp_s,yp-yp_s,alpha=0.5)\n",
    "plt.xlabel('age')\n",
    "plt.ylabel('ovr')\n",
    "plt.grid(True)\n",
    "plt.xlim(20,37)\n",
    "#plt.ylim(40,57)\n",
    "plt.legend(frameon=True)"
   ]
  },
  {
   "cell_type": "code",
   "execution_count": null,
   "metadata": {},
   "outputs": [],
   "source": [
    "#real_names[np.argsort(res_real)[-10:]]"
   ]
  },
  {
   "cell_type": "code",
   "execution_count": null,
   "metadata": {},
   "outputs": [],
   "source": [
    "plt.hist((vec_real*ovr_v).sum(1),25,alpha=0.5,density=True)\n",
    "plt.hist((sim_rating*ovr_v).sum(1),25,alpha=0.5,density=True)"
   ]
  },
  {
   "cell_type": "code",
   "execution_count": null,
   "metadata": {},
   "outputs": [],
   "source": [
    "r_std2,v_std2,n_limits2"
   ]
  },
  {
   "cell_type": "code",
   "execution_count": null,
   "metadata": {},
   "outputs": [],
   "source": [
    "mean_v2,p_model2"
   ]
  },
  {
   "cell_type": "code",
   "execution_count": null,
   "metadata": {},
   "outputs": [],
   "source": [
    "for c,r in zip(cols, np.array([42, 43, 38, 29, 36, 35, 0, 40, 36, 37, 37, 45, 36, 49, 38])-mean_v2):\n",
    "    print(c,r)\n"
   ]
  },
  {
   "cell_type": "code",
   "execution_count": null,
   "metadata": {},
   "outputs": [],
   "source": [
    "plt.plot(np.arange(20,35),np.arange(20,35)*p_model2[0,0] +p_model2[0,1],label='new')\n",
    "plt.plot(np.arange(20,35),np.arange(20,35)*base_model[0] +base_model[1],label='old')\n",
    "plt.plot(np.arange(20,35),np.ones_like(np.arange(20,35))*p_model2[0,2],label='new')\n",
    "plt.plot(np.arange(20,35),np.ones_like(np.arange(20,35))*base_model[2],label='old')\n",
    "\n",
    "plt.plot([19,35],[0,0],c='k',ls='--')\n",
    "plt.grid(True)\n",
    "plt.legend()"
   ]
  },
  {
   "cell_type": "code",
   "execution_count": null,
   "metadata": {},
   "outputs": [],
   "source": [
    "plt.style.use('seaborn-white')\n",
    "for i in range(r1.shape[1]):\n",
    "    plt.plot(np.arange(20,35),np.arange(20,35)*p_model2[1+i,0] +p_model2[1+i,1],label=cols[i],c=plt.cm.tab20(i))\n",
    "plt.legend()\n",
    "plt.xlim(19,35)\n",
    "#plt.ylim(-4,4)\n",
    "plt.grid(True)"
   ]
  },
  {
   "cell_type": "code",
   "execution_count": null,
   "metadata": {},
   "outputs": [],
   "source": [
    "plt.figure(figsize=(8,6))\n",
    "plt.style.use('seaborn-white')\n",
    "for i in range(r1.shape[1]):\n",
    "    plt.plot(np.arange(20,40),np.arange(20,40)*p_model2[0,0] +p_model2[0,1]+np.arange(20,40)*p_model2[1+i,0] +p_model2[1+i,1],label=cols[i],c=plt.cm.tab20(i))\n",
    "plt.legend(loc='lower center', bbox_to_anchor=(0.5, 1.05),\n",
    "          ncol=5, fancybox=True, shadow=True, borderaxespad=0.)\n",
    "#plt.xlim(19,35)\n",
    "#plt.ylim(-4,4)\n",
    "plt.grid(True)\n",
    "plt.tight_layout()"
   ]
  },
  {
   "cell_type": "code",
   "execution_count": null,
   "metadata": {},
   "outputs": [],
   "source": [
    "for c, r in zip(cols,mean_v2):\n",
    "    if c != 'hgt':\n",
    "        print(c,':',int(np.round(r)),',')"
   ]
  },
  {
   "cell_type": "code",
   "execution_count": null,
   "metadata": {},
   "outputs": [],
   "source": [
    "print(len(cols),len(p_model2))\n",
    "for k,v in zip(['base'] + cols,p_model2):\n",
    "    if k == 'hgt':continue\n",
    "    print('{}: {},'.format(k,[round(_,3) for _ in v]))"
   ]
  },
  {
   "cell_type": "code",
   "execution_count": null,
   "metadata": {},
   "outputs": [],
   "source": []
  },
  {
   "cell_type": "code",
   "execution_count": null,
   "metadata": {},
   "outputs": [],
   "source": []
  },
  {
   "cell_type": "code",
   "execution_count": null,
   "metadata": {},
   "outputs": [],
   "source": []
  },
  {
   "cell_type": "code",
   "execution_count": null,
   "metadata": {},
   "outputs": [],
   "source": []
  }
 ],
 "metadata": {
  "kernelspec": {
   "display_name": "Python 3",
   "language": "python",
   "name": "python3"
  },
  "language_info": {
   "codemirror_mode": {
    "name": "ipython",
    "version": 3
   },
   "file_extension": ".py",
   "mimetype": "text/x-python",
   "name": "python",
   "nbconvert_exporter": "python",
   "pygments_lexer": "ipython3",
   "version": "3.7.3"
  }
 },
 "nbformat": 4,
 "nbformat_minor": 2
}
