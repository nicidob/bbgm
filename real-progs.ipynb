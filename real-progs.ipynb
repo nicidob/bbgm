{
 "cells": [
  {
   "cell_type": "code",
   "execution_count": null,
   "metadata": {},
   "outputs": [],
   "source": [
    "import json\n",
    "import pandas as pd\n",
    "import numpy as np\n",
    "import matplotlib.pyplot as plt\n",
    "import seaborn as sns"
   ]
  },
  {
   "cell_type": "markdown",
   "metadata": {},
   "source": [
    "## Load the historic player data"
   ]
  },
  {
   "cell_type": "code",
   "execution_count": null,
   "metadata": {},
   "outputs": [],
   "source": [
    "data = json.load(open('real-player.json','rb'))"
   ]
  },
  {
   "cell_type": "code",
   "execution_count": null,
   "metadata": {},
   "outputs": [],
   "source": [
    "df = pd.DataFrame(data['ratings'])"
   ]
  },
  {
   "cell_type": "code",
   "execution_count": null,
   "metadata": {},
   "outputs": [],
   "source": [
    "df = df.drop(['fuzz','abbrev_if_new_row'],1)#.set_index(['slug','season'])"
   ]
  },
  {
   "cell_type": "code",
   "execution_count": null,
   "metadata": {},
   "outputs": [],
   "source": [
    "df = df.set_index(['slug','season']).reset_index()"
   ]
  },
  {
   "cell_type": "code",
   "execution_count": null,
   "metadata": {},
   "outputs": [],
   "source": [
    "cols = list(df.columns[2:])"
   ]
  },
  {
   "cell_type": "code",
   "execution_count": null,
   "metadata": {},
   "outputs": [],
   "source": [
    "ratings  = {}\n",
    "for row in df.itertuples():\n",
    "    ratings[(row[1],row[2])] = list(row[3:])"
   ]
  },
  {
   "cell_type": "code",
   "execution_count": null,
   "metadata": {},
   "outputs": [],
   "source": [
    "data['bios']['abdulka01']"
   ]
  },
  {
   "cell_type": "code",
   "execution_count": null,
   "metadata": {},
   "outputs": [],
   "source": [
    "ratings[('jordami01',1985)]"
   ]
  },
  {
   "cell_type": "code",
   "execution_count": null,
   "metadata": {},
   "outputs": [],
   "source": [
    "# only use recent-ish players\n",
    "from collections import defaultdict\n",
    "player_year_rate = defaultdict(dict)\n",
    "for i,r in ratings.items():\n",
    "    if data['bios'][i[0]]['bornYear'] < 1956:\n",
    "        continue\n",
    "    if i[1] > 2019:\n",
    "        continue\n",
    "    age=  i[1]-data['bios'][i[0]]['bornYear']\n",
    "    player_year_rate[i[0]][age] = np.array(r)"
   ]
  },
  {
   "cell_type": "code",
   "execution_count": null,
   "metadata": {},
   "outputs": [],
   "source": [
    "# smooth their ratings\n",
    "import scipy\n",
    "SMOOTHING_STD = 0.65\n",
    "play = player_year_rate['malonka01'] # greendr01 jamesle01 hardeja01 malonka01\n",
    "minY = min(play.keys())\n",
    "maxY = max(play.keys())\n",
    "res = []\n",
    "for i in range(minY,maxY+1):\n",
    "    #print(i)\n",
    "    #res.append(play.get(i,[np.nan for j in range(15)]))\n",
    "    res.append(play[i] if i in play else res[-1])\n",
    "\n",
    "i = 8\n",
    "plt.plot(range(minY,maxY+1),np.array(res)[:,i],label='orig')\n",
    "plt.plot(range(minY,maxY+1),scipy.ndimage.gaussian_filter1d(np.array(res).astype(float),SMOOTHING_STD,mode='nearest',axis=0,truncate=10)[:,i],label='new')\n",
    "plt.legend()\n",
    "plt.title(cols[i])"
   ]
  },
  {
   "cell_type": "code",
   "execution_count": null,
   "metadata": {},
   "outputs": [],
   "source": [
    "play_year_rateSmooth = {}\n",
    "for key,play in player_year_rate.items():\n",
    "    minY = min(play.keys())\n",
    "    maxY = max(play.keys())\n",
    "    res = []\n",
    "    for i in range(minY,maxY+1):\n",
    "        #res.append(play.get(i,[np.nan for j in range(15)]))\n",
    "        res.append(play[i] if i in play else res[-1])\n",
    "    res = np.array(res).astype(float)\n",
    "    reS = scipy.ndimage.gaussian_filter1d(res,SMOOTHING_STD,mode='nearest',axis=0,truncate=10)\n",
    "    p2 = {}\n",
    "    for idx,age in enumerate(range(minY,maxY+1)):\n",
    "        if age in play:\n",
    "            p2[age] = reS[idx]\n",
    "    play_year_rateSmooth[key] = p2"
   ]
  },
  {
   "cell_type": "code",
   "execution_count": null,
   "metadata": {},
   "outputs": [],
   "source": [
    "r1 = []\n",
    "r2 = []\n",
    "r5 = []\n",
    "for play in play_year_rateSmooth.values():\n",
    "    for age,r in play.items():\n",
    "        if age-1 in play:\n",
    "            age2 = age-1\n",
    "            r1.append(play[age]-play[age-1])\n",
    "            r2.append(age2)\n",
    "            r5.append(play[age-2]-play[age-1] if age-2 in play else 0*play[age])\n",
    "r1 = np.array(r1)\n",
    "r2 = np.array(r2)\n",
    "r5 = np.array(r5)"
   ]
  },
  {
   "cell_type": "markdown",
   "metadata": {},
   "source": [
    "## Model development"
   ]
  },
  {
   "cell_type": "code",
   "execution_count": null,
   "metadata": {},
   "outputs": [],
   "source": [
    "age_res = []\n",
    "for age in sorted(np.unique(r2)):\n",
    "    age_res.append(r1[r2==age].mean(0))\n",
    "age_res = np.array(age_res)\n",
    "for i in range(15):\n",
    "    plt.plot(sorted(np.unique(r2)),age_res[:,i],label=cols[i],c=plt.cm.tab20(i))\n",
    "plt.xlim(right=35)\n",
    "plt.legend()"
   ]
  },
  {
   "cell_type": "code",
   "execution_count": null,
   "metadata": {},
   "outputs": [],
   "source": [
    "import sklearn.linear_model as linear_model\n",
    "\n",
    "TIMES_TO_FIT = 35\n",
    "\n",
    "clf_models = []\n",
    "for i in range(TIMES_TO_FIT):\n",
    "    clf = linear_model.SGDRegressor('epsilon_insensitive',alpha=1e-5,epsilon=0,max_iter=10000,tol=1e-9)\n",
    "    clf.fit(np.repeat(r2,15)[:,None],r1.ravel())\n",
    "    score = clf.score(np.repeat(r2,15)[:,None],r1.ravel())\n",
    "    clf_models.append((score,clf))\n",
    "best_model = sorted(clf_models)[-1]\n",
    "clf = best_model[1]\n",
    "print(best_model[0])\n",
    "main_model = (clf.coef_[0] , clf.intercept_[0])"
   ]
  },
  {
   "cell_type": "code",
   "execution_count": null,
   "metadata": {},
   "outputs": [],
   "source": [
    "plt.plot(np.unique(r2),np.unique(r2)*main_model[0] +main_model[1])\n",
    "plt.grid(True)"
   ]
  },
  {
   "cell_type": "code",
   "execution_count": null,
   "metadata": {},
   "outputs": [],
   "source": [
    "models = []\n",
    "for i in range(r1.shape[1]):\n",
    "    clf_models = []\n",
    "    for _ in range(TIMES_TO_FIT):\n",
    "        clf = linear_model.SGDRegressor('epsilon_insensitive',alpha=1e-5,epsilon=0,max_iter=10000,tol=1e-9)\n",
    "        clf.fit(np.array(r2)[:,None],r1[:,i]-(main_model[0]*r2+main_model[1]))\n",
    "        score = clf.score(np.array(r2)[:,None],r1[:,i]-(main_model[0]*r2+main_model[1]))\n",
    "        clf_models.append((score,clf))\n",
    "    best_model = sorted(clf_models)[-1]\n",
    "    clf = best_model[1]\n",
    "    print(best_model[0])\n",
    "    models.append((clf.coef_[0],clf.intercept_[0]))"
   ]
  },
  {
   "cell_type": "code",
   "execution_count": null,
   "metadata": {},
   "outputs": [],
   "source": [
    "plt.style.use('seaborn-white')\n",
    "for i in range(r1.shape[1]):\n",
    "    plt.plot(np.unique(r2),np.unique(r2)*models[i][0]+models[i][1],label=cols[i],c=plt.cm.tab20(i))\n",
    "plt.legend()\n",
    "plt.xlim(19,34)\n",
    "plt.ylim(-4,4)\n",
    "plt.grid(True)"
   ]
  },
  {
   "cell_type": "code",
   "execution_count": null,
   "metadata": {},
   "outputs": [],
   "source": [
    "means_expected = []\n",
    "for i in range(r1.shape[1]):\n",
    "    means_expected.append(models[i][0]*r2 + models[i][1] + (main_model[0]*r2+main_model[1]) )"
   ]
  },
  {
   "cell_type": "code",
   "execution_count": null,
   "metadata": {},
   "outputs": [],
   "source": [
    "# rank1 approximations of this would be really cool\n",
    "# but sampling multivariate Gaussians seems... annoying?\n",
    "removed_means = r1 - np.array(means_expected).T"
   ]
  },
  {
   "cell_type": "code",
   "execution_count": null,
   "metadata": {},
   "outputs": [],
   "source": [
    "plt.figure(figsize=(20,20))\n",
    "i = 1\n",
    "for age in sorted(np.unique(r2)):\n",
    "    if (r2 == age).sum() < 2:\n",
    "          continue\n",
    "    plt.subplot(4,6,i)\n",
    "    i += 1\n",
    "    covar = np.cov(removed_means[r2 == age],rowvar=False)\n",
    "    plt.imshow(covar)\n",
    "    plt.xticks(np.arange(15),cols,rotation=45)\n",
    "    plt.yticks(np.arange(15),cols)\n",
    "    plt.title('age={}  max={:.0f}'.format(age,covar.max()))\n",
    "plt.tight_layout(pad=0.1,h_pad=0)\n",
    "plt.gcf().subplots_adjust(hspace=-0.6)"
   ]
  },
  {
   "cell_type": "code",
   "execution_count": null,
   "metadata": {},
   "outputs": [],
   "source": [
    "age_w = []\n",
    "ages = sorted(np.unique(r2))\n",
    "age_stds = []\n",
    "for age in ages:\n",
    "    age_w.append((r2==age).sum())\n",
    "    age_stds.append(removed_means[r2==age].std(axis=0))\n",
    "age_stds = np.array(age_stds)\n",
    "age_w = np.array(age_w)\n",
    "age_w = age_w/age_w.mean()"
   ]
  },
  {
   "cell_type": "code",
   "execution_count": null,
   "metadata": {},
   "outputs": [],
   "source": [
    "clf = linear_model.RidgeCV()#SGDRegressor(loss='epsilon_insensitive',alpha=0,epsilon=0)\n",
    "clf.fit(np.repeat(ages,15)[:,None],age_stds.ravel(),sample_weight=np.repeat(age_w,15))\n",
    "base_model = list(main_model) + [clf.coef_[0],clf.intercept_]"
   ]
  },
  {
   "cell_type": "code",
   "execution_count": null,
   "metadata": {},
   "outputs": [],
   "source": [
    "plt.plot(np.unique(r2),np.unique(r2)*clf.coef_[0] +clf.intercept_,lw=3)"
   ]
  },
  {
   "cell_type": "code",
   "execution_count": null,
   "metadata": {},
   "outputs": [],
   "source": [
    "std_models = []\n",
    "for i in range(15):\n",
    "    clf = linear_model.RidgeCV()#SGDRegressor(loss='epsilon_insensitive',alpha=0,epsilon=0)\n",
    "    clf.fit(np.array(ages)[:,None],np.maximum(0,age_stds[:,i]-(np.array(ages)*base_model[2] + base_model[3])),sample_weight = age_w)\n",
    "    std_models.append((clf.coef_[0],clf.intercept_))"
   ]
  },
  {
   "cell_type": "code",
   "execution_count": null,
   "metadata": {},
   "outputs": [],
   "source": [
    "plt.style.use('seaborn-white')\n",
    "for i in range(r1.shape[1]):\n",
    "    plt.plot(np.unique(r2),np.unique(r2)*std_models[i][0] + std_models[i][1],label=cols[i],c=plt.cm.tab20(i),lw=3)\n",
    "plt.legend()\n",
    "plt.xlim(19,34)\n",
    "plt.grid(True)"
   ]
  },
  {
   "cell_type": "code",
   "execution_count": null,
   "metadata": {},
   "outputs": [],
   "source": [
    "models"
   ]
  },
  {
   "cell_type": "code",
   "execution_count": null,
   "metadata": {},
   "outputs": [],
   "source": [
    "clf.intercept_"
   ]
  },
  {
   "cell_type": "code",
   "execution_count": null,
   "metadata": {},
   "outputs": [],
   "source": [
    "dat_print = {cols[i]:tuple(np.round(row,3)) for i,row in enumerate(np.hstack([models,std_models]))}"
   ]
  },
  {
   "cell_type": "code",
   "execution_count": null,
   "metadata": {},
   "outputs": [],
   "source": [
    "print('{} {},'.format(\"base\",list(np.round(base_model,3))))\n",
    "for k,v in dat_print.items():\n",
    "    if k == 'hgt':continue\n",
    "    print('{}: {},'.format(k,list(v)))"
   ]
  },
  {
   "cell_type": "code",
   "execution_count": null,
   "metadata": {},
   "outputs": [],
   "source": [
    "np.quantile(means_expected,0.99,axis=0).mean(),np.quantile(means_expected,0.01,axis=0).mean()"
   ]
  },
  {
   "cell_type": "code",
   "execution_count": null,
   "metadata": {},
   "outputs": [],
   "source": [
    "np.quantile(r1,0.99,axis=0).mean(),np.quantile(r1,0.01,axis=0).mean()"
   ]
  },
  {
   "cell_type": "markdown",
   "metadata": {},
   "source": [
    "## Model Rookies"
   ]
  },
  {
   "cell_type": "code",
   "execution_count": null,
   "metadata": {},
   "outputs": [],
   "source": [
    "p"
   ]
  },
  {
   "cell_type": "code",
   "execution_count": null,
   "metadata": {},
   "outputs": [],
   "source": [
    "youth = []\n",
    "names = []\n",
    "positions = []\n",
    "for k,p in data['bios'].items():\n",
    "    if 'bornYear' not in p or p['bornYear'] is None:\n",
    "        continue\n",
    "    yr = p['draftYear']\n",
    "    age = yr-p['bornYear']\n",
    "    if yr<2020 and yr >= 2000 and (k,yr+1) in ratings and age < 25:# and p['draftPick'] < 45:\n",
    "        youth.append([age] + ratings[(k,yr+1)])\n",
    "        names.append(k)\n",
    "        positions.append(p['pos'])\n",
    "youth = np.array(youth)"
   ]
  },
  {
   "cell_type": "code",
   "execution_count": null,
   "metadata": {},
   "outputs": [],
   "source": [
    "_ = plt.hist((youth/youth.mean(0)).ravel(),50)"
   ]
  },
  {
   "cell_type": "code",
   "execution_count": null,
   "metadata": {},
   "outputs": [],
   "source": [
    "from sklearn.manifold import TSNE\n",
    "from sklearn.decomposition import PCA\n",
    "clf_pca = PCA(whiten =False)#TSNE(perplexity=55)\n",
    "emb = clf_pca.fit_transform(youth[:,1:].astype(np.float32))"
   ]
  },
  {
   "cell_type": "code",
   "execution_count": null,
   "metadata": {},
   "outputs": [],
   "source": [
    "pos_set = ['PG','G','SG',\"GF\",'SF','F','PF','FC',\"C\"]\n",
    "plt.scatter(emb[:,0],emb[:,1],c=[pos_set.index(_) for _ in positions],cmap='RdBu')"
   ]
  },
  {
   "cell_type": "code",
   "execution_count": null,
   "metadata": {},
   "outputs": [],
   "source": [
    "for c,v in zip(cols,np.round(clf_pca.mean_,1)):\n",
    "    print(c,':',v,',')"
   ]
  },
  {
   "cell_type": "code",
   "execution_count": null,
   "metadata": {},
   "outputs": [],
   "source": [
    "clf_pca.explained_variance_ratio_"
   ]
  },
  {
   "cell_type": "code",
   "execution_count": null,
   "metadata": {},
   "outputs": [],
   "source": [
    "COMP =3\n",
    "hgt = youth[:,1+cols.index('hgt')]\n",
    "X_hgt = hgt[:,None]# np.vstack([hgt,hgt**2]).T\n",
    "pred_res = []\n",
    "hgt_models = []\n",
    "for i in range(COMP):\n",
    "    clf = linear_model.RidgeCV(cv=3,alphas=np.logspace(-5,3,9))\n",
    "    clf.fit(X_hgt,emb[:,i])\n",
    "    clf_s = clf.score( X_hgt,emb[:,i])\n",
    "    pred_res.append(clf.predict(X_hgt))\n",
    "    print(clf_s)\n",
    "    hgt_models.append(list(clf.coef_) + [clf.intercept_])\n",
    "pred_res = np.array(pred_res).T"
   ]
  },
  {
   "cell_type": "code",
   "execution_count": null,
   "metadata": {},
   "outputs": [],
   "source": [
    "np.round(hgt_models,2)"
   ]
  },
  {
   "cell_type": "code",
   "execution_count": null,
   "metadata": {},
   "outputs": [],
   "source": [
    "clf_pca.components_[:COMP,:]"
   ]
  },
  {
   "cell_type": "code",
   "execution_count": null,
   "metadata": {},
   "outputs": [],
   "source": [
    "ADD_VAR = 10*np.random.randn(X_hgt.shape[0],COMP)\n",
    "MUL_VAR = 1+0.8*(np.random.rand(X_hgt.shape[0],15)-0.5)\n",
    "pred_vec = ((ADD_VAR+pred_res) @ clf_pca.components_[:COMP,:]) + clf_pca.mean_\n",
    "pred_vec *= MUL_VAR"
   ]
  },
  {
   "cell_type": "code",
   "execution_count": null,
   "metadata": {
    "scrolled": true
   },
   "outputs": [],
   "source": [
    "abs(pred_vec - youth[:,1:]).mean(0)"
   ]
  },
  {
   "cell_type": "code",
   "execution_count": null,
   "metadata": {},
   "outputs": [],
   "source": [
    "_ = plt.hist(youth[:,1:].mean(1),50,alpha=0.5,density=True)\n",
    "_ = plt.hist(pred_vec.mean(1),50,alpha=0.5,density=True)\n",
    "print(youth[:,1:].mean(1).std(),pred_vec.mean(1).std())"
   ]
  }
 ],
 "metadata": {
  "kernelspec": {
   "display_name": "Python 3",
   "language": "python",
   "name": "python3"
  },
  "language_info": {
   "codemirror_mode": {
    "name": "ipython",
    "version": 3
   },
   "file_extension": ".py",
   "mimetype": "text/x-python",
   "name": "python",
   "nbconvert_exporter": "python",
   "pygments_lexer": "ipython3",
   "version": "3.7.3"
  }
 },
 "nbformat": 4,
 "nbformat_minor": 2
}
