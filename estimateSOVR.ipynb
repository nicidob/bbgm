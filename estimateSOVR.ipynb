{
 "cells": [
  {
   "cell_type": "code",
   "execution_count": null,
   "metadata": {},
   "outputs": [],
   "source": [
    "import pandas as pd\n",
    "import numpy as np\n",
    "import scipy\n",
    "import matplotlib.pyplot as plt\n",
    "import statsmodels.api as sm"
   ]
  },
  {
   "cell_type": "code",
   "execution_count": null,
   "metadata": {},
   "outputs": [],
   "source": [
    "df = pd.read_csv('BBGM_League_1_all_seasons_Average_Stats.csv')"
   ]
  },
  {
   "cell_type": "code",
   "execution_count": null,
   "metadata": {},
   "outputs": [],
   "source": [
    "pm,ms = df['+/-'].mean(), df['+/-'].std()"
   ]
  },
  {
   "cell_type": "code",
   "execution_count": null,
   "metadata": {},
   "outputs": [],
   "source": [
    "df.columns"
   ]
  },
  {
   "cell_type": "code",
   "execution_count": null,
   "metadata": {},
   "outputs": [],
   "source": [
    "stats_to_est = ['FT','FTA','FG','FGA','ORB','DRB','AST','TOV','STL','Blk','PF','PTS','3P','3PA','BA']\n",
    "sT = [_ +'p36' for _ in stats_to_est]"
   ]
  },
  {
   "cell_type": "code",
   "execution_count": null,
   "metadata": {},
   "outputs": [],
   "source": [
    "for s in stats_to_est:\n",
    "    df[s + 'p36'] = 36*df[s]/np.maximum(df['MP'],1e-6)"
   ]
  },
  {
   "cell_type": "code",
   "execution_count": null,
   "metadata": {},
   "outputs": [],
   "source": [
    "dfs = df[df.MP*df.G > 850]\n",
    "res = sm.RLM(dfs['Ovr'],sm.add_constant(dfs[stats_to_est])).fit()\n",
    "res.summary()"
   ]
  },
  {
   "cell_type": "code",
   "execution_count": null,
   "metadata": {},
   "outputs": [],
   "source": [
    "plt.scatter(dfs['Ovr'],res.predict(),s=5,alpha=0.5)"
   ]
  },
  {
   "cell_type": "code",
   "execution_count": null,
   "metadata": {},
   "outputs": [],
   "source": [
    "dfs['sOVR'] = res.predict()\n",
    "dfs['PS'] = dfs['Ovr']/dfs['sOVR']"
   ]
  },
  {
   "cell_type": "code",
   "execution_count": null,
   "metadata": {},
   "outputs": [],
   "source": [
    "plt.style.use('fivethirtyeight')"
   ]
  },
  {
   "cell_type": "code",
   "execution_count": null,
   "metadata": {},
   "outputs": [],
   "source": [
    "plt.plot(dfs[['Age','PS','Ovr','sOVR']].groupby('Age').mean()['PS'])\n",
    "plt.xlim(20,44)\n",
    "plt.ylabel('Ovr ÷ sOVR')\n",
    "plt.xlabel('Age')"
   ]
  },
  {
   "cell_type": "code",
   "execution_count": null,
   "metadata": {},
   "outputs": [],
   "source": [
    "plt.hist(dfs.Age,13,density='True')\n",
    "plt.xlim(20,44)\n",
    "plt.xlabel('Age')\n",
    "plt.ylabel('Density')"
   ]
  },
  {
   "cell_type": "code",
   "execution_count": null,
   "metadata": {},
   "outputs": [],
   "source": [
    "res.params"
   ]
  },
  {
   "cell_type": "code",
   "execution_count": null,
   "metadata": {},
   "outputs": [],
   "source": [
    "#dft = dfs.groupby(['pid','Age']).mean()\n",
    "df['sOVR'] = res.predict(sm.add_constant(df[stats_to_est]))\n",
    "dft = df.groupby(['pid','Age']).mean()"
   ]
  },
  {
   "cell_type": "code",
   "execution_count": null,
   "metadata": {},
   "outputs": [],
   "source": [
    "from collections import defaultdict\n",
    "p_o = defaultdict(lambda: defaultdict(list))\n",
    "for row in dft[['Pot','Ovr','sOVR']].itertuples():\n",
    "    p_o[row[0][0]][row[0][1]].append(row[1:])"
   ]
  },
  {
   "cell_type": "code",
   "execution_count": null,
   "metadata": {},
   "outputs": [],
   "source": [
    "p_y = defaultdict(list)\n",
    "for p,yd in p_o.items():\n",
    "    for y,s in yd.items():\n",
    "        if y+1 in yd and y+2 in yd and y+3 in yd:\n",
    "            X = list(s[0][:-1])\n",
    "            Y = np.mean([yd[y+i][-1] for i in range(4)])\n",
    "            p_y[y].append(X + [Y])"
   ]
  },
  {
   "cell_type": "code",
   "execution_count": null,
   "metadata": {},
   "outputs": [],
   "source": [
    "print('4 year value by age\\nage [pot ovr]')\n",
    "for age in sorted(p_y.keys()):\n",
    "    Xy = np.array(p_y[age])\n",
    "    if (Xy[:,0] == Xy[:,1]).all():\n",
    "        Xy = Xy[:,1:]\n",
    "    res2 = sm.OLS(Xy[:,-1],Xy[:,:-1]).fit()\n",
    "    print(age,np.round(res2.params,2))"
   ]
  }
 ],
 "metadata": {
  "kernelspec": {
   "display_name": "Python 3",
   "language": "python",
   "name": "python3"
  },
  "language_info": {
   "codemirror_mode": {
    "name": "ipython",
    "version": 3
   },
   "file_extension": ".py",
   "mimetype": "text/x-python",
   "name": "python",
   "nbconvert_exporter": "python",
   "pygments_lexer": "ipython3",
   "version": "3.7.3"
  }
 },
 "nbformat": 4,
 "nbformat_minor": 2
}
