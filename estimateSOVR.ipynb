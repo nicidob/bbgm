{
 "cells": [
  {
   "cell_type": "code",
   "execution_count": null,
   "metadata": {},
   "outputs": [],
   "source": [
    "import pandas as pd\n",
    "import numpy as np\n",
    "import scipy\n",
    "import matplotlib.pyplot as plt\n",
    "import statsmodels.api as sm"
   ]
  },
  {
   "cell_type": "code",
   "execution_count": null,
   "metadata": {},
   "outputs": [],
   "source": [
    "df = pd.read_csv('BBGM_League_109_all_seasons_Average_Stats.csv')\n",
    "df = df[df['MP']*df['G'] > 10]"
   ]
  },
  {
   "cell_type": "code",
   "execution_count": null,
   "metadata": {},
   "outputs": [],
   "source": [
    "pm,ms = df['+/-'].mean(), df['+/-'].std()"
   ]
  },
  {
   "cell_type": "code",
   "execution_count": null,
   "metadata": {},
   "outputs": [],
   "source": [
    "df.columns"
   ]
  },
  {
   "cell_type": "code",
   "execution_count": null,
   "metadata": {},
   "outputs": [],
   "source": [
    "plt.hist(df['+/-'])"
   ]
  },
  {
   "cell_type": "code",
   "execution_count": null,
   "metadata": {},
   "outputs": [],
   "source": [
    "# full\n",
    "stats_to_est = [ 'FG', 'FGA', '3P', '3PA',  '2P', '2PA', 'FT', 'FTA', 'ORB', 'DRB', 'TRB', 'AST', 'TOV', 'STL', 'BLK', 'BA', 'PF', 'PTS']\n",
    "# pruned by hand based on t-values, R^2 = .804\n",
    "stats_to_est = [                    '3PA',        '2PA',        'FTA',              'TRB',       'AST', 'TOV', 'STL', 'BLK',       'PF', 'PTS']\n",
    "#R^2 = .773 w/o +/-, 0.788 with\n",
    "stats_to_est = [                                                                    'TRB',        'AST', 'TOV', 'STL', 'BLK',      'PF', 'PTS', '+/-']\n",
    "\n",
    "sT = [_ +'p36' for _ in stats_to_est]\n"
   ]
  },
  {
   "cell_type": "code",
   "execution_count": null,
   "metadata": {},
   "outputs": [],
   "source": [
    "p_36_stats = []\n",
    "for s in stats_to_est:\n",
    "    df[s + 'p36'] = 36*df[s]/np.maximum(df['MP'],1)\n",
    "    p_36_stats.append(s+'p36')\n",
    "p_36_stats = p_36_stats #+['+/-']#+ ['TS%']"
   ]
  },
  {
   "cell_type": "code",
   "execution_count": null,
   "metadata": {},
   "outputs": [],
   "source": [
    "res = sm.WLS(df['Ovr'],sm.add_constant(df[p_36_stats]),df['MP']*df['G']).fit()\n",
    "res.summary() # -6.7306e+05 1.346e+06 1.005e+05"
   ]
  },
  {
   "cell_type": "code",
   "execution_count": null,
   "metadata": {
    "scrolled": true
   },
   "outputs": [],
   "source": [
    "import sklearn.linear_model as linear_model\n",
    "clf = linear_model.RidgeCV(np.logspace(-3,3,101))\n",
    "p = 1\n",
    "clf.fit(df[p_36_stats],(df['Ovr'])**p,df['MP']*df['G'])\n",
    "df['sOVR'] = np.maximum(0,clf.predict(df[p_36_stats]))**(1/p)\n",
    "plt.scatter(df['Ovr'],df['sOVR'],s=5,alpha=0.5)\n"
   ]
  },
  {
   "cell_type": "code",
   "execution_count": null,
   "metadata": {},
   "outputs": [],
   "source": [
    "plt.scatter(df['Ovr'],res.predict(),s=5,alpha=0.5)"
   ]
  },
  {
   "cell_type": "code",
   "execution_count": null,
   "metadata": {},
   "outputs": [],
   "source": [
    "df['sOVR'] = clf.predict(df[p_36_stats])**(1/p)#res.predict()\n",
    "df['PS'] = df['Ovr']/df['sOVR']"
   ]
  },
  {
   "cell_type": "code",
   "execution_count": null,
   "metadata": {},
   "outputs": [],
   "source": [
    "plt.style.use('fivethirtyeight')"
   ]
  },
  {
   "cell_type": "code",
   "execution_count": null,
   "metadata": {},
   "outputs": [],
   "source": [
    "plt.plot(df[['Age','PS','Ovr','sOVR']].groupby('Age').mean()['PS'])\n",
    "plt.xlim(20,44)\n",
    "plt.ylabel('Ovr ÷ sOVR')\n",
    "plt.xlabel('Age')"
   ]
  },
  {
   "cell_type": "code",
   "execution_count": null,
   "metadata": {},
   "outputs": [],
   "source": [
    "plt.hist(dfs.Age,13,density='True')\n",
    "plt.xlim(20,44)\n",
    "plt.xlabel('Age')\n",
    "plt.ylabel('Density')"
   ]
  },
  {
   "cell_type": "code",
   "execution_count": null,
   "metadata": {},
   "outputs": [],
   "source": [
    "res.params"
   ]
  },
  {
   "cell_type": "code",
   "execution_count": null,
   "metadata": {},
   "outputs": [],
   "source": [
    "dft = df.groupby(['pid','Age']).mean()"
   ]
  },
  {
   "cell_type": "code",
   "execution_count": null,
   "metadata": {},
   "outputs": [],
   "source": [
    "from collections import defaultdict\n",
    "p_o = defaultdict(lambda: defaultdict(list))\n",
    "for row in dft[['Pot','Ovr','sOVR']].itertuples():\n",
    "    p_o[row[0][0]][row[0][1]].append(row[1:])"
   ]
  },
  {
   "cell_type": "code",
   "execution_count": null,
   "metadata": {},
   "outputs": [],
   "source": [
    "p_y = defaultdict(list)\n",
    "for p,yd in p_o.items():\n",
    "    for y,s in yd.items():\n",
    "        if y+1 in yd and y+2 in yd and y+3 in yd:\n",
    "            X = list(s[0][:-1])\n",
    "            Y = np.mean([yd[y+i][-1] for i in range(4)])\n",
    "            p_y[y].append(X + [Y])"
   ]
  },
  {
   "cell_type": "code",
   "execution_count": null,
   "metadata": {},
   "outputs": [],
   "source": [
    "print('5 year value by age\\nage scale [pot ovr]')\n",
    "sA = []\n",
    "sB = []\n",
    "for age in sorted(p_y.keys()):\n",
    "    Xy = np.array(p_y[age])\n",
    "    if (Xy[:,0] == Xy[:,1]).all():\n",
    "        Xy = Xy[:,1:]\n",
    "    res2 = sm.OLS(Xy[:,-1],Xy[:,:-1]).fit()\n",
    "    v = res2.params\n",
    "    vS = sum(v)\n",
    "    sA.append((age,vS))\n",
    "    sB.append((age,v[0]/vS))\n",
    "    print(age,np.round(vS,2),np.round(v/vS,2))"
   ]
  },
  {
   "cell_type": "code",
   "execution_count": null,
   "metadata": {},
   "outputs": [],
   "source": [
    "sA = np.array(sA)\n",
    "plt.plot(sA[:,0],sA[:,1])\n",
    "plt.xlim(20,40)\n",
    "plt.xlabel('age')\n",
    "plt.ylabel('multi-year value')\n",
    "plt.title('4 year [reg tree]')"
   ]
  },
  {
   "cell_type": "code",
   "execution_count": null,
   "metadata": {},
   "outputs": [],
   "source": [
    "sB = np.array(sB)\n",
    "plt.plot(sB[:,0],sB[:,1])\n",
    "plt.xlim(20,28)\n",
    "plt.xlabel('age')\n",
    "plt.ylabel('potential weight')\n",
    "plt.title('4 year [reg tree]')"
   ]
  }
 ],
 "metadata": {
  "kernelspec": {
   "display_name": "Python 3 (ipykernel)",
   "language": "python",
   "name": "python3"
  },
  "language_info": {
   "codemirror_mode": {
    "name": "ipython",
    "version": 3
   },
   "file_extension": ".py",
   "mimetype": "text/x-python",
   "name": "python",
   "nbconvert_exporter": "python",
   "pygments_lexer": "ipython3",
   "version": "3.9.12"
  }
 },
 "nbformat": 4,
 "nbformat_minor": 2
}
