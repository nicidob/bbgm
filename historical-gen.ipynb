{
 "cells": [
  {
   "cell_type": "code",
   "execution_count": null,
   "metadata": {},
   "outputs": [],
   "source": [
    "import json\n",
    "import pandas as pd\n",
    "import numpy as np\n",
    "import matplotlib.pyplot as plt\n",
    "from collections import defaultdict\n",
    "from sklearn import linear_model, preprocessing\n"
   ]
  },
  {
   "cell_type": "code",
   "execution_count": null,
   "metadata": {},
   "outputs": [],
   "source": [
    "with open('history.json','rb') as fp:\n",
    "    data = json.load(fp)"
   ]
  },
  {
   "cell_type": "code",
   "execution_count": null,
   "metadata": {},
   "outputs": [],
   "source": [
    "teams = {_['tid']:_ for _ in data['teams']}"
   ]
  },
  {
   "cell_type": "code",
   "execution_count": null,
   "metadata": {},
   "outputs": [],
   "source": [
    "team_seasons = {}\n",
    "for tid,t in teams.items():\n",
    "    team_s = {}\n",
    "    for s in t['seasons']:\n",
    "        year = s['season']\n",
    "        if int(s['gp']) < 1:\n",
    "            continue\n",
    "        winp = int(s['won'])/int(s['gp'])\n",
    "        team_s[year] = winp\n",
    "    team_seasons[tid] = team_s"
   ]
  },
  {
   "cell_type": "code",
   "execution_count": null,
   "metadata": {},
   "outputs": [],
   "source": [
    "team_year_ewa = defaultdict(lambda: defaultdict(lambda: 0.01))\n",
    "team_year_ws = defaultdict(lambda: defaultdict(lambda: 0.01))\n",
    "team_year_dws = defaultdict(lambda: defaultdict(lambda: 0.01))\n",
    "min_min = 1917*0.5 # 1917 min for MVP\n",
    "minYear = 1980\n",
    "maxYear = 2021\n",
    "award_types = []\n",
    "for p in data['players']:\n",
    "    award_types += [_['type'] for _ in p['awards']]\n",
    "    stats = [_ for _ in p['stats'] if not _['playoffs'] and _['season'] > minYear and _['min'] > min_min and _['season'] < maxYear]\n",
    "    for a in stats:\n",
    "        team_year_ewa[a['tid']][a['season']] += a['ewa']\n",
    "        team_year_ws[a['tid']][a['season']] += a['ows'] + a['dws']\n",
    "        team_year_dws[a['tid']][a['season']] += a['dws']\n",
    "award_types = set(award_types)"
   ]
  },
  {
   "cell_type": "code",
   "execution_count": null,
   "metadata": {},
   "outputs": [],
   "source": [
    "award_types"
   ]
  },
  {
   "cell_type": "code",
   "execution_count": null,
   "metadata": {},
   "outputs": [],
   "source": [
    "awards = [\n",
    "    {'name':'First Team All-League','bench':False,'rookie':False,'stats':['winp','ewa','vorp','frac_ws']},\n",
    "    {'name':'Sixth','bench':True,'rookie':False,'stats':['winp','pts_g','ewa','vorp','ws']},\n",
    "    {'name':'Rookie of','bench':False,'rookie':True,'stats':['ewa','vorp','pts_g']},\n",
    "    {'name':'First Team All-Defensive','bench':False,'rookie':False,'stats':['dws','blk_g','stl_g']}\n",
    "    ]\n",
    "for award in awards:\n",
    "    res = []\n",
    "    for p in data['players']:\n",
    "        years = [_['season'] for _ in p['awards'] if award['name'] in _['type']]\n",
    "        years = set([y for y in years if y > minYear and y < maxYear])\n",
    "        if award['rookie']:\n",
    "            stats = [_ for _ in p['stats'][:1] if not _['playoffs'] and _['season'] > minYear and _['min'] > min_min and _['season'] < maxYear]\n",
    "        else:\n",
    "            stats = [_ for _ in p['stats'] if not _['playoffs'] and _['season'] > minYear and _['min'] > min_min and _['season'] < maxYear]\n",
    "        if award['bench']:\n",
    "            stats = [_ for _ in stats if _['gp'] > 0 and _['gs']/_['gp'] < 0.5]\n",
    "        for a in stats:\n",
    "            a['wonAward'] = int(a['season'] in years)\n",
    "            a['frac_ewa'] = a['ewa']/team_year_ewa[a['tid']][a['season']]\n",
    "            a['frac_ws'] = (a['ows'] + a['dws'])/team_year_ws[a['tid']][a['season']]\n",
    "            a['frac_dws'] = (a['dws'])/team_year_dws[a['tid']][a['season']]\n",
    "\n",
    "            a['winp'] = team_seasons[a['tid']][a['season']]\n",
    "            a['name'] = p['firstName'] + ' ' + p['lastName']\n",
    "        res += stats\n",
    "    df  = pd.DataFrame(res)\n",
    "    df['ws'] = df['ows'] + df['dws']\n",
    "    for stat in ['pts','stl','blk']:\n",
    "        df[stat + '_g'] = df[stat]/np.maximum(df['gp'],1) \n",
    "    df2 = df[[_ for _ in df.columns if _!= 'wonAward']]\n",
    "    numerics = ['int16', 'int32', 'int64', 'float16', 'float32', 'float64']\n",
    "    df3 = df2.select_dtypes(include=numerics)\n",
    "    x2 = df3[award['stats']]\n",
    "\n",
    "    x3 = (x2-x2.mean(0))/x2.std(0)\n",
    "    clf = linear_model.LogisticRegressionCV(Cs=100,cv=3,max_iter=250)\n",
    "    clf.fit(x3,df.wonAward)\n",
    "    print(award['name'])\n",
    "    C = clf.coef_.ravel() / x2.std(0)\n",
    "    C = C/C.max()\n",
    "    print(round(1/C,1))\n",
    "    print()"
   ]
  }
 ],
 "metadata": {
  "kernelspec": {
   "display_name": "Python 3",
   "language": "python",
   "name": "python3"
  },
  "language_info": {
   "codemirror_mode": {
    "name": "ipython",
    "version": 3
   },
   "file_extension": ".py",
   "mimetype": "text/x-python",
   "name": "python",
   "nbconvert_exporter": "python",
   "pygments_lexer": "ipython3",
   "version": "3.7.3"
  }
 },
 "nbformat": 4,
 "nbformat_minor": 2
}
