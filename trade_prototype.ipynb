{
 "cells": [
  {
   "cell_type": "code",
   "execution_count": null,
   "metadata": {},
   "outputs": [],
   "source": [
    "import numpy as np\n",
    "from collections import defaultdict\n",
    "import json"
   ]
  },
  {
   "cell_type": "code",
   "execution_count": null,
   "metadata": {},
   "outputs": [],
   "source": [
    "draft_pick_movs = [[0.18897327219231208, 2.0010846899420685, 0.3732236160572243],\n",
    " [0.14727349526599293, 2.3890953884900448, 0.37877293453467575],\n",
    " [0.20993957998560997, 2.972927445404096, 0.29807102822209075],\n",
    " [0.2211666767279284, 3.449578532596238, 0.29588454235265493],\n",
    " [0.2204425469188902, 3.8786269293613316, 0.30687612009524046]]\n",
    "age_shift ={19: 6.4,\n",
    " 20: 6.7,\n",
    " 21: 5.0,\n",
    " 22: 4.4,\n",
    " 23: 2.2,\n",
    " 24: 2.0,\n",
    " 25: 0.1,\n",
    " 26: -0.1,\n",
    " 27: -1.2,\n",
    " 28: -1.4,\n",
    " 29: -2.0,\n",
    " 30: -2.7,\n",
    " 31: -3.6,\n",
    " 32: -3.7,\n",
    " 33: -3.7,\n",
    " 34: -4.7,\n",
    " 35: -5.1}\n",
    "\n",
    "max_shift = max(age_shift.values())\n",
    "\n",
    "\n",
    "draft_salaries = defaultdict(lambda: 750,\n",
    "{0: 7500,\n",
    " 1: 6750,\n",
    " 2: 6000,\n",
    " 3: 5250,\n",
    " 4: 4500,\n",
    " 5: 4150,\n",
    " 6: 3750,\n",
    " 7: 3400,\n",
    " 8: 3000,\n",
    " 9: 2850,\n",
    " 10: 2700,\n",
    " 11: 2550,\n",
    " 12: 2400,\n",
    " 13: 2250,\n",
    " 14: 2100,\n",
    " 15: 1950,\n",
    " 16: 1800,\n",
    " 17: 1650,\n",
    " 18: 1500,\n",
    " 19: 1500,\n",
    " 20: 1500,\n",
    " 21: 1500,\n",
    " 22: 1500,\n",
    " 23: 1500,\n",
    " 24: 1500,\n",
    " 25: 1500,\n",
    " 26: 1500,\n",
    " 27: 1500,\n",
    " 28: 1500,\n",
    " 29: 1500,\n",
    "})\n",
    "\n",
    "\n",
    "iv = np.array([74.7 ,  7.92, 20.8 ])\n",
    "\n",
    "def get_mov(x):\n",
    "    offset = len(iv)//3\n",
    "    tot = -2.2492\n",
    "    for i in range(offset):\n",
    "        tot += (iv[offset+i])*(np.tanh((x-iv[i])/iv[2*offset+i])+1.0)\n",
    "    return tot\n",
    "\n",
    "# estimated mov per ovr\n",
    "o2m = {}\n",
    "for i in np.arange(101):\n",
    "    o2m[i] = get_mov(i)\n",
    "\n",
    "# replacement level\n",
    "r_lvl = -1.306\n",
    "\n",
    "# draft model's baseline. \n",
    "# probably should always be above replacement\n",
    "# not because they are, but because otherwise they're a pain\n",
    "draft_lvl = o2m[0]\n",
    "\n",
    "# salaries to mov\n",
    "sA,sB = (3.15,0)\n",
    "\n",
    "# expected mov, weight for players, weight for salary cap space\n",
    "player_vs_cap = {\n",
    "0 : [0, 1.0, 0] ,\n",
    "1 : [0, 1.0, 0.9] ,\n",
    "2 : [0, 1.0, 0.8] ,\n",
    "3 : [0, 1.0, 0.6] ,\n",
    "4 : [0, 1.0, 0.5] ,\n",
    "}\n",
    "\n",
    "RESIGN_CHANCE = 0.5\n"
   ]
  },
  {
   "cell_type": "code",
   "execution_count": null,
   "metadata": {},
   "outputs": [],
   "source": [
    "team = { 'p' : [(22,66,22000,2),(22,66,22000,2),(22,66,22000,2),(22,66,22000,2)], #(age,ovr,salary,years_left)\n",
    "         'd' : [(1, 0, 8.6),(1, 0, -5.35),(2,0,3),(1,1,3),(2,1,3),(1,2,3),(2,2,3),(1,3,3),(2,3,3),(1,4,3),(2,4,3)] #(round,years_left,team_MOV)\n",
    "       }\n",
    "def get_team_value(team,sCap=90000,maxS=30000,minS=750,FAKE_RESIGN=True):\n",
    "    sCapS = sCap/90000\n",
    "\n",
    "    # turn mov into draft pick and future mov\n",
    "    m2pos = lambda x: int(round(np.clip( 29/(1+np.exp(0.0036 - 0.368*(x))),0,29)))\n",
    "    m2next = lambda year,mov: [1,0.5,0.25,0.08,0.03][year]*mov \n",
    "\n",
    "    # turn draft picks into specific predictions\n",
    "    draft_picks = [ (yr,m2pos(m2next(yr,mov))+30*(rnd-1)) for rnd,yr,mov in team['d'] if yr < 5]\n",
    "    # for this and the next 4 years\n",
    "    pars = defaultdict(list)\n",
    "    tss = defaultdict(int)\n",
    "\n",
    "    for i in range(5):\n",
    "        for age,ovr,con,yrl in team['p']:\n",
    "            if yrl >= i: # are we on the team still?\n",
    "                tss[i] += con\n",
    "                ovr2=ovr\n",
    "                for j in range(i):\n",
    "                    ovr2+=age_shift.get(age+j,max_shift)\n",
    "                pars[i].append(o2m[round(np.clip(ovr2,0,100))])\n",
    "            elif FAKE_RESIGN:\n",
    "                ovr2=ovr\n",
    "                for j in range(i):\n",
    "                    ovr2+=age_shift.get(age+j,max_shift)\n",
    "                mov_p = o2m[round(np.clip(ovr2,0,100))]\n",
    "                if mov_p > 0: # resign positive MOV contributors\n",
    "                    est_con = min(1,(mov_p-r_lvl)/sA) * maxS \n",
    "                    tss[i] += est_con*RESIGN_CHANCE\n",
    "                    pars[i].append(RESIGN_CHANCE*mov_p)  \n",
    "        for yr,p in draft_picks:\n",
    "            if yr+1 <= i: # if drafted\n",
    "                dsal = sCapS*draft_salaries[p]\n",
    "                tss[i] += dsal\n",
    "                year_since_draft = i-(yr+1)\n",
    "                x = draft_pick_movs[year_since_draft]\n",
    "                pars[i].append(draft_lvl + x[1]*np.exp(-x[0]*(p**x[2])))\n",
    "                #print(i, yr, p, pars[i][-1],dsal)\n",
    "\n",
    "    # add salaries and player values\n",
    "    pred_movs = []\n",
    "    for i in range(5):\n",
    "        play = [p for p in pars[i] if p >= r_lvl]\n",
    "        lp = len(play)\n",
    "        if lp < 10:\n",
    "            play= play + (10-lp)*[r_lvl]\n",
    "        play = sorted(play,reverse=True)[:10]\n",
    "        #        play = [r_lvl+(p-r_lvl)*np.exp(-0.17330874*i) for i,p in enumerate(sorted(play,reverse=True)[:10])]\n",
    "        play_s = sum(play)\n",
    "        salary_s = tss[i] + (10-lp)*minS\n",
    "        cap_space = (1.0/3.0)*np.maximum(sCap-salary_s,0)/sCap\n",
    "        mov_from_cap = cap_space*sA\n",
    "\n",
    "        x = player_vs_cap[i]\n",
    "        p_mov = x[0] + x[1]*play_s + x[2]*mov_from_cap\n",
    "        pred_movs.append(p_mov)\n",
    "        #if i == 0:\n",
    "        #print(i,lp,play_s,mov_from_cap)\n",
    "\n",
    "\n",
    "    # turn mov into win probs\n",
    "    cA,cB = 0.46421272651304596, -5.12021285460421\n",
    "    # turn mov into 'make the finals'\n",
    "    cA,cB = (0.42422076396359476, -3.94406073999211)\n",
    "\n",
    "    win_p = [1.0/(1+np.exp(-mov*cA -cB)) for mov in pred_movs]\n",
    "\n",
    "    # discount factor for the future, more uncertainty, less sure reward\n",
    "    value = [wp*(0.8**(i)) for i,wp in enumerate(win_p)]\n",
    "    #print(np.round(pred_movs,1))\n",
    "    return sum(value)\n",
    "get_team_value(team,90000,750)"
   ]
  },
  {
   "cell_type": "code",
   "execution_count": null,
   "metadata": {},
   "outputs": [],
   "source": [
    "data = json.load(open('real_2020.json','rt',encoding='utf-8-sig'))\n",
    "gA = {_['key']:_['value'] for _ in data['gameAttributes']}"
   ]
  },
  {
   "cell_type": "code",
   "execution_count": null,
   "metadata": {},
   "outputs": [],
   "source": [
    "team_players = defaultdict(list)\n",
    "team_names = {}\n",
    "season = gA['season']\n",
    "sCap = gA['salaryCap']\n",
    "minS = gA['minContract']\n",
    "maxS = gA['maxContract']\n",
    "\n",
    "team_injuries = defaultdict(list)\n",
    "for p in data['players']:\n",
    "    if p['tid'] >= 0:\n",
    "        ovr = p['ratings'][-1]['ovr']\n",
    "        age = season - p['born']['year']\n",
    "        salary = p['contract']['amount']\n",
    "        years_left = p['contract']['exp']-season\n",
    "        team_players[p['tid']].append((age,ovr,salary,years_left))\n",
    "        team_injuries[p['tid']].append(p['injury']['gamesRemaining'])\n"
   ]
  },
  {
   "cell_type": "code",
   "execution_count": null,
   "metadata": {},
   "outputs": [],
   "source": [
    "team_movs = defaultdict(float)\n",
    "\n",
    "for t in data['teams']:\n",
    "    tid = t['tid']\n",
    "    team_names[t['tid']] = t['abbrev']\n",
    "    for ts in t['stats']:\n",
    "        if ts['playoffs']:\n",
    "            continue\n",
    "        current_mov = 0\n",
    "        gp = ts['gp']+1e-9\n",
    "        gl = 82-gp+1e-9\n",
    "        if season == ts['season'] and not ts['playoffs'] and ts['gp']>0:\n",
    "            mov = (ts['pts'] - ts['oppPts']) / ts['gp'];\n",
    "            current_mov = mov\n",
    "        estimated_mov = sum(sorted([o2m[_[1]]*(max(gl-i,0)/gl) for _,i in zip(team_players[tid],team_injuries[tid])])[-10:])\n",
    "        team_movs[tid] = (gp/82)*current_mov + (gl/82)*estimated_mov    "
   ]
  },
  {
   "cell_type": "code",
   "execution_count": null,
   "metadata": {},
   "outputs": [],
   "source": [
    "team_picks = defaultdict(list)\n",
    "for d in data['draftPicks']:\n",
    "    mov = team_movs[d['originalTid']]\n",
    "    tid = d['tid']\n",
    "    rnd = d['round']\n",
    "    yl = d['season']-season\n",
    "    team_picks[tid].append((rnd,yl,mov))"
   ]
  },
  {
   "cell_type": "code",
   "execution_count": null,
   "metadata": {},
   "outputs": [],
   "source": [
    "teams_vals = []\n",
    "for i in range(len(data['teams'])):\n",
    "    #print(team_names[i])\n",
    "    val = get_team_value({'p':team_players[i],'d':team_picks[i]},sCap,maxS,minS)\n",
    "    teams_vals.append((val,team_names[i]))"
   ]
  },
  {
   "cell_type": "code",
   "execution_count": null,
   "metadata": {},
   "outputs": [],
   "source": [
    "for v,t in sorted(teams_vals)[::-1]:\n",
    "    print(round(100*v,2),t)"
   ]
  },
  {
   "cell_type": "code",
   "execution_count": null,
   "metadata": {},
   "outputs": [],
   "source": [
    "import random\n",
    "deals = []\n",
    "for i in range(1000):\n",
    "    t1 = np.random.randint(30)\n",
    "    t2 = np.random.randint(30)\n",
    "    if t1 == t2:\n",
    "        continue\n",
    "    \n",
    "    t1vo = get_team_value({'p':team_players[t1],'d':team_picks[t1]},sCap,maxS,minS)\n",
    "    t2vo = get_team_value({'p':team_players[t2],'d':team_picks[t2]},sCap,maxS,minS)\n",
    "    pn = np.random.randint(len(team_picks[t1]))\n",
    "    picks = [_ for _ in team_picks[t1]]\n",
    "    pick = picks[pn]        \n",
    "    del picks[pn]\n",
    "\n",
    "    for pi in range(len(team_players[t2])):\n",
    "        local_p = [_ for _ in team_players[t2]]\n",
    "        player = local_p[pi]\n",
    "        del local_p[pi]\n",
    "        t1v = get_team_value({'p':team_players[t1] + [player],'d':picks},sCap,maxS,minS)\n",
    "        t2v = get_team_value({'p':local_p,'d':team_picks[t2] + [pick]},sCap,maxS,minS)\n",
    "        if t1v > t1vo and t2v > t2vo:\n",
    "            val = min((t1v-t1vo),(t2v-t2vo))\n",
    "            deals.append((val,team_names[t1],pick,team_names[t2],player))"
   ]
  },
  {
   "cell_type": "code",
   "execution_count": null,
   "metadata": {},
   "outputs": [],
   "source": [
    "sorted(deals,reverse=True)"
   ]
  },
  {
   "cell_type": "code",
   "execution_count": null,
   "metadata": {},
   "outputs": [],
   "source": [
    "import random\n",
    "deals = []\n",
    "for i in range(1000):\n",
    "    t1 = np.random.randint(30)\n",
    "    t2 = np.random.randint(30)\n",
    "    if t1 == t2:\n",
    "        continue\n",
    "    \n",
    "    t1vo = get_team_value({'p':team_players[t1],'d':team_picks[t1]},sCap,maxS,minS)\n",
    "    t2vo = get_team_value({'p':team_players[t2],'d':team_picks[t2]},sCap,maxS,minS)\n",
    "    \n",
    "    pn = np.random.randint(len(team_players[t1]))\n",
    "    players1 = [_ for _ in team_players[t1]]\n",
    "    pick = players1[pn]        \n",
    "    del players1[pn]\n",
    "\n",
    "    for pi in range(len(team_players[t2])):\n",
    "        local_p = [_ for _ in team_players[t2]]\n",
    "        player = local_p[pi]\n",
    "        del local_p[pi]\n",
    "        t1v = get_team_value({'p':players1 + [player],'d':team_picks[t1]},sCap,maxS,minS)\n",
    "        t2v = get_team_value({'p':local_p + [pick],'d':team_picks[t2]},sCap,maxS,minS)\n",
    "        if t1v > t1vo and t2v > t2vo:\n",
    "            val = (t1v-t1vo) + (t2v-t2vo)\n",
    "            deals.append((val,team_names[t1],pick,team_names[t2],player))"
   ]
  },
  {
   "cell_type": "code",
   "execution_count": null,
   "metadata": {
    "scrolled": true
   },
   "outputs": [],
   "source": [
    "for d in sorted(deals,reverse=True):\n",
    "    if d[4][2]/d[2][2] < 1.25 and d[4][2]/d[2][2] > 1/1.25:\n",
    "        print(d)"
   ]
  },
  {
   "cell_type": "code",
   "execution_count": null,
   "metadata": {},
   "outputs": [],
   "source": [
    "import random\n",
    "deals = set()\n",
    "for i in range(1000):\n",
    "    t1 = np.random.randint(30)\n",
    "    t2 = np.random.randint(30)\n",
    "    if t1 == t2:\n",
    "        continue\n",
    "    \n",
    "    t1vo = get_team_value({'p':team_players[t1],'d':team_picks[t1]},sCap,maxS,minS)\n",
    "    t2vo = get_team_value({'p':team_players[t2],'d':team_picks[t2]},sCap,maxS,minS)\n",
    "    \n",
    "    pn = np.random.randint(len(team_players[t1]))\n",
    "    players1 = [_ for _ in team_players[t1]]\n",
    "    pick = players1[pn]        \n",
    "    del players1[pn]\n",
    "\n",
    "    for pi in range(len(team_players[t2])):\n",
    "        local_p = [_ for _ in team_players[t2]]\n",
    "        player = local_p[pi]\n",
    "        del local_p[pi]\n",
    "        if not (pick[2]/player[2] < 1.25 and pick[2]/player[2] > 1/1.25):\n",
    "            continue\n",
    "        for p2 in range(len(team_picks[t2])):\n",
    "            local_picks = [_ for _ in team_picks[t2]]\n",
    "            pick2 = local_picks[p2]       \n",
    "            del local_picks[p2]\n",
    "            t1v1 = get_team_value({'p':players1 + [player],'d':team_picks[t1]},sCap,maxS,minS)\n",
    "\n",
    "            t1v = get_team_value({'p':players1 + [player],'d':team_picks[t1] + [pick2]},sCap,maxS,minS)\n",
    "            t2v = get_team_value({'p':local_p + [pick],'d':local_picks },sCap,maxS,minS)\n",
    "            if t1v1 < t1vo and t1v > t1vo and t2v > t2vo:\n",
    "                v1 = (t1v-t1vo)\n",
    "                v2 = (t2v-t2vo)\n",
    "                val = min( v1 , v2)\n",
    "                deals.add((val,v1,v2,team_names[t1],pick,team_names[t2],player,pick2))\n",
    "                "
   ]
  },
  {
   "cell_type": "code",
   "execution_count": null,
   "metadata": {},
   "outputs": [],
   "source": [
    "sorted(list(deals),reverse=True)"
   ]
  },
  {
   "cell_type": "code",
   "execution_count": null,
   "metadata": {},
   "outputs": [],
   "source": [
    "get_team_value({'p':local_p + [pick],'d':local_picks },sCap,maxS,minS,FAKE_RESIGN=False)"
   ]
  },
  {
   "cell_type": "code",
   "execution_count": null,
   "metadata": {},
   "outputs": [],
   "source": [
    "get_team_value({'p':team_players[t2],'d':team_picks[t2]},sCap,maxS,minS,FAKE_RESIGN=False)"
   ]
  },
  {
   "cell_type": "code",
   "execution_count": null,
   "metadata": {},
   "outputs": [],
   "source": [
    "team_names"
   ]
  },
  {
   "cell_type": "code",
   "execution_count": null,
   "metadata": {},
   "outputs": [],
   "source": []
  },
  {
   "cell_type": "code",
   "execution_count": null,
   "metadata": {},
   "outputs": [],
   "source": [
    "team_test = {'d':team_picks[7],'p':team_players[7]}"
   ]
  },
  {
   "cell_type": "code",
   "execution_count": null,
   "metadata": {},
   "outputs": [],
   "source": [
    "get_team_value(team_test,sCap,maxS,minS,FAKE_RESIGN=True),get_team_value(team_test,sCap,maxS,minS,FAKE_RESIGN=False)"
   ]
  },
  {
   "cell_type": "code",
   "execution_count": null,
   "metadata": {
    "scrolled": true
   },
   "outputs": [],
   "source": [
    "team_test2 = {'d': [\n",
    "  (2, 0, -5.418723344900641),\n",
    "  (2, 0, 8.540340637164833),\n",
    "  (1, 1, -5.418723344900641),\n",
    "  (2, 1, -5.39282330007588),\n",
    "  (2, 1, 3.853918443823184),\n",
    "  (1, 2, -5.418723344900641),\n",
    "  (2, 2, -5.418723344900641),\n",
    "  (2, 2, -5.39282330007588),\n",
    "  (1, 3, -5.418723344900641),\n",
    "  (2, 3, -5.418723344900641),\n",
    "  (2, 3, -7.864634755995118),\n",
    "  (1, 4, -5.418723344900641),\n",
    "  (2, 4, -5.418723344900641),\n",
    "  (1, 5, -5.418723344900641),\n",
    "  (2, 5, -5.418723344900641),\n",
    "  (2, 5, -0.7486026698639017),\n",
    "  (1, 6, -5.418723344900641),\n",
    "  (2, 6, -5.418723344900641),\n",
    "  (2, 6, -6.1728821801766705)],\n",
    " 'p': [(31, 50, 13350, 2),\n",
    "  (26, 58, 17500, 3),\n",
    "  (32, 43, 19000, 0),\n",
    "  (43, 36, 2500, 0),\n",
    "  (25, 27, 1700, 1),\n",
    "  (22, 31, 1550, 2),\n",
    "  (23, 25, 950, 1),\n",
    "  (21, 51, 4850, 3),\n",
    "  (22, 56, 4250, 2),\n",
    "  (22, 58, 6650, 2),\n",
    "  (23, 52, 8050, 3),\n",
    "  (23, 59, 4150, 1),\n",
    "  (27, 39, 1500, 0),\n",
    "  (26, 43, 2600, 0),\n",
    "  (24, 47, 2350, 0),\n",
    "  (25, 42, 1600, 0)]}"
   ]
  },
  {
   "cell_type": "code",
   "execution_count": null,
   "metadata": {},
   "outputs": [],
   "source": [
    "get_team_value(team_test2,sCap,maxS,minS,FAKE_RESIGN=True),get_team_value(team_test2,sCap,maxS,minS,FAKE_RESIGN=False)"
   ]
  },
  {
   "cell_type": "code",
   "execution_count": null,
   "metadata": {},
   "outputs": [],
   "source": [
    "team_test = {'d':team_picks[2],'p':team_players[2]}\n",
    "get_team_value(team_test,sCap,maxS,minS,FAKE_RESIGN=True),get_team_value(team_test,sCap,maxS,minS,FAKE_RESIGN=False)"
   ]
  },
  {
   "cell_type": "code",
   "execution_count": null,
   "metadata": {},
   "outputs": [],
   "source": [
    "team_test2 = {'d': [(2, 0, 1.63714319636652),\n",
    "  (2, 0, -0.541253135267356),\n",
    "  (2, 1, 4.211933478418106),\n",
    "  (1, 1, -6.1728821801766705),\n",
    "  (1, 1, -3.690676899636947),\n",
    "  (2, 1, -3.690676899636947),\n",
    "  (1, 2, -6.1728821801766705),\n",
    "  (2, 2, -6.1728821801766705),\n",
    "  (2, 2, 6.384246070143772),\n",
    "  (1, 3, -6.1728821801766705),\n",
    "  (1, 5, -6.1728821801766705),\n",
    "  (2, 5, -6.1728821801766705),\n",
    "  (1, 6, -6.1728821801766705)],\n",
    " 'p': [(24, 51, 4800, 2),\n",
    "  (24, 55, 1650, 2),\n",
    "  (25, 59, 29550, 3),\n",
    "  (27, 22, 1650, 2),\n",
    "  (21, 25, 3900, 3),\n",
    "  (30, 59, 20200, 4),\n",
    "  (30, 64, 38000, 4),\n",
    "  (32, 68, 40250, 2),\n",
    "  (26, 26, 1650, 2),\n",
    "  (23, 46, 1800, 1),\n",
    "  (27, 26, 100, 0),\n",
    "  (20, 33, 1750, 3),\n",
    "  (23, 38, 200, 0),\n",
    "  (28, 38, 1850, 2),\n",
    "  (23, 29, 1650, 2)]}\n",
    "get_team_value(team_test2,sCap,maxS,minS,FAKE_RESIGN=True),get_team_value(team_test2,sCap,maxS,minS,FAKE_RESIGN=False)"
   ]
  },
  {
   "cell_type": "code",
   "execution_count": null,
   "metadata": {},
   "outputs": [],
   "source": []
  },
  {
   "cell_type": "code",
   "execution_count": null,
   "metadata": {},
   "outputs": [],
   "source": []
  },
  {
   "cell_type": "code",
   "execution_count": null,
   "metadata": {},
   "outputs": [],
   "source": []
  },
  {
   "cell_type": "code",
   "execution_count": null,
   "metadata": {},
   "outputs": [],
   "source": []
  },
  {
   "cell_type": "code",
   "execution_count": null,
   "metadata": {},
   "outputs": [],
   "source": []
  },
  {
   "cell_type": "code",
   "execution_count": null,
   "metadata": {},
   "outputs": [],
   "source": []
  },
  {
   "cell_type": "code",
   "execution_count": null,
   "metadata": {},
   "outputs": [],
   "source": []
  },
  {
   "cell_type": "code",
   "execution_count": null,
   "metadata": {},
   "outputs": [],
   "source": []
  },
  {
   "cell_type": "code",
   "execution_count": null,
   "metadata": {},
   "outputs": [],
   "source": []
  },
  {
   "cell_type": "code",
   "execution_count": null,
   "metadata": {},
   "outputs": [],
   "source": []
  },
  {
   "cell_type": "code",
   "execution_count": null,
   "metadata": {},
   "outputs": [],
   "source": []
  }
 ],
 "metadata": {
  "kernelspec": {
   "display_name": "Python 3",
   "language": "python",
   "name": "python3"
  },
  "language_info": {
   "codemirror_mode": {
    "name": "ipython",
    "version": 3
   },
   "file_extension": ".py",
   "mimetype": "text/x-python",
   "name": "python",
   "nbconvert_exporter": "python",
   "pygments_lexer": "ipython3",
   "version": "3.7.3"
  }
 },
 "nbformat": 4,
 "nbformat_minor": 2
}
