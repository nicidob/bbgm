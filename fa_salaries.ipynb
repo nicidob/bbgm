{
 "cells": [
  {
   "cell_type": "code",
   "execution_count": null,
   "metadata": {},
   "outputs": [],
   "source": [
    "import json\n",
    "import numpy as np\n",
    "\n",
    "def stable_softmax(x):\n",
    "    z = x - max(x)\n",
    "    numerator = np.exp(z)\n",
    "    denominator = np.sum(numerator)\n",
    "    softmax = numerator/denominator\n",
    "\n",
    "    return softmax"
   ]
  },
  {
   "cell_type": "code",
   "execution_count": null,
   "metadata": {},
   "outputs": [],
   "source": [
    "with open('fa_out.json','r',encoding='utf-8-sig') as fp:\n",
    "    txt = fp.read()"
   ]
  },
  {
   "cell_type": "code",
   "execution_count": null,
   "metadata": {},
   "outputs": [],
   "source": [
    "data = json.loads(txt)"
   ]
  },
  {
   "cell_type": "code",
   "execution_count": null,
   "metadata": {},
   "outputs": [],
   "source": [
    "data.keys()"
   ]
  },
  {
   "cell_type": "code",
   "execution_count": null,
   "metadata": {},
   "outputs": [],
   "source": [
    "for p in data['players']:\n",
    "    p['freeAgentMood']= 30*[0]\n",
    "for t in data['gameAttributes']:\n",
    "    if t['key'] == 'salaryCap':\n",
    "        cap = t['value']\n",
    "    if t['key'] == 'minContract':\n",
    "        minS = t['value']\n",
    "    if t['key'] == 'maxContract':\n",
    "        maxS = t['value']"
   ]
  },
  {
   "cell_type": "code",
   "execution_count": null,
   "metadata": {},
   "outputs": [],
   "source": [
    "RAND_NUM = 256 # power of 2 plz\n",
    "RN = 256 - 1 # mod 2 into hash\n",
    "rvec = np.random.randn(256)*2\n",
    "\n",
    "TEMP = 1.0\n",
    "SCALE_UP = 1.05\n",
    "SCALE_DOWN = 0.95\n",
    "ROUNDS = 25"
   ]
  },
  {
   "cell_type": "code",
   "execution_count": null,
   "metadata": {},
   "outputs": [],
   "source": [
    "players = {}\n",
    "for p in data['players']:\n",
    "    if p['tid'] != -1:\n",
    "        continue\n",
    "        \n",
    "    # i dunno, good enough?\n",
    "    val = p['ratings'][-1]['ovr']*0.5 + p['ratings'][-1]['pot']*0.5\n",
    "    \n",
    "    # basically ws/48 prediction from OVR\n",
    "    val_or = (1/209.33) * (max(val,29.14) - 29.14) ** 2\n",
    "    \n",
    "    apy = p['contract']['amount']\n",
    "    players[p['pid']] = (val_or,apy)\n"
   ]
  },
  {
   "cell_type": "code",
   "execution_count": null,
   "metadata": {},
   "outputs": [],
   "source": [
    "from collections import defaultdict\n",
    "teams = defaultdict(list)\n",
    "for p in data['players']:\n",
    "    if p['tid'] >= 0:\n",
    "        teams[p['tid']].append(p['contract']['amount'])\n"
   ]
  },
  {
   "cell_type": "code",
   "execution_count": null,
   "metadata": {},
   "outputs": [],
   "source": [
    "team_totals = {k:sum(v) for k,v in teams.items()}"
   ]
  },
  {
   "cell_type": "code",
   "execution_count": null,
   "metadata": {},
   "outputs": [],
   "source": [
    "for i in range(ROUNDS):\n",
    "    # teams bid on players\n",
    "\n",
    "    bids = defaultdict(int)\n",
    "    for t,c in team_totals.items():\n",
    "        budget = cap-c\n",
    "        selected = set()\n",
    "        while budget > 0:\n",
    "            # get valid players\n",
    "            valid_p = [(p[0]+rvec[hash((pid,t))&RN],pid) for pid,p in players.items() if p[1]<=budget and pid not in selected]\n",
    "\n",
    "            if len(valid_p) > 0:\n",
    "                # sample one\n",
    "                vpa = np.array(valid_p)\n",
    "                probs = stable_softmax(vpa[:,0]*TEMP)\n",
    "                pid = int(np.random.choice(vpa[:,1],1,p=probs))\n",
    "\n",
    "                # act accordingly\n",
    "                selected.add(pid)\n",
    "                bids[pid] = 1 + bids[pid]\n",
    "                budget -= players[pid][1]\n",
    "            else:\n",
    "                break\n",
    "                \n",
    "    # players adjust expectations\n",
    "    for pid,v in players.items():\n",
    "        if pid in bids and bids[pid] > 1:\n",
    "            players[pid]  = (v[0],min(maxS,v[1]*SCALE_UP))\n",
    "        elif bids[pid] == 0:\n",
    "            players[pid] = (v[0],max(minS,v[1]*SCALE_DOWN))\n",
    "            #print(players[pid],pid)"
   ]
  },
  {
   "cell_type": "code",
   "execution_count": null,
   "metadata": {},
   "outputs": [],
   "source": [
    "res = []\n",
    "for p in data['players']:\n",
    "    if p['tid'] != -1:\n",
    "        continue\n",
    "    res.append((p['contract']['amount'],players[p['pid']][1]))"
   ]
  },
  {
   "cell_type": "code",
   "execution_count": null,
   "metadata": {},
   "outputs": [],
   "source": [
    "import matplotlib.pyplot as plt\n",
    "plt.subplot(1,2,1)\n",
    "plt.hist(vpa[:,0])\n",
    "plt.subplot(1,2,2)\n",
    "plt.hist(probs)"
   ]
  },
  {
   "cell_type": "code",
   "execution_count": null,
   "metadata": {},
   "outputs": [],
   "source": [
    "plt.scatter(np.array(res)[:,0],np.array(res)[:,1])"
   ]
  },
  {
   "cell_type": "code",
   "execution_count": null,
   "metadata": {},
   "outputs": [],
   "source": [
    "for i,e in enumerate(data['players']):\n",
    "    if e['pid'] in players:\n",
    "        data['players'][i]['contract']['amount'] = players[e['pid']][1]"
   ]
  },
  {
   "cell_type": "code",
   "execution_count": null,
   "metadata": {},
   "outputs": [],
   "source": [
    "with open('fa_fixed.json','w',encoding='utf-8-sig') as fp:\n",
    "    json.dump(data,fp)"
   ]
  }
 ],
 "metadata": {
  "kernelspec": {
   "display_name": "Python 3",
   "language": "python",
   "name": "python3"
  },
  "language_info": {
   "codemirror_mode": {
    "name": "ipython",
    "version": 3
   },
   "file_extension": ".py",
   "mimetype": "text/x-python",
   "name": "python",
   "nbconvert_exporter": "python",
   "pygments_lexer": "ipython3",
   "version": "3.7.3"
  }
 },
 "nbformat": 4,
 "nbformat_minor": 2
}
