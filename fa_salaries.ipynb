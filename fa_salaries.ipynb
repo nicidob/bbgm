{
 "cells": [
  {
   "cell_type": "code",
   "execution_count": null,
   "metadata": {},
   "outputs": [],
   "source": [
    "import json\n",
    "import random\n",
    "import numpy as np\n",
    "\n",
    "def stable_softmax(x):\n",
    "    z = x - max(x)\n",
    "    numerator = np.exp(z)\n",
    "    denominator = np.sum(numerator)\n",
    "    softmax = numerator/denominator\n",
    "\n",
    "    return softmax"
   ]
  },
  {
   "cell_type": "code",
   "execution_count": null,
   "metadata": {},
   "outputs": [],
   "source": [
    "# for the form exp(x[0]*i)*x[1]\n",
    "# fit to FBGM team rating coeffcients \n",
    "# tweaks 0.25*QB1 for Backup QB, LB smoothed out by hand, backup K and P set to min weight of set\n",
    "pos_V = {'QB': [-1.396, 0.275],\n",
    " 'RB': [-1.49, 0.019],\n",
    " 'TE': [-1.527, 0.031],\n",
    " 'WR': [-0.524, 0.061],\n",
    " 'OL': [-0.213, 0.181],\n",
    " 'CB': [-0.568, 0.136],\n",
    " 'S': [-0.508, 0.101],\n",
    " 'LB': [-0.389, 0.072],\n",
    " 'DL': [-0.286, 0.234],\n",
    " 'K': [-4.386, 0.08],\n",
    " 'P': [-3.936, 0.051]}"
   ]
  },
  {
   "cell_type": "code",
   "execution_count": null,
   "metadata": {},
   "outputs": [],
   "source": [
    "with open('FBGM_League_37_2020_re_sign_players.json','r',encoding='utf-8-sig') as fp:\n",
    "    txt = fp.read()"
   ]
  },
  {
   "cell_type": "code",
   "execution_count": null,
   "metadata": {},
   "outputs": [],
   "source": [
    "data = json.loads(txt)"
   ]
  },
  {
   "cell_type": "code",
   "execution_count": null,
   "metadata": {},
   "outputs": [],
   "source": [
    "data.keys()"
   ]
  },
  {
   "cell_type": "code",
   "execution_count": null,
   "metadata": {},
   "outputs": [],
   "source": [
    "for p in data['players']:\n",
    "    p['freeAgentMood']= 30*[0]\n",
    "for t in data['gameAttributes']:\n",
    "    if t['key'] == 'salaryCap':\n",
    "        cap = t['value']\n",
    "    if t['key'] == 'minContract':\n",
    "        minS = t['value']\n",
    "    if t['key'] == 'maxContract':\n",
    "        maxS = t['value']\n",
    "    if t['key'] == 'season':\n",
    "        season = t['value']\n",
    "numTeams = len(data['teams'])"
   ]
  },
  {
   "cell_type": "code",
   "execution_count": null,
   "metadata": {},
   "outputs": [],
   "source": [
    "RAND_NUM = 256 # power of 2 plz\n",
    "RAND_NOISE = 0.5\n",
    "RN = RAND_NUM - 1 # mod 2 into hash\n",
    "rvec = np.random.randn(RAND_NUM)*RAND_NOISE\n",
    "\n",
    "TEMP = 0.9\n",
    "LEARNING_RATE = .5\n",
    "ROUNDS = 60\n",
    "SCALE_CAP = 1.0 # scaling\n",
    "ADD_CAP = maxS*0.15 # exception salary\n",
    "USE_OWN_INIT = True\n",
    "USE_EXPIRINGS = False\n",
    "EXP_INIT = .4 # try to get init function to work for both\n",
    "MIN_BIDS = 1\n",
    "IS_FOOTBALL = True"
   ]
  },
  {
   "cell_type": "code",
   "execution_count": null,
   "metadata": {},
   "outputs": [],
   "source": [
    "def bbgm_value(team):\n",
    "    teamvt = [v*np.exp(-0.1733*i)*0.336273 for i,v in enumerate(sorted(team,reverse=True))]\n",
    "    return sum(teamvt)\n",
    "bbgm_value([72,55,55,52,56,53,62,78])"
   ]
  },
  {
   "cell_type": "code",
   "execution_count": null,
   "metadata": {},
   "outputs": [],
   "source": [
    "def fbgm_value(team,weights):\n",
    "    teamvt = [v*np.exp(weights[0]*i)*weights[1] for i,v in enumerate(sorted(team,reverse=True))]\n",
    "    return sum(teamvt)\n"
   ]
  },
  {
   "cell_type": "code",
   "execution_count": null,
   "metadata": {},
   "outputs": [],
   "source": [
    "players = {}\n",
    "for p in data['players']:\n",
    "    if USE_EXPIRINGS and p['tid'] >= 0:\n",
    "        if p['contract']['exp'] > season+1:\n",
    "            continue\n",
    "    elif p['tid'] != -1:\n",
    "        continue\n",
    "    apy = p['contract']['amount']\n",
    "\n",
    "\n",
    "    val = p['value']\n",
    "    # could consider cross-pos play by team but won't\n",
    "    pos = sorted([(v,p) for p,v in p['ratings'][-1]['ovrs'].items() if p not in ['KR','PR']])[-1][1] if IS_FOOTBALL else ''\n",
    "    if pos == 'QB':\n",
    "        val /= 1.25\n",
    "    elif pos in ['P','K']:\n",
    "        val /= 0.25\n",
    "    players[p['pid']] = (val,apy,pos)\n",
    "\n",
    "if True and not IS_FOOTBALL:\n",
    "    p_keys = list(players.keys())\n",
    "    p_vals = [players[k][1] for k in p_keys]\n",
    "    # 0 is highest, etc. \n",
    "    order = len(p_vals)-1 - np.argsort(p_vals)\n",
    "\n",
    "    # set order by ourselves simply based on order and number of teams!\n",
    "    # i know it's not actually the right intercepts but whatever, it's close. \n",
    "    for k,v,o in zip(p_keys,p_vals,order):\n",
    "        nv = round(maxS*np.exp(-(1+EXP_INIT*USE_EXPIRINGS)*o/numTeams)+minS)\n",
    "        players[k] = (players[k][0],nv,players[k][2])"
   ]
  },
  {
   "cell_type": "code",
   "execution_count": null,
   "metadata": {},
   "outputs": [],
   "source": [
    "from collections import defaultdict\n",
    "teams = defaultdict(list)\n",
    "team_talent = defaultdict(list) if not IS_FOOTBALL else defaultdict(lambda: defaultdict(list))\n",
    "for p in data['players']:\n",
    "    if p['tid'] >= 0:\n",
    "        teams[p['tid']].append(p['contract']['amount'])\n",
    "        if IS_FOOTBALL:\n",
    "            pos = sorted([(v,p) for p,v in p['ratings'][-1]['ovrs'].items() if p not in ['KR','PR']])[-1][1]\n",
    "            team_talent[p['tid']][pos].append(p['value'])\n",
    "        else:\n",
    "            team_talent[p['tid']].append(p['value'])\n",
    "\n",
    "    if p['pid'] in [163,138]:\n",
    "        print(p['contract']['amount'])\n"
   ]
  },
  {
   "cell_type": "code",
   "execution_count": null,
   "metadata": {},
   "outputs": [],
   "source": [
    "if IS_FOOTBALL:\n",
    "    team_talent_total = defaultdict(lambda: defaultdict(list))\n",
    "    for t in team_talent:\n",
    "        for p in pos_V:\n",
    "            team_talent_total[t][p] = fbgm_value(team_talent.get(t,{}).get(p,[]),pos_V[p])"
   ]
  },
  {
   "cell_type": "code",
   "execution_count": null,
   "metadata": {},
   "outputs": [],
   "source": [
    "team_totals = {k:sum(v) for k,v in teams.items()}\n",
    "for t in data['teams']:\n",
    "    team_totals[t['tid']] = team_totals.get(t['tid'],0)"
   ]
  },
  {
   "cell_type": "code",
   "execution_count": null,
   "metadata": {},
   "outputs": [],
   "source": [
    "#team_totals = {k:0 for k,v in team_totals.items()}\n",
    "team_totals"
   ]
  },
  {
   "cell_type": "code",
   "execution_count": null,
   "metadata": {},
   "outputs": [],
   "source": [
    "for i in range(ROUNDS):\n",
    "    # teams bid on players\n",
    "    OFFSET = LEARNING_RATE*(1/(1+i/ROUNDS)**3)\n",
    "    SCALE_UP = 1.0 + OFFSET\n",
    "    SCALE_DOWN = 1.0 - OFFSET\n",
    "    bids = defaultdict(int)\n",
    "    team_data = list(team_totals.items())\n",
    "    random.shuffle(team_data)\n",
    "    for t,c in team_data: # randomize team order\n",
    "        if not IS_FOOTBALL:\n",
    "            val_o = bbgm_value(team_talent[t])\n",
    "\n",
    "        budget = SCALE_CAP*max(0,cap-c)+ADD_CAP\n",
    "        selected = set([pid for pid,p in players.items() if bids[pid] > 1]) # skip players who we know get signed at their current price\n",
    "        #selected = set()\n",
    "        while budget > 0:\n",
    "            # get valid players\n",
    "            if not IS_FOOTBALL:\n",
    "                valid_p = [(bbgm_value(team_talent[t] +[p[0]])-val_o,pid) for pid,p in players.items() if p[1]<=budget and pid not in selected]\n",
    "            else:\n",
    "                valid_p = []\n",
    "                for pid,p in players.items():\n",
    "                    if p[1]> budget or pid in selected:\n",
    "                        continue\n",
    "                    val_o = team_talent_total[t].get(p[2],0)\n",
    "                    tal = team_talent.get(t,{}).get(p[2],[]) \n",
    "                    val_n = fbgm_value(tal+[p[0]],pos_V[p[2]])\n",
    "                    valid_p.append((val_n-val_o,pid))\n",
    "            if len(valid_p) > 0:\n",
    "                # sample one\n",
    "                vpa = np.array(valid_p)\n",
    "                probs = stable_softmax(vpa[:,0]*TEMP)\n",
    "                pid = int(np.random.choice(vpa[:,1],1,p=probs))\n",
    "\n",
    "                # act accordingly\n",
    "                selected.add(pid)\n",
    "                bids[pid] = 1 + bids[pid]\n",
    "                budget -= players[pid][1]\n",
    "            else:\n",
    "                break\n",
    "    print(i,OFFSET,len([_ for _ in players if bids[_] > 1]))\n",
    "\n",
    "    # players adjust expectations\n",
    "    for pid,v in players.items():\n",
    "        if pid in bids and bids[pid] > MIN_BIDS:\n",
    "            players[pid]  = (v[0],min(maxS,v[1]*SCALE_UP),v[2])\n",
    "        elif bids[pid] == 0:\n",
    "            players[pid] = (v[0],max(minS,v[1]*SCALE_DOWN),v[2])\n",
    "            #print(players[pid],pid)"
   ]
  },
  {
   "cell_type": "code",
   "execution_count": null,
   "metadata": {},
   "outputs": [],
   "source": [
    "res = []\n",
    "for p in data['players']:\n",
    "    if p['pid'] not in players:\n",
    "        continue\n",
    "    #if p['tid'] != -1:\n",
    "    #    continue\n",
    "    res.append((p['contract']['amount'],players[p['pid']][1]))"
   ]
  },
  {
   "cell_type": "code",
   "execution_count": null,
   "metadata": {},
   "outputs": [],
   "source": [
    "import matplotlib.pyplot as plt\n",
    "plt.subplot(1,2,1)\n",
    "plt.hist(vpa[:,0])\n",
    "plt.subplot(1,2,2)\n",
    "plt.hist(probs)"
   ]
  },
  {
   "cell_type": "code",
   "execution_count": null,
   "metadata": {},
   "outputs": [],
   "source": [
    "plt.scatter(np.array(res)[:,0],np.array(res)[:,1])\n",
    "plt.xlabel('old contract')\n",
    "plt.ylabel('new contract')\n",
    "plt.title('changes')\n",
    "plt.tight_layout()"
   ]
  },
  {
   "cell_type": "code",
   "execution_count": null,
   "metadata": {},
   "outputs": [],
   "source": [
    "res2 = res"
   ]
  },
  {
   "cell_type": "code",
   "execution_count": null,
   "metadata": {},
   "outputs": [],
   "source": [
    "vs = np.array(list(players.values()))[:,0]\n",
    "vss = stable_softmax(vs*2.5)\n",
    "vss *= numTeams*cap*0.75\n",
    "vss[np.where(vss > maxS)] = maxS\n",
    "#_ = plt.hist(vss,80)\n",
    "plt.plot(np.arange(len(vss)),sorted(vss,reverse=True))\n",
    "plt.xlim(0,100)"
   ]
  },
  {
   "cell_type": "code",
   "execution_count": null,
   "metadata": {},
   "outputs": [],
   "source": [
    "# test the init thing\n",
    "plt.plot(sorted(np.array(list(players.values()))[:,1],reverse=True))\n",
    "xn = np.linspace(0,1000,1000)\n",
    "plt.plot(xn,maxS*np.exp(-(1+EXP_INIT*USE_EXPIRINGS)*xn/(numTeams))+minS)\n",
    "#plt.xlim(0,100)\n",
    "plt.ylim(0,maxS*1.2)"
   ]
  },
  {
   "cell_type": "code",
   "execution_count": null,
   "metadata": {},
   "outputs": [],
   "source": [
    "plt.style.use('fivethirtyeight')\n",
    "plt.scatter(np.array(res)[:,0],np.array(res)[:,1])\n",
    "plt.xlabel('old contract')\n",
    "plt.ylabel('new contract')\n",
    "plt.title('INV_TEMP = {}'.format(TEMP))"
   ]
  },
  {
   "cell_type": "code",
   "execution_count": null,
   "metadata": {},
   "outputs": [],
   "source": [
    "for i,e in enumerate(data['players']):\n",
    "    if e['pid'] in players:\n",
    "        if e['pid'] in [163,138]:\n",
    "            print(int(round(players[e['pid']][1])))"
   ]
  },
  {
   "cell_type": "code",
   "execution_count": null,
   "metadata": {},
   "outputs": [],
   "source": [
    "for i,e in enumerate(data['players']):\n",
    "    if e['pid'] in players and e['tid'] == -1:\n",
    "        data['players'][i]['contract']['amount'] = int(round(players[e['pid']][1]))"
   ]
  },
  {
   "cell_type": "code",
   "execution_count": null,
   "metadata": {},
   "outputs": [],
   "source": [
    "with open('fa_fixed.json','w',encoding='utf-8-sig') as fp:\n",
    "    json.dump(data,fp)"
   ]
  },
  {
   "cell_type": "code",
   "execution_count": null,
   "metadata": {},
   "outputs": [],
   "source": [
    "data['players'][0]"
   ]
  },
  {
   "cell_type": "code",
   "execution_count": null,
   "metadata": {},
   "outputs": [],
   "source": []
  },
  {
   "cell_type": "code",
   "execution_count": null,
   "metadata": {},
   "outputs": [],
   "source": []
  },
  {
   "cell_type": "code",
   "execution_count": null,
   "metadata": {},
   "outputs": [],
   "source": []
  },
  {
   "cell_type": "code",
   "execution_count": null,
   "metadata": {},
   "outputs": [],
   "source": []
  },
  {
   "cell_type": "code",
   "execution_count": null,
   "metadata": {},
   "outputs": [],
   "source": []
  },
  {
   "cell_type": "code",
   "execution_count": null,
   "metadata": {},
   "outputs": [],
   "source": []
  },
  {
   "cell_type": "code",
   "execution_count": null,
   "metadata": {},
   "outputs": [],
   "source": []
  },
  {
   "cell_type": "code",
   "execution_count": null,
   "metadata": {},
   "outputs": [],
   "source": []
  }
 ],
 "metadata": {
  "kernelspec": {
   "display_name": "Python 3",
   "language": "python",
   "name": "python3"
  },
  "language_info": {
   "codemirror_mode": {
    "name": "ipython",
    "version": 3
   },
   "file_extension": ".py",
   "mimetype": "text/x-python",
   "name": "python",
   "nbconvert_exporter": "python",
   "pygments_lexer": "ipython3",
   "version": "3.7.3"
  }
 },
 "nbformat": 4,
 "nbformat_minor": 2
}
