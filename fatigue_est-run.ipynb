{
 "cells": [
  {
   "cell_type": "code",
   "execution_count": 2,
   "metadata": {},
   "outputs": [],
   "source": [
    "import numpy as np\n",
    "import os\n",
    "import numpy as np\n",
    "\n",
    "from selenium import webdriver\n",
    "from selenium.webdriver.common.keys import Keys\n",
    "from selenium.webdriver import ActionChains\n",
    "import time\n",
    "from selenium.webdriver.support.ui import WebDriverWait\n",
    "from selenium.webdriver.support import expected_conditions as EC\n",
    "from selenium.webdriver.common.by import By\n",
    "from selenium.common.exceptions import TimeoutException\n",
    "def kl_hist(a,b,min_idx=1,smooth=1e-9):\n",
    "    res = 0\n",
    "    a=a[min_idx:]+smooth\n",
    "    b=b[min_idx:]+smooth\n",
    "    a/=np.linalg.norm(a)\n",
    "    b/=np.linalg.norm(b)\n",
    "    for i,j in zip(a,b):\n",
    "        res+= i*np.log(i/j)\n",
    "        res+= j*np.log(j/i)\n",
    "    return res"
   ]
  },
  {
   "cell_type": "code",
   "execution_count": 28,
   "metadata": {},
   "outputs": [],
   "source": [
    "def tes_func(x):\n",
    "    bins = np.array([0, 13.86693361, 15.63797682, 17.40902002, 19.18006322,\n",
    "        20.95110643, 22.72214963, 24.49319283, 26.26423604, 28.03527924,\n",
    "        29.80632244, 31.57736565, 33.34840885, 35.11945205, 36.89049526,39,\n",
    "        50])\n",
    "\n",
    "    x = x.flatten()\n",
    "    year = 2030\n",
    "    text = open('../gm-games/src/worker/core/gs2.txt','rt').read()\n",
    "    #x = abs(x)\n",
    "    print(x,end='\\t')\n",
    "   # ['0.0595529939813699', '0.6729315722656376', '0.0547439860604122', '1.0', '0.0887886919990636'\n",
    "    if True:\n",
    "        s1 = str(np.clip(x[0],0,1))\n",
    "        s2 = str(np.clip( x[1],0,1))\n",
    "        s3 = str(np.clip( x[2],0,1))\n",
    "        s5 = str(np.clip( x[3],0,1))\n",
    "    else:\n",
    "        s1 = str(x[0])\n",
    "        s2 = str(x[1])\n",
    "        s3 = str(x[2])\n",
    "        s5 = str(x[3])\n",
    "    \n",
    "    text2 = text\n",
    "    subs = [s1,s2,s3,s5]\n",
    "    for i in range(len(subs)):\n",
    "        text2 = text2.replace('STR_{}'.format(i+1),subs[i])\n",
    "    with open('../gm-games/src/worker/core/GameSim.basketball.ts','wt') as fp:\n",
    "        fp.write(text2)\n",
    "    time.sleep(5)\n",
    "\n",
    "\n",
    "\n",
    "    driver = webdriver.Chrome(executable_path='./chromedriver.exe')\n",
    "\n",
    "    driver.get(\"http://localhost:3000/new_league/random\")\n",
    "    dash_name = 'btn btn-primary dashboard-top-link dashboard-top-link-new mr-sm-3 mb-3'\n",
    "    delay = 5 # seconds\n",
    "    try:\n",
    "        myElem = WebDriverWait(driver, delay).until(EC.presence_of_element_located((By.ID, 'actual-actual-content')))\n",
    "    except TimeoutException:\n",
    "        print(\"Loading took too much time!\")\n",
    "        raise\n",
    "    except:\n",
    "        raise\n",
    "    element = driver.find_element(By.XPATH, '//button[text()=\"Create League\"]')\n",
    "    ActionChains(driver).click(element).perform()\n",
    "\n",
    "    delay = 15 # seconds\n",
    "    try:\n",
    "        myElem = WebDriverWait(driver, delay).until(EC.presence_of_element_located((By.XPATH, '/html/body/div/div[1]/div[6]/div[1]/div/div[1]/h2')))\n",
    "    except TimeoutException:\n",
    "        print(\"Loading took too much time!\")\n",
    "        raise\n",
    "    except:\n",
    "        raise\n",
    "    driver.set_window_size(1920, 1200)\n",
    "\n",
    "    element = driver.find_element_by_xpath('/html/body/div[1]/div[1]/div[5]/div/ul[7]/li[8]/a')\n",
    "    ActionChains(driver).move_to_element(element).click(element).perform()\n",
    "    delay = 5 # seconds\n",
    "    try:\n",
    "        myElem = WebDriverWait(driver, delay).until(EC.presence_of_element_located((By.XPATH, '/html/body/div/div[1]/div[6]/div[1]/div/div[2]/div/a[15]/h3')))\n",
    "    except TimeoutException:\n",
    "        print(\"Loading took too much time!\")\n",
    "        raise\n",
    "    time.sleep(0.3)\n",
    "    \n",
    "        \n",
    "    element = driver.find_element_by_partial_link_text('Auto Play')\n",
    "    ActionChains(driver).move_to_element(element).click(element).perform()\n",
    "    delay = 15 # seconds\n",
    "    try:\n",
    "        myElem = WebDriverWait(driver, delay).until(EC.presence_of_element_located((By.XPATH, '/html/body/div[4]/div/div/div[2]/button[2]')))\n",
    "    except TimeoutException:\n",
    "        print(\"Loading took too much time!\")\n",
    "        raise\n",
    "\n",
    "    time.sleep(0.3)\n",
    "\n",
    "    \n",
    "    \n",
    "    inputField = driver.find_element_by_xpath('/html/body/div[4]/div/div/div[1]/form/div/div[1]/input')\n",
    "\n",
    "    inputField.clear()\n",
    "    inputField.send_keys(str(year))\n",
    "\n",
    "\n",
    "    element = driver.find_element_by_xpath('/html/body/div[4]/div/div/div[2]/button[2]')\n",
    "    ActionChains(driver).click(element).perform()\n",
    "    time.sleep(2)\n",
    "\n",
    "    element = driver.find_element_by_xpath('//*[@id=\"content\"]/div[1]/button')\n",
    "    ActionChains(driver).move_to_element(element).click(element).perform()\n",
    "    \n",
    "    delay = 2800 # seconds\n",
    "    try:\n",
    "        myElem = WebDriverWait(driver, delay).until(EC.presence_of_element_located((By.XPATH, \"//span[text()='{} regular season']\".format(year))))\n",
    "    except TimeoutException:\n",
    "        print(\"Loading took too much time!\")\n",
    "        raise\n",
    "    except:\n",
    "        raise\n",
    "    fn = '../../Downloads/BBGM_League_1_all_seasons_Average_Stats.csv'\n",
    "    if os.path.exists(fn):\n",
    "        os.remove(fn)\n",
    "        \n",
    "    element = driver.find_element_by_partial_link_text('Export Stats')\n",
    "    ActionChains(driver).move_to_element(element).click(element).perform()\n",
    "    delay = 15 # seconds\n",
    "    try:\n",
    "        myElem = WebDriverWait(driver, delay).until(EC.presence_of_element_located((By.XPATH, '/html/body/div/div[2]/div[6]/div[1]/form/button')))\n",
    "    except TimeoutException:\n",
    "        print(\"Loading took too much time!\")\n",
    "        raise\n",
    "    except:\n",
    "        raise\n",
    "    element = driver.find_element_by_xpath('/html/body/div/div[2]/div[6]/div[1]/form/button')\n",
    "    ActionChains(driver).click(element).perform()\n",
    "\n",
    "    time.sleep(2)\n",
    "    import pandas as pd\n",
    "\n",
    "    df = pd.read_csv(fn)\n",
    "    \n",
    "    df_nba = pd.read_csv('nba_min_recent.csv',index_col=0)\n",
    "    df_nba['MP'] = df_nba.mp/df_nba.g\n",
    "    dfv = df[df.MP*df.G >= 850]\n",
    "    dfv2 = df_nba[df_nba.mp >= 850]\n",
    "    #sim_m,sim_s = dfv.MP.mean(),dfv.MP.var()\n",
    "    #nba_m,nba_s =  dfv2.MP.mean(),dfv2.MP.var()\n",
    "    #def kl(m1,s1,m2,s2):\n",
    "    #    return np.log(np.sqrt(s2/s1)) + (s1 + (m1-m2)**2)/(2*s2) - 0.5\n",
    "    \n",
    "    hist1 = np.histogram(dfv.MP,bins,density=True)[0]\n",
    "    hist2 = np.histogram(dfv2.MP,bins,density=True)[0]\n",
    "    err = kl_hist(hist1,hist2)\n",
    "    driver.close()\n",
    "    print(err)\n",
    "    return err\n",
    "    #return kl(sim_m,sim_s,nba_m,nba_s) + kl(nba_m,nba_s,sim_m,sim_s)"
   ]
  },
  {
   "cell_type": "code",
   "execution_count": 44,
   "metadata": {},
   "outputs": [
    {
     "name": "stdout",
     "output_type": "stream",
     "text": [
      "[0.016 0.728 0.051 0.094]\t0.283172185164157\n"
     ]
    },
    {
     "data": {
      "text/plain": [
       "0.283172185164157"
      ]
     },
     "execution_count": 44,
     "metadata": {},
     "output_type": "execute_result"
    }
   ],
   "source": [
    "\n",
    "x = np.array([0.016,0.728,0.051,0.094])\n",
    "#array([0.0125926261330508, 0.7277571249131707, 0.0508749297562149,\n",
    "#       0.0955069419788015])\n",
    "#x = np.zeros_like(x)\n",
    "#x[-1] = 1\n",
    "tes_func(x)"
   ]
  },
  {
   "cell_type": "code",
   "execution_count": 35,
   "metadata": {},
   "outputs": [],
   "source": [
    "if False:\n",
    "    import GPy\n",
    "    import GPyOpt\n",
    "    bounds = [{'name': 'min', 'type': 'continuous', 'domain': (0,0.1)},\n",
    "              {'name': 'sub', 'type': 'continuous', 'domain': (0.6,0.8)},\n",
    "              {'name': '+', 'type': 'continuous', 'domain': (0.04,0.15)},\n",
    "              {'name': '-', 'type': 'continuous', 'domain': (0.04,0.15)},\n",
    "             ]\n",
    "    myProblem = GPyOpt.methods.BayesianOptimization(tes_func,bounds,\n",
    "                                                    model_type='GP',\n",
    "                                                    verbosity=True,\n",
    "                                                    verbose=True,\n",
    "                                                    verbose_model=True,\n",
    "                                                    acquisition_type='EI',\n",
    "                                                    exact_feval = False,\n",
    "                                                    normalize_Y=True, \n",
    "                    batch_size=1, num_cores=1,\n",
    "                    verbosity_model=True, de_duplication=True)\n",
    "\n",
    "    myProblem.run_optimization(100000,60*60*2, verbosity=True)\n",
    "    print(myProblem.fx_opt)\n",
    "\n"
   ]
  },
  {
   "cell_type": "code",
   "execution_count": 36,
   "metadata": {},
   "outputs": [],
   "source": [
    "if False:\n",
    "    x,y = myProblem.get_evaluations()\n",
    "    x[:-1,:].shape,y.shape\n",
    "    x[np.argmin(y)]"
   ]
  },
  {
   "cell_type": "code",
   "execution_count": null,
   "metadata": {},
   "outputs": [],
   "source": [
    "import cma #\n",
    "#[0.0207189191227875 0.7293522577303776 0.0521512661333346\n",
    "# 0.0897818188873167]\t.20\n",
    "#[0.0159008527131689 0.7276145375540903 0.0513179682625608\n",
    "# 0.0939385899349409]\t\n",
    "# "
   ]
  },
  {
   "cell_type": "code",
   "execution_count": null,
   "metadata": {},
   "outputs": [],
   "source": [
    "es = cma.CMAEvolutionStrategy(x, 0.005, {'tolx':1e-3,'tolfun':1e-3,'maxfevals':1000})\n",
    "es.optimize(tes_func,n_jobs=0)"
   ]
  },
  {
   "cell_type": "code",
   "execution_count": 40,
   "metadata": {},
   "outputs": [
    {
     "name": "stdout",
     "output_type": "stream",
     "text": [
      "final/bestever f-value = 2.165282e-01 2.006579e-01\n",
      "incumbent solution: [0.012592626133050781, 0.7277571249131707, 0.050874929756214916, 0.09550694197880147]\n",
      "std deviation: [0.001549985782276617, 0.000853819541255777, 0.0007635354980028928, 0.001237718087429697]\n"
     ]
    },
    {
     "data": {
      "text/plain": [
       "array([0.0125926261330508, 0.7277571249131707, 0.0508749297562149,\n",
       "       0.0955069419788015])"
      ]
     },
     "execution_count": 40,
     "metadata": {},
     "output_type": "execute_result"
    }
   ],
   "source": [
    "#['0.06572070602774815', '0.6729067959843927', '0.05780716720676334', '1.0', '0.0988443077002651',  # seemed good\n",
    "es.result_pretty()  #\n",
    "\n",
    "np.set_printoptions(suppress=False)\n",
    "np.set_printoptions(precision=16)\n",
    "abs(es.best.x)\n",
    "es.mean"
   ]
  },
  {
   "cell_type": "code",
   "execution_count": 41,
   "metadata": {},
   "outputs": [
    {
     "data": {
      "text/plain": [
       "array([0.0159008527131689, 0.7276145375540903, 0.0513179682625608,\n",
       "       0.0939385899349409])"
      ]
     },
     "execution_count": 41,
     "metadata": {},
     "output_type": "execute_result"
    }
   ],
   "source": [
    "es.best.x"
   ]
  },
  {
   "cell_type": "code",
   "execution_count": null,
   "metadata": {},
   "outputs": [],
   "source": [
    "plt.hist(df_nba['mp']/df_nba['g'],40)"
   ]
  },
  {
   "cell_type": "code",
   "execution_count": null,
   "metadata": {},
   "outputs": [],
   "source": [
    "(df_nba['mp']).min()"
   ]
  },
  {
   "cell_type": "code",
   "execution_count": null,
   "metadata": {},
   "outputs": [],
   "source": [
    "import matplotlib.pyplot as plt\n",
    "plt.hist(df_nba['mp']/df_nba['g'],40,density=True,label='NBA')\n",
    "_ = plt.hist(.MP,40,density=True,label='BBGM')\n"
   ]
  },
  {
   "cell_type": "code",
   "execution_count": null,
   "metadata": {},
   "outputs": [],
   "source": []
  },
  {
   "cell_type": "code",
   "execution_count": null,
   "metadata": {},
   "outputs": [],
   "source": [
    "sim_m,sim_s,nba_m,nba_s"
   ]
  },
  {
   "cell_type": "code",
   "execution_count": null,
   "metadata": {},
   "outputs": [],
   "source": []
  },
  {
   "cell_type": "code",
   "execution_count": null,
   "metadata": {},
   "outputs": [],
   "source": [
    "np.array(nba_m).shape"
   ]
  },
  {
   "cell_type": "code",
   "execution_count": null,
   "metadata": {},
   "outputs": [],
   "source": []
  }
 ],
 "metadata": {
  "kernelspec": {
   "display_name": "Python 3",
   "language": "python",
   "name": "python3"
  },
  "language_info": {
   "codemirror_mode": {
    "name": "ipython",
    "version": 3
   },
   "file_extension": ".py",
   "mimetype": "text/x-python",
   "name": "python",
   "nbconvert_exporter": "python",
   "pygments_lexer": "ipython3",
   "version": "3.7.3"
  }
 },
 "nbformat": 4,
 "nbformat_minor": 2
}
