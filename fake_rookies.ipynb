{
 "cells": [
  {
   "cell_type": "code",
   "execution_count": null,
   "metadata": {},
   "outputs": [],
   "source": [
    "import json\n",
    "import pandas as pd\n",
    "import numpy as np\n",
    "import matplotlib.pyplot as plt\n",
    "import seaborn as sns\n",
    "from collections import defaultdict"
   ]
  },
  {
   "cell_type": "code",
   "execution_count": null,
   "metadata": {},
   "outputs": [],
   "source": [
    "rate_to_use = ['stre', 'spd', 'jmp', 'endu', 'ins', 'dnk', 'ft', 'fg', 'tp', 'oiq', 'diq', 'drb', 'pss', 'reb', 'hgt']"
   ]
  },
  {
   "cell_type": "code",
   "execution_count": null,
   "metadata": {},
   "outputs": [],
   "source": [
    "sim = json.load(open('newresign.json','rb'))\n",
    "data = json.load(open('real-player.json','rb'))"
   ]
  },
  {
   "cell_type": "code",
   "execution_count": null,
   "metadata": {},
   "outputs": [],
   "source": [
    "picks = defaultdict(list)\n",
    "X = []\n",
    "y = []\n",
    "i =0 \n",
    "for p in sim['players']:\n",
    "    if int(p['draft']['year']) < 2021:\n",
    "        continue\n",
    "    pick = (p['draft']['round']-1)*30 + p['draft']['pick']\n",
    "    vec = [p['ratings'][0][k] for k in rate_to_use]\n",
    "    vec = np.array(vec)\n",
    "    X.append(vec)\n",
    "    y.append(p['ratings'][0]['ovr'])\n",
    "    picks[pick].append(vec)\n",
    "    i+=1"
   ]
  },
  {
   "cell_type": "code",
   "execution_count": null,
   "metadata": {},
   "outputs": [],
   "source": [
    "import statsmodels.api as sm\n",
    "# good enough\n",
    "clf = sm.OLS(y,sm.add_constant(X)).fit()"
   ]
  },
  {
   "cell_type": "code",
   "execution_count": null,
   "metadata": {},
   "outputs": [],
   "source": [
    "picks_a = {k: np.array(v) for k,v in picks.items()}\n",
    "picks_o = {k: np.mean([clf.predict([1] + list(p)) for p in v]) for k,v in picks.items()}\n",
    "picks_v = {k: np.std([clf.predict([1] + list(p)) for p in v]) for k,v in picks.items()}"
   ]
  },
  {
   "cell_type": "code",
   "execution_count": null,
   "metadata": {},
   "outputs": [],
   "source": [
    "picks_norm = {k: np.array(v) for k,v in picks.items() if len(v) > 1}\n",
    "picks_norm = {k: v/v.sum(1,keepdims=True) for k,v in picks_norm.items()}"
   ]
  },
  {
   "cell_type": "code",
   "execution_count": null,
   "metadata": {},
   "outputs": [],
   "source": [
    "roster = json.load(open('1947_preseason.json','rb'))"
   ]
  },
  {
   "cell_type": "code",
   "execution_count": null,
   "metadata": {},
   "outputs": [],
   "source": [
    "for p in roster['players']:\n",
    "    if 'srID' not in p:\n",
    "        continue\n",
    "    srId = p['srID']\n",
    "    if srId not in data['bios']:\n",
    "        continue\n",
    "    bio = data['bios'][srId]\n",
    "    pick = (bio['draftRound']-1)*30 + bio['draftPick']\n",
    "    vec = np.array([p['ratings'][0][k] for k in rate_to_use])\n",
    "    vecN = vec/vec.sum()\n",
    "    if pick not in picks_norm:\n",
    "        pick = -30\n",
    "    #diff = np.linalg.norm(picks_norm[pick]- vecN,axis=1)\n",
    "    #diff_idx = np.argsort(diff)[:3]\n",
    "    #stats = np.mean(picks_a[pick][diff_idx],0)\n",
    "    target_ovr = picks_o[pick] + np.random.randn()*picks_v[pick]\n",
    "    n = (target_ovr - clf.params[0])/np.sum(clf.params[1:]*vecN)\n",
    "    stats =vecN*n\n",
    "    \n",
    "    del p['ratings'][0]['ovr']\n",
    "    del p['ratings'][0]['pot']\n",
    "    del p['ratings'][0]['fuzz']\n",
    "    del p['ratings'][0]['skills']\n",
    "    del p['ratings'][0]['pos']\n",
    "\n",
    "    for k,v in zip(rate_to_use,stats):\n",
    "        p['ratings'][0][k] = int(round(np.clip(v,0,100)))\n",
    "    #if srId == 'alexacl01':\n",
    "    #    print(pick,np.mean(stats),diff_idx)"
   ]
  },
  {
   "cell_type": "code",
   "execution_count": null,
   "metadata": {},
   "outputs": [],
   "source": [
    "with open('1947_var.json','wt') as fp:\n",
    "    json.dump(roster,fp)"
   ]
  },
  {
   "cell_type": "code",
   "execution_count": null,
   "metadata": {},
   "outputs": [],
   "source": []
  },
  {
   "cell_type": "code",
   "execution_count": null,
   "metadata": {},
   "outputs": [],
   "source": []
  }
 ],
 "metadata": {
  "kernelspec": {
   "display_name": "Python 3",
   "language": "python",
   "name": "python3"
  },
  "language_info": {
   "codemirror_mode": {
    "name": "ipython",
    "version": 3
   },
   "file_extension": ".py",
   "mimetype": "text/x-python",
   "name": "python",
   "nbconvert_exporter": "python",
   "pygments_lexer": "ipython3",
   "version": "3.7.3"
  }
 },
 "nbformat": 4,
 "nbformat_minor": 2
}
