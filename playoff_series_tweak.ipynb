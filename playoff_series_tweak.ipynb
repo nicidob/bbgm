{
 "cells": [
  {
   "cell_type": "code",
   "execution_count": null,
   "metadata": {},
   "outputs": [],
   "source": [
    "import pandas as pd  \n",
    "import numpy as np  \n",
    "import matplotlib.pyplot as plt  \n",
    "from collections import defaultdict\n",
    "import json\n",
    "\n",
    "plt.style.use('seaborn-white')"
   ]
  },
  {
   "cell_type": "code",
   "execution_count": null,
   "metadata": {},
   "outputs": [],
   "source": [
    "file = 'p2.json'\n",
    "data = json.load(open(file,'rt',encoding='utf-8-sig'))"
   ]
  },
  {
   "cell_type": "code",
   "execution_count": null,
   "metadata": {},
   "outputs": [],
   "source": [
    "playoff_counts = defaultdict(lambda: np.array([0,0,0,0]))\n",
    "\n",
    "home_court_g7_w = 0\n",
    "home_court_g7_t = 0\n",
    "\n",
    "for playoff in data['playoffSeries']:\n",
    "    for series in playoff['series'][0]:\n",
    "        if series['away']['won'] >= 3 and series['home']['won'] >= 3:\n",
    "            home_court_g7_t += 1\n",
    "            home_court_g7_w += int(series['home']['won'] == 4)\n",
    "        mins,maxs = sorted([series['home']['won'],series['away']['won']])\n",
    "        if maxs == 4:\n",
    "            seeds = (series['home']['seed'],series['away']['seed'] )\n",
    "            playoff_counts[seeds] += np.array([int(series['home']['won'] == 4),1,int(mins == 3 and series['home']['won'] == 4),int(mins == 3)])\n",
    "\n",
    "g7w = home_court_g7_w/home_court_g7_t\n",
    "100*g7w"
   ]
  },
  {
   "cell_type": "code",
   "execution_count": null,
   "metadata": {},
   "outputs": [],
   "source": [
    "sorted([(k,round(100*v[0]/v[1])) for k,v in playoff_counts.items()])"
   ]
  },
  {
   "cell_type": "code",
   "execution_count": null,
   "metadata": {},
   "outputs": [],
   "source": [
    "tmp = []\n",
    "for k,v in playoff_counts.items():\n",
    "    g7w = v[2]/v[3]\n",
    "    num = v[0]-v[2]+.8*v[3]\n",
    "    tmp.append((k,round(100*(num)/v[1])))\n",
    "sorted(tmp)"
   ]
  },
  {
   "cell_type": "code",
   "execution_count": null,
   "metadata": {},
   "outputs": [],
   "source": [
    "won = 0\n",
    "wtot = 0\n",
    "for t in data['teams']:\n",
    "    for s in t['seasons']:\n",
    "        tot = s['wonHome']+s['lostHome'] + s['wonAway'] + s['lostAway']\n",
    "        if tot == 82:\n",
    "            won += s['wonHome']\n",
    "            wtot += s['wonHome'] + s['lostHome']\n",
    "100 * (won/wtot)"
   ]
  },
  {
   "cell_type": "code",
   "execution_count": null,
   "metadata": {},
   "outputs": [],
   "source": [
    "pg = []\n",
    "for p in data['players']:\n",
    "    for s in p['stats']:\n",
    "        if not s['playoffs']:\n",
    "            continue\n",
    "        if s['gp'] < 4:\n",
    "            continue\n",
    "        pg.append([s['gp'],s['min']/s['gp']])\n"
   ]
  },
  {
   "cell_type": "code",
   "execution_count": null,
   "metadata": {},
   "outputs": [],
   "source": [
    "bins = [   7.555,  9.64 , 11.725, 13.81 , 15.895,\n",
    "        17.98 , 20.065, 22.15 , 24.235, 26.32 , 28.405, 30.49 , 32.575,\n",
    "        34.66 , 36.745, 38.83 , 40.915, 44.,48  ]"
   ]
  },
  {
   "cell_type": "code",
   "execution_count": null,
   "metadata": {},
   "outputs": [],
   "source": [
    "df = pd.read_csv('nba_pf_min.csv',index_col=0)\n",
    "df = df[df.g >= 4]\n",
    "plt.hist(df.mp,bins,alpha=0.5,density=True,label='nba')\n",
    "_ = plt.hist(np.array(pg)[:,1],bins,alpha=0.5,density=True,label='sim')\n",
    "plt.legend()"
   ]
  },
  {
   "cell_type": "code",
   "execution_count": null,
   "metadata": {},
   "outputs": [],
   "source": []
  },
  {
   "cell_type": "code",
   "execution_count": null,
   "metadata": {},
   "outputs": [],
   "source": []
  }
 ],
 "metadata": {
  "kernelspec": {
   "display_name": "Python 3",
   "language": "python",
   "name": "python3"
  },
  "language_info": {
   "codemirror_mode": {
    "name": "ipython",
    "version": 3
   },
   "file_extension": ".py",
   "mimetype": "text/x-python",
   "name": "python",
   "nbconvert_exporter": "python",
   "pygments_lexer": "ipython3",
   "version": "3.7.3"
  }
 },
 "nbformat": 4,
 "nbformat_minor": 2
}
