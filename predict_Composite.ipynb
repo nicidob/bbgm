{
 "cells": [
  {
   "cell_type": "code",
   "execution_count": null,
   "metadata": {},
   "outputs": [],
   "source": [
    "import json\n",
    "import pandas as pd\n",
    "import sklearn.linear_model as linear\n",
    "import matplotlib.pyplot as plt\n",
    "import numpy as np\n",
    "ovr_weights =  {'diq': 0.093,\n",
    " 'dnk': 0.0424,\n",
    " 'drb': 0.0968,\n",
    " 'endu': 0.0075,\n",
    " 'fg': -0.0093,\n",
    " 'ft': 0.049,\n",
    " 'hgt': 0.225,\n",
    " 'ins': -0.0143,\n",
    " 'jmp': 0.0505,\n",
    " 'oiq': 0.0971,\n",
    " 'pss': 0.0657,\n",
    " 'reb': 0.0534,\n",
    " 'spd': 0.156,\n",
    " 'stre': 0.0962,\n",
    " 'tp': 0.105}\n",
    "cols = sorted(list(ovr_weights.keys()))\n",
    "\n",
    "s_cols = ['ast', 'astp', 'blk', 'blkp', 'dbpm', 'drb', 'drbp', 'drtg', 'dws', 'ewa', 'fg', 'fgAtRim', 'fgLowPost', 'fgMidRange', 'fga', 'fgaAtRim', 'fgaLowPost', 'fgaMidRange', 'ft', 'fta', 'gp', 'gs', 'min', 'minAvailable', 'obpm', 'orb', 'orbp', 'ortg', 'ows', 'per', 'pf', 'pm', 'pts', 'stl', 'stlp', 'td', 'tov', 'tp', 'tpa', 'trbp', 'usgp', 'vorp']\n"
   ]
  },
  {
   "cell_type": "code",
   "execution_count": null,
   "metadata": {},
   "outputs": [],
   "source": [
    "from collections import defaultdict\n",
    "stats_X = []\n",
    "ratings_X =  []\n",
    "names = []\n",
    "t_stats = defaultdict(lambda : np.zeros(len(s_cols)))\n",
    "t_ratings = defaultdict(lambda : np.zeros(len(cols)))\n",
    "t_minutes= defaultdict(int)\n",
    "\n",
    "for file,MIN_YEAR in [('BBGM_2019_All_Stats.json',2000),('BBGM_AutoSim_20.json',0)]:\n",
    "    with open(file,'rb') as fp:\n",
    "        data = json.load(fp)\n",
    "\n",
    "    for p in data['players']:\n",
    "        stats = {_['season']: np.array([_[c] for c in s_cols]) for _ in p['stats'] if not _['playoffs']}\n",
    "        tids = {_['season']: _['tid'] for _ in p['stats'] if not _['playoffs']}\n",
    "        ratings =  {_['season']:np.array([_[c] for c in cols]) for _ in p['ratings']}\n",
    "        for yr in stats:\n",
    "            k = (yr, tids[yr])\n",
    "            t_stats[k] = t_stats[k] + np.array(stats[yr])\n",
    "            t_minutes[k] = t_minutes[k] + stats[yr][s_cols.index('min')]\n",
    "        for yr in ratings:\n",
    "            if yr not in tids:\n",
    "                continue\n",
    "            k = (yr, tids[yr])\n",
    "            t_ratings[k] = t_ratings[k] + stats[yr][s_cols.index('min')]*np.array(ratings[yr])\n",
    "        for yr in ratings:\n",
    "            if yr < MIN_YEAR:\n",
    "                continue\n",
    "            if yr not in stats:\n",
    "                continue\n",
    "            stats_X.append(stats[yr])\n",
    "            ratings_X.append(ratings[yr])\n",
    "            names.append(p['firstName'] + ' ' + p['lastName'] + ' ' + str(yr))\n",
    "            \n",
    "    t_pace = {}\n",
    "    if False:\n",
    "        for t in data['teams']:\n",
    "            for yr in t['stats']:\n",
    "                if yr['playoffs']:\n",
    "                    continue\n",
    "\n",
    "                k = (t['tid'],yr['season'])\n",
    "                opace = yr['fga'] + 0.44*yr['fta'] + yr['tov'] - yr['orb']\n",
    "                dpace = yr['oppFga'] + 0.44*yr['oppFta'] + yr['oppTov'] - yr['oppOrb']\n",
    "                t_pace[k] = {'off':opace,'def':dpace}\n",
    "    else:\n",
    "        t_pace = {k:v[s_cols.index('fga')] + 0.44*v[s_cols.index('fta')]+v[s_cols.index('tov')]-v[s_cols.index('orb')] for k,v in t_stats.items()}\n",
    "        t_pace = {k:v/(1+t_minutes[k]) for k,v in t_pace.items()}\n",
    "        t_avg_rating = {k:v/(1+t_minutes[k]) for k,v in t_ratings.items() if t_minutes[k] > 2000}"
   ]
  },
  {
   "cell_type": "code",
   "execution_count": null,
   "metadata": {},
   "outputs": [],
   "source": [
    "pace_reg_X = []\n",
    "pace_reg_Y = []\n",
    "for k in t_avg_rating:\n",
    "\n",
    "    pace_reg_Y.append(t_pace[k])\n",
    "    pace_reg_X.append(t_avg_rating[k])\n",
    "    \n",
    "clf_pace = linear.ElasticNetCV(fit_intercept=False,positive=True,l1_ratio=[.1,.3,.5,.7,.9,.95,.99,1],cv=10)\n",
    "clf_pace.fit(pace_reg_X,pace_reg_Y)\n",
    "S = abs(clf_pace.coef_).max()\n",
    "print(np.round(clf_pace.intercept_/S,2))\n",
    "for c,r in zip(cols,clf_pace.coef_):\n",
    "    if abs(r/S) < 0.05:\n",
    "        continue\n",
    "    print(c,np.round(r/S,2))\n",
    "print()"
   ]
  },
  {
   "cell_type": "code",
   "execution_count": null,
   "metadata": {},
   "outputs": [],
   "source": [
    "plt.scatter(clf_pace.predict(pace_reg_X),pace_reg_Y)"
   ]
  },
  {
   "cell_type": "code",
   "execution_count": null,
   "metadata": {},
   "outputs": [],
   "source": [
    "df = pd.DataFrame(np.hstack([ratings_X,stats_X]),columns = cols+ ['s_' + _ for _ in s_cols])\n",
    "df.index = names\n",
    "df = df[df['s_min'] > 850]\n",
    "\n",
    "\n",
    "df['s_ftr'] = df['s_fta']/np.maximum(df['s_fga'],1)\n",
    "df['s_tsa'] = df['s_fta']*0.44 + df['s_fga']\n",
    "\n",
    "for stat in ['ast','orb','drb','tov','stl','blk','pf','tsa']:\n",
    "    pstats = 's_'+stat\n",
    "    df[pstats +'m'] = 36*df[pstats]/df['s_min'] \n",
    "df['s_trbm'] = df['s_orbm'] + df['s_drbm']"
   ]
  },
  {
   "cell_type": "code",
   "execution_count": null,
   "metadata": {},
   "outputs": [],
   "source": [
    "df[cols].shape,len(cols)"
   ]
  },
  {
   "cell_type": "code",
   "execution_count": null,
   "metadata": {
    "scrolled": true
   },
   "outputs": [],
   "source": [
    "target_cols = ['s_trbm','s_drbm','s_orbm','s_astm','s_tovm','s_stlm','s_blkm','s_pfm']\n",
    "target_cols = target_cols + ['s_ftr','s_tsam']\n",
    "model_results = {}\n",
    "l1_ratios = [0.1,0.3,0.5,0.9,0.95,0.99,0.999,0.9999,1]\n",
    "l1_ratios = [1]\n",
    "for target_col in target_cols:\n",
    "    inX = np.array(df[cols]).astype(np.float64)\n",
    "    outY = np.array(df[target_col]).astype(np.float64)\n",
    "\n",
    "    models_simple = []\n",
    "    models_worse = []\n",
    "\n",
    "    for po in [1/10,1/8,1/7,1/6,1/5,1/4,1/3,1/2,0.75,1.0,1.25,1.5,1.75,2.0]:\n",
    "        clf = linear.ElasticNetCV(fit_intercept=False,positive=True,l1_ratio=l1_ratios,cv=10)\n",
    "        clf.fit(inX,outY**po,df.s_min)\n",
    "        po_s = clf.score(inX,outY**po,df.s_min)\n",
    "        models_simple.append((po_s,po,clf))\n",
    "\n",
    "        clf = linear.ElasticNetCV(fit_intercept=True,positive=False,l1_ratio=l1_ratios,cv=10)\n",
    "        clf.fit(inX,outY**po,df.s_min)\n",
    "        po_s = clf.score(inX,outY**po,df.s_min)\n",
    "        models_worse.append((po_s,po,clf))\n",
    "        \n",
    "    model_results[target_col] = (models_simple,models_worse)"
   ]
  },
  {
   "cell_type": "code",
   "execution_count": null,
   "metadata": {},
   "outputs": [],
   "source": [
    "model_choice = {}\n",
    "for key in model_results:\n",
    "    res1 = sorted(model_results[key][0])[-1][0]\n",
    "    res2 = sorted(model_results[key][1])[-1][0]\n",
    "    worse = res1-res2\n",
    "    if worse > -0.08:\n",
    "        ch = 0\n",
    "    else:\n",
    "        ch = 1\n",
    "    print(key,worse)\n",
    "    if key in ['s_pfm','s_ftr','s_stlm']:\n",
    "        ch = 0\n",
    "    #ch = 0\n",
    "    model_choice[key] = sorted(model_results[key][ch])[-1]"
   ]
  },
  {
   "cell_type": "code",
   "execution_count": null,
   "metadata": {},
   "outputs": [],
   "source": [
    "\n",
    "model_choice['s_astm'] = sorted(model_results['s_astm'][0])[-3]\n",
    "sorted(model_results['s_astm'][0])\n"
   ]
  },
  {
   "cell_type": "code",
   "execution_count": null,
   "metadata": {
    "scrolled": true
   },
   "outputs": [],
   "source": [
    "for k,v in model_choice.items():\n",
    "    clf = v[2]\n",
    "    print(k,v[1])\n",
    "    S = abs(clf.coef_).max()\n",
    "    print(np.round(clf.intercept_/S,2))\n",
    "    for c,r in zip(cols,clf.coef_):\n",
    "        if abs(r/S) < 0.08:\n",
    "            continue\n",
    "        print(c,np.round(r/S,2))\n",
    "    print()"
   ]
  },
  {
   "cell_type": "code",
   "execution_count": null,
   "metadata": {},
   "outputs": [],
   "source": [
    "k = 's_pfm'\n",
    "v = model_choice[k]\n",
    "v = sorted(res_m)[-1]\n",
    "clf = v[2]\n",
    "print(k,v[1])\n",
    "S = abs(clf.coef_).max()*(390/150)\n",
    "print(np.round(clf.intercept_/S,2))\n",
    "for c,r in zip(cols,clf.coef_):\n",
    "    if abs(r/S) < 0.05:\n",
    "        continue\n",
    "    print(c,np.round(r/S,2))\n",
    "print()"
   ]
  },
  {
   "cell_type": "code",
   "execution_count": null,
   "metadata": {},
   "outputs": [],
   "source": [
    "target_col = 's_pfm'\n",
    "inX = np.array(df[cols]).astype(np.float64)\n",
    "outY = np.array(df[target_col]).astype(np.float64)\n",
    "\n",
    "res_m = []\n",
    "for po in [1/10,1/8,1/7,1/6,1/5,1/4,1/3,1/2,0.75,1.0,1.25,1.5,1.75,2.0]:\n",
    "    clf = linear.ElasticNetCV(fit_intercept=False,positive=False,l1_ratio=l1_ratios,cv=10)\n",
    "    clf.fit(inX,outY**po,df.s_min)\n",
    "    po_s = clf.score(inX,outY**po,df.s_min)\n",
    "    res_m.append((po_s,po,clf))\n",
    "sorted(res_m)[-1],model_choices[target_col]"
   ]
  },
  {
   "cell_type": "code",
   "execution_count": null,
   "metadata": {},
   "outputs": [],
   "source": [
    "sorted(res_m)[-1]"
   ]
  },
  {
   "cell_type": "code",
   "execution_count": null,
   "metadata": {},
   "outputs": [],
   "source": [
    "sorted(model_results[target_col][0])[-1]"
   ]
  },
  {
   "cell_type": "code",
   "execution_count": null,
   "metadata": {},
   "outputs": [],
   "source": [
    "sorted(model_results[target_col][1])[-1]"
   ]
  },
  {
   "cell_type": "code",
   "execution_count": null,
   "metadata": {},
   "outputs": [],
   "source": [
    "1/1.75"
   ]
  },
  {
   "cell_type": "code",
   "execution_count": null,
   "metadata": {},
   "outputs": [],
   "source": []
  }
 ],
 "metadata": {
  "kernelspec": {
   "display_name": "Python 3",
   "language": "python",
   "name": "python3"
  },
  "language_info": {
   "codemirror_mode": {
    "name": "ipython",
    "version": 3
   },
   "file_extension": ".py",
   "mimetype": "text/x-python",
   "name": "python",
   "nbconvert_exporter": "python",
   "pygments_lexer": "ipython3",
   "version": "3.7.3"
  }
 },
 "nbformat": 4,
 "nbformat_minor": 2
}
